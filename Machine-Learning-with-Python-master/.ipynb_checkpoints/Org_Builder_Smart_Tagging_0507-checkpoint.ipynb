{
 "cells": [
  {
   "cell_type": "code",
   "execution_count": 1,
   "metadata": {
    "scrolled": true
   },
   "outputs": [
    {
     "data": {
      "text/html": [
       "<div>\n",
       "<style scoped>\n",
       "    .dataframe tbody tr th:only-of-type {\n",
       "        vertical-align: middle;\n",
       "    }\n",
       "\n",
       "    .dataframe tbody tr th {\n",
       "        vertical-align: top;\n",
       "    }\n",
       "\n",
       "    .dataframe thead th {\n",
       "        text-align: right;\n",
       "    }\n",
       "</style>\n",
       "<table border=\"1\" class=\"dataframe\">\n",
       "  <thead>\n",
       "    <tr style=\"text-align: right;\">\n",
       "      <th></th>\n",
       "      <th>Job Title</th>\n",
       "      <th>Concat_SV_Concat</th>\n",
       "      <th>Predicted_function</th>\n",
       "      <th>Predicted_SUB_function</th>\n",
       "      <th>Pred_Prob_Func</th>\n",
       "      <th>Pred_Prob_Sub_Func</th>\n",
       "      <th>Function</th>\n",
       "      <th>SubFunction</th>\n",
       "    </tr>\n",
       "  </thead>\n",
       "  <tbody>\n",
       "    <tr>\n",
       "      <th>0</th>\n",
       "      <td>(Operator) Sorter</td>\n",
       "      <td>Chief Executive Diageo President Africa, Euras...</td>\n",
       "      <td>Finance</td>\n",
       "      <td>Finance|Planning/budgeting</td>\n",
       "      <td>0.241229</td>\n",
       "      <td>0.744014</td>\n",
       "      <td>Finance</td>\n",
       "      <td>Finance|Planning/budgeting</td>\n",
       "    </tr>\n",
       "    <tr>\n",
       "      <th>1</th>\n",
       "      <td>3rd Party Supply Planner</td>\n",
       "      <td>Chief Executive Diageo Chief Financial Officer...</td>\n",
       "      <td>Finance</td>\n",
       "      <td>Finance|Planning/budgeting</td>\n",
       "      <td>0.779648</td>\n",
       "      <td>0.969055</td>\n",
       "      <td>Marketing</td>\n",
       "      <td>Finance|Planning/budgeting</td>\n",
       "    </tr>\n",
       "    <tr>\n",
       "      <th>2</th>\n",
       "      <td>3rd party supply planner</td>\n",
       "      <td>Chief Executive Diageo Chief Financial Officer...</td>\n",
       "      <td>Finance</td>\n",
       "      <td>Finance|Planning/budgeting</td>\n",
       "      <td>0.779648</td>\n",
       "      <td>0.967509</td>\n",
       "      <td>Human Resources</td>\n",
       "      <td>Finance|Planning/budgeting</td>\n",
       "    </tr>\n",
       "    <tr>\n",
       "      <th>3</th>\n",
       "      <td>ACCOUNTING SR. SPECIALIST</td>\n",
       "      <td>Chief Executive Diageo Chief Financial Officer...</td>\n",
       "      <td>Finance</td>\n",
       "      <td>Finance|Planning/budgeting</td>\n",
       "      <td>0.803158</td>\n",
       "      <td>0.944302</td>\n",
       "      <td>Marketing</td>\n",
       "      <td>Finance|Planning/budgeting</td>\n",
       "    </tr>\n",
       "    <tr>\n",
       "      <th>4</th>\n",
       "      <td>ADMINISTRATION CLERK</td>\n",
       "      <td>Chief Executive Diageo President Africa, Euras...</td>\n",
       "      <td>Finance</td>\n",
       "      <td>Finance|Planning/budgeting</td>\n",
       "      <td>0.373162</td>\n",
       "      <td>0.773301</td>\n",
       "      <td>Marketing</td>\n",
       "      <td>Finance|Planning/budgeting</td>\n",
       "    </tr>\n",
       "  </tbody>\n",
       "</table>\n",
       "</div>"
      ],
      "text/plain": [
       "                   Job Title  \\\n",
       "0          (Operator) Sorter   \n",
       "1   3rd Party Supply Planner   \n",
       "2   3rd party supply planner   \n",
       "3  ACCOUNTING SR. SPECIALIST   \n",
       "4       ADMINISTRATION CLERK   \n",
       "\n",
       "                                    Concat_SV_Concat Predicted_function  \\\n",
       "0  Chief Executive Diageo President Africa, Euras...            Finance   \n",
       "1  Chief Executive Diageo Chief Financial Officer...            Finance   \n",
       "2  Chief Executive Diageo Chief Financial Officer...            Finance   \n",
       "3  Chief Executive Diageo Chief Financial Officer...            Finance   \n",
       "4  Chief Executive Diageo President Africa, Euras...            Finance   \n",
       "\n",
       "       Predicted_SUB_function  Pred_Prob_Func  Pred_Prob_Sub_Func  \\\n",
       "0  Finance|Planning/budgeting        0.241229            0.744014   \n",
       "1  Finance|Planning/budgeting        0.779648            0.969055   \n",
       "2  Finance|Planning/budgeting        0.779648            0.967509   \n",
       "3  Finance|Planning/budgeting        0.803158            0.944302   \n",
       "4  Finance|Planning/budgeting        0.373162            0.773301   \n",
       "\n",
       "          Function                 SubFunction  \n",
       "0          Finance  Finance|Planning/budgeting  \n",
       "1        Marketing  Finance|Planning/budgeting  \n",
       "2  Human Resources  Finance|Planning/budgeting  \n",
       "3        Marketing  Finance|Planning/budgeting  \n",
       "4        Marketing  Finance|Planning/budgeting  "
      ]
     },
     "execution_count": 1,
     "metadata": {},
     "output_type": "execute_result"
    }
   ],
   "source": [
    "import pandas as pd\n",
    "df = pd.read_excel('C:/Projects/OrgBuilder/Codes/RNN_Test/Input/Smart Tag Sample Output.xlsx')\n",
    "df.head()"
   ]
  },
  {
   "cell_type": "code",
   "execution_count": 2,
   "metadata": {},
   "outputs": [],
   "source": [
    "_DIV_COL = 'Function'\n",
    "_JOB_TITLE_COL = 'Concat_SV_Concat'"
   ]
  },
  {
   "cell_type": "code",
   "execution_count": 3,
   "metadata": {},
   "outputs": [],
   "source": [
    "df = df[pd.notnull(df[_JOB_TITLE_COL])]"
   ]
  },
  {
   "cell_type": "code",
   "execution_count": 4,
   "metadata": {},
   "outputs": [
    {
     "name": "stdout",
     "output_type": "stream",
     "text": [
      "<class 'pandas.core.frame.DataFrame'>\n",
      "Int64Index: 9904 entries, 0 to 9903\n",
      "Data columns (total 8 columns):\n",
      "Job Title                 9904 non-null object\n",
      "Concat_SV_Concat          9904 non-null object\n",
      "Predicted_function        9904 non-null object\n",
      "Predicted_SUB_function    9904 non-null object\n",
      "Pred_Prob_Func            9904 non-null float64\n",
      "Pred_Prob_Sub_Func        9904 non-null float64\n",
      "Function                  9904 non-null object\n",
      "SubFunction               9904 non-null object\n",
      "dtypes: float64(2), object(6)\n",
      "memory usage: 696.4+ KB\n"
     ]
    }
   ],
   "source": [
    "df.info()"
   ]
  },
  {
   "cell_type": "code",
   "execution_count": 5,
   "metadata": {},
   "outputs": [],
   "source": [
    "col = [_DIV_COL, _JOB_TITLE_COL]\n",
    "df = df[col]"
   ]
  },
  {
   "cell_type": "code",
   "execution_count": 6,
   "metadata": {},
   "outputs": [
    {
     "data": {
      "text/plain": [
       "Index(['Function', 'Concat_SV_Concat'], dtype='object')"
      ]
     },
     "execution_count": 6,
     "metadata": {},
     "output_type": "execute_result"
    }
   ],
   "source": [
    "df.columns"
   ]
  },
  {
   "cell_type": "code",
   "execution_count": 7,
   "metadata": {},
   "outputs": [],
   "source": [
    "df.columns = ['Product', 'Consumer_complaint_narrative']"
   ]
  },
  {
   "cell_type": "code",
   "execution_count": 8,
   "metadata": {},
   "outputs": [],
   "source": [
    "df['category_id'] = df['Product'].factorize()[0]\n",
    "from io import StringIO\n",
    "category_id_df = df[['Product', 'category_id']].drop_duplicates().sort_values('category_id')\n",
    "category_to_id = dict(category_id_df.values)\n",
    "id_to_category = dict(category_id_df[['category_id', 'Product']].values)"
   ]
  },
  {
   "cell_type": "code",
   "execution_count": 9,
   "metadata": {},
   "outputs": [
    {
     "data": {
      "text/html": [
       "<div>\n",
       "<style scoped>\n",
       "    .dataframe tbody tr th:only-of-type {\n",
       "        vertical-align: middle;\n",
       "    }\n",
       "\n",
       "    .dataframe tbody tr th {\n",
       "        vertical-align: top;\n",
       "    }\n",
       "\n",
       "    .dataframe thead th {\n",
       "        text-align: right;\n",
       "    }\n",
       "</style>\n",
       "<table border=\"1\" class=\"dataframe\">\n",
       "  <thead>\n",
       "    <tr style=\"text-align: right;\">\n",
       "      <th></th>\n",
       "      <th>Product</th>\n",
       "      <th>Consumer_complaint_narrative</th>\n",
       "      <th>category_id</th>\n",
       "    </tr>\n",
       "  </thead>\n",
       "  <tbody>\n",
       "    <tr>\n",
       "      <th>0</th>\n",
       "      <td>Finance</td>\n",
       "      <td>Chief Executive Diageo President Africa, Euras...</td>\n",
       "      <td>0</td>\n",
       "    </tr>\n",
       "    <tr>\n",
       "      <th>1</th>\n",
       "      <td>Marketing</td>\n",
       "      <td>Chief Executive Diageo Chief Financial Officer...</td>\n",
       "      <td>1</td>\n",
       "    </tr>\n",
       "    <tr>\n",
       "      <th>2</th>\n",
       "      <td>Human Resources</td>\n",
       "      <td>Chief Executive Diageo Chief Financial Officer...</td>\n",
       "      <td>2</td>\n",
       "    </tr>\n",
       "    <tr>\n",
       "      <th>3</th>\n",
       "      <td>Marketing</td>\n",
       "      <td>Chief Executive Diageo Chief Financial Officer...</td>\n",
       "      <td>1</td>\n",
       "    </tr>\n",
       "    <tr>\n",
       "      <th>4</th>\n",
       "      <td>Marketing</td>\n",
       "      <td>Chief Executive Diageo President Africa, Euras...</td>\n",
       "      <td>1</td>\n",
       "    </tr>\n",
       "  </tbody>\n",
       "</table>\n",
       "</div>"
      ],
      "text/plain": [
       "           Product                       Consumer_complaint_narrative  \\\n",
       "0          Finance  Chief Executive Diageo President Africa, Euras...   \n",
       "1        Marketing  Chief Executive Diageo Chief Financial Officer...   \n",
       "2  Human Resources  Chief Executive Diageo Chief Financial Officer...   \n",
       "3        Marketing  Chief Executive Diageo Chief Financial Officer...   \n",
       "4        Marketing  Chief Executive Diageo President Africa, Euras...   \n",
       "\n",
       "   category_id  \n",
       "0            0  \n",
       "1            1  \n",
       "2            2  \n",
       "3            1  \n",
       "4            1  "
      ]
     },
     "execution_count": 9,
     "metadata": {},
     "output_type": "execute_result"
    }
   ],
   "source": [
    "df.head()"
   ]
  },
  {
   "cell_type": "code",
   "execution_count": 10,
   "metadata": {},
   "outputs": [
    {
     "data": {
      "image/png": "[encoded data removed]",
      "text/plain": [
       "<Figure size 576x432 with 1 Axes>"
      ]
     },
     "metadata": {
      "needs_background": "light"
     },
     "output_type": "display_data"
    }
   ],
   "source": [
    "import matplotlib.pyplot as plt\n",
    "fig = plt.figure(figsize=(8,6))\n",
    "df.groupby('Product').Consumer_complaint_narrative.count().plot.bar(ylim=0)\n",
    "plt.show()"
   ]
  },
  {
   "cell_type": "code",
   "execution_count": 11,
   "metadata": {},
   "outputs": [
    {
     "data": {
      "text/plain": [
       "(9904, 7138)"
      ]
     },
     "execution_count": 11,
     "metadata": {},
     "output_type": "execute_result"
    }
   ],
   "source": [
    "from sklearn.feature_extraction.text import TfidfVectorizer\n",
    "\n",
    "tfidf = TfidfVectorizer(sublinear_tf=True, min_df=5, norm='l2', encoding='latin-1', ngram_range=(1, 2), stop_words='english')\n",
    "\n",
    "features = tfidf.fit_transform(df.Consumer_complaint_narrative).toarray()\n",
    "labels = df.category_id\n",
    "features.shape"
   ]
  },
  {
   "cell_type": "code",
   "execution_count": 12,
   "metadata": {
    "scrolled": false
   },
   "outputs": [
    {
     "name": "stdout",
     "output_type": "stream",
     "text": [
      "# 'Finance':\n",
      "  . Most correlated unigrams:\n",
      "       . account\n",
      "       . apprentice\n",
      "  . Most correlated bigrams:\n",
      "       . account manager\n",
      "       . director regional\n",
      "# 'Financial Management':\n",
      "  . Most correlated unigrams:\n",
      "       . andean\n",
      "       . collect\n",
      "  . Most correlated bigrams:\n",
      "       . manager human\n",
      "       . auth manager\n",
      "# 'Human Resources':\n",
      "  . Most correlated unigrams:\n",
      "       . ethiopia\n",
      "       . seychelles\n",
      "  . Most correlated bigrams:\n",
      "       . europe cr\n",
      "       . sr engineer\n",
      "# 'IT':\n",
      "  . Most correlated unigrams:\n",
      "       . brokerage\n",
      "       . opér\n",
      "  . Most correlated bigrams:\n",
      "       . strategic accounts\n",
      "       . gimli operator\n",
      "# 'Legal':\n",
      "  . Most correlated unigrams:\n",
      "       . web\n",
      "       . ppms\n",
      "  . Most correlated bigrams:\n",
      "       . ppms plant\n",
      "       . plant lead\n",
      "# 'Marketing':\n",
      "  . Most correlated unigrams:\n",
      "       . america\n",
      "       . apprentice\n",
      "  . Most correlated bigrams:\n",
      "       . account credit\n",
      "       . financial controller\n",
      "# 'Procurement':\n",
      "  . Most correlated unigrams:\n",
      "       . barcelona\n",
      "       . cmpl\n",
      "  . Most correlated bigrams:\n",
      "       . manager utilities\n",
      "       . sales capability\n",
      "# 'Research & Development':\n",
      "  . Most correlated unigrams:\n",
      "       . merchandiser\n",
      "       . opér\n",
      "  . Most correlated bigrams:\n",
      "       . mgr westlac\n",
      "       . manager planning\n",
      "# 'Sales & Customer Service':\n",
      "  . Most correlated unigrams:\n",
      "       . filling\n",
      "       . glazers\n",
      "  . Most correlated bigrams:\n",
      "       . charmer glazers\n",
      "       . ypioca district\n"
     ]
    }
   ],
   "source": [
    "from sklearn.feature_selection import chi2\n",
    "import numpy as np\n",
    "\n",
    "N = 2\n",
    "for Product, category_id in sorted(category_to_id.items()):\n",
    "  features_chi2 = chi2(features, labels == category_id)\n",
    "  indices = np.argsort(features_chi2[0])\n",
    "  feature_names = np.array(tfidf.get_feature_names())[indices]\n",
    "  unigrams = [v for v in feature_names if len(v.split(' ')) == 1]\n",
    "  bigrams = [v for v in feature_names if len(v.split(' ')) == 2]\n",
    "  print(\"# '{}':\".format(Product))\n",
    "  print(\"  . Most correlated unigrams:\\n       . {}\".format('\\n       . '.join(unigrams[-N:])))\n",
    "  print(\"  . Most correlated bigrams:\\n       . {}\".format('\\n       . '.join(bigrams[-N:])))"
   ]
  },
  {
   "cell_type": "code",
   "execution_count": 13,
   "metadata": {},
   "outputs": [],
   "source": [
    "from sklearn.model_selection import train_test_split\n",
    "from sklearn.feature_extraction.text import CountVectorizer\n",
    "from sklearn.feature_extraction.text import TfidfTransformer\n",
    "from sklearn.naive_bayes import MultinomialNB\n",
    "\n",
    "X_train, X_test, y_train, y_test = train_test_split(df['Consumer_complaint_narrative'], df['Product'], random_state = 0)\n",
    "count_vect = CountVectorizer()\n",
    "X_train_counts = count_vect.fit_transform(X_train)\n",
    "tfidf_transformer = TfidfTransformer()\n",
    "X_train_tfidf = tfidf_transformer.fit_transform(X_train_counts)\n",
    "\n",
    "clf = MultinomialNB().fit(X_train_tfidf, y_train)"
   ]
  },
  {
   "cell_type": "code",
   "execution_count": 14,
   "metadata": {
    "collapsed": true
   },
   "outputs": [
    {
     "name": "stderr",
     "output_type": "stream",
     "text": [
      "c:\\python\\lib\\site-packages\\sklearn\\linear_model\\_logistic.py:940: ConvergenceWarning: lbfgs failed to converge (status=1):\n",
      "STOP: TOTAL NO. of ITERATIONS REACHED LIMIT.\n",
      "\n",
      "Increase the number of iterations (max_iter) or scale the data as shown in:\n",
      "    https://scikit-learn.org/stable/modules/preprocessing.html\n",
      "Please also refer to the documentation for alternative solver options:\n",
      "    https://scikit-learn.org/stable/modules/linear_model.html#logistic-regression\n",
      "  extra_warning_msg=_LOGISTIC_SOLVER_CONVERGENCE_MSG)\n",
      "c:\\python\\lib\\site-packages\\sklearn\\linear_model\\_logistic.py:940: ConvergenceWarning: lbfgs failed to converge (status=1):\n",
      "STOP: TOTAL NO. of ITERATIONS REACHED LIMIT.\n",
      "\n",
      "Increase the number of iterations (max_iter) or scale the data as shown in:\n",
      "    https://scikit-learn.org/stable/modules/preprocessing.html\n",
      "Please also refer to the documentation for alternative solver options:\n",
      "    https://scikit-learn.org/stable/modules/linear_model.html#logistic-regression\n",
      "  extra_warning_msg=_LOGISTIC_SOLVER_CONVERGENCE_MSG)\n",
      "c:\\python\\lib\\site-packages\\sklearn\\linear_model\\_logistic.py:940: ConvergenceWarning: lbfgs failed to converge (status=1):\n",
      "STOP: TOTAL NO. of ITERATIONS REACHED LIMIT.\n",
      "\n",
      "Increase the number of iterations (max_iter) or scale the data as shown in:\n",
      "    https://scikit-learn.org/stable/modules/preprocessing.html\n",
      "Please also refer to the documentation for alternative solver options:\n",
      "    https://scikit-learn.org/stable/modules/linear_model.html#logistic-regression\n",
      "  extra_warning_msg=_LOGISTIC_SOLVER_CONVERGENCE_MSG)\n",
      "c:\\python\\lib\\site-packages\\sklearn\\linear_model\\_logistic.py:940: ConvergenceWarning: lbfgs failed to converge (status=1):\n",
      "STOP: TOTAL NO. of ITERATIONS REACHED LIMIT.\n",
      "\n",
      "Increase the number of iterations (max_iter) or scale the data as shown in:\n",
      "    https://scikit-learn.org/stable/modules/preprocessing.html\n",
      "Please also refer to the documentation for alternative solver options:\n",
      "    https://scikit-learn.org/stable/modules/linear_model.html#logistic-regression\n",
      "  extra_warning_msg=_LOGISTIC_SOLVER_CONVERGENCE_MSG)\n",
      "c:\\python\\lib\\site-packages\\sklearn\\linear_model\\_logistic.py:940: ConvergenceWarning: lbfgs failed to converge (status=1):\n",
      "STOP: TOTAL NO. of ITERATIONS REACHED LIMIT.\n",
      "\n",
      "Increase the number of iterations (max_iter) or scale the data as shown in:\n",
      "    https://scikit-learn.org/stable/modules/preprocessing.html\n",
      "Please also refer to the documentation for alternative solver options:\n",
      "    https://scikit-learn.org/stable/modules/linear_model.html#logistic-regression\n",
      "  extra_warning_msg=_LOGISTIC_SOLVER_CONVERGENCE_MSG)\n"
     ]
    }
   ],
   "source": [
    "from sklearn.linear_model import LogisticRegression\n",
    "from sklearn.ensemble import RandomForestClassifier\n",
    "from sklearn.naive_bayes import MultinomialNB\n",
    "from sklearn.svm import LinearSVC\n",
    "\n",
    "from sklearn.model_selection import cross_val_score\n",
    "\n",
    "\n",
    "models = [\n",
    "    RandomForestClassifier(n_estimators=200, max_depth=3, random_state=0),\n",
    "    LinearSVC(),\n",
    "    MultinomialNB(),\n",
    "    LogisticRegression(random_state=0),\n",
    "]\n",
    "CV = 5\n",
    "cv_df = pd.DataFrame(index=range(CV * len(models)))\n",
    "entries = []\n",
    "for model in models:\n",
    "  model_name = model.__class__.__name__\n",
    "  accuracies = cross_val_score(model, features, labels, scoring='accuracy', cv=CV)\n",
    "  for fold_idx, accuracy in enumerate(accuracies):\n",
    "    entries.append((model_name, fold_idx, accuracy))\n",
    "cv_df = pd.DataFrame(entries, columns=['model_name', 'fold_idx', 'accuracy'])"
   ]
  },
  {
   "cell_type": "code",
   "execution_count": 15,
   "metadata": {},
   "outputs": [
    {
     "data": {
      "image/png": "[encoded data removed]",
      "text/plain": [
       "<Figure size 432x288 with 1 Axes>"
      ]
     },
     "metadata": {
      "needs_background": "light"
     },
     "output_type": "display_data"
    }
   ],
   "source": [
    "import seaborn as sns\n",
    "\n",
    "sns.boxplot(x='model_name', y='accuracy', data=cv_df)\n",
    "sns.stripplot(x='model_name', y='accuracy', data=cv_df, \n",
    "              size=8, jitter=True, edgecolor=\"gray\", linewidth=2)\n",
    "plt.show()"
   ]
  },
  {
   "cell_type": "code",
   "execution_count": 16,
   "metadata": {},
   "outputs": [
    {
     "data": {
      "text/plain": [
       "model_name\n",
       "LinearSVC                 0.362276\n",
       "LogisticRegression        0.405693\n",
       "MultinomialNB             0.390954\n",
       "RandomForestClassifier    0.464156\n",
       "Name: accuracy, dtype: float64"
      ]
     },
     "execution_count": 16,
     "metadata": {},
     "output_type": "execute_result"
    }
   ],
   "source": [
    "cv_df.groupby('model_name').accuracy.mean()"
   ]
  },
  {
   "cell_type": "code",
   "execution_count": 21,
   "metadata": {},
   "outputs": [],
   "source": [
    "from sklearn.model_selection import train_test_split\n",
    "\n",
    "model = RandomForestClassifier(n_estimators=1000, max_depth=5, random_state=0)\n",
    "\n",
    "\n",
    "X_train, X_test, y_train, y_test, indices_train, indices_test = train_test_split(features, labels, df.index, test_size=0.33, random_state=0)\n",
    "model.fit(X_train, y_train)\n",
    "y_pred = model.predict(X_test)"
   ]
  },
  {
   "cell_type": "code",
   "execution_count": null,
   "metadata": {},
   "outputs": [],
   "source": [
    "from sklearn.ensemble import BaggingClassifier\n",
    "from sklearn.model_selection import train_test_split\n",
    "from sklearn.svm import SVC\n",
    "\n",
    "# model = RandomForestClassifier(n_estimators=1000, max_depth=5, random_state=0)\n",
    "# model = RandomForestClassifier(n_estimators=200, max_depth=5, random_state=0, class_weight='balanced')\n",
    "# model = RandomForestClassifier(n_estimators=200, max_depth=5, random_state=0, class_weight='balanced_subsample')\n",
    "# model = BaggingClassifier()\n",
    "# model = EasyEnsembleClassifier(n_estimators=10)\n",
    "# model = LinearSVC()\n",
    "model = SVC(gamma='scale')\n",
    "# model = SVC(gamma='scale', class_weight='balanced')\n",
    "\n",
    "\n",
    "X_train, X_test, y_train, y_test, indices_train, indices_test = train_test_split(features, labels, df.index, test_size=0.33, random_state=0)\n",
    "model.fit(X_train, y_train)\n",
    "y_pred = model.predict(X_test)"
   ]
  },
  {
   "cell_type": "code",
   "execution_count": 37,
   "metadata": {},
   "outputs": [
    {
     "data": {
      "image/png": "[encoded data removed]",
      "text/plain": [
       "<Figure size 576x432 with 2 Axes>"
      ]
     },
     "metadata": {
      "needs_background": "light"
     },
     "output_type": "display_data"
    }
   ],
   "source": [
    "from sklearn.metrics import confusion_matrix\n",
    "\n",
    "conf_mat = confusion_matrix(y_test, y_pred)\n",
    "fig, ax = plt.subplots(figsize=(8,6))\n",
    "sns.heatmap(conf_mat, annot=True, fmt='d',\n",
    "            xticklabels=category_id_df.Product.values, yticklabels=category_id_df.Product.values)\n",
    "plt.ylabel('Actual')\n",
    "plt.xlabel('Predicted')\n",
    "plt.show()"
   ]
  },
  {
   "cell_type": "code",
   "execution_count": 38,
   "metadata": {},
   "outputs": [
    {
     "name": "stdout",
     "output_type": "stream",
     "text": [
      "                          precision    recall  f1-score   support\n",
      "\n",
      "                 Finance       0.48      0.65      0.55      1465\n",
      "               Marketing       0.38      0.34      0.36       987\n",
      "         Human Resources       0.25      0.14      0.18       653\n",
      "                      IT       0.08      0.01      0.02        81\n",
      "             Procurement       0.00      0.00      0.00        34\n",
      "                   Legal       0.00      0.00      0.00        20\n",
      "Sales & Customer Service       0.00      0.00      0.00        18\n",
      "    Financial Management       0.00      0.00      0.00         6\n",
      "  Research & Development       0.00      0.00      0.00         5\n",
      "\n",
      "                accuracy                           0.42      3269\n",
      "               macro avg       0.13      0.13      0.12      3269\n",
      "            weighted avg       0.38      0.42      0.39      3269\n",
      "\n"
     ]
    },
    {
     "name": "stderr",
     "output_type": "stream",
     "text": [
      "c:\\python\\lib\\site-packages\\sklearn\\metrics\\_classification.py:1272: UndefinedMetricWarning: Precision and F-score are ill-defined and being set to 0.0 in labels with no predicted samples. Use `zero_division` parameter to control this behavior.\n",
      "  _warn_prf(average, modifier, msg_start, len(result))\n"
     ]
    }
   ],
   "source": [
    "from sklearn import metrics\n",
    "print(metrics.classification_report(y_test, y_pred, \n",
    "                                    target_names=df['Product'].unique()))"
   ]
  },
  {
   "cell_type": "code",
   "execution_count": 22,
   "metadata": {
    "scrolled": false
   },
   "outputs": [
    {
     "name": "stdout",
     "output_type": "stream",
     "text": [
      "'Consumer Loan' predicted as 'Credit reporting' : 10 examples.\n"
     ]
    },
    {
     "data": {
      "text/html": [
       "<div>\n",
       "<style>\n",
       "    .dataframe thead tr:only-child th {\n",
       "        text-align: right;\n",
       "    }\n",
       "\n",
       "    .dataframe thead th {\n",
       "        text-align: left;\n",
       "    }\n",
       "\n",
       "    .dataframe tbody tr th {\n",
       "        vertical-align: top;\n",
       "    }\n",
       "</style>\n",
       "<table border=\"1\" class=\"dataframe\">\n",
       "  <thead>\n",
       "    <tr style=\"text-align: right;\">\n",
       "      <th></th>\n",
       "      <th>Product</th>\n",
       "      <th>Consumer_complaint_narrative</th>\n",
       "    </tr>\n",
       "  </thead>\n",
       "  <tbody>\n",
       "    <tr>\n",
       "      <th>2720</th>\n",
       "      <td>Consumer Loan</td>\n",
       "      <td>Quoting them, your first loan application, the...</td>\n",
       "    </tr>\n",
       "    <tr>\n",
       "      <th>7091</th>\n",
       "      <td>Consumer Loan</td>\n",
       "      <td>While reviewing my XXXX credit report, I notic...</td>\n",
       "    </tr>\n",
       "    <tr>\n",
       "      <th>5439</th>\n",
       "      <td>Consumer Loan</td>\n",
       "      <td>I have been recently checking my credit report...</td>\n",
       "    </tr>\n",
       "    <tr>\n",
       "      <th>12763</th>\n",
       "      <td>Consumer Loan</td>\n",
       "      <td>We went to buy XXXX cars, and the dealership s...</td>\n",
       "    </tr>\n",
       "    <tr>\n",
       "      <th>13158</th>\n",
       "      <td>Consumer Loan</td>\n",
       "      <td>I got a 30 day late XX/XX/2017 and it 's repor...</td>\n",
       "    </tr>\n",
       "    <tr>\n",
       "      <th>4134</th>\n",
       "      <td>Consumer Loan</td>\n",
       "      <td>I took out an instalment loan in the amount XX...</td>\n",
       "    </tr>\n",
       "    <tr>\n",
       "      <th>13848</th>\n",
       "      <td>Consumer Loan</td>\n",
       "      <td>I was turned down for a loan by Honda Finacial...</td>\n",
       "    </tr>\n",
       "    <tr>\n",
       "      <th>19227</th>\n",
       "      <td>Consumer Loan</td>\n",
       "      <td>ONEMAIN # XXXX XXXX , IN XXXX ( XXXX ) XXXX Da...</td>\n",
       "    </tr>\n",
       "    <tr>\n",
       "      <th>11258</th>\n",
       "      <td>Consumer Loan</td>\n",
       "      <td>I have not been given credit for the payments ...</td>\n",
       "    </tr>\n",
       "    <tr>\n",
       "      <th>11242</th>\n",
       "      <td>Consumer Loan</td>\n",
       "      <td>Reliable Credit falsely submitted an applicati...</td>\n",
       "    </tr>\n",
       "  </tbody>\n",
       "</table>\n",
       "</div>"
      ],
      "text/plain": [
       "             Product                       Consumer_complaint_narrative\n",
       "2720   Consumer Loan  Quoting them, your first loan application, the...\n",
       "7091   Consumer Loan  While reviewing my XXXX credit report, I notic...\n",
       "5439   Consumer Loan  I have been recently checking my credit report...\n",
       "12763  Consumer Loan  We went to buy XXXX cars, and the dealership s...\n",
       "13158  Consumer Loan  I got a 30 day late XX/XX/2017 and it 's repor...\n",
       "4134   Consumer Loan  I took out an instalment loan in the amount XX...\n",
       "13848  Consumer Loan  I was turned down for a loan by Honda Finacial...\n",
       "19227  Consumer Loan  ONEMAIN # XXXX XXXX , IN XXXX ( XXXX ) XXXX Da...\n",
       "11258  Consumer Loan  I have not been given credit for the payments ...\n",
       "11242  Consumer Loan  Reliable Credit falsely submitted an applicati..."
      ]
     },
     "metadata": {},
     "output_type": "display_data"
    },
    {
     "name": "stdout",
     "output_type": "stream",
     "text": [
      "\n",
      "'Debt collection' predicted as 'Credit reporting' : 18 examples.\n"
     ]
    },
    {
     "data": {
      "text/html": [
       "<div>\n",
       "<style>\n",
       "    .dataframe thead tr:only-child th {\n",
       "        text-align: right;\n",
       "    }\n",
       "\n",
       "    .dataframe thead th {\n",
       "        text-align: left;\n",
       "    }\n",
       "\n",
       "    .dataframe tbody tr th {\n",
       "        vertical-align: top;\n",
       "    }\n",
       "</style>\n",
       "<table border=\"1\" class=\"dataframe\">\n",
       "  <thead>\n",
       "    <tr style=\"text-align: right;\">\n",
       "      <th></th>\n",
       "      <th>Product</th>\n",
       "      <th>Consumer_complaint_narrative</th>\n",
       "    </tr>\n",
       "  </thead>\n",
       "  <tbody>\n",
       "    <tr>\n",
       "      <th>18410</th>\n",
       "      <td>Debt collection</td>\n",
       "      <td>Dear CFPB, I am asking you for assistance to i...</td>\n",
       "    </tr>\n",
       "    <tr>\n",
       "      <th>5262</th>\n",
       "      <td>Debt collection</td>\n",
       "      <td>XXXX XXXX, XXXX ( This letter describes in det...</td>\n",
       "    </tr>\n",
       "    <tr>\n",
       "      <th>11834</th>\n",
       "      <td>Debt collection</td>\n",
       "      <td>XXXX XXXX XXXX is reporting negatively on my c...</td>\n",
       "    </tr>\n",
       "    <tr>\n",
       "      <th>19652</th>\n",
       "      <td>Debt collection</td>\n",
       "      <td>I recently paid of both debts on my credit acc...</td>\n",
       "    </tr>\n",
       "    <tr>\n",
       "      <th>15557</th>\n",
       "      <td>Debt collection</td>\n",
       "      <td>Never have been a XXXX XXXX customer. I was at...</td>\n",
       "    </tr>\n",
       "    <tr>\n",
       "      <th>4431</th>\n",
       "      <td>Debt collection</td>\n",
       "      <td>someone tried getting credit information and i...</td>\n",
       "    </tr>\n",
       "    <tr>\n",
       "      <th>15949</th>\n",
       "      <td>Debt collection</td>\n",
       "      <td>This debt is from account from $ XX/XX/2008 an...</td>\n",
       "    </tr>\n",
       "    <tr>\n",
       "      <th>12475</th>\n",
       "      <td>Debt collection</td>\n",
       "      <td>In XXXX XXXX, there was an account opened thro...</td>\n",
       "    </tr>\n",
       "    <tr>\n",
       "      <th>13548</th>\n",
       "      <td>Debt collection</td>\n",
       "      <td>DIVERSIFIELD CONSULTANTS INC HAVE VIOLATED FCR...</td>\n",
       "    </tr>\n",
       "    <tr>\n",
       "      <th>6988</th>\n",
       "      <td>Debt collection</td>\n",
       "      <td>Also collections refuses to stop reporting to ...</td>\n",
       "    </tr>\n",
       "    <tr>\n",
       "      <th>16498</th>\n",
       "      <td>Debt collection</td>\n",
       "      <td>They called my son and told him that they are ...</td>\n",
       "    </tr>\n",
       "    <tr>\n",
       "      <th>12028</th>\n",
       "      <td>Debt collection</td>\n",
       "      <td>Rubin &amp; Rothman LLC ( R &amp; R ) received default...</td>\n",
       "    </tr>\n",
       "    <tr>\n",
       "      <th>7131</th>\n",
       "      <td>Debt collection</td>\n",
       "      <td>THIS IS FRAUD. I HAVE REQUESTED VERIFICATION A...</td>\n",
       "    </tr>\n",
       "    <tr>\n",
       "      <th>15630</th>\n",
       "      <td>Debt collection</td>\n",
       "      <td>Barclays Bank Delaware obtained a judgment aga...</td>\n",
       "    </tr>\n",
       "    <tr>\n",
       "      <th>11112</th>\n",
       "      <td>Debt collection</td>\n",
       "      <td>This account was a joint account with XXXX and...</td>\n",
       "    </tr>\n",
       "    <tr>\n",
       "      <th>16</th>\n",
       "      <td>Debt collection</td>\n",
       "      <td>This complaint is in regards to Square Two Fin...</td>\n",
       "    </tr>\n",
       "    <tr>\n",
       "      <th>311</th>\n",
       "      <td>Debt collection</td>\n",
       "      <td>Hunter Warfield has be unable to provide prope...</td>\n",
       "    </tr>\n",
       "    <tr>\n",
       "      <th>15988</th>\n",
       "      <td>Debt collection</td>\n",
       "      <td>Unknown account, never have been notified and ...</td>\n",
       "    </tr>\n",
       "  </tbody>\n",
       "</table>\n",
       "</div>"
      ],
      "text/plain": [
       "               Product                       Consumer_complaint_narrative\n",
       "18410  Debt collection  Dear CFPB, I am asking you for assistance to i...\n",
       "5262   Debt collection  XXXX XXXX, XXXX ( This letter describes in det...\n",
       "11834  Debt collection  XXXX XXXX XXXX is reporting negatively on my c...\n",
       "19652  Debt collection  I recently paid of both debts on my credit acc...\n",
       "15557  Debt collection  Never have been a XXXX XXXX customer. I was at...\n",
       "4431   Debt collection  someone tried getting credit information and i...\n",
       "15949  Debt collection  This debt is from account from $ XX/XX/2008 an...\n",
       "12475  Debt collection  In XXXX XXXX, there was an account opened thro...\n",
       "13548  Debt collection  DIVERSIFIELD CONSULTANTS INC HAVE VIOLATED FCR...\n",
       "6988   Debt collection  Also collections refuses to stop reporting to ...\n",
       "16498  Debt collection  They called my son and told him that they are ...\n",
       "12028  Debt collection  Rubin & Rothman LLC ( R & R ) received default...\n",
       "7131   Debt collection  THIS IS FRAUD. I HAVE REQUESTED VERIFICATION A...\n",
       "15630  Debt collection  Barclays Bank Delaware obtained a judgment aga...\n",
       "11112  Debt collection  This account was a joint account with XXXX and...\n",
       "16     Debt collection  This complaint is in regards to Square Two Fin...\n",
       "311    Debt collection  Hunter Warfield has be unable to provide prope...\n",
       "15988  Debt collection  Unknown account, never have been notified and ..."
      ]
     },
     "metadata": {},
     "output_type": "display_data"
    },
    {
     "name": "stdout",
     "output_type": "stream",
     "text": [
      "\n",
      "'Mortgage' predicted as 'Credit reporting' : 6 examples.\n"
     ]
    },
    {
     "data": {
      "text/html": [
       "<div>\n",
       "<style>\n",
       "    .dataframe thead tr:only-child th {\n",
       "        text-align: right;\n",
       "    }\n",
       "\n",
       "    .dataframe thead th {\n",
       "        text-align: left;\n",
       "    }\n",
       "\n",
       "    .dataframe tbody tr th {\n",
       "        vertical-align: top;\n",
       "    }\n",
       "</style>\n",
       "<table border=\"1\" class=\"dataframe\">\n",
       "  <thead>\n",
       "    <tr style=\"text-align: right;\">\n",
       "      <th></th>\n",
       "      <th>Product</th>\n",
       "      <th>Consumer_complaint_narrative</th>\n",
       "    </tr>\n",
       "  </thead>\n",
       "  <tbody>\n",
       "    <tr>\n",
       "      <th>4637</th>\n",
       "      <td>Mortgage</td>\n",
       "      <td>This complaint is in follow-up to Complaint # ...</td>\n",
       "    </tr>\n",
       "    <tr>\n",
       "      <th>5269</th>\n",
       "      <td>Mortgage</td>\n",
       "      <td>The attached complaint was initially written t...</td>\n",
       "    </tr>\n",
       "    <tr>\n",
       "      <th>7343</th>\n",
       "      <td>Mortgage</td>\n",
       "      <td>In 2014, I went to XXXX in order to buy a mobi...</td>\n",
       "    </tr>\n",
       "    <tr>\n",
       "      <th>15048</th>\n",
       "      <td>Mortgage</td>\n",
       "      <td>Company repeatedly corrects my credit report a...</td>\n",
       "    </tr>\n",
       "    <tr>\n",
       "      <th>861</th>\n",
       "      <td>Mortgage</td>\n",
       "      <td>Mortgage broker did Credit inquiry on my credi...</td>\n",
       "    </tr>\n",
       "    <tr>\n",
       "      <th>19781</th>\n",
       "      <td>Mortgage</td>\n",
       "      <td>I am a card carrying XXXX and wanted to see if...</td>\n",
       "    </tr>\n",
       "  </tbody>\n",
       "</table>\n",
       "</div>"
      ],
      "text/plain": [
       "        Product                       Consumer_complaint_narrative\n",
       "4637   Mortgage  This complaint is in follow-up to Complaint # ...\n",
       "5269   Mortgage  The attached complaint was initially written t...\n",
       "7343   Mortgage  In 2014, I went to XXXX in order to buy a mobi...\n",
       "15048  Mortgage  Company repeatedly corrects my credit report a...\n",
       "861    Mortgage  Mortgage broker did Credit inquiry on my credi...\n",
       "19781  Mortgage  I am a card carrying XXXX and wanted to see if..."
      ]
     },
     "metadata": {},
     "output_type": "display_data"
    },
    {
     "name": "stdout",
     "output_type": "stream",
     "text": [
      "\n",
      "'Credit card' predicted as 'Credit reporting' : 9 examples.\n"
     ]
    },
    {
     "data": {
      "text/html": [
       "<div>\n",
       "<style>\n",
       "    .dataframe thead tr:only-child th {\n",
       "        text-align: right;\n",
       "    }\n",
       "\n",
       "    .dataframe thead th {\n",
       "        text-align: left;\n",
       "    }\n",
       "\n",
       "    .dataframe tbody tr th {\n",
       "        vertical-align: top;\n",
       "    }\n",
       "</style>\n",
       "<table border=\"1\" class=\"dataframe\">\n",
       "  <thead>\n",
       "    <tr style=\"text-align: right;\">\n",
       "      <th></th>\n",
       "      <th>Product</th>\n",
       "      <th>Consumer_complaint_narrative</th>\n",
       "    </tr>\n",
       "  </thead>\n",
       "  <tbody>\n",
       "    <tr>\n",
       "      <th>18643</th>\n",
       "      <td>Credit card</td>\n",
       "      <td>I was told this account wiuld be deleted from ...</td>\n",
       "    </tr>\n",
       "    <tr>\n",
       "      <th>18574</th>\n",
       "      <td>Credit card</td>\n",
       "      <td>This inquiry was n't me</td>\n",
       "    </tr>\n",
       "    <tr>\n",
       "      <th>19868</th>\n",
       "      <td>Credit card</td>\n",
       "      <td>Capital One/Kohls has been reporting a past du...</td>\n",
       "    </tr>\n",
       "    <tr>\n",
       "      <th>19963</th>\n",
       "      <td>Credit card</td>\n",
       "      <td>on XX/XX/XXXX my wallet was stolen with all my...</td>\n",
       "    </tr>\n",
       "    <tr>\n",
       "      <th>4706</th>\n",
       "      <td>Credit card</td>\n",
       "      <td>American Express is reporting an account on my...</td>\n",
       "    </tr>\n",
       "    <tr>\n",
       "      <th>21566</th>\n",
       "      <td>Credit card</td>\n",
       "      <td>Have disputed the reporting of the status of a...</td>\n",
       "    </tr>\n",
       "    <tr>\n",
       "      <th>13906</th>\n",
       "      <td>Credit card</td>\n",
       "      <td>I have been the victim of identity theft fraud...</td>\n",
       "    </tr>\n",
       "    <tr>\n",
       "      <th>16853</th>\n",
       "      <td>Credit card</td>\n",
       "      <td>I have requested XXXX XXXX to run a credit rep...</td>\n",
       "    </tr>\n",
       "    <tr>\n",
       "      <th>10505</th>\n",
       "      <td>Credit card</td>\n",
       "      <td>I have been working since XXXX 2016 to get a i...</td>\n",
       "    </tr>\n",
       "  </tbody>\n",
       "</table>\n",
       "</div>"
      ],
      "text/plain": [
       "           Product                       Consumer_complaint_narrative\n",
       "18643  Credit card  I was told this account wiuld be deleted from ...\n",
       "18574  Credit card                            This inquiry was n't me\n",
       "19868  Credit card  Capital One/Kohls has been reporting a past du...\n",
       "19963  Credit card  on XX/XX/XXXX my wallet was stolen with all my...\n",
       "4706   Credit card  American Express is reporting an account on my...\n",
       "21566  Credit card  Have disputed the reporting of the status of a...\n",
       "13906  Credit card  I have been the victim of identity theft fraud...\n",
       "16853  Credit card  I have requested XXXX XXXX to run a credit rep...\n",
       "10505  Credit card  I have been working since XXXX 2016 to get a i..."
      ]
     },
     "metadata": {},
     "output_type": "display_data"
    },
    {
     "name": "stdout",
     "output_type": "stream",
     "text": [
      "\n"
     ]
    },
    {
     "ename": "IndexError",
     "evalue": "index 11 is out of bounds for axis 0 with size 11",
     "output_type": "error",
     "traceback": [
      "\u001b[0;31m---------------------------------------------------------------------------\u001b[0m",
      "\u001b[0;31mIndexError\u001b[0m                                Traceback (most recent call last)",
      "\u001b[0;32m<ipython-input-22-9932ab8bdc5b>\u001b[0m in \u001b[0;36m<module>\u001b[0;34m()\u001b[0m\n\u001b[1;32m      3\u001b[0m \u001b[0;32mfor\u001b[0m \u001b[0mpredicted\u001b[0m \u001b[0;32min\u001b[0m \u001b[0mcategory_id_df\u001b[0m\u001b[0;34m.\u001b[0m\u001b[0mcategory_id\u001b[0m\u001b[0;34m:\u001b[0m\u001b[0;34m\u001b[0m\u001b[0m\n\u001b[1;32m      4\u001b[0m   \u001b[0;32mfor\u001b[0m \u001b[0mactual\u001b[0m \u001b[0;32min\u001b[0m \u001b[0mcategory_id_df\u001b[0m\u001b[0;34m.\u001b[0m\u001b[0mcategory_id\u001b[0m\u001b[0;34m:\u001b[0m\u001b[0;34m\u001b[0m\u001b[0m\n\u001b[0;32m----> 5\u001b[0;31m     \u001b[0;32mif\u001b[0m \u001b[0mpredicted\u001b[0m \u001b[0;34m!=\u001b[0m \u001b[0mactual\u001b[0m \u001b[0;32mand\u001b[0m \u001b[0mconf_mat\u001b[0m\u001b[0;34m[\u001b[0m\u001b[0mactual\u001b[0m\u001b[0;34m,\u001b[0m \u001b[0mpredicted\u001b[0m\u001b[0;34m]\u001b[0m \u001b[0;34m>=\u001b[0m \u001b[0;36m6\u001b[0m\u001b[0;34m:\u001b[0m\u001b[0;34m\u001b[0m\u001b[0m\n\u001b[0m\u001b[1;32m      6\u001b[0m       \u001b[0mprint\u001b[0m\u001b[0;34m(\u001b[0m\u001b[0;34m\"'{}' predicted as '{}' : {} examples.\"\u001b[0m\u001b[0;34m.\u001b[0m\u001b[0mformat\u001b[0m\u001b[0;34m(\u001b[0m\u001b[0mid_to_category\u001b[0m\u001b[0;34m[\u001b[0m\u001b[0mactual\u001b[0m\u001b[0;34m]\u001b[0m\u001b[0;34m,\u001b[0m \u001b[0mid_to_category\u001b[0m\u001b[0;34m[\u001b[0m\u001b[0mpredicted\u001b[0m\u001b[0;34m]\u001b[0m\u001b[0;34m,\u001b[0m \u001b[0mconf_mat\u001b[0m\u001b[0;34m[\u001b[0m\u001b[0mactual\u001b[0m\u001b[0;34m,\u001b[0m \u001b[0mpredicted\u001b[0m\u001b[0;34m]\u001b[0m\u001b[0;34m)\u001b[0m\u001b[0;34m)\u001b[0m\u001b[0;34m\u001b[0m\u001b[0m\n\u001b[1;32m      7\u001b[0m       \u001b[0mdisplay\u001b[0m\u001b[0;34m(\u001b[0m\u001b[0mdf\u001b[0m\u001b[0;34m.\u001b[0m\u001b[0mloc\u001b[0m\u001b[0;34m[\u001b[0m\u001b[0mindices_test\u001b[0m\u001b[0;34m[\u001b[0m\u001b[0;34m(\u001b[0m\u001b[0my_test\u001b[0m \u001b[0;34m==\u001b[0m \u001b[0mactual\u001b[0m\u001b[0;34m)\u001b[0m \u001b[0;34m&\u001b[0m \u001b[0;34m(\u001b[0m\u001b[0my_pred\u001b[0m \u001b[0;34m==\u001b[0m \u001b[0mpredicted\u001b[0m\u001b[0;34m)\u001b[0m\u001b[0;34m]\u001b[0m\u001b[0;34m]\u001b[0m\u001b[0;34m[\u001b[0m\u001b[0;34m[\u001b[0m\u001b[0;34m'Product'\u001b[0m\u001b[0;34m,\u001b[0m \u001b[0;34m'Consumer_complaint_narrative'\u001b[0m\u001b[0;34m]\u001b[0m\u001b[0;34m]\u001b[0m\u001b[0;34m)\u001b[0m\u001b[0;34m\u001b[0m\u001b[0m\n",
      "\u001b[0;31mIndexError\u001b[0m: index 11 is out of bounds for axis 0 with size 11"
     ]
    }
   ],
   "source": [
    "from IPython.display import display\n",
    "\n",
    "for predicted in category_id_df.category_id:\n",
    "  for actual in category_id_df.category_id:\n",
    "    if predicted != actual and conf_mat[actual, predicted] >= 6:\n",
    "      print(\"'{}' predicted as '{}' : {} examples.\".format(id_to_category[actual], id_to_category[predicted], conf_mat[actual, predicted]))\n",
    "      display(df.loc[indices_test[(y_test == actual) & (y_pred == predicted)]][['Product', 'Consumer_complaint_narrative']])\n",
    "      print('')"
   ]
  },
  {
   "cell_type": "code",
   "execution_count": 23,
   "metadata": {},
   "outputs": [
    {
     "data": {
      "text/plain": [
       "LinearSVC(C=1.0, class_weight=None, dual=True, fit_intercept=True,\n",
       "     intercept_scaling=1, loss='squared_hinge', max_iter=1000,\n",
       "     multi_class='ovr', penalty='l2', random_state=None, tol=0.0001,\n",
       "     verbose=0)"
      ]
     },
     "execution_count": 23,
     "metadata": {},
     "output_type": "execute_result"
    }
   ],
   "source": [
    "model.fit(features, labels)"
   ]
  },
  {
   "cell_type": "code",
   "execution_count": 24,
   "metadata": {
    "scrolled": false
   },
   "outputs": [
    {
     "name": "stdout",
     "output_type": "stream",
     "text": [
      "# 'Bank account or service':\n",
      "  . Top unigrams:\n",
      "       . bank\n",
      "       . account\n",
      "  . Top bigrams:\n",
      "       . debit card\n",
      "       . overdraft fees\n",
      "# 'Consumer Loan':\n",
      "  . Top unigrams:\n",
      "       . vehicle\n",
      "       . car\n",
      "  . Top bigrams:\n",
      "       . personal loan\n",
      "       . history xxxx\n",
      "# 'Credit card':\n",
      "  . Top unigrams:\n",
      "       . card\n",
      "       . discover\n",
      "  . Top bigrams:\n",
      "       . credit card\n",
      "       . discover card\n",
      "# 'Credit reporting':\n",
      "  . Top unigrams:\n",
      "       . equifax\n",
      "       . transunion\n",
      "  . Top bigrams:\n",
      "       . xxxx account\n",
      "       . trans union\n",
      "# 'Debt collection':\n",
      "  . Top unigrams:\n",
      "       . debt\n",
      "       . collection\n",
      "  . Top bigrams:\n",
      "       . account credit\n",
      "       . time provided\n",
      "# 'Money transfers':\n",
      "  . Top unigrams:\n",
      "       . paypal\n",
      "       . transfer\n",
      "  . Top bigrams:\n",
      "       . money transfer\n",
      "       . send money\n",
      "# 'Mortgage':\n",
      "  . Top unigrams:\n",
      "       . mortgage\n",
      "       . escrow\n",
      "  . Top bigrams:\n",
      "       . loan modification\n",
      "       . mortgage company\n",
      "# 'Other financial service':\n",
      "  . Top unigrams:\n",
      "       . passport\n",
      "       . dental\n",
      "  . Top bigrams:\n",
      "       . stated pay\n",
      "       . help pay\n",
      "# 'Payday loan':\n",
      "  . Top unigrams:\n",
      "       . payday\n",
      "       . loan\n",
      "  . Top bigrams:\n",
      "       . payday loan\n",
      "       . pay day\n",
      "# 'Prepaid card':\n",
      "  . Top unigrams:\n",
      "       . prepaid\n",
      "       . serve\n",
      "  . Top bigrams:\n",
      "       . prepaid card\n",
      "       . use card\n",
      "# 'Student loan':\n",
      "  . Top unigrams:\n",
      "       . navient\n",
      "       . loans\n",
      "  . Top bigrams:\n",
      "       . student loan\n",
      "       . sallie mae\n",
      "# 'Virtual currency':\n",
      "  . Top unigrams:\n",
      "       . https\n",
      "       . tx\n",
      "  . Top bigrams:\n",
      "       . money want\n",
      "       . xxxx provider\n"
     ]
    }
   ],
   "source": [
    "from sklearn.feature_selection import chi2\n",
    "\n",
    "N = 2\n",
    "for Product, category_id in sorted(category_to_id.items()):\n",
    "  indices = np.argsort(model.coef_[category_id])\n",
    "  feature_names = np.array(tfidf.get_feature_names())[indices]\n",
    "  unigrams = [v for v in reversed(feature_names) if len(v.split(' ')) == 1][:N]\n",
    "  bigrams = [v for v in reversed(feature_names) if len(v.split(' ')) == 2][:N]\n",
    "  print(\"# '{}':\".format(Product))\n",
    "  print(\"  . Top unigrams:\\n       . {}\".format('\\n       . '.join(unigrams)))\n",
    "  print(\"  . Top bigrams:\\n       . {}\".format('\\n       . '.join(bigrams)))"
   ]
  },
  {
   "cell_type": "code",
   "execution_count": 29,
   "metadata": {},
   "outputs": [
    {
     "name": "stdout",
     "output_type": "stream",
     "text": [
      "\"I requested a home loan modification through Bank of America. Bank of America never got back to me.\"\n",
      "  - Predicted as: 'Mortgage'\n",
      "\n",
      "\"It has been difficult for me to find my past due balance. I missed a regular monthly payment\"\n",
      "  - Predicted as: 'Credit reporting'\n",
      "\n",
      "\"I can't get the money out of the country.\"\n",
      "  - Predicted as: 'Bank account or service'\n",
      "\n",
      "\"I have no money to pay my tuition\"\n",
      "  - Predicted as: 'Debt collection'\n",
      "\n",
      "\"Coinbase closed my account for no reason and furthermore refused to give me a reason despite dozens of request\"\n",
      "  - Predicted as: 'Bank account or service'\n",
      "\n"
     ]
    }
   ],
   "source": [
    "texts = [\"I requested a home loan modification through Bank of America. Bank of America never got back to me.\",\n",
    "         \"It has been difficult for me to find my past due balance. I missed a regular monthly payment\",\n",
    "         \"I can't get the money out of the country.\",\n",
    "         \"I have no money to pay my tuition\",\n",
    "         \"Coinbase closed my account for no reason and furthermore refused to give me a reason despite dozens of request\"]\n",
    "text_features = tfidf.transform(texts)\n",
    "predictions = model.predict(text_features)\n",
    "for text, predicted in zip(texts, predictions):\n",
    "  print('\"{}\"'.format(text))\n",
    "  print(\"  - Predicted as: '{}'\".format(id_to_category[predicted]))\n",
    "  print(\"\")"
   ]
  },
  {
   "cell_type": "code",
   "execution_count": 20,
   "metadata": {},
   "outputs": [
    {
     "name": "stdout",
     "output_type": "stream",
     "text": [
      "                          precision    recall  f1-score   support\n",
      "\n",
      "                 Finance       0.45      1.00      0.62      1465\n",
      "               Marketing       0.25      0.00      0.00       987\n",
      "         Human Resources       0.00      0.00      0.00       653\n",
      "                      IT       0.00      0.00      0.00        81\n",
      "             Procurement       0.00      0.00      0.00        34\n",
      "                   Legal       0.00      0.00      0.00        20\n",
      "Sales & Customer Service       0.00      0.00      0.00        18\n",
      "    Financial Management       0.00      0.00      0.00         6\n",
      "  Research & Development       0.00      0.00      0.00         5\n",
      "\n",
      "                accuracy                           0.45      3269\n",
      "               macro avg       0.08      0.11      0.07      3269\n",
      "            weighted avg       0.28      0.45      0.28      3269\n",
      "\n"
     ]
    },
    {
     "name": "stderr",
     "output_type": "stream",
     "text": [
      "c:\\python\\lib\\site-packages\\sklearn\\metrics\\_classification.py:1272: UndefinedMetricWarning: Precision and F-score are ill-defined and being set to 0.0 in labels with no predicted samples. Use `zero_division` parameter to control this behavior.\n",
      "  _warn_prf(average, modifier, msg_start, len(result))\n"
     ]
    }
   ],
   "source": [
    "from sklearn import metrics\n",
    "print(metrics.classification_report(y_test, y_pred, \n",
    "                                    target_names=df['Product'].unique()))"
   ]
  }
 ],
 "metadata": {
  "kernelspec": {
   "display_name": "Python 3",
   "language": "python",
   "name": "python3"
  },
  "language_info": {
   "codemirror_mode": {
    "name": "ipython",
    "version": 3
   },
   "file_extension": ".py",
   "mimetype": "text/x-python",
   "name": "python",
   "nbconvert_exporter": "python",
   "pygments_lexer": "ipython3",
   "version": "3.7.4"
  }
 },
 "nbformat": 4,
 "nbformat_minor": 2
}
