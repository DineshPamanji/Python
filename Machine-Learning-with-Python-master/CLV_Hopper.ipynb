{
 "cells": [
  {
   "cell_type": "markdown",
   "metadata": {},
   "source": [
    "## Customer Lifetime Value Analysis - Hopper"
   ]
  },
  {
   "cell_type": "code",
   "execution_count": 85,
   "metadata": {},
   "outputs": [],
   "source": [
    "pd.set_option('display.max_columns', 100)\n",
    "sns.set_palette(\"husl\")\n",
    "sns.set(rc={'image.cmap': 'coolwarm'})\n",
    "%matplotlib inline\n",
    "\n",
    "from lifetimes.plotting import *\n",
    "from lifetimes.utils import *\n",
    "from lifetimes import BetaGeoFitter\n",
    "from lifetimes.plotting import plot_frequency_recency_matrix\n",
    "from lifetimes.plotting import plot_probability_alive_matrix\n",
    "from lifetimes.plotting import plot_period_transactions\n",
    "from lifetimes.utils import calibration_and_holdout_data\n",
    "from lifetimes.plotting import plot_calibration_purchases_vs_holdout_purchases\n",
    "from lifetimes.plotting import plot_history_alive\n",
    "from lifetimes import GammaGammaFitter"
   ]
  },
  {
   "cell_type": "markdown",
   "metadata": {},
   "source": [
    "### Data Preprocessing"
   ]
  },
  {
   "cell_type": "code",
   "execution_count": 86,
   "metadata": {},
   "outputs": [
    {
     "data": {
      "text/plain": [
       "shopped     797239\n",
       "inactive    211847\n",
       "expired     148724\n",
       "booked        8764\n",
       "active        1571\n",
       "Name: status_latest, dtype: int64"
      ]
     },
     "execution_count": 86,
     "metadata": {},
     "output_type": "execute_result"
    }
   ],
   "source": [
    "watch_df = pd.read_csv('search_sample_data/watch_sample.csv')\n",
    "watch_df['status_latest'].value_counts()"
   ]
  },
  {
   "cell_type": "code",
   "execution_count": 87,
   "metadata": {},
   "outputs": [
    {
     "data": {
      "text/plain": [
       "(Timestamp('2018-01-01 00:00:00'), Timestamp('2019-09-17 00:00:00'))"
      ]
     },
     "execution_count": 87,
     "metadata": {},
     "output_type": "execute_result"
    }
   ],
   "source": [
    "booked_df = watch_df.loc[watch_df['status_latest'] == 'booked']\n",
    "cols_of_interest = ['user_id', 'latest_status_change_dt', 'lowest_price']\n",
    "booked_df = booked_df[cols_of_interest]\n",
    "booked_df = booked_df[pd.notnull(booked_df['lowest_price'])]\n",
    "\n",
    "booked_df['latest_status_change_dt'] = pd.to_datetime(booked_df['latest_status_change_dt'])\n",
    "booked_df['latest_status_change_dt'] = booked_df['latest_status_change_dt'].dt.date\n",
    "booked_df['latest_status_change_dt'] = pd.to_datetime(booked_df['latest_status_change_dt'])\n",
    "booked_df['latest_status_change_dt'].min(), booked_df['latest_status_change_dt'].max()"
   ]
  },
  {
   "cell_type": "code",
   "execution_count": 88,
   "metadata": {},
   "outputs": [
    {
     "data": {
      "text/plain": [
       "4596"
      ]
     },
     "execution_count": 88,
     "metadata": {},
     "output_type": "execute_result"
    }
   ],
   "source": [
    "booked_df['user_id'].nunique()"
   ]
  },
  {
   "cell_type": "code",
   "execution_count": 89,
   "metadata": {},
   "outputs": [
    {
     "data": {
      "text/html": [
       "<div>\n",
       "<style scoped>\n",
       "    .dataframe tbody tr th:only-of-type {\n",
       "        vertical-align: middle;\n",
       "    }\n",
       "\n",
       "    .dataframe tbody tr th {\n",
       "        vertical-align: top;\n",
       "    }\n",
       "\n",
       "    .dataframe thead th {\n",
       "        text-align: right;\n",
       "    }\n",
       "</style>\n",
       "<table border=\"1\" class=\"dataframe\">\n",
       "  <thead>\n",
       "    <tr style=\"text-align: right;\">\n",
       "      <th></th>\n",
       "      <th>user_id</th>\n",
       "      <th>latest_status_change_dt</th>\n",
       "      <th>lowest_price</th>\n",
       "    </tr>\n",
       "  </thead>\n",
       "  <tbody>\n",
       "    <tr>\n",
       "      <td>114</td>\n",
       "      <td>4a7ab9b3a1c10f8b7036e55605a758a5c7654e1682b057...</td>\n",
       "      <td>2018-05-02</td>\n",
       "      <td>391.0</td>\n",
       "    </tr>\n",
       "    <tr>\n",
       "      <td>338</td>\n",
       "      <td>21557c4bf83241450f6f23baf1c949fd8d5b13abc401cd...</td>\n",
       "      <td>2018-02-09</td>\n",
       "      <td>359.0</td>\n",
       "    </tr>\n",
       "    <tr>\n",
       "      <td>640</td>\n",
       "      <td>fe895b28195094b405b5d887c894e1b3cdde9945047baa...</td>\n",
       "      <td>2018-02-24</td>\n",
       "      <td>627.0</td>\n",
       "    </tr>\n",
       "    <tr>\n",
       "      <td>678</td>\n",
       "      <td>2929c98ea8d72bd251025ef1ff232ca9a3a38483c18fd4...</td>\n",
       "      <td>2018-05-06</td>\n",
       "      <td>267.0</td>\n",
       "    </tr>\n",
       "    <tr>\n",
       "      <td>725</td>\n",
       "      <td>c6a8984d9c1f975afe69bd162b242830bbb7310f4c9204...</td>\n",
       "      <td>2018-06-21</td>\n",
       "      <td>192.0</td>\n",
       "    </tr>\n",
       "    <tr>\n",
       "      <td>1361</td>\n",
       "      <td>83e2bb025505e996626e3fac10da0d16785c3e1bae1f1d...</td>\n",
       "      <td>2018-08-31</td>\n",
       "      <td>137.0</td>\n",
       "    </tr>\n",
       "    <tr>\n",
       "      <td>1364</td>\n",
       "      <td>92e9c28aeeaa9c19618d9c8ef77a48ff6079dd0ed0c36d...</td>\n",
       "      <td>2018-04-17</td>\n",
       "      <td>113.0</td>\n",
       "    </tr>\n",
       "    <tr>\n",
       "      <td>1512</td>\n",
       "      <td>9c5be29b757ce0e34685f630e3f2c9323a0ba3b9b96505...</td>\n",
       "      <td>2018-01-16</td>\n",
       "      <td>86.0</td>\n",
       "    </tr>\n",
       "    <tr>\n",
       "      <td>1619</td>\n",
       "      <td>eaf5f71b19d612441bb959593778fafe9b4ac1ad0fc486...</td>\n",
       "      <td>2018-07-19</td>\n",
       "      <td>194.0</td>\n",
       "    </tr>\n",
       "    <tr>\n",
       "      <td>1636</td>\n",
       "      <td>59b034a8d3b262d35e89b096c2cdac072e59a451bd022a...</td>\n",
       "      <td>2018-12-18</td>\n",
       "      <td>172.0</td>\n",
       "    </tr>\n",
       "  </tbody>\n",
       "</table>\n",
       "</div>"
      ],
      "text/plain": [
       "                                                user_id  \\\n",
       "114   4a7ab9b3a1c10f8b7036e55605a758a5c7654e1682b057...   \n",
       "338   21557c4bf83241450f6f23baf1c949fd8d5b13abc401cd...   \n",
       "640   fe895b28195094b405b5d887c894e1b3cdde9945047baa...   \n",
       "678   2929c98ea8d72bd251025ef1ff232ca9a3a38483c18fd4...   \n",
       "725   c6a8984d9c1f975afe69bd162b242830bbb7310f4c9204...   \n",
       "1361  83e2bb025505e996626e3fac10da0d16785c3e1bae1f1d...   \n",
       "1364  92e9c28aeeaa9c19618d9c8ef77a48ff6079dd0ed0c36d...   \n",
       "1512  9c5be29b757ce0e34685f630e3f2c9323a0ba3b9b96505...   \n",
       "1619  eaf5f71b19d612441bb959593778fafe9b4ac1ad0fc486...   \n",
       "1636  59b034a8d3b262d35e89b096c2cdac072e59a451bd022a...   \n",
       "\n",
       "     latest_status_change_dt  lowest_price  \n",
       "114               2018-05-02         391.0  \n",
       "338               2018-02-09         359.0  \n",
       "640               2018-02-24         627.0  \n",
       "678               2018-05-06         267.0  \n",
       "725               2018-06-21         192.0  \n",
       "1361              2018-08-31         137.0  \n",
       "1364              2018-04-17         113.0  \n",
       "1512              2018-01-16          86.0  \n",
       "1619              2018-07-19         194.0  \n",
       "1636              2018-12-18         172.0  "
      ]
     },
     "execution_count": 89,
     "metadata": {},
     "output_type": "execute_result"
    }
   ],
   "source": [
    "booked_df.head(10)"
   ]
  },
  {
   "cell_type": "code",
   "execution_count": 90,
   "metadata": {},
   "outputs": [
    {
     "data": {
      "text/html": [
       "<div>\n",
       "<style scoped>\n",
       "    .dataframe tbody tr th:only-of-type {\n",
       "        vertical-align: middle;\n",
       "    }\n",
       "\n",
       "    .dataframe tbody tr th {\n",
       "        vertical-align: top;\n",
       "    }\n",
       "\n",
       "    .dataframe thead th {\n",
       "        text-align: right;\n",
       "    }\n",
       "</style>\n",
       "<table border=\"1\" class=\"dataframe\">\n",
       "  <thead>\n",
       "    <tr style=\"text-align: right;\">\n",
       "      <th></th>\n",
       "      <th>frequency</th>\n",
       "      <th>recency</th>\n",
       "      <th>T</th>\n",
       "      <th>monetary_value</th>\n",
       "    </tr>\n",
       "    <tr>\n",
       "      <th>user_id</th>\n",
       "      <th></th>\n",
       "      <th></th>\n",
       "      <th></th>\n",
       "      <th></th>\n",
       "    </tr>\n",
       "  </thead>\n",
       "  <tbody>\n",
       "    <tr>\n",
       "      <td>001a25f124e240f5372e8c73117c54bd1b1ae6339bf864100a9abd1ddafa49ff</td>\n",
       "      <td>1.0</td>\n",
       "      <td>39.0</td>\n",
       "      <td>275.0</td>\n",
       "      <td>602.0</td>\n",
       "    </tr>\n",
       "    <tr>\n",
       "      <td>0067a6541cc78bd52ba0b9a4216e7f0e27e6cf7c6847a6dbbaf8b53194c01943</td>\n",
       "      <td>0.0</td>\n",
       "      <td>0.0</td>\n",
       "      <td>556.0</td>\n",
       "      <td>0.0</td>\n",
       "    </tr>\n",
       "    <tr>\n",
       "      <td>00702b0d3e9ad967e0df6b9f062a5cf5b83524d10ae32bc972b09da4c786dd69</td>\n",
       "      <td>3.0</td>\n",
       "      <td>268.0</td>\n",
       "      <td>455.0</td>\n",
       "      <td>459.0</td>\n",
       "    </tr>\n",
       "    <tr>\n",
       "      <td>00770c43298f4cd9ee3dfe37882825be327db3dca9affd9074639c9b1c9d7907</td>\n",
       "      <td>2.0</td>\n",
       "      <td>174.0</td>\n",
       "      <td>490.0</td>\n",
       "      <td>152.0</td>\n",
       "    </tr>\n",
       "    <tr>\n",
       "      <td>007de8bbd4f4dea2de20d00f3b904e08210d94a6215e0f57b1817711838a9b05</td>\n",
       "      <td>0.0</td>\n",
       "      <td>0.0</td>\n",
       "      <td>488.0</td>\n",
       "      <td>0.0</td>\n",
       "    </tr>\n",
       "    <tr>\n",
       "      <td>00874310e86ae74c1b470ec0f766493ed2f8949bbc004715d8e72bd70d97d1c7</td>\n",
       "      <td>1.0</td>\n",
       "      <td>5.0</td>\n",
       "      <td>602.0</td>\n",
       "      <td>412.0</td>\n",
       "    </tr>\n",
       "    <tr>\n",
       "      <td>00a143d91b4c16f3962dbbb4cbe76814c5fdd3104feecfb24d0ce46c1768cd54</td>\n",
       "      <td>0.0</td>\n",
       "      <td>0.0</td>\n",
       "      <td>575.0</td>\n",
       "      <td>0.0</td>\n",
       "    </tr>\n",
       "    <tr>\n",
       "      <td>00ad4737c47b868cb87f461d899c7a5720f8dd64aa8e1d3a821ef0859dc8b3ce</td>\n",
       "      <td>0.0</td>\n",
       "      <td>0.0</td>\n",
       "      <td>224.0</td>\n",
       "      <td>0.0</td>\n",
       "    </tr>\n",
       "    <tr>\n",
       "      <td>00c7f503021d4abdde4878c2b0caa9cfdcdc0c2cccd154ca174afedb66a152ad</td>\n",
       "      <td>0.0</td>\n",
       "      <td>0.0</td>\n",
       "      <td>578.0</td>\n",
       "      <td>0.0</td>\n",
       "    </tr>\n",
       "    <tr>\n",
       "      <td>00c95bd6cd9a5f430df8a6d3494c8479145294c1ebed078c26ccd19731b39ef2</td>\n",
       "      <td>0.0</td>\n",
       "      <td>0.0</td>\n",
       "      <td>401.0</td>\n",
       "      <td>0.0</td>\n",
       "    </tr>\n",
       "  </tbody>\n",
       "</table>\n",
       "</div>"
      ],
      "text/plain": [
       "                                                    frequency  recency      T  \\\n",
       "user_id                                                                         \n",
       "001a25f124e240f5372e8c73117c54bd1b1ae6339bf8641...        1.0     39.0  275.0   \n",
       "0067a6541cc78bd52ba0b9a4216e7f0e27e6cf7c6847a6d...        0.0      0.0  556.0   \n",
       "00702b0d3e9ad967e0df6b9f062a5cf5b83524d10ae32bc...        3.0    268.0  455.0   \n",
       "00770c43298f4cd9ee3dfe37882825be327db3dca9affd9...        2.0    174.0  490.0   \n",
       "007de8bbd4f4dea2de20d00f3b904e08210d94a6215e0f5...        0.0      0.0  488.0   \n",
       "00874310e86ae74c1b470ec0f766493ed2f8949bbc00471...        1.0      5.0  602.0   \n",
       "00a143d91b4c16f3962dbbb4cbe76814c5fdd3104feecfb...        0.0      0.0  575.0   \n",
       "00ad4737c47b868cb87f461d899c7a5720f8dd64aa8e1d3...        0.0      0.0  224.0   \n",
       "00c7f503021d4abdde4878c2b0caa9cfdcdc0c2cccd154c...        0.0      0.0  578.0   \n",
       "00c95bd6cd9a5f430df8a6d3494c8479145294c1ebed078...        0.0      0.0  401.0   \n",
       "\n",
       "                                                    monetary_value  \n",
       "user_id                                                             \n",
       "001a25f124e240f5372e8c73117c54bd1b1ae6339bf8641...           602.0  \n",
       "0067a6541cc78bd52ba0b9a4216e7f0e27e6cf7c6847a6d...             0.0  \n",
       "00702b0d3e9ad967e0df6b9f062a5cf5b83524d10ae32bc...           459.0  \n",
       "00770c43298f4cd9ee3dfe37882825be327db3dca9affd9...           152.0  \n",
       "007de8bbd4f4dea2de20d00f3b904e08210d94a6215e0f5...             0.0  \n",
       "00874310e86ae74c1b470ec0f766493ed2f8949bbc00471...           412.0  \n",
       "00a143d91b4c16f3962dbbb4cbe76814c5fdd3104feecfb...             0.0  \n",
       "00ad4737c47b868cb87f461d899c7a5720f8dd64aa8e1d3...             0.0  \n",
       "00c7f503021d4abdde4878c2b0caa9cfdcdc0c2cccd154c...             0.0  \n",
       "00c95bd6cd9a5f430df8a6d3494c8479145294c1ebed078...             0.0  "
      ]
     },
     "execution_count": 90,
     "metadata": {},
     "output_type": "execute_result"
    }
   ],
   "source": [
    "data = summary_data_from_transaction_data(booked_df, 'user_id', 'latest_status_change_dt', monetary_value_col='lowest_price', observation_period_end='2019-09-17')\n",
    "data.head(10)"
   ]
  },
  {
   "cell_type": "code",
   "execution_count": 91,
   "metadata": {},
   "outputs": [
    {
     "data": {
      "text/html": [
       "<div>\n",
       "<style scoped>\n",
       "    .dataframe tbody tr th:only-of-type {\n",
       "        vertical-align: middle;\n",
       "    }\n",
       "\n",
       "    .dataframe tbody tr th {\n",
       "        vertical-align: top;\n",
       "    }\n",
       "\n",
       "    .dataframe thead th {\n",
       "        text-align: right;\n",
       "    }\n",
       "</style>\n",
       "<table border=\"1\" class=\"dataframe\">\n",
       "  <thead>\n",
       "    <tr style=\"text-align: right;\">\n",
       "      <th></th>\n",
       "      <th>user_id</th>\n",
       "      <th>latest_status_change_dt</th>\n",
       "      <th>lowest_price</th>\n",
       "    </tr>\n",
       "  </thead>\n",
       "  <tbody>\n",
       "    <tr>\n",
       "      <td>610019</td>\n",
       "      <td>00702b0d3e9ad967e0df6b9f062a5cf5b83524d10ae32b...</td>\n",
       "      <td>2019-03-14</td>\n",
       "      <td>628.0</td>\n",
       "    </tr>\n",
       "    <tr>\n",
       "      <td>692114</td>\n",
       "      <td>00702b0d3e9ad967e0df6b9f062a5cf5b83524d10ae32b...</td>\n",
       "      <td>2019-02-22</td>\n",
       "      <td>79.0</td>\n",
       "    </tr>\n",
       "    <tr>\n",
       "      <td>749249</td>\n",
       "      <td>00702b0d3e9ad967e0df6b9f062a5cf5b83524d10ae32b...</td>\n",
       "      <td>2018-06-19</td>\n",
       "      <td>707.0</td>\n",
       "    </tr>\n",
       "    <tr>\n",
       "      <td>886100</td>\n",
       "      <td>00702b0d3e9ad967e0df6b9f062a5cf5b83524d10ae32b...</td>\n",
       "      <td>2019-02-22</td>\n",
       "      <td>151.0</td>\n",
       "    </tr>\n",
       "    <tr>\n",
       "      <td>1033859</td>\n",
       "      <td>00702b0d3e9ad967e0df6b9f062a5cf5b83524d10ae32b...</td>\n",
       "      <td>2018-06-21</td>\n",
       "      <td>519.0</td>\n",
       "    </tr>\n",
       "  </tbody>\n",
       "</table>\n",
       "</div>"
      ],
      "text/plain": [
       "                                                   user_id  \\\n",
       "610019   00702b0d3e9ad967e0df6b9f062a5cf5b83524d10ae32b...   \n",
       "692114   00702b0d3e9ad967e0df6b9f062a5cf5b83524d10ae32b...   \n",
       "749249   00702b0d3e9ad967e0df6b9f062a5cf5b83524d10ae32b...   \n",
       "886100   00702b0d3e9ad967e0df6b9f062a5cf5b83524d10ae32b...   \n",
       "1033859  00702b0d3e9ad967e0df6b9f062a5cf5b83524d10ae32b...   \n",
       "\n",
       "        latest_status_change_dt  lowest_price  \n",
       "610019               2019-03-14         628.0  \n",
       "692114               2019-02-22          79.0  \n",
       "749249               2018-06-19         707.0  \n",
       "886100               2019-02-22         151.0  \n",
       "1033859              2018-06-21         519.0  "
      ]
     },
     "execution_count": 91,
     "metadata": {},
     "output_type": "execute_result"
    }
   ],
   "source": [
    "booked_df.loc[booked_df['user_id'] == '00702b0d3e9ad967e0df6b9f062a5cf5b83524d10ae32bc972b09da4c786dd69']"
   ]
  },
  {
   "cell_type": "markdown",
   "metadata": {},
   "source": [
    "### Modeling"
   ]
  },
  {
   "cell_type": "code",
   "execution_count": 92,
   "metadata": {},
   "outputs": [
    {
     "name": "stdout",
     "output_type": "stream",
     "text": [
      "<lifetimes.BetaGeoFitter: fitted with 4596 subjects, a: 5.72, alpha: 40.51, b: 8.89, r: 0.19>\n"
     ]
    }
   ],
   "source": [
    "bgf = BetaGeoFitter(penalizer_coef=0.0)\n",
    "bgf.fit(data['frequency'], data['recency'], data['T'])\n",
    "print(bgf)"
   ]
  },
  {
   "cell_type": "code",
   "execution_count": 93,
   "metadata": {},
   "outputs": [
    {
     "data": {
      "image/png": "[encoded data removed]",
      "text/plain": [
       "<Figure size 432x288 with 2 Axes>"
      ]
     },
     "metadata": {
      "needs_background": "light"
     },
     "output_type": "display_data"
    }
   ],
   "source": [
    "plot_frequency_recency_matrix(bgf);"
   ]
  },
  {
   "cell_type": "code",
   "execution_count": 94,
   "metadata": {},
   "outputs": [
    {
     "data": {
      "image/png": "[encoded data removed]",
      "text/plain": [
       "<Figure size 432x288 with 2 Axes>"
      ]
     },
     "metadata": {
      "needs_background": "light"
     },
     "output_type": "display_data"
    }
   ],
   "source": [
    "plot_probability_alive_matrix(bgf);"
   ]
  },
  {
   "cell_type": "code",
   "execution_count": 96,
   "metadata": {},
   "outputs": [
    {
     "data": {
      "image/png": "[encoded data removed]",
      "text/plain": [
       "<Figure size 432x288 with 1 Axes>"
      ]
     },
     "metadata": {
      "needs_background": "light"
     },
     "output_type": "display_data"
    }
   ],
   "source": [
    "plot_period_transactions(bgf);"
   ]
  },
  {
   "cell_type": "code",
   "execution_count": 97,
   "metadata": {},
   "outputs": [
    {
     "data": {
      "text/html": [
       "<div>\n",
       "<style scoped>\n",
       "    .dataframe tbody tr th:only-of-type {\n",
       "        vertical-align: middle;\n",
       "    }\n",
       "\n",
       "    .dataframe tbody tr th {\n",
       "        vertical-align: top;\n",
       "    }\n",
       "\n",
       "    .dataframe thead th {\n",
       "        text-align: right;\n",
       "    }\n",
       "</style>\n",
       "<table border=\"1\" class=\"dataframe\">\n",
       "  <thead>\n",
       "    <tr style=\"text-align: right;\">\n",
       "      <th></th>\n",
       "      <th>frequency</th>\n",
       "      <th>recency</th>\n",
       "      <th>T</th>\n",
       "      <th>monetary_value</th>\n",
       "      <th>predicted_bookings</th>\n",
       "    </tr>\n",
       "    <tr>\n",
       "      <th>user_id</th>\n",
       "      <th></th>\n",
       "      <th></th>\n",
       "      <th></th>\n",
       "      <th></th>\n",
       "      <th></th>\n",
       "    </tr>\n",
       "  </thead>\n",
       "  <tbody>\n",
       "    <tr>\n",
       "      <td>3b8991978a75d389403af0c972d743f7d1cbdae04b26e49c113c5b5fbb0599da</td>\n",
       "      <td>4.0</td>\n",
       "      <td>444.0</td>\n",
       "      <td>548.0</td>\n",
       "      <td>182.750000</td>\n",
       "      <td>0.491222</td>\n",
       "    </tr>\n",
       "    <tr>\n",
       "      <td>2c9ea1b97874e885e5ea9130776559c5e9c1a7797488e28579ce799c169b339d</td>\n",
       "      <td>4.0</td>\n",
       "      <td>505.0</td>\n",
       "      <td>582.0</td>\n",
       "      <td>197.750000</td>\n",
       "      <td>0.533625</td>\n",
       "    </tr>\n",
       "    <tr>\n",
       "      <td>2525229e228c56832d2a4cd3b6612edf22888529c89f946fddf02e97b88fd994</td>\n",
       "      <td>5.0</td>\n",
       "      <td>438.0</td>\n",
       "      <td>546.0</td>\n",
       "      <td>192.800000</td>\n",
       "      <td>0.543835</td>\n",
       "    </tr>\n",
       "    <tr>\n",
       "      <td>61cdba5bd36ef570795ec878cb8ca236249d159ea26c1e069a8f178a2cda3a42</td>\n",
       "      <td>3.0</td>\n",
       "      <td>151.0</td>\n",
       "      <td>230.0</td>\n",
       "      <td>72.333333</td>\n",
       "      <td>0.560153</td>\n",
       "    </tr>\n",
       "    <tr>\n",
       "      <td>53202866781272e3cfb8cb48f0c4741adbdc6451f28b86b4065093a11ad923d9</td>\n",
       "      <td>2.0</td>\n",
       "      <td>193.0</td>\n",
       "      <td>220.0</td>\n",
       "      <td>252.000000</td>\n",
       "      <td>0.630366</td>\n",
       "    </tr>\n",
       "    <tr>\n",
       "      <td>56860e4f56ad71d175ceaefc97b3b0ce2a535a8f4ce7e6d65077f92a56ee92ec</td>\n",
       "      <td>6.0</td>\n",
       "      <td>462.0</td>\n",
       "      <td>557.0</td>\n",
       "      <td>225.333333</td>\n",
       "      <td>0.644602</td>\n",
       "    </tr>\n",
       "    <tr>\n",
       "      <td>d6117c97f04949739dc01390875a0931c7ed9428d472b0f7e9ac3e52f516b503</td>\n",
       "      <td>7.0</td>\n",
       "      <td>508.0</td>\n",
       "      <td>607.0</td>\n",
       "      <td>185.857143</td>\n",
       "      <td>0.670566</td>\n",
       "    </tr>\n",
       "    <tr>\n",
       "      <td>c69a34889bae4eb4e726df1c8090528f6c477d581da6adcd8a709f09e4a203de</td>\n",
       "      <td>4.0</td>\n",
       "      <td>454.0</td>\n",
       "      <td>461.0</td>\n",
       "      <td>190.500000</td>\n",
       "      <td>0.769049</td>\n",
       "    </tr>\n",
       "    <tr>\n",
       "      <td>ff5d282e53a36a19446a9f5357fa41f3f9ba3a27d89d1419912c6da53f65db01</td>\n",
       "      <td>8.0</td>\n",
       "      <td>453.0</td>\n",
       "      <td>516.0</td>\n",
       "      <td>265.500000</td>\n",
       "      <td>0.965248</td>\n",
       "    </tr>\n",
       "    <tr>\n",
       "      <td>d4b3f8ddf91c4fbeb9b709eec30710c31c7643e5b5f647a87b66b262972bb09c</td>\n",
       "      <td>10.0</td>\n",
       "      <td>571.0</td>\n",
       "      <td>619.0</td>\n",
       "      <td>363.800000</td>\n",
       "      <td>1.195487</td>\n",
       "    </tr>\n",
       "  </tbody>\n",
       "</table>\n",
       "</div>"
      ],
      "text/plain": [
       "                                                    frequency  recency      T  \\\n",
       "user_id                                                                         \n",
       "3b8991978a75d389403af0c972d743f7d1cbdae04b26e49...        4.0    444.0  548.0   \n",
       "2c9ea1b97874e885e5ea9130776559c5e9c1a7797488e28...        4.0    505.0  582.0   \n",
       "2525229e228c56832d2a4cd3b6612edf22888529c89f946...        5.0    438.0  546.0   \n",
       "61cdba5bd36ef570795ec878cb8ca236249d159ea26c1e0...        3.0    151.0  230.0   \n",
       "53202866781272e3cfb8cb48f0c4741adbdc6451f28b86b...        2.0    193.0  220.0   \n",
       "56860e4f56ad71d175ceaefc97b3b0ce2a535a8f4ce7e6d...        6.0    462.0  557.0   \n",
       "d6117c97f04949739dc01390875a0931c7ed9428d472b0f...        7.0    508.0  607.0   \n",
       "c69a34889bae4eb4e726df1c8090528f6c477d581da6adc...        4.0    454.0  461.0   \n",
       "ff5d282e53a36a19446a9f5357fa41f3f9ba3a27d89d141...        8.0    453.0  516.0   \n",
       "d4b3f8ddf91c4fbeb9b709eec30710c31c7643e5b5f647a...       10.0    571.0  619.0   \n",
       "\n",
       "                                                    monetary_value  \\\n",
       "user_id                                                              \n",
       "3b8991978a75d389403af0c972d743f7d1cbdae04b26e49...      182.750000   \n",
       "2c9ea1b97874e885e5ea9130776559c5e9c1a7797488e28...      197.750000   \n",
       "2525229e228c56832d2a4cd3b6612edf22888529c89f946...      192.800000   \n",
       "61cdba5bd36ef570795ec878cb8ca236249d159ea26c1e0...       72.333333   \n",
       "53202866781272e3cfb8cb48f0c4741adbdc6451f28b86b...      252.000000   \n",
       "56860e4f56ad71d175ceaefc97b3b0ce2a535a8f4ce7e6d...      225.333333   \n",
       "d6117c97f04949739dc01390875a0931c7ed9428d472b0f...      185.857143   \n",
       "c69a34889bae4eb4e726df1c8090528f6c477d581da6adc...      190.500000   \n",
       "ff5d282e53a36a19446a9f5357fa41f3f9ba3a27d89d141...      265.500000   \n",
       "d4b3f8ddf91c4fbeb9b709eec30710c31c7643e5b5f647a...      363.800000   \n",
       "\n",
       "                                                    predicted_bookings  \n",
       "user_id                                                                 \n",
       "3b8991978a75d389403af0c972d743f7d1cbdae04b26e49...            0.491222  \n",
       "2c9ea1b97874e885e5ea9130776559c5e9c1a7797488e28...            0.533625  \n",
       "2525229e228c56832d2a4cd3b6612edf22888529c89f946...            0.543835  \n",
       "61cdba5bd36ef570795ec878cb8ca236249d159ea26c1e0...            0.560153  \n",
       "53202866781272e3cfb8cb48f0c4741adbdc6451f28b86b...            0.630366  \n",
       "56860e4f56ad71d175ceaefc97b3b0ce2a535a8f4ce7e6d...            0.644602  \n",
       "d6117c97f04949739dc01390875a0931c7ed9428d472b0f...            0.670566  \n",
       "c69a34889bae4eb4e726df1c8090528f6c477d581da6adc...            0.769049  \n",
       "ff5d282e53a36a19446a9f5357fa41f3f9ba3a27d89d141...            0.965248  \n",
       "d4b3f8ddf91c4fbeb9b709eec30710c31c7643e5b5f647a...            1.195487  "
      ]
     },
     "execution_count": 97,
     "metadata": {},
     "output_type": "execute_result"
    }
   ],
   "source": [
    "t = 180\n",
    "data['predicted_bookings'] = bgf.conditional_expected_number_of_purchases_up_to_time(t, data['frequency'], data['recency'], data['T'])\n",
    "data.sort_values(by='predicted_bookings').tail(10)"
   ]
  },
  {
   "cell_type": "code",
   "execution_count": 98,
   "metadata": {},
   "outputs": [
    {
     "data": {
      "text/html": [
       "<div>\n",
       "<style scoped>\n",
       "    .dataframe tbody tr th:only-of-type {\n",
       "        vertical-align: middle;\n",
       "    }\n",
       "\n",
       "    .dataframe tbody tr th {\n",
       "        vertical-align: top;\n",
       "    }\n",
       "\n",
       "    .dataframe thead th {\n",
       "        text-align: right;\n",
       "    }\n",
       "</style>\n",
       "<table border=\"1\" class=\"dataframe\">\n",
       "  <thead>\n",
       "    <tr style=\"text-align: right;\">\n",
       "      <th></th>\n",
       "      <th>user_id</th>\n",
       "      <th>latest_status_change_dt</th>\n",
       "      <th>lowest_price</th>\n",
       "    </tr>\n",
       "  </thead>\n",
       "  <tbody>\n",
       "    <tr>\n",
       "      <td>93922</td>\n",
       "      <td>d4b3f8ddf91c4fbeb9b709eec30710c31c7643e5b5f647...</td>\n",
       "      <td>2018-01-06</td>\n",
       "      <td>186.0</td>\n",
       "    </tr>\n",
       "    <tr>\n",
       "      <td>515474</td>\n",
       "      <td>d4b3f8ddf91c4fbeb9b709eec30710c31c7643e5b5f647...</td>\n",
       "      <td>2018-01-22</td>\n",
       "      <td>237.0</td>\n",
       "    </tr>\n",
       "    <tr>\n",
       "      <td>755379</td>\n",
       "      <td>d4b3f8ddf91c4fbeb9b709eec30710c31c7643e5b5f647...</td>\n",
       "      <td>2018-06-24</td>\n",
       "      <td>277.0</td>\n",
       "    </tr>\n",
       "    <tr>\n",
       "      <td>1053991</td>\n",
       "      <td>d4b3f8ddf91c4fbeb9b709eec30710c31c7643e5b5f647...</td>\n",
       "      <td>2018-06-30</td>\n",
       "      <td>497.0</td>\n",
       "    </tr>\n",
       "    <tr>\n",
       "      <td>711220</td>\n",
       "      <td>d4b3f8ddf91c4fbeb9b709eec30710c31c7643e5b5f647...</td>\n",
       "      <td>2018-07-07</td>\n",
       "      <td>560.0</td>\n",
       "    </tr>\n",
       "    <tr>\n",
       "      <td>116536</td>\n",
       "      <td>d4b3f8ddf91c4fbeb9b709eec30710c31c7643e5b5f647...</td>\n",
       "      <td>2018-10-24</td>\n",
       "      <td>418.0</td>\n",
       "    </tr>\n",
       "    <tr>\n",
       "      <td>1005128</td>\n",
       "      <td>d4b3f8ddf91c4fbeb9b709eec30710c31c7643e5b5f647...</td>\n",
       "      <td>2018-11-20</td>\n",
       "      <td>417.0</td>\n",
       "    </tr>\n",
       "    <tr>\n",
       "      <td>515472</td>\n",
       "      <td>d4b3f8ddf91c4fbeb9b709eec30710c31c7643e5b5f647...</td>\n",
       "      <td>2018-12-02</td>\n",
       "      <td>86.0</td>\n",
       "    </tr>\n",
       "    <tr>\n",
       "      <td>1145203</td>\n",
       "      <td>d4b3f8ddf91c4fbeb9b709eec30710c31c7643e5b5f647...</td>\n",
       "      <td>2019-02-04</td>\n",
       "      <td>482.0</td>\n",
       "    </tr>\n",
       "    <tr>\n",
       "      <td>428732</td>\n",
       "      <td>d4b3f8ddf91c4fbeb9b709eec30710c31c7643e5b5f647...</td>\n",
       "      <td>2019-06-21</td>\n",
       "      <td>614.0</td>\n",
       "    </tr>\n",
       "    <tr>\n",
       "      <td>937250</td>\n",
       "      <td>d4b3f8ddf91c4fbeb9b709eec30710c31c7643e5b5f647...</td>\n",
       "      <td>2019-07-31</td>\n",
       "      <td>50.0</td>\n",
       "    </tr>\n",
       "  </tbody>\n",
       "</table>\n",
       "</div>"
      ],
      "text/plain": [
       "                                                   user_id  \\\n",
       "93922    d4b3f8ddf91c4fbeb9b709eec30710c31c7643e5b5f647...   \n",
       "515474   d4b3f8ddf91c4fbeb9b709eec30710c31c7643e5b5f647...   \n",
       "755379   d4b3f8ddf91c4fbeb9b709eec30710c31c7643e5b5f647...   \n",
       "1053991  d4b3f8ddf91c4fbeb9b709eec30710c31c7643e5b5f647...   \n",
       "711220   d4b3f8ddf91c4fbeb9b709eec30710c31c7643e5b5f647...   \n",
       "116536   d4b3f8ddf91c4fbeb9b709eec30710c31c7643e5b5f647...   \n",
       "1005128  d4b3f8ddf91c4fbeb9b709eec30710c31c7643e5b5f647...   \n",
       "515472   d4b3f8ddf91c4fbeb9b709eec30710c31c7643e5b5f647...   \n",
       "1145203  d4b3f8ddf91c4fbeb9b709eec30710c31c7643e5b5f647...   \n",
       "428732   d4b3f8ddf91c4fbeb9b709eec30710c31c7643e5b5f647...   \n",
       "937250   d4b3f8ddf91c4fbeb9b709eec30710c31c7643e5b5f647...   \n",
       "\n",
       "        latest_status_change_dt  lowest_price  \n",
       "93922                2018-01-06         186.0  \n",
       "515474               2018-01-22         237.0  \n",
       "755379               2018-06-24         277.0  \n",
       "1053991              2018-06-30         497.0  \n",
       "711220               2018-07-07         560.0  \n",
       "116536               2018-10-24         418.0  \n",
       "1005128              2018-11-20         417.0  \n",
       "515472               2018-12-02          86.0  \n",
       "1145203              2019-02-04         482.0  \n",
       "428732               2019-06-21         614.0  \n",
       "937250               2019-07-31          50.0  "
      ]
     },
     "execution_count": 98,
     "metadata": {},
     "output_type": "execute_result"
    }
   ],
   "source": [
    "booked_df.loc[booked_df['user_id'] == 'd4b3f8ddf91c4fbeb9b709eec30710c31c7643e5b5f647a87b66b262972bb09c'].sort_values(by='latest_status_change_dt')"
   ]
  },
  {
   "cell_type": "code",
   "execution_count": 99,
   "metadata": {},
   "outputs": [
    {
     "data": {
      "text/html": [
       "<div>\n",
       "<style scoped>\n",
       "    .dataframe tbody tr th:only-of-type {\n",
       "        vertical-align: middle;\n",
       "    }\n",
       "\n",
       "    .dataframe tbody tr th {\n",
       "        vertical-align: top;\n",
       "    }\n",
       "\n",
       "    .dataframe thead th {\n",
       "        text-align: right;\n",
       "    }\n",
       "</style>\n",
       "<table border=\"1\" class=\"dataframe\">\n",
       "  <thead>\n",
       "    <tr style=\"text-align: right;\">\n",
       "      <th></th>\n",
       "      <th>frequency</th>\n",
       "      <th>recency</th>\n",
       "      <th>T</th>\n",
       "      <th>monetary_value</th>\n",
       "      <th>predicted_bookings</th>\n",
       "    </tr>\n",
       "    <tr>\n",
       "      <th>user_id</th>\n",
       "      <th></th>\n",
       "      <th></th>\n",
       "      <th></th>\n",
       "      <th></th>\n",
       "      <th></th>\n",
       "    </tr>\n",
       "  </thead>\n",
       "  <tbody>\n",
       "    <tr>\n",
       "      <td>22aec3ce1c62b59aa956d4ede63f5e660c2d457eabab8a70f128fc062c0d3305</td>\n",
       "      <td>5.0</td>\n",
       "      <td>38.0</td>\n",
       "      <td>619.0</td>\n",
       "      <td>309.000000</td>\n",
       "      <td>0.000040</td>\n",
       "    </tr>\n",
       "    <tr>\n",
       "      <td>04512833af6252e50c905b48b71a6200f046979a847014e834099608d8197932</td>\n",
       "      <td>13.0</td>\n",
       "      <td>224.0</td>\n",
       "      <td>608.0</td>\n",
       "      <td>304.230769</td>\n",
       "      <td>0.000068</td>\n",
       "    </tr>\n",
       "    <tr>\n",
       "      <td>c3c3abc601cb2ded507fa1947eff4573b696d31d594ccf98a92fba792cef10ac</td>\n",
       "      <td>4.0</td>\n",
       "      <td>21.0</td>\n",
       "      <td>597.0</td>\n",
       "      <td>138.250000</td>\n",
       "      <td>0.000111</td>\n",
       "    </tr>\n",
       "    <tr>\n",
       "      <td>ce6df06d073b99bb58fc9cc2609cba0a311da1182859859873f5b6881f544ad3</td>\n",
       "      <td>6.0</td>\n",
       "      <td>65.0</td>\n",
       "      <td>515.0</td>\n",
       "      <td>161.000000</td>\n",
       "      <td>0.000124</td>\n",
       "    </tr>\n",
       "    <tr>\n",
       "      <td>3d15e2b242b6aea4eba2e0c60625ec19872e2ad3f3207904e129971cec15422e</td>\n",
       "      <td>4.0</td>\n",
       "      <td>37.0</td>\n",
       "      <td>616.0</td>\n",
       "      <td>224.000000</td>\n",
       "      <td>0.000252</td>\n",
       "    </tr>\n",
       "    <tr>\n",
       "      <td>0c157eee84a21ea2fae4fc9ce2f68bdc0731b22551a0649337e63b5f047105b6</td>\n",
       "      <td>7.0</td>\n",
       "      <td>119.0</td>\n",
       "      <td>565.0</td>\n",
       "      <td>334.285714</td>\n",
       "      <td>0.000284</td>\n",
       "    </tr>\n",
       "    <tr>\n",
       "      <td>8142f03b33c2cc16937ab978105ebdf2886f88ee9728bf085356f528d318c4ac</td>\n",
       "      <td>4.0</td>\n",
       "      <td>41.0</td>\n",
       "      <td>587.0</td>\n",
       "      <td>236.500000</td>\n",
       "      <td>0.000390</td>\n",
       "    </tr>\n",
       "    <tr>\n",
       "      <td>c656a4defb079d1622dd7a7a849bbddc98612ff34dc29dd5b13e5478e9767fcf</td>\n",
       "      <td>4.0</td>\n",
       "      <td>50.0</td>\n",
       "      <td>606.0</td>\n",
       "      <td>277.000000</td>\n",
       "      <td>0.000521</td>\n",
       "    </tr>\n",
       "    <tr>\n",
       "      <td>690cb0c5d547c00ddb1abc2b7ab1eead794f267f9ccec22b0a7589d9814d76e0</td>\n",
       "      <td>7.0</td>\n",
       "      <td>110.0</td>\n",
       "      <td>477.0</td>\n",
       "      <td>173.857143</td>\n",
       "      <td>0.000647</td>\n",
       "    </tr>\n",
       "    <tr>\n",
       "      <td>8be422972096454b2ec769d382920d0cbc772147cc8c4418c738a5819e537bce</td>\n",
       "      <td>9.0</td>\n",
       "      <td>215.0</td>\n",
       "      <td>601.0</td>\n",
       "      <td>219.777778</td>\n",
       "      <td>0.001178</td>\n",
       "    </tr>\n",
       "  </tbody>\n",
       "</table>\n",
       "</div>"
      ],
      "text/plain": [
       "                                                    frequency  recency      T  \\\n",
       "user_id                                                                         \n",
       "22aec3ce1c62b59aa956d4ede63f5e660c2d457eabab8a7...        5.0     38.0  619.0   \n",
       "04512833af6252e50c905b48b71a6200f046979a847014e...       13.0    224.0  608.0   \n",
       "c3c3abc601cb2ded507fa1947eff4573b696d31d594ccf9...        4.0     21.0  597.0   \n",
       "ce6df06d073b99bb58fc9cc2609cba0a311da1182859859...        6.0     65.0  515.0   \n",
       "3d15e2b242b6aea4eba2e0c60625ec19872e2ad3f320790...        4.0     37.0  616.0   \n",
       "0c157eee84a21ea2fae4fc9ce2f68bdc0731b22551a0649...        7.0    119.0  565.0   \n",
       "8142f03b33c2cc16937ab978105ebdf2886f88ee9728bf0...        4.0     41.0  587.0   \n",
       "c656a4defb079d1622dd7a7a849bbddc98612ff34dc29dd...        4.0     50.0  606.0   \n",
       "690cb0c5d547c00ddb1abc2b7ab1eead794f267f9ccec22...        7.0    110.0  477.0   \n",
       "8be422972096454b2ec769d382920d0cbc772147cc8c441...        9.0    215.0  601.0   \n",
       "\n",
       "                                                    monetary_value  \\\n",
       "user_id                                                              \n",
       "22aec3ce1c62b59aa956d4ede63f5e660c2d457eabab8a7...      309.000000   \n",
       "04512833af6252e50c905b48b71a6200f046979a847014e...      304.230769   \n",
       "c3c3abc601cb2ded507fa1947eff4573b696d31d594ccf9...      138.250000   \n",
       "ce6df06d073b99bb58fc9cc2609cba0a311da1182859859...      161.000000   \n",
       "3d15e2b242b6aea4eba2e0c60625ec19872e2ad3f320790...      224.000000   \n",
       "0c157eee84a21ea2fae4fc9ce2f68bdc0731b22551a0649...      334.285714   \n",
       "8142f03b33c2cc16937ab978105ebdf2886f88ee9728bf0...      236.500000   \n",
       "c656a4defb079d1622dd7a7a849bbddc98612ff34dc29dd...      277.000000   \n",
       "690cb0c5d547c00ddb1abc2b7ab1eead794f267f9ccec22...      173.857143   \n",
       "8be422972096454b2ec769d382920d0cbc772147cc8c441...      219.777778   \n",
       "\n",
       "                                                    predicted_bookings  \n",
       "user_id                                                                 \n",
       "22aec3ce1c62b59aa956d4ede63f5e660c2d457eabab8a7...            0.000040  \n",
       "04512833af6252e50c905b48b71a6200f046979a847014e...            0.000068  \n",
       "c3c3abc601cb2ded507fa1947eff4573b696d31d594ccf9...            0.000111  \n",
       "ce6df06d073b99bb58fc9cc2609cba0a311da1182859859...            0.000124  \n",
       "3d15e2b242b6aea4eba2e0c60625ec19872e2ad3f320790...            0.000252  \n",
       "0c157eee84a21ea2fae4fc9ce2f68bdc0731b22551a0649...            0.000284  \n",
       "8142f03b33c2cc16937ab978105ebdf2886f88ee9728bf0...            0.000390  \n",
       "c656a4defb079d1622dd7a7a849bbddc98612ff34dc29dd...            0.000521  \n",
       "690cb0c5d547c00ddb1abc2b7ab1eead794f267f9ccec22...            0.000647  \n",
       "8be422972096454b2ec769d382920d0cbc772147cc8c441...            0.001178  "
      ]
     },
     "execution_count": 99,
     "metadata": {},
     "output_type": "execute_result"
    }
   ],
   "source": [
    "data.sort_values(by='predicted_bookings').head(10)"
   ]
  },
  {
   "cell_type": "code",
   "execution_count": 100,
   "metadata": {},
   "outputs": [
    {
     "data": {
      "text/html": [
       "<div>\n",
       "<style scoped>\n",
       "    .dataframe tbody tr th:only-of-type {\n",
       "        vertical-align: middle;\n",
       "    }\n",
       "\n",
       "    .dataframe tbody tr th {\n",
       "        vertical-align: top;\n",
       "    }\n",
       "\n",
       "    .dataframe thead th {\n",
       "        text-align: right;\n",
       "    }\n",
       "</style>\n",
       "<table border=\"1\" class=\"dataframe\">\n",
       "  <thead>\n",
       "    <tr style=\"text-align: right;\">\n",
       "      <th></th>\n",
       "      <th>user_id</th>\n",
       "      <th>latest_status_change_dt</th>\n",
       "      <th>lowest_price</th>\n",
       "    </tr>\n",
       "  </thead>\n",
       "  <tbody>\n",
       "    <tr>\n",
       "      <td>583430</td>\n",
       "      <td>22aec3ce1c62b59aa956d4ede63f5e660c2d457eabab8a...</td>\n",
       "      <td>2018-01-06</td>\n",
       "      <td>749.0</td>\n",
       "    </tr>\n",
       "    <tr>\n",
       "      <td>430237</td>\n",
       "      <td>22aec3ce1c62b59aa956d4ede63f5e660c2d457eabab8a...</td>\n",
       "      <td>2018-01-08</td>\n",
       "      <td>82.0</td>\n",
       "    </tr>\n",
       "    <tr>\n",
       "      <td>420343</td>\n",
       "      <td>22aec3ce1c62b59aa956d4ede63f5e660c2d457eabab8a...</td>\n",
       "      <td>2018-01-10</td>\n",
       "      <td>125.0</td>\n",
       "    </tr>\n",
       "    <tr>\n",
       "      <td>562055</td>\n",
       "      <td>22aec3ce1c62b59aa956d4ede63f5e660c2d457eabab8a...</td>\n",
       "      <td>2018-01-22</td>\n",
       "      <td>556.0</td>\n",
       "    </tr>\n",
       "    <tr>\n",
       "      <td>228909</td>\n",
       "      <td>22aec3ce1c62b59aa956d4ede63f5e660c2d457eabab8a...</td>\n",
       "      <td>2018-02-05</td>\n",
       "      <td>688.0</td>\n",
       "    </tr>\n",
       "    <tr>\n",
       "      <td>124851</td>\n",
       "      <td>22aec3ce1c62b59aa956d4ede63f5e660c2d457eabab8a...</td>\n",
       "      <td>2018-02-13</td>\n",
       "      <td>94.0</td>\n",
       "    </tr>\n",
       "  </tbody>\n",
       "</table>\n",
       "</div>"
      ],
      "text/plain": [
       "                                                  user_id  \\\n",
       "583430  22aec3ce1c62b59aa956d4ede63f5e660c2d457eabab8a...   \n",
       "430237  22aec3ce1c62b59aa956d4ede63f5e660c2d457eabab8a...   \n",
       "420343  22aec3ce1c62b59aa956d4ede63f5e660c2d457eabab8a...   \n",
       "562055  22aec3ce1c62b59aa956d4ede63f5e660c2d457eabab8a...   \n",
       "228909  22aec3ce1c62b59aa956d4ede63f5e660c2d457eabab8a...   \n",
       "124851  22aec3ce1c62b59aa956d4ede63f5e660c2d457eabab8a...   \n",
       "\n",
       "       latest_status_change_dt  lowest_price  \n",
       "583430              2018-01-06         749.0  \n",
       "430237              2018-01-08          82.0  \n",
       "420343              2018-01-10         125.0  \n",
       "562055              2018-01-22         556.0  \n",
       "228909              2018-02-05         688.0  \n",
       "124851              2018-02-13          94.0  "
      ]
     },
     "execution_count": 100,
     "metadata": {},
     "output_type": "execute_result"
    }
   ],
   "source": [
    "booked_df.loc[booked_df['user_id'] == '22aec3ce1c62b59aa956d4ede63f5e660c2d457eabab8a70f128fc062c0d3305'].sort_values(by='latest_status_change_dt')"
   ]
  },
  {
   "cell_type": "code",
   "execution_count": 101,
   "metadata": {},
   "outputs": [
    {
     "name": "stdout",
     "output_type": "stream",
     "text": [
      "                                                    frequency_cal  \\\n",
      "user_id                                                             \n",
      "0067a6541cc78bd52ba0b9a4216e7f0e27e6cf7c6847a6d...            0.0   \n",
      "00702b0d3e9ad967e0df6b9f062a5cf5b83524d10ae32bc...            1.0   \n",
      "00770c43298f4cd9ee3dfe37882825be327db3dca9affd9...            2.0   \n",
      "007de8bbd4f4dea2de20d00f3b904e08210d94a6215e0f5...            0.0   \n",
      "00874310e86ae74c1b470ec0f766493ed2f8949bbc00471...            1.0   \n",
      "\n",
      "                                                    recency_cal  T_cal  \\\n",
      "user_id                                                                  \n",
      "0067a6541cc78bd52ba0b9a4216e7f0e27e6cf7c6847a6d...          0.0  255.0   \n",
      "00702b0d3e9ad967e0df6b9f062a5cf5b83524d10ae32bc...          2.0  154.0   \n",
      "00770c43298f4cd9ee3dfe37882825be327db3dca9affd9...        174.0  189.0   \n",
      "007de8bbd4f4dea2de20d00f3b904e08210d94a6215e0f5...          0.0  187.0   \n",
      "00874310e86ae74c1b470ec0f766493ed2f8949bbc00471...          5.0  301.0   \n",
      "\n",
      "                                                    frequency_holdout  \\\n",
      "user_id                                                                 \n",
      "0067a6541cc78bd52ba0b9a4216e7f0e27e6cf7c6847a6d...                0.0   \n",
      "00702b0d3e9ad967e0df6b9f062a5cf5b83524d10ae32bc...                2.0   \n",
      "00770c43298f4cd9ee3dfe37882825be327db3dca9affd9...                0.0   \n",
      "007de8bbd4f4dea2de20d00f3b904e08210d94a6215e0f5...                0.0   \n",
      "00874310e86ae74c1b470ec0f766493ed2f8949bbc00471...                0.0   \n",
      "\n",
      "                                                    duration_holdout  \n",
      "user_id                                                               \n",
      "0067a6541cc78bd52ba0b9a4216e7f0e27e6cf7c6847a6d...               301  \n",
      "00702b0d3e9ad967e0df6b9f062a5cf5b83524d10ae32bc...               301  \n",
      "00770c43298f4cd9ee3dfe37882825be327db3dca9affd9...               301  \n",
      "007de8bbd4f4dea2de20d00f3b904e08210d94a6215e0f5...               301  \n",
      "00874310e86ae74c1b470ec0f766493ed2f8949bbc00471...               301  \n"
     ]
    }
   ],
   "source": [
    "summary_cal_holdout = calibration_and_holdout_data(booked_df, 'user_id', 'latest_status_change_dt',\n",
    "                                        calibration_period_end='2018-11-20',\n",
    "                                        observation_period_end='2019-09-17' )   \n",
    "print(summary_cal_holdout.head())"
   ]
  },
  {
   "cell_type": "code",
   "execution_count": 102,
   "metadata": {},
   "outputs": [
    {
     "data": {
      "text/plain": [
       "<matplotlib.axes._subplots.AxesSubplot at 0x7f288116d2b0>"
      ]
     },
     "execution_count": 102,
     "metadata": {},
     "output_type": "execute_result"
    },
    {
     "data": {
      "image/png": "[encoded data removed]",
      "text/plain": [
       "<Figure size 432x288 with 1 Axes>"
      ]
     },
     "metadata": {
      "needs_background": "light"
     },
     "output_type": "display_data"
    }
   ],
   "source": [
    "bgf.fit(summary_cal_holdout['frequency_cal'], summary_cal_holdout['recency_cal'], summary_cal_holdout['T_cal'])\n",
    "plot_calibration_purchases_vs_holdout_purchases(bgf, summary_cal_holdout)"
   ]
  },
  {
   "cell_type": "code",
   "execution_count": 103,
   "metadata": {},
   "outputs": [
    {
     "data": {
      "image/png": "[encoded data removed]",
      "text/plain": [
       "<Figure size 648x360 with 1 Axes>"
      ]
     },
     "metadata": {
      "needs_background": "light"
     },
     "output_type": "display_data"
    }
   ],
   "source": [
    "plt.figure(figsize=(9,5))\n",
    "user = 'd4b3f8ddf91c4fbeb9b709eec30710c31c7643e5b5f647a87b66b262972bb09c' \n",
    "days_since_birth = 365\n",
    "sp_trans = booked_df.loc[booked_df['user_id'] == user]\n",
    "plot_history_alive(bgf, days_since_birth, sp_trans, 'latest_status_change_dt');"
   ]
  },
  {
   "cell_type": "code",
   "execution_count": 104,
   "metadata": {},
   "outputs": [
    {
     "data": {
      "text/plain": [
       "<matplotlib.axes._subplots.AxesSubplot at 0x7f282fae42b0>"
      ]
     },
     "execution_count": 104,
     "metadata": {},
     "output_type": "execute_result"
    },
    {
     "data": {
      "image/png": "[encoded data removed]",
      "text/plain": [
       "<Figure size 432x288 with 1 Axes>"
      ]
     },
     "metadata": {
      "needs_background": "light"
     },
     "output_type": "display_data"
    }
   ],
   "source": [
    "user = '22aec3ce1c62b59aa956d4ede63f5e660c2d457eabab8a70f128fc062c0d3305' \n",
    "days_since_birth = 365\n",
    "sp_trans = booked_df.loc[booked_df['user_id'] == user]\n",
    "plot_history_alive(bgf, days_since_birth, sp_trans, 'latest_status_change_dt')"
   ]
  },
  {
   "cell_type": "code",
   "execution_count": 105,
   "metadata": {},
   "outputs": [
    {
     "name": "stdout",
     "output_type": "stream",
     "text": [
      "                                                    frequency  recency      T  \\\n",
      "user_id                                                                         \n",
      "001a25f124e240f5372e8c73117c54bd1b1ae6339bf8641...        1.0     39.0  275.0   \n",
      "00702b0d3e9ad967e0df6b9f062a5cf5b83524d10ae32bc...        3.0    268.0  455.0   \n",
      "00770c43298f4cd9ee3dfe37882825be327db3dca9affd9...        2.0    174.0  490.0   \n",
      "00874310e86ae74c1b470ec0f766493ed2f8949bbc00471...        1.0      5.0  602.0   \n",
      "00eaf2f44b992ddf993559d9f1cf2f22c56e4ba4e0c81a8...        1.0    210.0  432.0   \n",
      "\n",
      "                                                    monetary_value  \\\n",
      "user_id                                                              \n",
      "001a25f124e240f5372e8c73117c54bd1b1ae6339bf8641...           602.0   \n",
      "00702b0d3e9ad967e0df6b9f062a5cf5b83524d10ae32bc...           459.0   \n",
      "00770c43298f4cd9ee3dfe37882825be327db3dca9affd9...           152.0   \n",
      "00874310e86ae74c1b470ec0f766493ed2f8949bbc00471...           412.0   \n",
      "00eaf2f44b992ddf993559d9f1cf2f22c56e4ba4e0c81a8...           310.0   \n",
      "\n",
      "                                                    predicted_bookings  \n",
      "user_id                                                                 \n",
      "001a25f124e240f5372e8c73117c54bd1b1ae6339bf8641...            0.128205  \n",
      "00702b0d3e9ad967e0df6b9f062a5cf5b83524d10ae32bc...            0.273681  \n",
      "00770c43298f4cd9ee3dfe37882825be327db3dca9affd9...            0.120243  \n",
      "00874310e86ae74c1b470ec0f766493ed2f8949bbc00471...            0.018677  \n",
      "00eaf2f44b992ddf993559d9f1cf2f22c56e4ba4e0c81a8...            0.166260  \n"
     ]
    }
   ],
   "source": [
    "returning_customers_summary = data[data['frequency']>0]\n",
    "\n",
    "print(returning_customers_summary.head())"
   ]
  },
  {
   "cell_type": "code",
   "execution_count": 106,
   "metadata": {},
   "outputs": [
    {
     "data": {
      "text/html": [
       "<div>\n",
       "<style scoped>\n",
       "    .dataframe tbody tr th:only-of-type {\n",
       "        vertical-align: middle;\n",
       "    }\n",
       "\n",
       "    .dataframe tbody tr th {\n",
       "        vertical-align: top;\n",
       "    }\n",
       "\n",
       "    .dataframe thead th {\n",
       "        text-align: right;\n",
       "    }\n",
       "</style>\n",
       "<table border=\"1\" class=\"dataframe\">\n",
       "  <thead>\n",
       "    <tr style=\"text-align: right;\">\n",
       "      <th></th>\n",
       "      <th>monetary_value</th>\n",
       "      <th>frequency</th>\n",
       "    </tr>\n",
       "  </thead>\n",
       "  <tbody>\n",
       "    <tr>\n",
       "      <td>monetary_value</td>\n",
       "      <td>1.00000</td>\n",
       "      <td>-0.00446</td>\n",
       "    </tr>\n",
       "    <tr>\n",
       "      <td>frequency</td>\n",
       "      <td>-0.00446</td>\n",
       "      <td>1.00000</td>\n",
       "    </tr>\n",
       "  </tbody>\n",
       "</table>\n",
       "</div>"
      ],
      "text/plain": [
       "                monetary_value  frequency\n",
       "monetary_value         1.00000   -0.00446\n",
       "frequency             -0.00446    1.00000"
      ]
     },
     "execution_count": 106,
     "metadata": {},
     "output_type": "execute_result"
    }
   ],
   "source": [
    "returning_customers_summary[['monetary_value', 'frequency']].corr()"
   ]
  },
  {
   "cell_type": "code",
   "execution_count": 111,
   "metadata": {},
   "outputs": [
    {
     "name": "stdout",
     "output_type": "stream",
     "text": [
      "count    4596.000000\n",
      "mean        0.778503\n",
      "std         1.609312\n",
      "min         0.000000\n",
      "25%         0.000000\n",
      "50%         0.000000\n",
      "75%         1.000000\n",
      "max        26.000000\n",
      "Name: frequency, dtype: float64\n",
      "0.6303307223672759\n"
     ]
    },
    {
     "data": {
      "image/png": "[encoded data removed]",
      "text/plain": [
       "<Figure size 432x288 with 1 Axes>"
      ]
     },
     "metadata": {
      "needs_background": "light"
     },
     "output_type": "display_data"
    }
   ],
   "source": [
    "data['frequency'].plot(kind='hist', bins=50)\n",
    "print(data['frequency'].describe())\n",
    "print(sum(data['frequency'] == 0)/float(len(data)))"
   ]
  },
  {
   "cell_type": "code",
   "execution_count": null,
   "metadata": {},
   "outputs": [],
   "source": []
  }
 ],
 "metadata": {
  "kernelspec": {
   "display_name": "Python 3",
   "language": "python",
   "name": "python3"
  },
  "language_info": {
   "codemirror_mode": {
    "name": "ipython",
    "version": 3
   },
   "file_extension": ".py",
   "mimetype": "text/x-python",
   "name": "python",
   "nbconvert_exporter": "python",
   "pygments_lexer": "ipython3",
   "version": "3.6.7"
  }
 },
 "nbformat": 4,
 "nbformat_minor": 2
}
