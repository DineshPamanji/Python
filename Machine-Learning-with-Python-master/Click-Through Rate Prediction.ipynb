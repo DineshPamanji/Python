{
 "cells": [
  {
   "cell_type": "markdown",
   "metadata": {},
   "source": [
    "# Click-Through Rate Prediction"
   ]
  },
  {
   "cell_type": "code",
   "execution_count": 1,
   "metadata": {},
   "outputs": [],
   "source": [
    "import numpy as np\n",
    "import random\n",
    "n = 40428967  #total number of records in the clickstream data \n",
    "sample_size = 1000000\n",
    "skip_values = sorted(random.sample(range(1,n), n-sample_size)) \n",
    "\n",
    "types_train = {\n",
    "    'id': np.dtype(int),\n",
    "    'click': np.dtype(int),\n",
    "    'hour': np.dtype(int),\n",
    "    'C1': np.dtype(int),\n",
    "    'banner_pos': np.dtype(int),\n",
    "    'site_id': np.dtype(str),\n",
    "    'site_domain': np.dtype(str), \n",
    "    'site_category': np.dtype(str),\n",
    "    'app_id': np.dtype(str),\n",
    "    'app_domain': np.dtype(str),\n",
    "    'app_category': np.dtype(str),\n",
    "    'device_id': np.dtype(str),\n",
    "    'device_ip': np.dtype(str),\n",
    "    'device_model': np.dtype(str),\n",
    "    'device_type': np.dtype(int),\n",
    "    'device_conn_type': np.dtype(int),\n",
    "    'C14': np.dtype(int),\n",
    "    'C15': np.dtype(int),\n",
    "    'C16': np.dtype(int),\n",
    "    'C17': np.dtype(int),\n",
    "    'C18': np.dtype(int),\n",
    "    'C19': np.dtype(int),\n",
    "    'C20': np.dtype(int),\n",
    "    'C21':np.dtype(int)\n",
    "}\n",
    "\n",
    "types_test = {\n",
    "    'id': np.dtype(int),\n",
    "    'hour': np.dtype(int),\n",
    "    'C1': np.dtype(int),\n",
    "    'banner_pos': np.dtype(int),\n",
    "    'site_id': np.dtype(str),\n",
    "    'site_domain': np.dtype(str), \n",
    "    'site_category': np.dtype(str),\n",
    "    'app_id': np.dtype(str),\n",
    "    'app_domain': np.dtype(str),\n",
    "    'app_category': np.dtype(str),\n",
    "    'device_id': np.dtype(str),\n",
    "    'device_ip': np.dtype(str),\n",
    "    'device_model': np.dtype(str),\n",
    "    'device_type': np.dtype(int),\n",
    "    'device_conn_type': np.dtype(int),\n",
    "    'C14': np.dtype(int),\n",
    "    'C15': np.dtype(int),\n",
    "    'C16': np.dtype(int),\n",
    "    'C17': np.dtype(int),\n",
    "    'C18': np.dtype(int),\n",
    "    'C19': np.dtype(int),\n",
    "    'C20': np.dtype(int),\n",
    "    'C21':np.dtype(int)\n",
    "}"
   ]
  },
  {
   "cell_type": "code",
   "execution_count": 2,
   "metadata": {},
   "outputs": [
    {
     "data": {
      "text/html": [
       "<div>\n",
       "<style scoped>\n",
       "    .dataframe tbody tr th:only-of-type {\n",
       "        vertical-align: middle;\n",
       "    }\n",
       "\n",
       "    .dataframe tbody tr th {\n",
       "        vertical-align: top;\n",
       "    }\n",
       "\n",
       "    .dataframe thead th {\n",
       "        text-align: right;\n",
       "    }\n",
       "</style>\n",
       "<table border=\"1\" class=\"dataframe\">\n",
       "  <thead>\n",
       "    <tr style=\"text-align: right;\">\n",
       "      <th></th>\n",
       "      <th>id</th>\n",
       "      <th>click</th>\n",
       "      <th>hour</th>\n",
       "      <th>C1</th>\n",
       "      <th>banner_pos</th>\n",
       "      <th>site_id</th>\n",
       "      <th>site_domain</th>\n",
       "      <th>site_category</th>\n",
       "      <th>app_id</th>\n",
       "      <th>app_domain</th>\n",
       "      <th>...</th>\n",
       "      <th>device_type</th>\n",
       "      <th>device_conn_type</th>\n",
       "      <th>C14</th>\n",
       "      <th>C15</th>\n",
       "      <th>C16</th>\n",
       "      <th>C17</th>\n",
       "      <th>C18</th>\n",
       "      <th>C19</th>\n",
       "      <th>C20</th>\n",
       "      <th>C21</th>\n",
       "    </tr>\n",
       "  </thead>\n",
       "  <tbody>\n",
       "    <tr>\n",
       "      <th>0</th>\n",
       "      <td>601394868</td>\n",
       "      <td>0</td>\n",
       "      <td>2014-10-21</td>\n",
       "      <td>1005</td>\n",
       "      <td>0</td>\n",
       "      <td>030440fe</td>\n",
       "      <td>08ba7db9</td>\n",
       "      <td>76b2941d</td>\n",
       "      <td>ecad2386</td>\n",
       "      <td>7801e8d9</td>\n",
       "      <td>...</td>\n",
       "      <td>1</td>\n",
       "      <td>0</td>\n",
       "      <td>18993</td>\n",
       "      <td>320</td>\n",
       "      <td>50</td>\n",
       "      <td>2161</td>\n",
       "      <td>0</td>\n",
       "      <td>35</td>\n",
       "      <td>-1</td>\n",
       "      <td>157</td>\n",
       "    </tr>\n",
       "    <tr>\n",
       "      <th>1</th>\n",
       "      <td>-59070594</td>\n",
       "      <td>0</td>\n",
       "      <td>2014-10-21</td>\n",
       "      <td>1005</td>\n",
       "      <td>1</td>\n",
       "      <td>0eb72673</td>\n",
       "      <td>d2f72222</td>\n",
       "      <td>f028772b</td>\n",
       "      <td>ecad2386</td>\n",
       "      <td>7801e8d9</td>\n",
       "      <td>...</td>\n",
       "      <td>1</td>\n",
       "      <td>0</td>\n",
       "      <td>16208</td>\n",
       "      <td>320</td>\n",
       "      <td>50</td>\n",
       "      <td>1800</td>\n",
       "      <td>3</td>\n",
       "      <td>167</td>\n",
       "      <td>100075</td>\n",
       "      <td>23</td>\n",
       "    </tr>\n",
       "    <tr>\n",
       "      <th>2</th>\n",
       "      <td>-1859646727</td>\n",
       "      <td>0</td>\n",
       "      <td>2014-10-21</td>\n",
       "      <td>1005</td>\n",
       "      <td>0</td>\n",
       "      <td>6c5b482c</td>\n",
       "      <td>7687a86e</td>\n",
       "      <td>3e814130</td>\n",
       "      <td>ecad2386</td>\n",
       "      <td>7801e8d9</td>\n",
       "      <td>...</td>\n",
       "      <td>1</td>\n",
       "      <td>0</td>\n",
       "      <td>17654</td>\n",
       "      <td>300</td>\n",
       "      <td>250</td>\n",
       "      <td>1994</td>\n",
       "      <td>2</td>\n",
       "      <td>39</td>\n",
       "      <td>100083</td>\n",
       "      <td>33</td>\n",
       "    </tr>\n",
       "    <tr>\n",
       "      <th>3</th>\n",
       "      <td>497487217</td>\n",
       "      <td>0</td>\n",
       "      <td>2014-10-21</td>\n",
       "      <td>1005</td>\n",
       "      <td>0</td>\n",
       "      <td>85f751fd</td>\n",
       "      <td>c4e18dd6</td>\n",
       "      <td>50e219e0</td>\n",
       "      <td>febd1138</td>\n",
       "      <td>82e27996</td>\n",
       "      <td>...</td>\n",
       "      <td>1</td>\n",
       "      <td>0</td>\n",
       "      <td>21611</td>\n",
       "      <td>320</td>\n",
       "      <td>50</td>\n",
       "      <td>2480</td>\n",
       "      <td>3</td>\n",
       "      <td>297</td>\n",
       "      <td>100111</td>\n",
       "      <td>61</td>\n",
       "    </tr>\n",
       "    <tr>\n",
       "      <th>4</th>\n",
       "      <td>-1852466777</td>\n",
       "      <td>0</td>\n",
       "      <td>2014-10-21</td>\n",
       "      <td>1005</td>\n",
       "      <td>0</td>\n",
       "      <td>1fbe01fe</td>\n",
       "      <td>f3845767</td>\n",
       "      <td>28905ebd</td>\n",
       "      <td>ecad2386</td>\n",
       "      <td>7801e8d9</td>\n",
       "      <td>...</td>\n",
       "      <td>1</td>\n",
       "      <td>0</td>\n",
       "      <td>15706</td>\n",
       "      <td>320</td>\n",
       "      <td>50</td>\n",
       "      <td>1722</td>\n",
       "      <td>0</td>\n",
       "      <td>35</td>\n",
       "      <td>-1</td>\n",
       "      <td>79</td>\n",
       "    </tr>\n",
       "  </tbody>\n",
       "</table>\n",
       "<p>5 rows × 24 columns</p>\n",
       "</div>"
      ],
      "text/plain": [
       "           id  click       hour    C1  banner_pos   site_id site_domain  \\\n",
       "0   601394868      0 2014-10-21  1005           0  030440fe    08ba7db9   \n",
       "1   -59070594      0 2014-10-21  1005           1  0eb72673    d2f72222   \n",
       "2 -1859646727      0 2014-10-21  1005           0  6c5b482c    7687a86e   \n",
       "3   497487217      0 2014-10-21  1005           0  85f751fd    c4e18dd6   \n",
       "4 -1852466777      0 2014-10-21  1005           0  1fbe01fe    f3845767   \n",
       "\n",
       "  site_category    app_id app_domain ...  device_type device_conn_type    C14  \\\n",
       "0      76b2941d  ecad2386   7801e8d9 ...            1                0  18993   \n",
       "1      f028772b  ecad2386   7801e8d9 ...            1                0  16208   \n",
       "2      3e814130  ecad2386   7801e8d9 ...            1                0  17654   \n",
       "3      50e219e0  febd1138   82e27996 ...            1                0  21611   \n",
       "4      28905ebd  ecad2386   7801e8d9 ...            1                0  15706   \n",
       "\n",
       "   C15  C16   C17  C18  C19     C20  C21  \n",
       "0  320   50  2161    0   35      -1  157  \n",
       "1  320   50  1800    3  167  100075   23  \n",
       "2  300  250  1994    2   39  100083   33  \n",
       "3  320   50  2480    3  297  100111   61  \n",
       "4  320   50  1722    0   35      -1   79  \n",
       "\n",
       "[5 rows x 24 columns]"
      ]
     },
     "execution_count": 2,
     "metadata": {},
     "output_type": "execute_result"
    }
   ],
   "source": [
    "import pandas as pd\n",
    "import gzip\n",
    "\n",
    "parse_date = lambda val : pd.datetime.strptime(val, '%y%m%d%H')\n",
    "\n",
    "with gzip.open('train.gz') as f:\n",
    "    train = pd.read_csv(f, parse_dates = ['hour'], date_parser = parse_date, dtype=types_train, skiprows = skip_values)\n",
    "\n",
    "train.head()"
   ]
  },
  {
   "cell_type": "code",
   "execution_count": 3,
   "metadata": {},
   "outputs": [
    {
     "data": {
      "text/plain": [
       "(1000000, 24)"
      ]
     },
     "execution_count": 3,
     "metadata": {},
     "output_type": "execute_result"
    }
   ],
   "source": [
    "train.shape"
   ]
  },
  {
   "cell_type": "code",
   "execution_count": 4,
   "metadata": {},
   "outputs": [
    {
     "data": {
      "text/plain": [
       "id                           int32\n",
       "click                        int32\n",
       "hour                datetime64[ns]\n",
       "C1                           int32\n",
       "banner_pos                   int32\n",
       "site_id                     object\n",
       "site_domain                 object\n",
       "site_category               object\n",
       "app_id                      object\n",
       "app_domain                  object\n",
       "app_category                object\n",
       "device_id                   object\n",
       "device_ip                   object\n",
       "device_model                object\n",
       "device_type                  int32\n",
       "device_conn_type             int32\n",
       "C14                          int32\n",
       "C15                          int32\n",
       "C16                          int32\n",
       "C17                          int32\n",
       "C18                          int32\n",
       "C19                          int32\n",
       "C20                          int32\n",
       "C21                          int32\n",
       "dtype: object"
      ]
     },
     "execution_count": 4,
     "metadata": {},
     "output_type": "execute_result"
    }
   ],
   "source": [
    "train.dtypes"
   ]
  },
  {
   "cell_type": "markdown",
   "metadata": {},
   "source": [
    "Target feature -> click\n",
    "\n",
    "site features -> site_id, site_domain, site_category\n",
    "\n",
    "app feature -> app_id, app_domain, app_category\n",
    "\n",
    "device feature -> device_id, device_ip, device_model, device_type, device_conn_type\n",
    "\n",
    "anonymized categorical features -> C14-C21"
   ]
  },
  {
   "cell_type": "code",
   "execution_count": 5,
   "metadata": {},
   "outputs": [
    {
     "data": {
      "text/plain": [
       "0    830423\n",
       "1    169577\n",
       "Name: click, dtype: int64"
      ]
     },
     "execution_count": 5,
     "metadata": {},
     "output_type": "execute_result"
    }
   ],
   "source": [
    "train['click'].value_counts()"
   ]
  },
  {
   "cell_type": "code",
   "execution_count": 7,
   "metadata": {},
   "outputs": [
    {
     "data": {
      "image/png": "[encoded data removed]",
      "text/plain": [
       "<matplotlib.figure.Figure at 0x1c2223cdc18>"
      ]
     },
     "metadata": {},
     "output_type": "display_data"
    }
   ],
   "source": [
    "import seaborn as sns\n",
    "import matplotlib.pyplot as plt\n",
    "\n",
    "sns.countplot(x='click',data=train, palette='hls')\n",
    "plt.show();"
   ]
  },
  {
   "cell_type": "code",
   "execution_count": 8,
   "metadata": {},
   "outputs": [
    {
     "data": {
      "text/plain": [
       "0    0.830423\n",
       "1    0.169577\n",
       "Name: click, dtype: float64"
      ]
     },
     "execution_count": 8,
     "metadata": {},
     "output_type": "execute_result"
    }
   ],
   "source": [
    "train['click'].value_counts()/len(train)"
   ]
  },
  {
   "cell_type": "markdown",
   "metadata": {},
   "source": [
    "Click through rate is approx. 17%, and approx. 83% is not clicked. "
   ]
  },
  {
   "cell_type": "code",
   "execution_count": 9,
   "metadata": {},
   "outputs": [
    {
     "data": {
      "text/plain": [
       "count                 1000000\n",
       "unique                    240\n",
       "top       2014-10-22 09:00:00\n",
       "freq                    11144\n",
       "first     2014-10-21 00:00:00\n",
       "last      2014-10-30 23:00:00\n",
       "Name: hour, dtype: object"
      ]
     },
     "execution_count": 9,
     "metadata": {},
     "output_type": "execute_result"
    }
   ],
   "source": [
    "train.hour.describe()"
   ]
  },
  {
   "cell_type": "markdown",
   "metadata": {},
   "source": [
    "The data covers 10 days of click streams data from 2014-10-21 to 2014-10-30, that is 240 hours."
   ]
  },
  {
   "cell_type": "code",
   "execution_count": 10,
   "metadata": {},
   "outputs": [
    {
     "data": {
      "image/png": "[encoded data removed]",
      "text/plain": [
       "<matplotlib.figure.Figure at 0x1c2231ad780>"
      ]
     },
     "metadata": {},
     "output_type": "display_data"
    }
   ],
   "source": [
    "train.groupby('hour').agg({'click':'sum'}).plot(figsize=(12,6))\n",
    "plt.ylabel('Number of clicks')\n",
    "plt.title('Number of clicks by hour');"
   ]
  },
  {
   "cell_type": "markdown",
   "metadata": {},
   "source": [
    "The hourly clicks pattern looks pretty similar every day. However, there were a couple of peak hours, one is sometime in the mid of the day on Oct 22, and another is sometime in the mid of the day on Oct 28. And one off-peak hour is close to mid-night on Oct 24."
   ]
  },
  {
   "cell_type": "markdown",
   "metadata": {},
   "source": [
    "###  Feature engineering for date time features\n",
    "\n",
    "#### Hour\n",
    "\n",
    "Extract hour from date time feature."
   ]
  },
  {
   "cell_type": "code",
   "execution_count": 11,
   "metadata": {},
   "outputs": [
    {
     "data": {
      "image/png": "[encoded data removed]",
      "text/plain": [
       "<matplotlib.figure.Figure at 0x1c223292f60>"
      ]
     },
     "metadata": {},
     "output_type": "display_data"
    }
   ],
   "source": [
    "train['hour_of_day'] = train.hour.apply(lambda x: x.hour)\n",
    "train.groupby('hour_of_day').agg({'click':'sum'}).plot(figsize=(12,6))\n",
    "plt.ylabel('Number of clicks')\n",
    "plt.title('click trends by hour of day');"
   ]
  },
  {
   "cell_type": "markdown",
   "metadata": {},
   "source": [
    "In general, the highest number of clicks is at hour 13 and 14 (1pm and 2pm), and the least number of clicks is at hour 0 (mid-night). It seems a useful feature for roughly estimation."
   ]
  },
  {
   "cell_type": "code",
   "execution_count": 12,
   "metadata": {},
   "outputs": [
    {
     "data": {
      "text/html": [
       "<div>\n",
       "<style scoped>\n",
       "    .dataframe tbody tr th:only-of-type {\n",
       "        vertical-align: middle;\n",
       "    }\n",
       "\n",
       "    .dataframe tbody tr th {\n",
       "        vertical-align: top;\n",
       "    }\n",
       "\n",
       "    .dataframe thead th {\n",
       "        text-align: right;\n",
       "    }\n",
       "</style>\n",
       "<table border=\"1\" class=\"dataframe\">\n",
       "  <thead>\n",
       "    <tr style=\"text-align: right;\">\n",
       "      <th></th>\n",
       "      <th>id</th>\n",
       "      <th>click</th>\n",
       "      <th>hour</th>\n",
       "      <th>C1</th>\n",
       "      <th>banner_pos</th>\n",
       "      <th>site_id</th>\n",
       "      <th>site_domain</th>\n",
       "      <th>site_category</th>\n",
       "      <th>app_id</th>\n",
       "      <th>app_domain</th>\n",
       "      <th>...</th>\n",
       "      <th>device_conn_type</th>\n",
       "      <th>C14</th>\n",
       "      <th>C15</th>\n",
       "      <th>C16</th>\n",
       "      <th>C17</th>\n",
       "      <th>C18</th>\n",
       "      <th>C19</th>\n",
       "      <th>C20</th>\n",
       "      <th>C21</th>\n",
       "      <th>hour_of_day</th>\n",
       "    </tr>\n",
       "  </thead>\n",
       "  <tbody>\n",
       "    <tr>\n",
       "      <th>0</th>\n",
       "      <td>601394868</td>\n",
       "      <td>0</td>\n",
       "      <td>2014-10-21</td>\n",
       "      <td>1005</td>\n",
       "      <td>0</td>\n",
       "      <td>030440fe</td>\n",
       "      <td>08ba7db9</td>\n",
       "      <td>76b2941d</td>\n",
       "      <td>ecad2386</td>\n",
       "      <td>7801e8d9</td>\n",
       "      <td>...</td>\n",
       "      <td>0</td>\n",
       "      <td>18993</td>\n",
       "      <td>320</td>\n",
       "      <td>50</td>\n",
       "      <td>2161</td>\n",
       "      <td>0</td>\n",
       "      <td>35</td>\n",
       "      <td>-1</td>\n",
       "      <td>157</td>\n",
       "      <td>0</td>\n",
       "    </tr>\n",
       "    <tr>\n",
       "      <th>1</th>\n",
       "      <td>-59070594</td>\n",
       "      <td>0</td>\n",
       "      <td>2014-10-21</td>\n",
       "      <td>1005</td>\n",
       "      <td>1</td>\n",
       "      <td>0eb72673</td>\n",
       "      <td>d2f72222</td>\n",
       "      <td>f028772b</td>\n",
       "      <td>ecad2386</td>\n",
       "      <td>7801e8d9</td>\n",
       "      <td>...</td>\n",
       "      <td>0</td>\n",
       "      <td>16208</td>\n",
       "      <td>320</td>\n",
       "      <td>50</td>\n",
       "      <td>1800</td>\n",
       "      <td>3</td>\n",
       "      <td>167</td>\n",
       "      <td>100075</td>\n",
       "      <td>23</td>\n",
       "      <td>0</td>\n",
       "    </tr>\n",
       "    <tr>\n",
       "      <th>2</th>\n",
       "      <td>-1859646727</td>\n",
       "      <td>0</td>\n",
       "      <td>2014-10-21</td>\n",
       "      <td>1005</td>\n",
       "      <td>0</td>\n",
       "      <td>6c5b482c</td>\n",
       "      <td>7687a86e</td>\n",
       "      <td>3e814130</td>\n",
       "      <td>ecad2386</td>\n",
       "      <td>7801e8d9</td>\n",
       "      <td>...</td>\n",
       "      <td>0</td>\n",
       "      <td>17654</td>\n",
       "      <td>300</td>\n",
       "      <td>250</td>\n",
       "      <td>1994</td>\n",
       "      <td>2</td>\n",
       "      <td>39</td>\n",
       "      <td>100083</td>\n",
       "      <td>33</td>\n",
       "      <td>0</td>\n",
       "    </tr>\n",
       "  </tbody>\n",
       "</table>\n",
       "<p>3 rows × 25 columns</p>\n",
       "</div>"
      ],
      "text/plain": [
       "           id  click       hour    C1  banner_pos   site_id site_domain  \\\n",
       "0   601394868      0 2014-10-21  1005           0  030440fe    08ba7db9   \n",
       "1   -59070594      0 2014-10-21  1005           1  0eb72673    d2f72222   \n",
       "2 -1859646727      0 2014-10-21  1005           0  6c5b482c    7687a86e   \n",
       "\n",
       "  site_category    app_id app_domain     ...      device_conn_type    C14  \\\n",
       "0      76b2941d  ecad2386   7801e8d9     ...                     0  18993   \n",
       "1      f028772b  ecad2386   7801e8d9     ...                     0  16208   \n",
       "2      3e814130  ecad2386   7801e8d9     ...                     0  17654   \n",
       "\n",
       "   C15  C16   C17  C18  C19     C20  C21  hour_of_day  \n",
       "0  320   50  2161    0   35      -1  157            0  \n",
       "1  320   50  1800    3  167  100075   23            0  \n",
       "2  300  250  1994    2   39  100083   33            0  \n",
       "\n",
       "[3 rows x 25 columns]"
      ]
     },
     "execution_count": 12,
     "metadata": {},
     "output_type": "execute_result"
    }
   ],
   "source": [
    "train.head(3)"
   ]
  },
  {
   "cell_type": "markdown",
   "metadata": {},
   "source": [
    "Let's take impressions into consideration."
   ]
  },
  {
   "cell_type": "code",
   "execution_count": 13,
   "metadata": {},
   "outputs": [
    {
     "data": {
      "image/png": "[encoded data removed]",
      "text/plain": [
       "<matplotlib.figure.Figure at 0x1c223237160>"
      ]
     },
     "metadata": {},
     "output_type": "display_data"
    }
   ],
   "source": [
    "train.groupby(['hour_of_day', 'click']).size().unstack().plot(kind='bar', title=\"Hour of Day\", figsize=(12,6))\n",
    "plt.ylabel('count')\n",
    "plt.title('Hourly impressions vs. clicks');"
   ]
  },
  {
   "cell_type": "markdown",
   "metadata": {},
   "source": [
    "There is nothing shocking here."
   ]
  },
  {
   "cell_type": "code",
   "execution_count": 14,
   "metadata": {},
   "outputs": [
    {
     "data": {
      "text/html": [
       "<div>\n",
       "<style scoped>\n",
       "    .dataframe tbody tr th:only-of-type {\n",
       "        vertical-align: middle;\n",
       "    }\n",
       "\n",
       "    .dataframe tbody tr th {\n",
       "        vertical-align: top;\n",
       "    }\n",
       "\n",
       "    .dataframe thead th {\n",
       "        text-align: right;\n",
       "    }\n",
       "</style>\n",
       "<table border=\"1\" class=\"dataframe\">\n",
       "  <thead>\n",
       "    <tr style=\"text-align: right;\">\n",
       "      <th></th>\n",
       "      <th>id</th>\n",
       "      <th>click</th>\n",
       "      <th>hour</th>\n",
       "      <th>C1</th>\n",
       "      <th>banner_pos</th>\n",
       "      <th>site_id</th>\n",
       "      <th>site_domain</th>\n",
       "      <th>site_category</th>\n",
       "      <th>app_id</th>\n",
       "      <th>app_domain</th>\n",
       "      <th>...</th>\n",
       "      <th>device_conn_type</th>\n",
       "      <th>C14</th>\n",
       "      <th>C15</th>\n",
       "      <th>C16</th>\n",
       "      <th>C17</th>\n",
       "      <th>C18</th>\n",
       "      <th>C19</th>\n",
       "      <th>C20</th>\n",
       "      <th>C21</th>\n",
       "      <th>hour_of_day</th>\n",
       "    </tr>\n",
       "  </thead>\n",
       "  <tbody>\n",
       "    <tr>\n",
       "      <th>0</th>\n",
       "      <td>601394868</td>\n",
       "      <td>0</td>\n",
       "      <td>2014-10-21</td>\n",
       "      <td>1005</td>\n",
       "      <td>0</td>\n",
       "      <td>030440fe</td>\n",
       "      <td>08ba7db9</td>\n",
       "      <td>76b2941d</td>\n",
       "      <td>ecad2386</td>\n",
       "      <td>7801e8d9</td>\n",
       "      <td>...</td>\n",
       "      <td>0</td>\n",
       "      <td>18993</td>\n",
       "      <td>320</td>\n",
       "      <td>50</td>\n",
       "      <td>2161</td>\n",
       "      <td>0</td>\n",
       "      <td>35</td>\n",
       "      <td>-1</td>\n",
       "      <td>157</td>\n",
       "      <td>0</td>\n",
       "    </tr>\n",
       "    <tr>\n",
       "      <th>1</th>\n",
       "      <td>-59070594</td>\n",
       "      <td>0</td>\n",
       "      <td>2014-10-21</td>\n",
       "      <td>1005</td>\n",
       "      <td>1</td>\n",
       "      <td>0eb72673</td>\n",
       "      <td>d2f72222</td>\n",
       "      <td>f028772b</td>\n",
       "      <td>ecad2386</td>\n",
       "      <td>7801e8d9</td>\n",
       "      <td>...</td>\n",
       "      <td>0</td>\n",
       "      <td>16208</td>\n",
       "      <td>320</td>\n",
       "      <td>50</td>\n",
       "      <td>1800</td>\n",
       "      <td>3</td>\n",
       "      <td>167</td>\n",
       "      <td>100075</td>\n",
       "      <td>23</td>\n",
       "      <td>0</td>\n",
       "    </tr>\n",
       "    <tr>\n",
       "      <th>2</th>\n",
       "      <td>-1859646727</td>\n",
       "      <td>0</td>\n",
       "      <td>2014-10-21</td>\n",
       "      <td>1005</td>\n",
       "      <td>0</td>\n",
       "      <td>6c5b482c</td>\n",
       "      <td>7687a86e</td>\n",
       "      <td>3e814130</td>\n",
       "      <td>ecad2386</td>\n",
       "      <td>7801e8d9</td>\n",
       "      <td>...</td>\n",
       "      <td>0</td>\n",
       "      <td>17654</td>\n",
       "      <td>300</td>\n",
       "      <td>250</td>\n",
       "      <td>1994</td>\n",
       "      <td>2</td>\n",
       "      <td>39</td>\n",
       "      <td>100083</td>\n",
       "      <td>33</td>\n",
       "      <td>0</td>\n",
       "    </tr>\n",
       "  </tbody>\n",
       "</table>\n",
       "<p>3 rows × 25 columns</p>\n",
       "</div>"
      ],
      "text/plain": [
       "           id  click       hour    C1  banner_pos   site_id site_domain  \\\n",
       "0   601394868      0 2014-10-21  1005           0  030440fe    08ba7db9   \n",
       "1   -59070594      0 2014-10-21  1005           1  0eb72673    d2f72222   \n",
       "2 -1859646727      0 2014-10-21  1005           0  6c5b482c    7687a86e   \n",
       "\n",
       "  site_category    app_id app_domain     ...      device_conn_type    C14  \\\n",
       "0      76b2941d  ecad2386   7801e8d9     ...                     0  18993   \n",
       "1      f028772b  ecad2386   7801e8d9     ...                     0  16208   \n",
       "2      3e814130  ecad2386   7801e8d9     ...                     0  17654   \n",
       "\n",
       "   C15  C16   C17  C18  C19     C20  C21  hour_of_day  \n",
       "0  320   50  2161    0   35      -1  157            0  \n",
       "1  320   50  1800    3  167  100075   23            0  \n",
       "2  300  250  1994    2   39  100083   33            0  \n",
       "\n",
       "[3 rows x 25 columns]"
      ]
     },
     "execution_count": 14,
     "metadata": {},
     "output_type": "execute_result"
    }
   ],
   "source": [
    "train.head(3)"
   ]
  },
  {
   "cell_type": "markdown",
   "metadata": {},
   "source": [
    "Now that we have click and impression. We can calculate Click-through rate (CTR). CTR is the ratio of ad clicks to impressions. It measures the rate of clicks on each ad."
   ]
  },
  {
   "cell_type": "markdown",
   "metadata": {},
   "source": [
    "#### Hourly CTR"
   ]
  },
  {
   "cell_type": "code",
   "execution_count": 15,
   "metadata": {},
   "outputs": [
    {
     "data": {
      "image/png": "[encoded data removed]",
      "text/plain": [
       "<matplotlib.figure.Figure at 0x1c223054b70>"
      ]
     },
     "metadata": {},
     "output_type": "display_data"
    }
   ],
   "source": [
    "import seaborn as sns\n",
    "\n",
    "df_click = train[train['click'] == 1]\n",
    "df_hour = train[['hour_of_day','click']].groupby(['hour_of_day']).count().reset_index()\n",
    "df_hour = df_hour.rename(columns={'click': 'impressions'})\n",
    "df_hour['clicks'] = df_click[['hour_of_day','click']].groupby(['hour_of_day']).count().reset_index()['click']\n",
    "df_hour['CTR'] = df_hour['clicks']/df_hour['impressions']*100\n",
    "\n",
    "plt.figure(figsize=(12,6))\n",
    "sns.barplot(y='CTR', x='hour_of_day', data=df_hour)\n",
    "plt.title('Hourly CTR');"
   ]
  },
  {
   "cell_type": "markdown",
   "metadata": {},
   "source": [
    "One of the interesting observations here is that the highest CTR happened in the hour of mid-night, 1, 7 and 15. If you remember, around mid-night has the least number of impressions and clicks."
   ]
  },
  {
   "cell_type": "markdown",
   "metadata": {},
   "source": [
    "#### Day of week"
   ]
  },
  {
   "cell_type": "code",
   "execution_count": 16,
   "metadata": {},
   "outputs": [
    {
     "data": {
      "image/png": "[encoded data removed]",
      "text/plain": [
       "<matplotlib.figure.Figure at 0x1c223ba4080>"
      ]
     },
     "metadata": {},
     "output_type": "display_data"
    }
   ],
   "source": [
    "train['day_of_week'] = train['hour'].apply(lambda val: val.weekday_name)\n",
    "cats = ['Monday', 'Tuesday', 'Wednesday', 'Thursday', 'Friday', 'Saturday', 'Sunday']\n",
    "train.groupby('day_of_week').agg({'click':'sum'}).reindex(cats).plot(figsize=(12,6))\n",
    "ticks = list(range(0, 7, 1)) # points on the x axis where you want the label to appear\n",
    "labels = \"Mon Tues Weds Thurs Fri Sat Sun\".split()\n",
    "plt.xticks(ticks, labels)\n",
    "plt.title('click trends by day of week');"
   ]
  },
  {
   "cell_type": "code",
   "execution_count": 17,
   "metadata": {},
   "outputs": [
    {
     "data": {
      "image/png": "[encoded data removed]",
      "text/plain": [
       "<matplotlib.figure.Figure at 0x1c223bda160>"
      ]
     },
     "metadata": {},
     "output_type": "display_data"
    }
   ],
   "source": [
    "train.groupby(['day_of_week','click']).size().unstack().reindex(cats).plot(kind='bar', title=\"Day of the Week\", figsize=(12,6))\n",
    "ticks = list(range(0, 7, 1)) # points on the x axis where you want the label to appear\n",
    "labels = \"Mon Tues Weds Thurs Fri Sat Sun\".split()\n",
    "plt.xticks(ticks, labels)\n",
    "plt.title('Impressions vs. clicks by day of week');"
   ]
  },
  {
   "cell_type": "markdown",
   "metadata": {},
   "source": [
    "Tuesdays have the most impressions and clicks, then Wednesdays, followed by Thursdays. Mondays and Fridays have the least number of impressions and clicks."
   ]
  },
  {
   "cell_type": "markdown",
   "metadata": {},
   "source": [
    "#### Day of week CTR"
   ]
  },
  {
   "cell_type": "code",
   "execution_count": 18,
   "metadata": {},
   "outputs": [
    {
     "data": {
      "text/html": [
       "<div>\n",
       "<style scoped>\n",
       "    .dataframe tbody tr th:only-of-type {\n",
       "        vertical-align: middle;\n",
       "    }\n",
       "\n",
       "    .dataframe tbody tr th {\n",
       "        vertical-align: top;\n",
       "    }\n",
       "\n",
       "    .dataframe thead th {\n",
       "        text-align: right;\n",
       "    }\n",
       "</style>\n",
       "<table border=\"1\" class=\"dataframe\">\n",
       "  <thead>\n",
       "    <tr style=\"text-align: right;\">\n",
       "      <th></th>\n",
       "      <th>id</th>\n",
       "      <th>click</th>\n",
       "      <th>hour</th>\n",
       "      <th>C1</th>\n",
       "      <th>banner_pos</th>\n",
       "      <th>site_id</th>\n",
       "      <th>site_domain</th>\n",
       "      <th>site_category</th>\n",
       "      <th>app_id</th>\n",
       "      <th>app_domain</th>\n",
       "      <th>...</th>\n",
       "      <th>C14</th>\n",
       "      <th>C15</th>\n",
       "      <th>C16</th>\n",
       "      <th>C17</th>\n",
       "      <th>C18</th>\n",
       "      <th>C19</th>\n",
       "      <th>C20</th>\n",
       "      <th>C21</th>\n",
       "      <th>hour_of_day</th>\n",
       "      <th>day_of_week</th>\n",
       "    </tr>\n",
       "  </thead>\n",
       "  <tbody>\n",
       "    <tr>\n",
       "      <th>0</th>\n",
       "      <td>601394868</td>\n",
       "      <td>0</td>\n",
       "      <td>2014-10-21</td>\n",
       "      <td>1005</td>\n",
       "      <td>0</td>\n",
       "      <td>030440fe</td>\n",
       "      <td>08ba7db9</td>\n",
       "      <td>76b2941d</td>\n",
       "      <td>ecad2386</td>\n",
       "      <td>7801e8d9</td>\n",
       "      <td>...</td>\n",
       "      <td>18993</td>\n",
       "      <td>320</td>\n",
       "      <td>50</td>\n",
       "      <td>2161</td>\n",
       "      <td>0</td>\n",
       "      <td>35</td>\n",
       "      <td>-1</td>\n",
       "      <td>157</td>\n",
       "      <td>0</td>\n",
       "      <td>Tuesday</td>\n",
       "    </tr>\n",
       "    <tr>\n",
       "      <th>1</th>\n",
       "      <td>-59070594</td>\n",
       "      <td>0</td>\n",
       "      <td>2014-10-21</td>\n",
       "      <td>1005</td>\n",
       "      <td>1</td>\n",
       "      <td>0eb72673</td>\n",
       "      <td>d2f72222</td>\n",
       "      <td>f028772b</td>\n",
       "      <td>ecad2386</td>\n",
       "      <td>7801e8d9</td>\n",
       "      <td>...</td>\n",
       "      <td>16208</td>\n",
       "      <td>320</td>\n",
       "      <td>50</td>\n",
       "      <td>1800</td>\n",
       "      <td>3</td>\n",
       "      <td>167</td>\n",
       "      <td>100075</td>\n",
       "      <td>23</td>\n",
       "      <td>0</td>\n",
       "      <td>Tuesday</td>\n",
       "    </tr>\n",
       "    <tr>\n",
       "      <th>2</th>\n",
       "      <td>-1859646727</td>\n",
       "      <td>0</td>\n",
       "      <td>2014-10-21</td>\n",
       "      <td>1005</td>\n",
       "      <td>0</td>\n",
       "      <td>6c5b482c</td>\n",
       "      <td>7687a86e</td>\n",
       "      <td>3e814130</td>\n",
       "      <td>ecad2386</td>\n",
       "      <td>7801e8d9</td>\n",
       "      <td>...</td>\n",
       "      <td>17654</td>\n",
       "      <td>300</td>\n",
       "      <td>250</td>\n",
       "      <td>1994</td>\n",
       "      <td>2</td>\n",
       "      <td>39</td>\n",
       "      <td>100083</td>\n",
       "      <td>33</td>\n",
       "      <td>0</td>\n",
       "      <td>Tuesday</td>\n",
       "    </tr>\n",
       "  </tbody>\n",
       "</table>\n",
       "<p>3 rows × 26 columns</p>\n",
       "</div>"
      ],
      "text/plain": [
       "           id  click       hour    C1  banner_pos   site_id site_domain  \\\n",
       "0   601394868      0 2014-10-21  1005           0  030440fe    08ba7db9   \n",
       "1   -59070594      0 2014-10-21  1005           1  0eb72673    d2f72222   \n",
       "2 -1859646727      0 2014-10-21  1005           0  6c5b482c    7687a86e   \n",
       "\n",
       "  site_category    app_id app_domain     ...         C14  C15  C16   C17  C18  \\\n",
       "0      76b2941d  ecad2386   7801e8d9     ...       18993  320   50  2161    0   \n",
       "1      f028772b  ecad2386   7801e8d9     ...       16208  320   50  1800    3   \n",
       "2      3e814130  ecad2386   7801e8d9     ...       17654  300  250  1994    2   \n",
       "\n",
       "   C19     C20  C21  hour_of_day  day_of_week  \n",
       "0   35      -1  157            0      Tuesday  \n",
       "1  167  100075   23            0      Tuesday  \n",
       "2   39  100083   33            0      Tuesday  \n",
       "\n",
       "[3 rows x 26 columns]"
      ]
     },
     "execution_count": 18,
     "metadata": {},
     "output_type": "execute_result"
    }
   ],
   "source": [
    "train.head(3)"
   ]
  },
  {
   "cell_type": "code",
   "execution_count": 19,
   "metadata": {},
   "outputs": [
    {
     "data": {
      "image/png": "[encoded data removed]",
      "text/plain": [
       "<matplotlib.figure.Figure at 0x1c223aa1828>"
      ]
     },
     "metadata": {},
     "output_type": "display_data"
    }
   ],
   "source": [
    "df_click = train[train['click'] == 1]\n",
    "df_dayofweek = train[['day_of_week','click']].groupby(['day_of_week']).count().reset_index()\n",
    "df_dayofweek = df_dayofweek.rename(columns={'click': 'impressions'})\n",
    "df_dayofweek['clicks'] = df_click[['day_of_week','click']].groupby(['day_of_week']).count().reset_index()['click']\n",
    "df_dayofweek['CTR'] = df_dayofweek['clicks']/df_dayofweek['impressions']*100\n",
    "\n",
    "plt.figure(figsize=(12,6))\n",
    "sns.barplot(y='CTR', x='day_of_week', data=df_dayofweek, order=['Monday', 'Tuesday', 'Wednesday', 'Thursday', 'Friday', 'Saturday', 'Sunday'])\n",
    "plt.title('Day of week CTR');"
   ]
  },
  {
   "cell_type": "markdown",
   "metadata": {},
   "source": [
    "While Tuesdays and Wednesdays have the highest number of impressions and clicks, their CTR are among the lowest. Saturdays and Sundays enjoy the highest CTR. Apparently, people have more time to click over the weekend."
   ]
  },
  {
   "cell_type": "code",
   "execution_count": 20,
   "metadata": {},
   "outputs": [
    {
     "data": {
      "text/html": [
       "<div>\n",
       "<style scoped>\n",
       "    .dataframe tbody tr th:only-of-type {\n",
       "        vertical-align: middle;\n",
       "    }\n",
       "\n",
       "    .dataframe tbody tr th {\n",
       "        vertical-align: top;\n",
       "    }\n",
       "\n",
       "    .dataframe thead th {\n",
       "        text-align: right;\n",
       "    }\n",
       "</style>\n",
       "<table border=\"1\" class=\"dataframe\">\n",
       "  <thead>\n",
       "    <tr style=\"text-align: right;\">\n",
       "      <th></th>\n",
       "      <th>id</th>\n",
       "      <th>click</th>\n",
       "      <th>hour</th>\n",
       "      <th>C1</th>\n",
       "      <th>banner_pos</th>\n",
       "      <th>site_id</th>\n",
       "      <th>site_domain</th>\n",
       "      <th>site_category</th>\n",
       "      <th>app_id</th>\n",
       "      <th>app_domain</th>\n",
       "      <th>...</th>\n",
       "      <th>C14</th>\n",
       "      <th>C15</th>\n",
       "      <th>C16</th>\n",
       "      <th>C17</th>\n",
       "      <th>C18</th>\n",
       "      <th>C19</th>\n",
       "      <th>C20</th>\n",
       "      <th>C21</th>\n",
       "      <th>hour_of_day</th>\n",
       "      <th>day_of_week</th>\n",
       "    </tr>\n",
       "  </thead>\n",
       "  <tbody>\n",
       "    <tr>\n",
       "      <th>0</th>\n",
       "      <td>601394868</td>\n",
       "      <td>0</td>\n",
       "      <td>2014-10-21</td>\n",
       "      <td>1005</td>\n",
       "      <td>0</td>\n",
       "      <td>030440fe</td>\n",
       "      <td>08ba7db9</td>\n",
       "      <td>76b2941d</td>\n",
       "      <td>ecad2386</td>\n",
       "      <td>7801e8d9</td>\n",
       "      <td>...</td>\n",
       "      <td>18993</td>\n",
       "      <td>320</td>\n",
       "      <td>50</td>\n",
       "      <td>2161</td>\n",
       "      <td>0</td>\n",
       "      <td>35</td>\n",
       "      <td>-1</td>\n",
       "      <td>157</td>\n",
       "      <td>0</td>\n",
       "      <td>Tuesday</td>\n",
       "    </tr>\n",
       "    <tr>\n",
       "      <th>1</th>\n",
       "      <td>-59070594</td>\n",
       "      <td>0</td>\n",
       "      <td>2014-10-21</td>\n",
       "      <td>1005</td>\n",
       "      <td>1</td>\n",
       "      <td>0eb72673</td>\n",
       "      <td>d2f72222</td>\n",
       "      <td>f028772b</td>\n",
       "      <td>ecad2386</td>\n",
       "      <td>7801e8d9</td>\n",
       "      <td>...</td>\n",
       "      <td>16208</td>\n",
       "      <td>320</td>\n",
       "      <td>50</td>\n",
       "      <td>1800</td>\n",
       "      <td>3</td>\n",
       "      <td>167</td>\n",
       "      <td>100075</td>\n",
       "      <td>23</td>\n",
       "      <td>0</td>\n",
       "      <td>Tuesday</td>\n",
       "    </tr>\n",
       "    <tr>\n",
       "      <th>2</th>\n",
       "      <td>-1859646727</td>\n",
       "      <td>0</td>\n",
       "      <td>2014-10-21</td>\n",
       "      <td>1005</td>\n",
       "      <td>0</td>\n",
       "      <td>6c5b482c</td>\n",
       "      <td>7687a86e</td>\n",
       "      <td>3e814130</td>\n",
       "      <td>ecad2386</td>\n",
       "      <td>7801e8d9</td>\n",
       "      <td>...</td>\n",
       "      <td>17654</td>\n",
       "      <td>300</td>\n",
       "      <td>250</td>\n",
       "      <td>1994</td>\n",
       "      <td>2</td>\n",
       "      <td>39</td>\n",
       "      <td>100083</td>\n",
       "      <td>33</td>\n",
       "      <td>0</td>\n",
       "      <td>Tuesday</td>\n",
       "    </tr>\n",
       "  </tbody>\n",
       "</table>\n",
       "<p>3 rows × 26 columns</p>\n",
       "</div>"
      ],
      "text/plain": [
       "           id  click       hour    C1  banner_pos   site_id site_domain  \\\n",
       "0   601394868      0 2014-10-21  1005           0  030440fe    08ba7db9   \n",
       "1   -59070594      0 2014-10-21  1005           1  0eb72673    d2f72222   \n",
       "2 -1859646727      0 2014-10-21  1005           0  6c5b482c    7687a86e   \n",
       "\n",
       "  site_category    app_id app_domain     ...         C14  C15  C16   C17  C18  \\\n",
       "0      76b2941d  ecad2386   7801e8d9     ...       18993  320   50  2161    0   \n",
       "1      f028772b  ecad2386   7801e8d9     ...       16208  320   50  1800    3   \n",
       "2      3e814130  ecad2386   7801e8d9     ...       17654  300  250  1994    2   \n",
       "\n",
       "   C19     C20  C21  hour_of_day  day_of_week  \n",
       "0   35      -1  157            0      Tuesday  \n",
       "1  167  100075   23            0      Tuesday  \n",
       "2   39  100083   33            0      Tuesday  \n",
       "\n",
       "[3 rows x 26 columns]"
      ]
     },
     "execution_count": 20,
     "metadata": {},
     "output_type": "execute_result"
    }
   ],
   "source": [
    "train.head(3)"
   ]
  },
  {
   "cell_type": "markdown",
   "metadata": {},
   "source": [
    "### C1 feature\n",
    "\n",
    "C1 is one of the anonymized categorical features. Although we don't know its meaning, we still want to have a look its distribution."
   ]
  },
  {
   "cell_type": "code",
   "execution_count": 21,
   "metadata": {},
   "outputs": [
    {
     "name": "stdout",
     "output_type": "stream",
     "text": [
      "1005    0.918462\n",
      "1002    0.055026\n",
      "1010    0.022414\n",
      "1012    0.002856\n",
      "1007    0.000873\n",
      "1001    0.000245\n",
      "1008    0.000124\n",
      "Name: C1, dtype: float64\n"
     ]
    }
   ],
   "source": [
    "print(train.C1.value_counts()/len(train))"
   ]
  },
  {
   "cell_type": "markdown",
   "metadata": {},
   "source": [
    "C1 value = 1005 has the most data, almost 92%. Let's see whether we can find value of C1 indicates something about CTR."
   ]
  },
  {
   "cell_type": "code",
   "execution_count": 22,
   "metadata": {},
   "outputs": [
    {
     "name": "stdout",
     "output_type": "stream",
     "text": [
      "for C1 value: 1001,  click through rate: 0.02040816326530612\n",
      "for C1 value: 1002,  click through rate: 0.2116454039908407\n",
      "for C1 value: 1005,  click through rate: 0.1690423773656395\n",
      "for C1 value: 1007,  click through rate: 0.048109965635738834\n",
      "for C1 value: 1008,  click through rate: 0.1532258064516129\n",
      "for C1 value: 1010,  click through rate: 0.094985277058981\n",
      "for C1 value: 1012,  click through rate: 0.16701680672268907\n"
     ]
    }
   ],
   "source": [
    "C1_values = train.C1.unique()\n",
    "C1_values.sort()\n",
    "ctr_avg_list=[]\n",
    "for i in C1_values:\n",
    "    ctr_avg=train.loc[np.where((train.C1 == i))].click.mean()\n",
    "    ctr_avg_list.append(ctr_avg)\n",
    "    print(\"for C1 value: {},  click through rate: {}\".format(i,ctr_avg))"
   ]
  },
  {
   "cell_type": "code",
   "execution_count": 23,
   "metadata": {},
   "outputs": [
    {
     "data": {
      "image/png": "[encoded data removed]",
      "text/plain": [
       "<matplotlib.figure.Figure at 0x1c223bbb668>"
      ]
     },
     "metadata": {},
     "output_type": "display_data"
    }
   ],
   "source": [
    "train.groupby(['C1', 'click']).size().unstack().plot(kind='bar', figsize=(12,6), title='C1 histogram');"
   ]
  },
  {
   "cell_type": "code",
   "execution_count": 24,
   "metadata": {},
   "outputs": [
    {
     "data": {
      "image/png": "[encoded data removed]",
      "text/plain": [
       "<matplotlib.figure.Figure at 0x1c223230f28>"
      ]
     },
     "metadata": {},
     "output_type": "display_data"
    }
   ],
   "source": [
    "df_c1 = train[['C1','click']].groupby(['C1']).count().reset_index()\n",
    "df_c1 = df_c1.rename(columns={'click': 'impressions'})\n",
    "df_c1['clicks'] = df_click[['C1','click']].groupby(['C1']).count().reset_index()['click']\n",
    "df_c1['CTR'] = df_c1['clicks']/df_c1['impressions']*100\n",
    "\n",
    "plt.figure(figsize=(12,6))\n",
    "sns.barplot(y='CTR', x='C1', data=df_c1)\n",
    "plt.title('CTR by C1');"
   ]
  },
  {
   "cell_type": "markdown",
   "metadata": {},
   "source": [
    "The average CTR in the data is 0.17."
   ]
  },
  {
   "cell_type": "code",
   "execution_count": 98,
   "metadata": {},
   "outputs": [
    {
     "data": {
      "text/plain": [
       "0.169577"
      ]
     },
     "execution_count": 98,
     "metadata": {},
     "output_type": "execute_result"
    }
   ],
   "source": [
    "train['click'].mean()"
   ]
  },
  {
   "cell_type": "code",
   "execution_count": 25,
   "metadata": {},
   "outputs": [
    {
     "data": {
      "text/plain": [
       "count     7.000000\n",
       "mean     12.349054\n",
       "std       7.041038\n",
       "min       2.040816\n",
       "25%       7.154762\n",
       "50%      15.322581\n",
       "75%      16.802959\n",
       "max      21.164540\n",
       "Name: CTR, dtype: float64"
      ]
     },
     "execution_count": 25,
     "metadata": {},
     "output_type": "execute_result"
    }
   ],
   "source": [
    "df_c1.CTR.describe()"
   ]
  },
  {
   "cell_type": "markdown",
   "metadata": {},
   "source": [
    "The important C1 values and CTR pairs are:\n",
    "\n",
    "1005: 92% of the data and 0.17 CTR\n",
    "\n",
    "1002: 5.5% of the data and 0.21 CTR\n",
    "\n",
    "1010: 2.3% of the data and 0.096 CTR\n",
    "\n",
    "1002 has a much higher than average CTR, and 1010 has a much lower than average CTR, it seems these two C1 values are important for predicting CTR."
   ]
  },
  {
   "cell_type": "markdown",
   "metadata": {},
   "source": [
    "### Banner position\n",
    "\n",
    "I have heard that there are many factors that affect the performance of your banner ads, but the most influential one is the banner position. Let's see whether it is true."
   ]
  },
  {
   "cell_type": "code",
   "execution_count": 26,
   "metadata": {},
   "outputs": [
    {
     "name": "stdout",
     "output_type": "stream",
     "text": [
      "0    0.718949\n",
      "1    0.279209\n",
      "7    0.001108\n",
      "2    0.000361\n",
      "4    0.000200\n",
      "5    0.000124\n",
      "3    0.000049\n",
      "Name: banner_pos, dtype: float64\n"
     ]
    }
   ],
   "source": [
    "print(train.banner_pos.value_counts()/len(train))"
   ]
  },
  {
   "cell_type": "code",
   "execution_count": 27,
   "metadata": {},
   "outputs": [
    {
     "name": "stdout",
     "output_type": "stream",
     "text": [
      "for banner position: 0,  click through rate: 0.16418828039262867\n",
      "for banner position: 1,  click through rate: 0.18292748442922685\n",
      "for banner position: 2,  click through rate: 0.09695290858725762\n",
      "for banner position: 3,  click through rate: 0.1836734693877551\n",
      "for banner position: 4,  click through rate: 0.185\n",
      "for banner position: 5,  click through rate: 0.1532258064516129\n",
      "for banner position: 7,  click through rate: 0.3240072202166065\n"
     ]
    }
   ],
   "source": [
    "banner_pos = train.banner_pos.unique()\n",
    "banner_pos.sort()\n",
    "ctr_avg_list=[]\n",
    "for i in banner_pos:\n",
    "    ctr_avg=train.loc[np.where((train.banner_pos == i))].click.mean()\n",
    "    ctr_avg_list.append(ctr_avg)\n",
    "    print(\"for banner position: {},  click through rate: {}\".format(i,ctr_avg))"
   ]
  },
  {
   "cell_type": "markdown",
   "metadata": {},
   "source": [
    "The important banner positions are:\n",
    "\n",
    "position 0: 72% of the data and 0.16 CTR\n",
    "\n",
    "position 1: 28% of the data and 0.18 CTR"
   ]
  },
  {
   "cell_type": "code",
   "execution_count": 28,
   "metadata": {},
   "outputs": [
    {
     "data": {
      "image/png": "[encoded data removed]",
      "text/plain": [
       "<matplotlib.figure.Figure at 0x1c2232192e8>"
      ]
     },
     "metadata": {},
     "output_type": "display_data"
    }
   ],
   "source": [
    "train.groupby(['banner_pos', 'click']).size().unstack().plot(kind='bar', figsize=(12,6), title='banner position histogram');"
   ]
  },
  {
   "cell_type": "code",
   "execution_count": 29,
   "metadata": {},
   "outputs": [
    {
     "data": {
      "image/png": "[encoded data removed]",
      "text/plain": [
       "<matplotlib.figure.Figure at 0x1c223ff19b0>"
      ]
     },
     "metadata": {},
     "output_type": "display_data"
    }
   ],
   "source": [
    "df_banner = train[['banner_pos','click']].groupby(['banner_pos']).count().reset_index()\n",
    "df_banner = df_banner.rename(columns={'click': 'impressions'})\n",
    "df_banner['clicks'] = df_click[['banner_pos','click']].groupby(['banner_pos']).count().reset_index()['click']\n",
    "df_banner['CTR'] = df_banner['clicks']/df_banner['impressions']*100\n",
    "sort_banners = df_banner.sort_values(by='CTR',ascending=False)['banner_pos'].tolist()\n",
    "plt.figure(figsize=(12,6))\n",
    "sns.barplot(y='CTR', x='banner_pos', data=df_banner, order=sort_banners)\n",
    "plt.title('CTR by banner position');"
   ]
  },
  {
   "cell_type": "code",
   "execution_count": 30,
   "metadata": {},
   "outputs": [
    {
     "data": {
      "text/plain": [
       "count     7.000000\n",
       "mean     18.428217\n",
       "std       6.894499\n",
       "min       9.695291\n",
       "25%      15.870704\n",
       "50%      18.292748\n",
       "75%      18.433673\n",
       "max      32.400722\n",
       "Name: CTR, dtype: float64"
      ]
     },
     "execution_count": 30,
     "metadata": {},
     "output_type": "execute_result"
    }
   ],
   "source": [
    "df_banner.CTR.describe()"
   ]
  },
  {
   "cell_type": "markdown",
   "metadata": {},
   "source": [
    "Although banner position 0 and 1 have the highest number of impressions and clicks, banner 7 enjoys the highest click through rate. Increasing the number of ads placed on banner position 7 seems to be a good idea."
   ]
  },
  {
   "cell_type": "markdown",
   "metadata": {},
   "source": [
    "### Site features\n",
    "\n",
    "#### site id"
   ]
  },
  {
   "cell_type": "code",
   "execution_count": 31,
   "metadata": {},
   "outputs": [
    {
     "name": "stdout",
     "output_type": "stream",
     "text": [
      "There are 2624 sites in the data set\n"
     ]
    }
   ],
   "source": [
    "print(\"There are {} sites in the data set\".format(train.site_id.nunique()))"
   ]
  },
  {
   "cell_type": "code",
   "execution_count": 32,
   "metadata": {},
   "outputs": [
    {
     "name": "stdout",
     "output_type": "stream",
     "text": [
      "The top 10 site ids that have the most impressions\n",
      "85f751fd    0.360413\n",
      "1fbe01fe    0.159926\n",
      "e151e245    0.064992\n",
      "d9750ee7    0.024076\n",
      "5b08c53b    0.022792\n",
      "5b4d2eda    0.019417\n",
      "856e6d3f    0.019001\n",
      "a7853007    0.011380\n",
      "b7e9786d    0.009176\n",
      "6399eda6    0.008599\n",
      "Name: site_id, dtype: float64\n"
     ]
    }
   ],
   "source": [
    "print('The top 10 site ids that have the most impressions')\n",
    "print((train.site_id.value_counts()/len(train))[0:10])"
   ]
  },
  {
   "cell_type": "code",
   "execution_count": 33,
   "metadata": {},
   "outputs": [
    {
     "name": "stdout",
     "output_type": "stream",
     "text": [
      "for site id value: 85f751fd,  click through rate: 0.1196266505370228\n",
      "for site id value: 1fbe01fe,  click through rate: 0.2047071770693946\n",
      "for site id value: e151e245,  click through rate: 0.2956363860167405\n",
      "for site id value: d9750ee7,  click through rate: 0.28310350556570857\n",
      "for site id value: 5b08c53b,  click through rate: 0.4668304668304668\n",
      "for site id value: 5b4d2eda,  click through rate: 0.12432404593912551\n",
      "for site id value: 856e6d3f,  click through rate: 0.040629440555760225\n",
      "for site id value: a7853007,  click through rate: 0.10439367311072056\n",
      "for site id value: b7e9786d,  click through rate: 0.07301656495204882\n",
      "for site id value: 6399eda6,  click through rate: 0.10291894406326317\n"
     ]
    }
   ],
   "source": [
    "top10_ids = (train.site_id.value_counts()/len(train))[0:10].index\n",
    "click_avg_list=[]\n",
    "\n",
    "for i in top10_ids:\n",
    "    click_avg=train.loc[np.where((train.site_id == i))].click.mean()\n",
    "    click_avg_list.append(click_avg)\n",
    "    print(\"for site id value: {},  click through rate: {}\".format(i,click_avg))"
   ]
  },
  {
   "cell_type": "code",
   "execution_count": 34,
   "metadata": {},
   "outputs": [
    {
     "data": {
      "image/png": "[encoded data removed]",
      "text/plain": [
       "<matplotlib.figure.Figure at 0x1c223b33048>"
      ]
     },
     "metadata": {},
     "output_type": "display_data"
    }
   ],
   "source": [
    "top10_sites = train[(train.site_id.isin((train.site_id.value_counts()/len(train))[0:10].index))]\n",
    "top10_sites_click = top10_sites[top10_sites['click'] == 1]\n",
    "top10_sites.groupby(['site_id', 'click']).size().unstack().plot(kind='bar', figsize=(12,6), title='Top 10 site ids histogram');"
   ]
  },
  {
   "cell_type": "code",
   "execution_count": 35,
   "metadata": {},
   "outputs": [
    {
     "data": {
      "image/png": "[encoded data removed]",
      "text/plain": [
       "<matplotlib.figure.Figure at 0x1c247af20f0>"
      ]
     },
     "metadata": {},
     "output_type": "display_data"
    }
   ],
   "source": [
    "df_site = top10_sites[['site_id','click']].groupby(['site_id']).count().reset_index()\n",
    "df_site = df_site.rename(columns={'click': 'impressions'})\n",
    "df_site['clicks'] = top10_sites_click[['site_id','click']].groupby(['site_id']).count().reset_index()['click']\n",
    "df_site['CTR'] = df_site['clicks']/df_site['impressions']*100\n",
    "sort_site = df_site.sort_values(by='CTR',ascending=False)['site_id'].tolist()\n",
    "plt.figure(figsize=(12,6))\n",
    "sns.barplot(y='CTR', x='site_id', data=df_site, order=sort_site)\n",
    "plt.title('CTR by top 10 site id');"
   ]
  },
  {
   "cell_type": "markdown",
   "metadata": {},
   "source": [
    "The site_id feature seems important because the CTR for the top 10 sites, some as high as 0.47, and some as low as 0.04, and they are significantly different from overall CTR 0.16."
   ]
  },
  {
   "cell_type": "markdown",
   "metadata": {},
   "source": [
    "#### site domain "
   ]
  },
  {
   "cell_type": "code",
   "execution_count": 36,
   "metadata": {},
   "outputs": [
    {
     "name": "stdout",
     "output_type": "stream",
     "text": [
      "There are 2856 site domains in the data set\n"
     ]
    }
   ],
   "source": [
    "print(\"There are {} site domains in the data set\".format(train.site_domain.nunique()))"
   ]
  },
  {
   "cell_type": "code",
   "execution_count": 37,
   "metadata": {},
   "outputs": [
    {
     "name": "stdout",
     "output_type": "stream",
     "text": [
      "The top 10 site domains that have the most impressions\n",
      "c4e18dd6    0.373743\n",
      "f3845767    0.159926\n",
      "7e091613    0.081999\n",
      "7687a86e    0.032128\n",
      "98572c79    0.024894\n",
      "16a36ef3    0.021436\n",
      "58a89a43    0.019001\n",
      "b12b9f85    0.009287\n",
      "9d54950b    0.009274\n",
      "17d996e6    0.008683\n",
      "Name: site_domain, dtype: float64\n"
     ]
    }
   ],
   "source": [
    "print('The top 10 site domains that have the most impressions')\n",
    "print((train.site_domain.value_counts()/len(train))[0:10])"
   ]
  },
  {
   "cell_type": "code",
   "execution_count": 38,
   "metadata": {},
   "outputs": [
    {
     "name": "stdout",
     "output_type": "stream",
     "text": [
      "for site domain value: c4e18dd6,  click through rate: 0.12354746443411649\n",
      "for site domain value: f3845767,  click through rate: 0.2047071770693946\n",
      "for site domain value: 7e091613,  click through rate: 0.2581494896279223\n",
      "for site domain value: 7687a86e,  click through rate: 0.4607507470119522\n",
      "for site domain value: 98572c79,  click through rate: 0.2777777777777778\n",
      "for site domain value: 16a36ef3,  click through rate: 0.13509983205821982\n",
      "for site domain value: 58a89a43,  click through rate: 0.040629440555760225\n",
      "for site domain value: b12b9f85,  click through rate: 0.07408205017766771\n",
      "for site domain value: 9d54950b,  click through rate: 0.11063187405650204\n",
      "for site domain value: 17d996e6,  click through rate: 0.32120234941840375\n"
     ]
    }
   ],
   "source": [
    "top10_domains = (train.site_domain.value_counts()/len(train))[0:10].index\n",
    "click_avg_list=[]\n",
    "\n",
    "for i in top10_domains:\n",
    "    click_avg=train.loc[np.where((train.site_domain == i))].click.mean()\n",
    "    click_avg_list.append(click_avg)\n",
    "    print(\"for site domain value: {},  click through rate: {}\".format(i,click_avg))"
   ]
  },
  {
   "cell_type": "code",
   "execution_count": 39,
   "metadata": {},
   "outputs": [
    {
     "data": {
      "image/png": "[encoded data removed]",
      "text/plain": [
       "<matplotlib.figure.Figure at 0x1c247b504a8>"
      ]
     },
     "metadata": {},
     "output_type": "display_data"
    }
   ],
   "source": [
    "top10_domain = train[(train.site_domain.isin((train.site_domain.value_counts()/len(train))[0:10].index))]\n",
    "top10_domain_click = top10_domain[top10_domain['click'] == 1]\n",
    "top10_domain.groupby(['site_domain', 'click']).size().unstack().plot(kind='bar', figsize=(12,6), title='Top 10 site domains histogram');"
   ]
  },
  {
   "cell_type": "code",
   "execution_count": 40,
   "metadata": {},
   "outputs": [
    {
     "data": {
      "image/png": "[encoded data removed]",
      "text/plain": [
       "<matplotlib.figure.Figure at 0x1c247cb6780>"
      ]
     },
     "metadata": {},
     "output_type": "display_data"
    }
   ],
   "source": [
    "df_domain = top10_domain[['site_domain','click']].groupby(['site_domain']).count().reset_index()\n",
    "df_domain = df_domain.rename(columns={'click': 'impressions'})\n",
    "df_domain['clicks'] = top10_domain_click[['site_domain','click']].groupby(['site_domain']).count().reset_index()['click']\n",
    "df_domain['CTR'] = df_domain['clicks']/df_domain['impressions']*100\n",
    "sort_domain = df_domain.sort_values(by='CTR',ascending=False)['site_domain'].tolist()\n",
    "plt.figure(figsize=(12,6))\n",
    "sns.barplot(y='CTR', x='site_domain', data=df_domain, order=sort_domain)\n",
    "plt.title('CTR by top 10 site domain');"
   ]
  },
  {
   "cell_type": "markdown",
   "metadata": {},
   "source": [
    "Similar with the site_id feature, the site_domain feature seems important as well."
   ]
  },
  {
   "cell_type": "markdown",
   "metadata": {},
   "source": [
    "#### site category"
   ]
  },
  {
   "cell_type": "code",
   "execution_count": 41,
   "metadata": {},
   "outputs": [
    {
     "name": "stdout",
     "output_type": "stream",
     "text": [
      "There are 22 site categories in the data set\n"
     ]
    }
   ],
   "source": [
    "print(\"There are {} site categories in the data set\".format(train.site_category.nunique()))"
   ]
  },
  {
   "cell_type": "code",
   "execution_count": 42,
   "metadata": {},
   "outputs": [
    {
     "name": "stdout",
     "output_type": "stream",
     "text": [
      "The top 10 site categories that have the most impressions\n",
      "50e219e0    0.408487\n",
      "f028772b    0.313889\n",
      "28905ebd    0.181906\n",
      "3e814130    0.075684\n",
      "f66779e6    0.006175\n",
      "75fa27f6    0.003969\n",
      "335d28a8    0.003412\n",
      "76b2941d    0.002638\n",
      "c0dd3be3    0.001082\n",
      "72722551    0.000697\n",
      "Name: site_category, dtype: float64\n"
     ]
    }
   ],
   "source": [
    "print('The top 10 site categories that have the most impressions')\n",
    "print((train.site_category.value_counts()/len(train))[0:10])"
   ]
  },
  {
   "cell_type": "code",
   "execution_count": 43,
   "metadata": {},
   "outputs": [
    {
     "name": "stdout",
     "output_type": "stream",
     "text": [
      "for site category value: 50e219e0,  click through rate: 0.1293725381713494\n",
      "for site category value: f028772b,  click through rate: 0.1783401138619066\n",
      "for site category value: 28905ebd,  click through rate: 0.20682110540608886\n",
      "for site category value: 3e814130,  click through rate: 0.2840758945087469\n",
      "for site category value: f66779e6,  click through rate: 0.04\n",
      "for site category value: 75fa27f6,  click through rate: 0.1111111111111111\n",
      "for site category value: 335d28a8,  click through rate: 0.08997655334114889\n",
      "for site category value: 76b2941d,  click through rate: 0.02312357846853677\n",
      "for site category value: c0dd3be3,  click through rate: 0.10536044362292052\n",
      "for site category value: 72722551,  click through rate: 0.06312769010043041\n"
     ]
    }
   ],
   "source": [
    "top10_categories = (train.site_category.value_counts()/len(train))[0:10].index\n",
    "click_avg_list=[]\n",
    "\n",
    "for i in top10_categories:\n",
    "    click_avg=train.loc[np.where((train.site_category == i))].click.mean()\n",
    "    click_avg_list.append(click_avg)\n",
    "    print(\"for site category value: {},  click through rate: {}\".format(i,click_avg))"
   ]
  },
  {
   "cell_type": "code",
   "execution_count": 44,
   "metadata": {},
   "outputs": [
    {
     "data": {
      "image/png": "[encoded data removed]",
      "text/plain": [
       "<matplotlib.figure.Figure at 0x1c247c14a20>"
      ]
     },
     "metadata": {},
     "output_type": "display_data"
    }
   ],
   "source": [
    "top10_category = train[(train.site_category.isin((train.site_category.value_counts()/len(train))[0:10].index))]\n",
    "top10_category_click = top10_category[top10_category['click'] == 1]\n",
    "top10_category.groupby(['site_category', 'click']).size().unstack().plot(kind='bar', figsize=(12,6), title='Top 10 site categories histogram');"
   ]
  },
  {
   "cell_type": "code",
   "execution_count": 45,
   "metadata": {},
   "outputs": [
    {
     "data": {
      "image/png": "[encoded data removed]",
      "text/plain": [
       "<matplotlib.figure.Figure at 0x1c247b70a58>"
      ]
     },
     "metadata": {},
     "output_type": "display_data"
    }
   ],
   "source": [
    "df_category = top10_category[['site_category','click']].groupby(['site_category']).count().reset_index()\n",
    "df_category = df_category.rename(columns={'click': 'impressions'})\n",
    "df_category['clicks'] = top10_category_click[['site_category','click']].groupby(['site_category']).count().reset_index()['click']\n",
    "df_category['CTR'] = df_category['clicks']/df_category['impressions']*100\n",
    "sort_category = df_category.sort_values(by='CTR',ascending=False)['site_category'].tolist()\n",
    "plt.figure(figsize=(12,6))\n",
    "sns.barplot(y='CTR', x='site_category', data=df_category, order=sort_category)\n",
    "plt.title('CTR by top 10 site category');"
   ]
  },
  {
   "cell_type": "markdown",
   "metadata": {},
   "source": [
    "### Device features\n",
    "\n",
    "#### device id"
   ]
  },
  {
   "cell_type": "code",
   "execution_count": 46,
   "metadata": {},
   "outputs": [
    {
     "name": "stdout",
     "output_type": "stream",
     "text": [
      "There are 150331 devices in the data set\n"
     ]
    }
   ],
   "source": [
    "print(\"There are {} devices in the data set\".format(train.device_id.nunique()))"
   ]
  },
  {
   "cell_type": "code",
   "execution_count": 47,
   "metadata": {},
   "outputs": [
    {
     "name": "stdout",
     "output_type": "stream",
     "text": [
      "The top 10 devices that have the most impressions\n",
      "a99f214a    0.825328\n",
      "0f7c61dc    0.000557\n",
      "c357dbff    0.000474\n",
      "936e92fb    0.000352\n",
      "afeffc18    0.000212\n",
      "cef4c8cc    0.000107\n",
      "987552d1    0.000106\n",
      "28dc8687    0.000101\n",
      "d857ffbb    0.000097\n",
      "b09da1c4    0.000094\n",
      "Name: device_id, dtype: float64\n"
     ]
    }
   ],
   "source": [
    "print('The top 10 devices that have the most impressions')\n",
    "print((train.device_id.value_counts()/len(train))[0:10])"
   ]
  },
  {
   "cell_type": "code",
   "execution_count": 48,
   "metadata": {},
   "outputs": [
    {
     "name": "stdout",
     "output_type": "stream",
     "text": [
      "for device id value: a99f214a,  click through rate: 0.1735952251710835\n",
      "for device id value: 0f7c61dc,  click through rate: 0.7432675044883303\n",
      "for device id value: c357dbff,  click through rate: 0.6540084388185654\n",
      "for device id value: 936e92fb,  click through rate: 0.0625\n",
      "for device id value: afeffc18,  click through rate: 0.21226415094339623\n",
      "for device id value: cef4c8cc,  click through rate: 0.2523364485981308\n",
      "for device id value: 987552d1,  click through rate: 0.0\n",
      "for device id value: 28dc8687,  click through rate: 0.0\n",
      "for device id value: d857ffbb,  click through rate: 0.18556701030927836\n",
      "for device id value: b09da1c4,  click through rate: 0.14893617021276595\n"
     ]
    }
   ],
   "source": [
    "top10_devices = (train.device_id.value_counts()/len(train))[0:10].index\n",
    "click_avg_list=[]\n",
    "\n",
    "for i in top10_devices:\n",
    "    click_avg=train.loc[np.where((train.device_id == i))].click.mean()\n",
    "    click_avg_list.append(click_avg)\n",
    "    print(\"for device id value: {},  click through rate: {}\".format(i,click_avg))"
   ]
  },
  {
   "cell_type": "code",
   "execution_count": 49,
   "metadata": {},
   "outputs": [
    {
     "data": {
      "image/png": "[encoded data removed]",
      "text/plain": [
       "<matplotlib.figure.Figure at 0x1c290c74400>"
      ]
     },
     "metadata": {},
     "output_type": "display_data"
    }
   ],
   "source": [
    "top10_device = train[(train.device_id.isin((train.device_id.value_counts()/len(train))[0:10].index))]\n",
    "top10_device_click = top10_device[top10_device['click'] == 1]\n",
    "top10_device.groupby(['device_id', 'click']).size().unstack().plot(kind='bar', figsize=(12,6), title='Top 10 device ids histogram');"
   ]
  },
  {
   "cell_type": "markdown",
   "metadata": {},
   "source": [
    "You will see that most of device_id is a99f214a : Approx. 83% of the data, and the second major device_id is only 0.05% of the data. And there are some extremely high CTR here with device id at 0f7c61dc."
   ]
  },
  {
   "cell_type": "markdown",
   "metadata": {},
   "source": [
    "#### device ip\n",
    "\n",
    "Device ip is more of a users ip address, so, there are a lot of them."
   ]
  },
  {
   "cell_type": "code",
   "execution_count": 55,
   "metadata": {},
   "outputs": [
    {
     "name": "stdout",
     "output_type": "stream",
     "text": [
      "There are 555038 device ips in the data set\n",
      "There are 5 device types in the data set\n",
      "There are 5166 device models in the data set\n",
      "There are 4 device cnn types in the data set\n"
     ]
    }
   ],
   "source": [
    "print(\"There are {} device ips in the data set\".format(train.device_ip.nunique()))\n",
    "print(\"There are {} device types in the data set\".format(train.device_type.nunique()))\n",
    "print(\"There are {} device models in the data set\".format(train.device_model.nunique()))\n",
    "print(\"There are {} device cnn types in the data set\".format(train.device_conn_type.nunique()))"
   ]
  },
  {
   "cell_type": "markdown",
   "metadata": {},
   "source": [
    "#### device type"
   ]
  },
  {
   "cell_type": "code",
   "execution_count": 58,
   "metadata": {},
   "outputs": [
    {
     "name": "stdout",
     "output_type": "stream",
     "text": [
      "The impressions by device types\n",
      "1    0.922559\n",
      "0    0.055026\n",
      "4    0.019242\n",
      "5    0.003172\n",
      "2    0.000001\n",
      "Name: device_type, dtype: float64\n"
     ]
    }
   ],
   "source": [
    "print('The impressions by device types')\n",
    "print((train.device_type.value_counts()/len(train)))"
   ]
  },
  {
   "cell_type": "code",
   "execution_count": 57,
   "metadata": {},
   "outputs": [
    {
     "data": {
      "image/png": "[encoded data removed]",
      "text/plain": [
       "<matplotlib.figure.Figure at 0x1c2b82c4a20>"
      ]
     },
     "metadata": {},
     "output_type": "display_data"
    }
   ],
   "source": [
    "train[['device_type','click']].groupby(['device_type','click']).size().unstack().plot(kind='bar', title='device types');"
   ]
  },
  {
   "cell_type": "markdown",
   "metadata": {},
   "source": [
    "Device type 1 gets the most impressions and clicks. And the other device types only get the minimum impressions and clicks. We may want to look in more details about device type 1. "
   ]
  },
  {
   "cell_type": "code",
   "execution_count": 66,
   "metadata": {
    "scrolled": false
   },
   "outputs": [
    {
     "data": {
      "image/png": "[encoded data removed]",
      "text/plain": [
       "<matplotlib.figure.Figure at 0x1c2b8b597b8>"
      ]
     },
     "metadata": {},
     "output_type": "display_data"
    }
   ],
   "source": [
    "df_click[df_click['device_type']==1].groupby(['hour_of_day', 'click']).size().unstack().plot(kind='bar', title=\"Clicks from device type 1 by hour of day\", figsize=(12,6));"
   ]
  },
  {
   "cell_type": "markdown",
   "metadata": {},
   "source": [
    "As expected, most clicks happened during the business hours from device type 1. device type is definitely an important feature. "
   ]
  },
  {
   "cell_type": "code",
   "execution_count": 71,
   "metadata": {},
   "outputs": [],
   "source": [
    "device_type_click = df_click.groupby('device_type').agg({'click':'sum'}).reset_index()\n",
    "device_type_impression = train.groupby('device_type').agg({'click':'count'}).reset_index().rename(columns={'click': 'impressions'})\n",
    "merged_device_type = pd.merge(left = device_type_click , right = device_type_impression, how = 'inner', on = 'device_type')"
   ]
  },
  {
   "cell_type": "code",
   "execution_count": 75,
   "metadata": {},
   "outputs": [],
   "source": [
    "merged_device_type['CTR'] = merged_device_type['click'] / merged_device_type['impressions']*100"
   ]
  },
  {
   "cell_type": "code",
   "execution_count": 76,
   "metadata": {},
   "outputs": [
    {
     "data": {
      "text/html": [
       "<div>\n",
       "<style scoped>\n",
       "    .dataframe tbody tr th:only-of-type {\n",
       "        vertical-align: middle;\n",
       "    }\n",
       "\n",
       "    .dataframe tbody tr th {\n",
       "        vertical-align: top;\n",
       "    }\n",
       "\n",
       "    .dataframe thead th {\n",
       "        text-align: right;\n",
       "    }\n",
       "</style>\n",
       "<table border=\"1\" class=\"dataframe\">\n",
       "  <thead>\n",
       "    <tr style=\"text-align: right;\">\n",
       "      <th></th>\n",
       "      <th>device_type</th>\n",
       "      <th>click</th>\n",
       "      <th>impressions</th>\n",
       "      <th>CTR</th>\n",
       "    </tr>\n",
       "  </thead>\n",
       "  <tbody>\n",
       "    <tr>\n",
       "      <th>0</th>\n",
       "      <td>0</td>\n",
       "      <td>11646</td>\n",
       "      <td>55026</td>\n",
       "      <td>21.164540</td>\n",
       "    </tr>\n",
       "    <tr>\n",
       "      <th>1</th>\n",
       "      <td>1</td>\n",
       "      <td>155802</td>\n",
       "      <td>922559</td>\n",
       "      <td>16.888026</td>\n",
       "    </tr>\n",
       "    <tr>\n",
       "      <th>2</th>\n",
       "      <td>4</td>\n",
       "      <td>1829</td>\n",
       "      <td>19242</td>\n",
       "      <td>9.505249</td>\n",
       "    </tr>\n",
       "    <tr>\n",
       "      <th>3</th>\n",
       "      <td>5</td>\n",
       "      <td>300</td>\n",
       "      <td>3172</td>\n",
       "      <td>9.457755</td>\n",
       "    </tr>\n",
       "  </tbody>\n",
       "</table>\n",
       "</div>"
      ],
      "text/plain": [
       "   device_type   click  impressions        CTR\n",
       "0            0   11646        55026  21.164540\n",
       "1            1  155802       922559  16.888026\n",
       "2            4    1829        19242   9.505249\n",
       "3            5     300         3172   9.457755"
      ]
     },
     "execution_count": 76,
     "metadata": {},
     "output_type": "execute_result"
    }
   ],
   "source": [
    "merged_device_type"
   ]
  },
  {
   "cell_type": "markdown",
   "metadata": {},
   "source": [
    "The highest CTR comes from device type 0."
   ]
  },
  {
   "cell_type": "markdown",
   "metadata": {},
   "source": [
    "#### app features"
   ]
  },
  {
   "cell_type": "code",
   "execution_count": 80,
   "metadata": {},
   "outputs": [
    {
     "name": "stdout",
     "output_type": "stream",
     "text": [
      "There are 3098 apps in the data set\n",
      "There are 185 app domains in the data set\n",
      "There are 25 app categories in the data set\n"
     ]
    }
   ],
   "source": [
    "print(\"There are {} apps in the data set\".format(train.app_id.nunique()))\n",
    "print(\"There are {} app domains in the data set\".format(train.app_domain.nunique()))\n",
    "print(\"There are {} app categories in the data set\".format(train.app_category.nunique()))"
   ]
  },
  {
   "cell_type": "markdown",
   "metadata": {},
   "source": [
    "Looks like app category something worth to explore."
   ]
  },
  {
   "cell_type": "code",
   "execution_count": 81,
   "metadata": {},
   "outputs": [
    {
     "name": "stdout",
     "output_type": "stream",
     "text": [
      "The impressions by app categories\n",
      "07d7df22    0.647835\n",
      "0f2161f8    0.236489\n",
      "cef3e649    0.042549\n",
      "8ded1f7a    0.036035\n",
      "f95efa07    0.028202\n",
      "d1327cf5    0.003043\n",
      "dc97ec06    0.001385\n",
      "09481d60    0.001359\n",
      "75d80bbe    0.000960\n",
      "fc6fa53d    0.000566\n",
      "4ce2e9fc    0.000502\n",
      "879c24eb    0.000283\n",
      "a3c42688    0.000277\n",
      "4681bb9d    0.000163\n",
      "0f9a328c    0.000129\n",
      "a86a3e89    0.000070\n",
      "2281a340    0.000053\n",
      "8df2e842    0.000039\n",
      "79f0b860    0.000015\n",
      "0bfbc358    0.000011\n",
      "2fc4f2aa    0.000010\n",
      "7113d72a    0.000009\n",
      "a7fd01ec    0.000008\n",
      "18b1e0be    0.000004\n",
      "5326cf99    0.000004\n",
      "Name: app_category, dtype: float64\n"
     ]
    }
   ],
   "source": [
    "print('The impressions by app categories')\n",
    "print((train.app_category.value_counts()/len(train)))"
   ]
  },
  {
   "cell_type": "code",
   "execution_count": 83,
   "metadata": {},
   "outputs": [
    {
     "data": {
      "text/plain": [
       "<matplotlib.axes._subplots.AxesSubplot at 0x1c2c4a002b0>"
      ]
     },
     "execution_count": 83,
     "metadata": {},
     "output_type": "execute_result"
    },
    {
     "data": {
      "image/png": "[encoded data removed]",
      "text/plain": [
       "<matplotlib.figure.Figure at 0x1c2c49e88d0>"
      ]
     },
     "metadata": {},
     "output_type": "display_data"
    }
   ],
   "source": [
    "train['app_category'].value_counts().plot(kind='bar', title='App Category v/s Clicks')"
   ]
  },
  {
   "cell_type": "code",
   "execution_count": 89,
   "metadata": {},
   "outputs": [
    {
     "data": {
      "image/png": "[encoded data removed]",
      "text/plain": [
       "<matplotlib.figure.Figure at 0x1c2c5033c50>"
      ]
     },
     "metadata": {},
     "output_type": "display_data"
    }
   ],
   "source": [
    "train_app_category = train.groupby(['app_category', 'click']).size().unstack()\n",
    "train_app_category.div(train_app_category.sum(axis=1), axis=0).plot(kind='bar', stacked=True, title=\"Intra-category CTR\");"
   ]
  },
  {
   "cell_type": "markdown",
   "metadata": {},
   "source": [
    "#### C14 - C21 features"
   ]
  },
  {
   "cell_type": "code",
   "execution_count": 94,
   "metadata": {},
   "outputs": [
    {
     "name": "stdout",
     "output_type": "stream",
     "text": [
      "There are 2253 C14 in the data set\n",
      "There are 8 C15 in the data set\n",
      "There are 9 C16 in the data set\n",
      "There are 421 C17 in the data set\n",
      "There are 4 C18 in the data set\n",
      "There are 66 C19 in the data set\n",
      "There are 162 C20 in the data set\n"
     ]
    }
   ],
   "source": [
    "print(\"There are {} C14 in the data set\".format(train.C14.nunique()))\n",
    "print(\"There are {} C15 in the data set\".format(train.C15.nunique()))\n",
    "print(\"There are {} C16 in the data set\".format(train.C16.nunique()))\n",
    "print(\"There are {} C17 in the data set\".format(train.C17.nunique()))\n",
    "print(\"There are {} C18 in the data set\".format(train.C18.nunique()))\n",
    "print(\"There are {} C19 in the data set\".format(train.C19.nunique()))\n",
    "print(\"There are {} C20 in the data set\".format(train.C20.nunique()))"
   ]
  },
  {
   "cell_type": "code",
   "execution_count": 95,
   "metadata": {},
   "outputs": [
    {
     "data": {
      "image/png": "[encoded data removed]",
      "text/plain": [
       "<matplotlib.figure.Figure at 0x1c2c52989b0>"
      ]
     },
     "metadata": {},
     "output_type": "display_data"
    }
   ],
   "source": [
    "train.groupby(['C15', 'click']).size().unstack().plot(kind='bar', stacked=True, title='C15 distribution');"
   ]
  },
  {
   "cell_type": "code",
   "execution_count": 96,
   "metadata": {},
   "outputs": [
    {
     "data": {
      "image/png": "[encoded data removed]",
      "text/plain": [
       "<matplotlib.figure.Figure at 0x1c2c5545710>"
      ]
     },
     "metadata": {},
     "output_type": "display_data"
    }
   ],
   "source": [
    "train.groupby(['C16', 'click']).size().unstack().plot(kind='bar', stacked=True, title='C16 distribution');"
   ]
  },
  {
   "cell_type": "code",
   "execution_count": 97,
   "metadata": {},
   "outputs": [
    {
     "data": {
      "image/png": "[encoded data removed]",
      "text/plain": [
       "<matplotlib.figure.Figure at 0x1c2c635b390>"
      ]
     },
     "metadata": {},
     "output_type": "display_data"
    }
   ],
   "source": [
    "train.groupby(['C18', 'click']).size().unstack().plot(kind='bar', stacked=True, title='C18 distribution');"
   ]
  },
  {
   "cell_type": "code",
   "execution_count": 99,
   "metadata": {},
   "outputs": [
    {
     "data": {
      "text/html": [
       "<div>\n",
       "<style scoped>\n",
       "    .dataframe tbody tr th:only-of-type {\n",
       "        vertical-align: middle;\n",
       "    }\n",
       "\n",
       "    .dataframe tbody tr th {\n",
       "        vertical-align: top;\n",
       "    }\n",
       "\n",
       "    .dataframe thead th {\n",
       "        text-align: right;\n",
       "    }\n",
       "</style>\n",
       "<table border=\"1\" class=\"dataframe\">\n",
       "  <thead>\n",
       "    <tr style=\"text-align: right;\">\n",
       "      <th></th>\n",
       "      <th>id</th>\n",
       "      <th>click</th>\n",
       "      <th>hour</th>\n",
       "      <th>C1</th>\n",
       "      <th>banner_pos</th>\n",
       "      <th>site_id</th>\n",
       "      <th>site_domain</th>\n",
       "      <th>site_category</th>\n",
       "      <th>app_id</th>\n",
       "      <th>app_domain</th>\n",
       "      <th>...</th>\n",
       "      <th>C14</th>\n",
       "      <th>C15</th>\n",
       "      <th>C16</th>\n",
       "      <th>C17</th>\n",
       "      <th>C18</th>\n",
       "      <th>C19</th>\n",
       "      <th>C20</th>\n",
       "      <th>C21</th>\n",
       "      <th>hour_of_day</th>\n",
       "      <th>day_of_week</th>\n",
       "    </tr>\n",
       "  </thead>\n",
       "  <tbody>\n",
       "    <tr>\n",
       "      <th>0</th>\n",
       "      <td>601394868</td>\n",
       "      <td>0</td>\n",
       "      <td>2014-10-21</td>\n",
       "      <td>1005</td>\n",
       "      <td>0</td>\n",
       "      <td>030440fe</td>\n",
       "      <td>08ba7db9</td>\n",
       "      <td>76b2941d</td>\n",
       "      <td>ecad2386</td>\n",
       "      <td>7801e8d9</td>\n",
       "      <td>...</td>\n",
       "      <td>18993</td>\n",
       "      <td>320</td>\n",
       "      <td>50</td>\n",
       "      <td>2161</td>\n",
       "      <td>0</td>\n",
       "      <td>35</td>\n",
       "      <td>-1</td>\n",
       "      <td>157</td>\n",
       "      <td>0</td>\n",
       "      <td>Tuesday</td>\n",
       "    </tr>\n",
       "    <tr>\n",
       "      <th>1</th>\n",
       "      <td>-59070594</td>\n",
       "      <td>0</td>\n",
       "      <td>2014-10-21</td>\n",
       "      <td>1005</td>\n",
       "      <td>1</td>\n",
       "      <td>0eb72673</td>\n",
       "      <td>d2f72222</td>\n",
       "      <td>f028772b</td>\n",
       "      <td>ecad2386</td>\n",
       "      <td>7801e8d9</td>\n",
       "      <td>...</td>\n",
       "      <td>16208</td>\n",
       "      <td>320</td>\n",
       "      <td>50</td>\n",
       "      <td>1800</td>\n",
       "      <td>3</td>\n",
       "      <td>167</td>\n",
       "      <td>100075</td>\n",
       "      <td>23</td>\n",
       "      <td>0</td>\n",
       "      <td>Tuesday</td>\n",
       "    </tr>\n",
       "    <tr>\n",
       "      <th>2</th>\n",
       "      <td>-1859646727</td>\n",
       "      <td>0</td>\n",
       "      <td>2014-10-21</td>\n",
       "      <td>1005</td>\n",
       "      <td>0</td>\n",
       "      <td>6c5b482c</td>\n",
       "      <td>7687a86e</td>\n",
       "      <td>3e814130</td>\n",
       "      <td>ecad2386</td>\n",
       "      <td>7801e8d9</td>\n",
       "      <td>...</td>\n",
       "      <td>17654</td>\n",
       "      <td>300</td>\n",
       "      <td>250</td>\n",
       "      <td>1994</td>\n",
       "      <td>2</td>\n",
       "      <td>39</td>\n",
       "      <td>100083</td>\n",
       "      <td>33</td>\n",
       "      <td>0</td>\n",
       "      <td>Tuesday</td>\n",
       "    </tr>\n",
       "  </tbody>\n",
       "</table>\n",
       "<p>3 rows × 26 columns</p>\n",
       "</div>"
      ],
      "text/plain": [
       "           id  click       hour    C1  banner_pos   site_id site_domain  \\\n",
       "0   601394868      0 2014-10-21  1005           0  030440fe    08ba7db9   \n",
       "1   -59070594      0 2014-10-21  1005           1  0eb72673    d2f72222   \n",
       "2 -1859646727      0 2014-10-21  1005           0  6c5b482c    7687a86e   \n",
       "\n",
       "  site_category    app_id app_domain     ...         C14  C15  C16   C17  C18  \\\n",
       "0      76b2941d  ecad2386   7801e8d9     ...       18993  320   50  2161    0   \n",
       "1      f028772b  ecad2386   7801e8d9     ...       16208  320   50  1800    3   \n",
       "2      3e814130  ecad2386   7801e8d9     ...       17654  300  250  1994    2   \n",
       "\n",
       "   C19     C20  C21  hour_of_day  day_of_week  \n",
       "0   35      -1  157            0      Tuesday  \n",
       "1  167  100075   23            0      Tuesday  \n",
       "2   39  100083   33            0      Tuesday  \n",
       "\n",
       "[3 rows x 26 columns]"
      ]
     },
     "execution_count": 99,
     "metadata": {},
     "output_type": "execute_result"
    }
   ],
   "source": [
    "train.head(3)"
   ]
  },
  {
   "cell_type": "code",
   "execution_count": 102,
   "metadata": {},
   "outputs": [],
   "source": [
    "def convert_obj_to_int(self):\n",
    "    \n",
    "    object_list_columns = self.columns\n",
    "    object_list_dtypes = self.dtypes\n",
    "    new_col_suffix = '_int'\n",
    "    for index in range(0,len(object_list_columns)):\n",
    "        if object_list_dtypes[index] == object :\n",
    "            self[object_list_columns[index]+new_col_suffix] = self[object_list_columns[index]].map( lambda  x: hash(x))\n",
    "            self.drop([object_list_columns[index]],inplace=True,axis=1)\n",
    "    return self\n",
    "train = convert_obj_to_int(train)"
   ]
  },
  {
   "cell_type": "code",
   "execution_count": 103,
   "metadata": {},
   "outputs": [
    {
     "data": {
      "text/html": [
       "<div>\n",
       "<style scoped>\n",
       "    .dataframe tbody tr th:only-of-type {\n",
       "        vertical-align: middle;\n",
       "    }\n",
       "\n",
       "    .dataframe tbody tr th {\n",
       "        vertical-align: top;\n",
       "    }\n",
       "\n",
       "    .dataframe thead th {\n",
       "        text-align: right;\n",
       "    }\n",
       "</style>\n",
       "<table border=\"1\" class=\"dataframe\">\n",
       "  <thead>\n",
       "    <tr style=\"text-align: right;\">\n",
       "      <th></th>\n",
       "      <th>id</th>\n",
       "      <th>click</th>\n",
       "      <th>hour</th>\n",
       "      <th>C1</th>\n",
       "      <th>banner_pos</th>\n",
       "      <th>device_type</th>\n",
       "      <th>device_conn_type</th>\n",
       "      <th>C14</th>\n",
       "      <th>C15</th>\n",
       "      <th>C16</th>\n",
       "      <th>...</th>\n",
       "      <th>site_id_int</th>\n",
       "      <th>site_domain_int</th>\n",
       "      <th>site_category_int</th>\n",
       "      <th>app_id_int</th>\n",
       "      <th>app_domain_int</th>\n",
       "      <th>app_category_int</th>\n",
       "      <th>device_id_int</th>\n",
       "      <th>device_ip_int</th>\n",
       "      <th>device_model_int</th>\n",
       "      <th>day_of_week_int</th>\n",
       "    </tr>\n",
       "  </thead>\n",
       "  <tbody>\n",
       "    <tr>\n",
       "      <th>0</th>\n",
       "      <td>601394868</td>\n",
       "      <td>0</td>\n",
       "      <td>2014-10-21</td>\n",
       "      <td>1005</td>\n",
       "      <td>0</td>\n",
       "      <td>1</td>\n",
       "      <td>0</td>\n",
       "      <td>18993</td>\n",
       "      <td>320</td>\n",
       "      <td>50</td>\n",
       "      <td>...</td>\n",
       "      <td>8500684130855743782</td>\n",
       "      <td>3737552770353539727</td>\n",
       "      <td>-579286838256366625</td>\n",
       "      <td>-2575423656169186573</td>\n",
       "      <td>3543033699936297072</td>\n",
       "      <td>7752593096380383011</td>\n",
       "      <td>-5108016823012116901</td>\n",
       "      <td>3054947797612345216</td>\n",
       "      <td>5499258876395806341</td>\n",
       "      <td>-2674915302075856112</td>\n",
       "    </tr>\n",
       "    <tr>\n",
       "      <th>1</th>\n",
       "      <td>-59070594</td>\n",
       "      <td>0</td>\n",
       "      <td>2014-10-21</td>\n",
       "      <td>1005</td>\n",
       "      <td>1</td>\n",
       "      <td>1</td>\n",
       "      <td>0</td>\n",
       "      <td>16208</td>\n",
       "      <td>320</td>\n",
       "      <td>50</td>\n",
       "      <td>...</td>\n",
       "      <td>5459759015144306988</td>\n",
       "      <td>-1698103573712271499</td>\n",
       "      <td>-6747152105945483740</td>\n",
       "      <td>-2575423656169186573</td>\n",
       "      <td>3543033699936297072</td>\n",
       "      <td>7752593096380383011</td>\n",
       "      <td>-5108016823012116901</td>\n",
       "      <td>-1290735900571077289</td>\n",
       "      <td>-3454875886905983617</td>\n",
       "      <td>-2674915302075856112</td>\n",
       "    </tr>\n",
       "    <tr>\n",
       "      <th>2</th>\n",
       "      <td>-1859646727</td>\n",
       "      <td>0</td>\n",
       "      <td>2014-10-21</td>\n",
       "      <td>1005</td>\n",
       "      <td>0</td>\n",
       "      <td>1</td>\n",
       "      <td>0</td>\n",
       "      <td>17654</td>\n",
       "      <td>300</td>\n",
       "      <td>250</td>\n",
       "      <td>...</td>\n",
       "      <td>3693588028815318457</td>\n",
       "      <td>3857419392707850031</td>\n",
       "      <td>-5544871227891909166</td>\n",
       "      <td>-2575423656169186573</td>\n",
       "      <td>3543033699936297072</td>\n",
       "      <td>7752593096380383011</td>\n",
       "      <td>-5108016823012116901</td>\n",
       "      <td>-8568811352907009621</td>\n",
       "      <td>-9097821374860032227</td>\n",
       "      <td>-2674915302075856112</td>\n",
       "    </tr>\n",
       "  </tbody>\n",
       "</table>\n",
       "<p>3 rows × 26 columns</p>\n",
       "</div>"
      ],
      "text/plain": [
       "           id  click       hour    C1  banner_pos  device_type  \\\n",
       "0   601394868      0 2014-10-21  1005           0            1   \n",
       "1   -59070594      0 2014-10-21  1005           1            1   \n",
       "2 -1859646727      0 2014-10-21  1005           0            1   \n",
       "\n",
       "   device_conn_type    C14  C15  C16         ...           \\\n",
       "0                 0  18993  320   50         ...            \n",
       "1                 0  16208  320   50         ...            \n",
       "2                 0  17654  300  250         ...            \n",
       "\n",
       "           site_id_int      site_domain_int    site_category_int  \\\n",
       "0  8500684130855743782  3737552770353539727  -579286838256366625   \n",
       "1  5459759015144306988 -1698103573712271499 -6747152105945483740   \n",
       "2  3693588028815318457  3857419392707850031 -5544871227891909166   \n",
       "\n",
       "            app_id_int       app_domain_int     app_category_int  \\\n",
       "0 -2575423656169186573  3543033699936297072  7752593096380383011   \n",
       "1 -2575423656169186573  3543033699936297072  7752593096380383011   \n",
       "2 -2575423656169186573  3543033699936297072  7752593096380383011   \n",
       "\n",
       "         device_id_int        device_ip_int     device_model_int  \\\n",
       "0 -5108016823012116901  3054947797612345216  5499258876395806341   \n",
       "1 -5108016823012116901 -1290735900571077289 -3454875886905983617   \n",
       "2 -5108016823012116901 -8568811352907009621 -9097821374860032227   \n",
       "\n",
       "       day_of_week_int  \n",
       "0 -2674915302075856112  \n",
       "1 -2674915302075856112  \n",
       "2 -2674915302075856112  \n",
       "\n",
       "[3 rows x 26 columns]"
      ]
     },
     "execution_count": 103,
     "metadata": {},
     "output_type": "execute_result"
    }
   ],
   "source": [
    "train.head(3)"
   ]
  },
  {
   "cell_type": "code",
   "execution_count": 105,
   "metadata": {},
   "outputs": [],
   "source": [
    "train.drop('hour', axis=1, inplace=True)"
   ]
  },
  {
   "cell_type": "code",
   "execution_count": 109,
   "metadata": {},
   "outputs": [],
   "source": [
    "train.drop('id', axis=1, inplace=True)"
   ]
  },
  {
   "cell_type": "code",
   "execution_count": 112,
   "metadata": {},
   "outputs": [],
   "source": [
    "import lightgbm as lgb\n",
    "X_train = train.loc[:, train.columns != 'click']\n",
    "y_target = train.click.values\n",
    "#create lightgbm dataset\n",
    "msk = np.random.rand(len(X_train)) < 0.8\n",
    "lgb_train = lgb.Dataset(X_train[msk], y_target[msk])\n",
    "lgb_eval = lgb.Dataset(X_train[~msk], y_target[~msk], reference=lgb_train)"
   ]
  },
  {
   "cell_type": "code",
   "execution_count": 121,
   "metadata": {
    "scrolled": false
   },
   "outputs": [
    {
     "name": "stdout",
     "output_type": "stream",
     "text": [
      "Start training...\n",
      "[1]\tvalid_0's binary_logloss: 0.450675\n",
      "Training until validation scores don't improve for 500 rounds.\n",
      "[2]\tvalid_0's binary_logloss: 0.446337\n",
      "[3]\tvalid_0's binary_logloss: 0.442399\n",
      "[4]\tvalid_0's binary_logloss: 0.439119\n",
      "[5]\tvalid_0's binary_logloss: 0.436433\n",
      "[6]\tvalid_0's binary_logloss: 0.433844\n",
      "[7]\tvalid_0's binary_logloss: 0.431648\n",
      "[8]\tvalid_0's binary_logloss: 0.429778\n",
      "[9]\tvalid_0's binary_logloss: 0.428096\n",
      "[10]\tvalid_0's binary_logloss: 0.426571\n",
      "[11]\tvalid_0's binary_logloss: 0.425303\n",
      "[12]\tvalid_0's binary_logloss: 0.424066\n",
      "[13]\tvalid_0's binary_logloss: 0.422933\n",
      "[14]\tvalid_0's binary_logloss: 0.421888\n",
      "[15]\tvalid_0's binary_logloss: 0.421023\n",
      "[16]\tvalid_0's binary_logloss: 0.420212\n",
      "[17]\tvalid_0's binary_logloss: 0.419503\n",
      "[18]\tvalid_0's binary_logloss: 0.418866\n",
      "[19]\tvalid_0's binary_logloss: 0.418242\n",
      "[20]\tvalid_0's binary_logloss: 0.417684\n",
      "[21]\tvalid_0's binary_logloss: 0.417146\n",
      "[22]\tvalid_0's binary_logloss: 0.416616\n",
      "[23]\tvalid_0's binary_logloss: 0.416136\n",
      "[24]\tvalid_0's binary_logloss: 0.415746\n",
      "[25]\tvalid_0's binary_logloss: 0.41534\n",
      "[26]\tvalid_0's binary_logloss: 0.414983\n",
      "[27]\tvalid_0's binary_logloss: 0.414676\n",
      "[28]\tvalid_0's binary_logloss: 0.414381\n",
      "[29]\tvalid_0's binary_logloss: 0.414007\n",
      "[30]\tvalid_0's binary_logloss: 0.413762\n",
      "[31]\tvalid_0's binary_logloss: 0.4135\n",
      "[32]\tvalid_0's binary_logloss: 0.413117\n",
      "[33]\tvalid_0's binary_logloss: 0.412882\n",
      "[34]\tvalid_0's binary_logloss: 0.412639\n",
      "[35]\tvalid_0's binary_logloss: 0.412344\n",
      "[36]\tvalid_0's binary_logloss: 0.412116\n",
      "[37]\tvalid_0's binary_logloss: 0.411836\n",
      "[38]\tvalid_0's binary_logloss: 0.411575\n",
      "[39]\tvalid_0's binary_logloss: 0.411429\n",
      "[40]\tvalid_0's binary_logloss: 0.411201\n",
      "[41]\tvalid_0's binary_logloss: 0.411003\n",
      "[42]\tvalid_0's binary_logloss: 0.410884\n",
      "[43]\tvalid_0's binary_logloss: 0.410722\n",
      "[44]\tvalid_0's binary_logloss: 0.410587\n",
      "[45]\tvalid_0's binary_logloss: 0.41044\n",
      "[46]\tvalid_0's binary_logloss: 0.410222\n",
      "[47]\tvalid_0's binary_logloss: 0.410043\n",
      "[48]\tvalid_0's binary_logloss: 0.409975\n",
      "[49]\tvalid_0's binary_logloss: 0.409847\n",
      "[50]\tvalid_0's binary_logloss: 0.409714\n",
      "[51]\tvalid_0's binary_logloss: 0.4096\n",
      "[52]\tvalid_0's binary_logloss: 0.409498\n",
      "[53]\tvalid_0's binary_logloss: 0.409435\n",
      "[54]\tvalid_0's binary_logloss: 0.40931\n",
      "[55]\tvalid_0's binary_logloss: 0.409212\n",
      "[56]\tvalid_0's binary_logloss: 0.409091\n",
      "[57]\tvalid_0's binary_logloss: 0.408997\n",
      "[58]\tvalid_0's binary_logloss: 0.408876\n",
      "[59]\tvalid_0's binary_logloss: 0.408774\n",
      "[60]\tvalid_0's binary_logloss: 0.408627\n",
      "[61]\tvalid_0's binary_logloss: 0.408526\n",
      "[62]\tvalid_0's binary_logloss: 0.408473\n",
      "[63]\tvalid_0's binary_logloss: 0.408433\n",
      "[64]\tvalid_0's binary_logloss: 0.408393\n",
      "[65]\tvalid_0's binary_logloss: 0.408339\n",
      "[66]\tvalid_0's binary_logloss: 0.408268\n",
      "[67]\tvalid_0's binary_logloss: 0.408166\n",
      "[68]\tvalid_0's binary_logloss: 0.408086\n",
      "[69]\tvalid_0's binary_logloss: 0.408015\n",
      "[70]\tvalid_0's binary_logloss: 0.407957\n",
      "[71]\tvalid_0's binary_logloss: 0.407888\n",
      "[72]\tvalid_0's binary_logloss: 0.407848\n",
      "[73]\tvalid_0's binary_logloss: 0.407788\n",
      "[74]\tvalid_0's binary_logloss: 0.407738\n",
      "[75]\tvalid_0's binary_logloss: 0.407693\n",
      "[76]\tvalid_0's binary_logloss: 0.407594\n",
      "[77]\tvalid_0's binary_logloss: 0.407524\n",
      "[78]\tvalid_0's binary_logloss: 0.407483\n",
      "[79]\tvalid_0's binary_logloss: 0.407429\n",
      "[80]\tvalid_0's binary_logloss: 0.407378\n",
      "[81]\tvalid_0's binary_logloss: 0.407317\n",
      "[82]\tvalid_0's binary_logloss: 0.407204\n",
      "[83]\tvalid_0's binary_logloss: 0.40715\n",
      "[84]\tvalid_0's binary_logloss: 0.407127\n",
      "[85]\tvalid_0's binary_logloss: 0.407075\n",
      "[86]\tvalid_0's binary_logloss: 0.406974\n",
      "[87]\tvalid_0's binary_logloss: 0.40693\n",
      "[88]\tvalid_0's binary_logloss: 0.406859\n",
      "[89]\tvalid_0's binary_logloss: 0.406789\n",
      "[90]\tvalid_0's binary_logloss: 0.40672\n",
      "[91]\tvalid_0's binary_logloss: 0.406656\n",
      "[92]\tvalid_0's binary_logloss: 0.406607\n",
      "[93]\tvalid_0's binary_logloss: 0.406553\n",
      "[94]\tvalid_0's binary_logloss: 0.406517\n",
      "[95]\tvalid_0's binary_logloss: 0.40647\n",
      "[96]\tvalid_0's binary_logloss: 0.406406\n",
      "[97]\tvalid_0's binary_logloss: 0.406377\n",
      "[98]\tvalid_0's binary_logloss: 0.406318\n",
      "[99]\tvalid_0's binary_logloss: 0.406296\n",
      "[100]\tvalid_0's binary_logloss: 0.406237\n",
      "[101]\tvalid_0's binary_logloss: 0.40621\n",
      "[102]\tvalid_0's binary_logloss: 0.406155\n",
      "[103]\tvalid_0's binary_logloss: 0.406139\n",
      "[104]\tvalid_0's binary_logloss: 0.406094\n",
      "[105]\tvalid_0's binary_logloss: 0.40607\n",
      "[106]\tvalid_0's binary_logloss: 0.406029\n",
      "[107]\tvalid_0's binary_logloss: 0.405948\n",
      "[108]\tvalid_0's binary_logloss: 0.405921\n",
      "[109]\tvalid_0's binary_logloss: 0.405863\n",
      "[110]\tvalid_0's binary_logloss: 0.405823\n",
      "[111]\tvalid_0's binary_logloss: 0.405781\n",
      "[112]\tvalid_0's binary_logloss: 0.405746\n",
      "[113]\tvalid_0's binary_logloss: 0.405717\n",
      "[114]\tvalid_0's binary_logloss: 0.405684\n",
      "[115]\tvalid_0's binary_logloss: 0.405612\n",
      "[116]\tvalid_0's binary_logloss: 0.405535\n",
      "[117]\tvalid_0's binary_logloss: 0.40546\n",
      "[118]\tvalid_0's binary_logloss: 0.405442\n",
      "[119]\tvalid_0's binary_logloss: 0.405408\n",
      "[120]\tvalid_0's binary_logloss: 0.405339\n",
      "[121]\tvalid_0's binary_logloss: 0.40532\n",
      "[122]\tvalid_0's binary_logloss: 0.4053\n",
      "[123]\tvalid_0's binary_logloss: 0.405262\n",
      "[124]\tvalid_0's binary_logloss: 0.405223\n",
      "[125]\tvalid_0's binary_logloss: 0.4052\n",
      "[126]\tvalid_0's binary_logloss: 0.405165\n",
      "[127]\tvalid_0's binary_logloss: 0.405137\n",
      "[128]\tvalid_0's binary_logloss: 0.405105\n",
      "[129]\tvalid_0's binary_logloss: 0.405075\n",
      "[130]\tvalid_0's binary_logloss: 0.405055\n",
      "[131]\tvalid_0's binary_logloss: 0.405028\n",
      "[132]\tvalid_0's binary_logloss: 0.405017\n",
      "[133]\tvalid_0's binary_logloss: 0.404996\n",
      "[134]\tvalid_0's binary_logloss: 0.404969\n",
      "[135]\tvalid_0's binary_logloss: 0.404947\n",
      "[136]\tvalid_0's binary_logloss: 0.404885\n",
      "[137]\tvalid_0's binary_logloss: 0.404859\n",
      "[138]\tvalid_0's binary_logloss: 0.404795\n",
      "[139]\tvalid_0's binary_logloss: 0.40474\n",
      "[140]\tvalid_0's binary_logloss: 0.404716\n",
      "[141]\tvalid_0's binary_logloss: 0.404673\n",
      "[142]\tvalid_0's binary_logloss: 0.404649\n",
      "[143]\tvalid_0's binary_logloss: 0.404635\n",
      "[144]\tvalid_0's binary_logloss: 0.40461\n",
      "[145]\tvalid_0's binary_logloss: 0.404595\n",
      "[146]\tvalid_0's binary_logloss: 0.404596\n",
      "[147]\tvalid_0's binary_logloss: 0.404579\n",
      "[148]\tvalid_0's binary_logloss: 0.404561\n",
      "[149]\tvalid_0's binary_logloss: 0.404523\n",
      "[150]\tvalid_0's binary_logloss: 0.404512\n",
      "[151]\tvalid_0's binary_logloss: 0.404475\n",
      "[152]\tvalid_0's binary_logloss: 0.40445\n",
      "[153]\tvalid_0's binary_logloss: 0.404422\n",
      "[154]\tvalid_0's binary_logloss: 0.404405\n",
      "[155]\tvalid_0's binary_logloss: 0.404382\n",
      "[156]\tvalid_0's binary_logloss: 0.404362\n",
      "[157]\tvalid_0's binary_logloss: 0.40432\n",
      "[158]\tvalid_0's binary_logloss: 0.404293\n",
      "[159]\tvalid_0's binary_logloss: 0.404284\n",
      "[160]\tvalid_0's binary_logloss: 0.404264\n",
      "[161]\tvalid_0's binary_logloss: 0.404262\n",
      "[162]\tvalid_0's binary_logloss: 0.40425\n",
      "[163]\tvalid_0's binary_logloss: 0.404238\n",
      "[164]\tvalid_0's binary_logloss: 0.404231\n",
      "[165]\tvalid_0's binary_logloss: 0.404205\n",
      "[166]\tvalid_0's binary_logloss: 0.404158\n",
      "[167]\tvalid_0's binary_logloss: 0.404137\n",
      "[168]\tvalid_0's binary_logloss: 0.404121\n",
      "[169]\tvalid_0's binary_logloss: 0.404103\n",
      "[170]\tvalid_0's binary_logloss: 0.404056\n",
      "[171]\tvalid_0's binary_logloss: 0.403989\n",
      "[172]\tvalid_0's binary_logloss: 0.403983\n",
      "[173]\tvalid_0's binary_logloss: 0.403958\n",
      "[174]\tvalid_0's binary_logloss: 0.403928\n",
      "[175]\tvalid_0's binary_logloss: 0.403857\n",
      "[176]\tvalid_0's binary_logloss: 0.403778\n",
      "[177]\tvalid_0's binary_logloss: 0.403714\n",
      "[178]\tvalid_0's binary_logloss: 0.403658\n",
      "[179]\tvalid_0's binary_logloss: 0.403597\n",
      "[180]\tvalid_0's binary_logloss: 0.403559\n",
      "[181]\tvalid_0's binary_logloss: 0.403544\n",
      "[182]\tvalid_0's binary_logloss: 0.40354\n",
      "[183]\tvalid_0's binary_logloss: 0.403526\n",
      "[184]\tvalid_0's binary_logloss: 0.403515\n",
      "[185]\tvalid_0's binary_logloss: 0.403509\n",
      "[186]\tvalid_0's binary_logloss: 0.403499\n",
      "[187]\tvalid_0's binary_logloss: 0.40349\n",
      "[188]\tvalid_0's binary_logloss: 0.403466\n",
      "[189]\tvalid_0's binary_logloss: 0.403433\n",
      "[190]\tvalid_0's binary_logloss: 0.403415\n",
      "[191]\tvalid_0's binary_logloss: 0.403396\n",
      "[192]\tvalid_0's binary_logloss: 0.403382\n",
      "[193]\tvalid_0's binary_logloss: 0.403366\n",
      "[194]\tvalid_0's binary_logloss: 0.403357\n",
      "[195]\tvalid_0's binary_logloss: 0.403345\n",
      "[196]\tvalid_0's binary_logloss: 0.403325\n",
      "[197]\tvalid_0's binary_logloss: 0.403323\n",
      "[198]\tvalid_0's binary_logloss: 0.40331\n",
      "[199]\tvalid_0's binary_logloss: 0.403292\n",
      "[200]\tvalid_0's binary_logloss: 0.403273\n",
      "[201]\tvalid_0's binary_logloss: 0.403269\n",
      "[202]\tvalid_0's binary_logloss: 0.40325\n",
      "[203]\tvalid_0's binary_logloss: 0.403249\n",
      "[204]\tvalid_0's binary_logloss: 0.403245\n",
      "[205]\tvalid_0's binary_logloss: 0.403229\n"
     ]
    },
    {
     "name": "stdout",
     "output_type": "stream",
     "text": [
      "[206]\tvalid_0's binary_logloss: 0.403217\n",
      "[207]\tvalid_0's binary_logloss: 0.403176\n",
      "[208]\tvalid_0's binary_logloss: 0.403173\n",
      "[209]\tvalid_0's binary_logloss: 0.403157\n",
      "[210]\tvalid_0's binary_logloss: 0.403157\n",
      "[211]\tvalid_0's binary_logloss: 0.403123\n",
      "[212]\tvalid_0's binary_logloss: 0.403121\n",
      "[213]\tvalid_0's binary_logloss: 0.403104\n",
      "[214]\tvalid_0's binary_logloss: 0.403082\n",
      "[215]\tvalid_0's binary_logloss: 0.403076\n",
      "[216]\tvalid_0's binary_logloss: 0.403084\n",
      "[217]\tvalid_0's binary_logloss: 0.403083\n",
      "[218]\tvalid_0's binary_logloss: 0.403067\n",
      "[219]\tvalid_0's binary_logloss: 0.403046\n",
      "[220]\tvalid_0's binary_logloss: 0.403049\n",
      "[221]\tvalid_0's binary_logloss: 0.403041\n",
      "[222]\tvalid_0's binary_logloss: 0.403014\n",
      "[223]\tvalid_0's binary_logloss: 0.403002\n",
      "[224]\tvalid_0's binary_logloss: 0.402986\n",
      "[225]\tvalid_0's binary_logloss: 0.402995\n",
      "[226]\tvalid_0's binary_logloss: 0.402968\n",
      "[227]\tvalid_0's binary_logloss: 0.402962\n",
      "[228]\tvalid_0's binary_logloss: 0.402955\n",
      "[229]\tvalid_0's binary_logloss: 0.402924\n",
      "[230]\tvalid_0's binary_logloss: 0.402913\n",
      "[231]\tvalid_0's binary_logloss: 0.402914\n",
      "[232]\tvalid_0's binary_logloss: 0.4029\n",
      "[233]\tvalid_0's binary_logloss: 0.402912\n",
      "[234]\tvalid_0's binary_logloss: 0.402909\n",
      "[235]\tvalid_0's binary_logloss: 0.402903\n",
      "[236]\tvalid_0's binary_logloss: 0.402888\n",
      "[237]\tvalid_0's binary_logloss: 0.40288\n",
      "[238]\tvalid_0's binary_logloss: 0.402868\n",
      "[239]\tvalid_0's binary_logloss: 0.402868\n",
      "[240]\tvalid_0's binary_logloss: 0.402865\n",
      "[241]\tvalid_0's binary_logloss: 0.402853\n",
      "[242]\tvalid_0's binary_logloss: 0.402836\n",
      "[243]\tvalid_0's binary_logloss: 0.402827\n",
      "[244]\tvalid_0's binary_logloss: 0.402824\n",
      "[245]\tvalid_0's binary_logloss: 0.402817\n",
      "[246]\tvalid_0's binary_logloss: 0.402799\n",
      "[247]\tvalid_0's binary_logloss: 0.402785\n",
      "[248]\tvalid_0's binary_logloss: 0.402786\n",
      "[249]\tvalid_0's binary_logloss: 0.402792\n",
      "[250]\tvalid_0's binary_logloss: 0.402771\n",
      "[251]\tvalid_0's binary_logloss: 0.40277\n",
      "[252]\tvalid_0's binary_logloss: 0.402766\n",
      "[253]\tvalid_0's binary_logloss: 0.402755\n",
      "[254]\tvalid_0's binary_logloss: 0.402746\n",
      "[255]\tvalid_0's binary_logloss: 0.40274\n",
      "[256]\tvalid_0's binary_logloss: 0.402719\n",
      "[257]\tvalid_0's binary_logloss: 0.402704\n",
      "[258]\tvalid_0's binary_logloss: 0.40269\n",
      "[259]\tvalid_0's binary_logloss: 0.402689\n",
      "[260]\tvalid_0's binary_logloss: 0.40268\n",
      "[261]\tvalid_0's binary_logloss: 0.402644\n",
      "[262]\tvalid_0's binary_logloss: 0.402629\n",
      "[263]\tvalid_0's binary_logloss: 0.40264\n",
      "[264]\tvalid_0's binary_logloss: 0.402624\n",
      "[265]\tvalid_0's binary_logloss: 0.40262\n",
      "[266]\tvalid_0's binary_logloss: 0.402605\n",
      "[267]\tvalid_0's binary_logloss: 0.402604\n",
      "[268]\tvalid_0's binary_logloss: 0.402593\n",
      "[269]\tvalid_0's binary_logloss: 0.402591\n",
      "[270]\tvalid_0's binary_logloss: 0.402588\n",
      "[271]\tvalid_0's binary_logloss: 0.402561\n",
      "[272]\tvalid_0's binary_logloss: 0.402523\n",
      "[273]\tvalid_0's binary_logloss: 0.402516\n",
      "[274]\tvalid_0's binary_logloss: 0.402509\n",
      "[275]\tvalid_0's binary_logloss: 0.402493\n",
      "[276]\tvalid_0's binary_logloss: 0.402481\n",
      "[277]\tvalid_0's binary_logloss: 0.402482\n",
      "[278]\tvalid_0's binary_logloss: 0.402452\n",
      "[279]\tvalid_0's binary_logloss: 0.402452\n",
      "[280]\tvalid_0's binary_logloss: 0.40242\n",
      "[281]\tvalid_0's binary_logloss: 0.402415\n",
      "[282]\tvalid_0's binary_logloss: 0.402414\n",
      "[283]\tvalid_0's binary_logloss: 0.402409\n",
      "[284]\tvalid_0's binary_logloss: 0.402391\n",
      "[285]\tvalid_0's binary_logloss: 0.402388\n",
      "[286]\tvalid_0's binary_logloss: 0.40236\n",
      "[287]\tvalid_0's binary_logloss: 0.402342\n",
      "[288]\tvalid_0's binary_logloss: 0.40233\n",
      "[289]\tvalid_0's binary_logloss: 0.402335\n",
      "[290]\tvalid_0's binary_logloss: 0.402336\n",
      "[291]\tvalid_0's binary_logloss: 0.402323\n",
      "[292]\tvalid_0's binary_logloss: 0.402317\n",
      "[293]\tvalid_0's binary_logloss: 0.402314\n",
      "[294]\tvalid_0's binary_logloss: 0.402319\n",
      "[295]\tvalid_0's binary_logloss: 0.40229\n",
      "[296]\tvalid_0's binary_logloss: 0.402277\n",
      "[297]\tvalid_0's binary_logloss: 0.402282\n",
      "[298]\tvalid_0's binary_logloss: 0.402284\n",
      "[299]\tvalid_0's binary_logloss: 0.402275\n",
      "[300]\tvalid_0's binary_logloss: 0.40228\n",
      "[301]\tvalid_0's binary_logloss: 0.402282\n",
      "[302]\tvalid_0's binary_logloss: 0.402274\n",
      "[303]\tvalid_0's binary_logloss: 0.402264\n",
      "[304]\tvalid_0's binary_logloss: 0.40226\n",
      "[305]\tvalid_0's binary_logloss: 0.402259\n",
      "[306]\tvalid_0's binary_logloss: 0.402254\n",
      "[307]\tvalid_0's binary_logloss: 0.402249\n",
      "[308]\tvalid_0's binary_logloss: 0.402191\n",
      "[309]\tvalid_0's binary_logloss: 0.402184\n",
      "[310]\tvalid_0's binary_logloss: 0.402167\n",
      "[311]\tvalid_0's binary_logloss: 0.402168\n",
      "[312]\tvalid_0's binary_logloss: 0.402172\n",
      "[313]\tvalid_0's binary_logloss: 0.40216\n",
      "[314]\tvalid_0's binary_logloss: 0.402155\n",
      "[315]\tvalid_0's binary_logloss: 0.40216\n",
      "[316]\tvalid_0's binary_logloss: 0.402146\n",
      "[317]\tvalid_0's binary_logloss: 0.402131\n",
      "[318]\tvalid_0's binary_logloss: 0.40213\n",
      "[319]\tvalid_0's binary_logloss: 0.402113\n",
      "[320]\tvalid_0's binary_logloss: 0.402099\n",
      "[321]\tvalid_0's binary_logloss: 0.402095\n",
      "[322]\tvalid_0's binary_logloss: 0.402106\n",
      "[323]\tvalid_0's binary_logloss: 0.402075\n",
      "[324]\tvalid_0's binary_logloss: 0.402073\n",
      "[325]\tvalid_0's binary_logloss: 0.402074\n",
      "[326]\tvalid_0's binary_logloss: 0.402064\n",
      "[327]\tvalid_0's binary_logloss: 0.402057\n",
      "[328]\tvalid_0's binary_logloss: 0.402025\n",
      "[329]\tvalid_0's binary_logloss: 0.402023\n",
      "[330]\tvalid_0's binary_logloss: 0.402024\n",
      "[331]\tvalid_0's binary_logloss: 0.402033\n",
      "[332]\tvalid_0's binary_logloss: 0.402022\n",
      "[333]\tvalid_0's binary_logloss: 0.402024\n",
      "[334]\tvalid_0's binary_logloss: 0.402024\n",
      "[335]\tvalid_0's binary_logloss: 0.402025\n",
      "[336]\tvalid_0's binary_logloss: 0.402027\n",
      "[337]\tvalid_0's binary_logloss: 0.402018\n",
      "[338]\tvalid_0's binary_logloss: 0.402025\n",
      "[339]\tvalid_0's binary_logloss: 0.402021\n",
      "[340]\tvalid_0's binary_logloss: 0.40203\n",
      "[341]\tvalid_0's binary_logloss: 0.402004\n",
      "[342]\tvalid_0's binary_logloss: 0.402\n",
      "[343]\tvalid_0's binary_logloss: 0.402006\n",
      "[344]\tvalid_0's binary_logloss: 0.401999\n",
      "[345]\tvalid_0's binary_logloss: 0.401963\n",
      "[346]\tvalid_0's binary_logloss: 0.401949\n",
      "[347]\tvalid_0's binary_logloss: 0.401942\n",
      "[348]\tvalid_0's binary_logloss: 0.40193\n",
      "[349]\tvalid_0's binary_logloss: 0.40192\n",
      "[350]\tvalid_0's binary_logloss: 0.401916\n",
      "[351]\tvalid_0's binary_logloss: 0.401894\n",
      "[352]\tvalid_0's binary_logloss: 0.40188\n",
      "[353]\tvalid_0's binary_logloss: 0.401885\n",
      "[354]\tvalid_0's binary_logloss: 0.401883\n",
      "[355]\tvalid_0's binary_logloss: 0.401887\n",
      "[356]\tvalid_0's binary_logloss: 0.401889\n",
      "[357]\tvalid_0's binary_logloss: 0.401878\n",
      "[358]\tvalid_0's binary_logloss: 0.401869\n",
      "[359]\tvalid_0's binary_logloss: 0.401823\n",
      "[360]\tvalid_0's binary_logloss: 0.401826\n",
      "[361]\tvalid_0's binary_logloss: 0.401817\n",
      "[362]\tvalid_0's binary_logloss: 0.401787\n",
      "[363]\tvalid_0's binary_logloss: 0.401787\n",
      "[364]\tvalid_0's binary_logloss: 0.401785\n",
      "[365]\tvalid_0's binary_logloss: 0.40179\n",
      "[366]\tvalid_0's binary_logloss: 0.401774\n",
      "[367]\tvalid_0's binary_logloss: 0.401765\n",
      "[368]\tvalid_0's binary_logloss: 0.401757\n",
      "[369]\tvalid_0's binary_logloss: 0.401765\n",
      "[370]\tvalid_0's binary_logloss: 0.401761\n",
      "[371]\tvalid_0's binary_logloss: 0.401749\n",
      "[372]\tvalid_0's binary_logloss: 0.401721\n",
      "[373]\tvalid_0's binary_logloss: 0.40172\n",
      "[374]\tvalid_0's binary_logloss: 0.401704\n",
      "[375]\tvalid_0's binary_logloss: 0.401708\n",
      "[376]\tvalid_0's binary_logloss: 0.401692\n",
      "[377]\tvalid_0's binary_logloss: 0.401691\n",
      "[378]\tvalid_0's binary_logloss: 0.401682\n",
      "[379]\tvalid_0's binary_logloss: 0.40169\n",
      "[380]\tvalid_0's binary_logloss: 0.401673\n",
      "[381]\tvalid_0's binary_logloss: 0.401654\n",
      "[382]\tvalid_0's binary_logloss: 0.401649\n",
      "[383]\tvalid_0's binary_logloss: 0.401637\n",
      "[384]\tvalid_0's binary_logloss: 0.401623\n",
      "[385]\tvalid_0's binary_logloss: 0.401613\n",
      "[386]\tvalid_0's binary_logloss: 0.401608\n",
      "[387]\tvalid_0's binary_logloss: 0.401612\n",
      "[388]\tvalid_0's binary_logloss: 0.401607\n",
      "[389]\tvalid_0's binary_logloss: 0.401605\n",
      "[390]\tvalid_0's binary_logloss: 0.401603\n",
      "[391]\tvalid_0's binary_logloss: 0.40159\n",
      "[392]\tvalid_0's binary_logloss: 0.401578\n",
      "[393]\tvalid_0's binary_logloss: 0.401567\n",
      "[394]\tvalid_0's binary_logloss: 0.40155\n",
      "[395]\tvalid_0's binary_logloss: 0.401545\n",
      "[396]\tvalid_0's binary_logloss: 0.401536\n",
      "[397]\tvalid_0's binary_logloss: 0.4015\n",
      "[398]\tvalid_0's binary_logloss: 0.401485\n",
      "[399]\tvalid_0's binary_logloss: 0.401477\n",
      "[400]\tvalid_0's binary_logloss: 0.401479\n",
      "[401]\tvalid_0's binary_logloss: 0.401467\n",
      "[402]\tvalid_0's binary_logloss: 0.401462\n",
      "[403]\tvalid_0's binary_logloss: 0.401457\n",
      "[404]\tvalid_0's binary_logloss: 0.401449\n",
      "[405]\tvalid_0's binary_logloss: 0.40144\n",
      "[406]\tvalid_0's binary_logloss: 0.401436\n"
     ]
    },
    {
     "name": "stdout",
     "output_type": "stream",
     "text": [
      "[407]\tvalid_0's binary_logloss: 0.401431\n",
      "[408]\tvalid_0's binary_logloss: 0.401436\n",
      "[409]\tvalid_0's binary_logloss: 0.401432\n",
      "[410]\tvalid_0's binary_logloss: 0.401427\n",
      "[411]\tvalid_0's binary_logloss: 0.401407\n",
      "[412]\tvalid_0's binary_logloss: 0.401406\n",
      "[413]\tvalid_0's binary_logloss: 0.401393\n",
      "[414]\tvalid_0's binary_logloss: 0.401392\n",
      "[415]\tvalid_0's binary_logloss: 0.401398\n",
      "[416]\tvalid_0's binary_logloss: 0.401387\n",
      "[417]\tvalid_0's binary_logloss: 0.401372\n",
      "[418]\tvalid_0's binary_logloss: 0.401364\n",
      "[419]\tvalid_0's binary_logloss: 0.40133\n",
      "[420]\tvalid_0's binary_logloss: 0.401328\n",
      "[421]\tvalid_0's binary_logloss: 0.401323\n",
      "[422]\tvalid_0's binary_logloss: 0.401312\n",
      "[423]\tvalid_0's binary_logloss: 0.40131\n",
      "[424]\tvalid_0's binary_logloss: 0.401305\n",
      "[425]\tvalid_0's binary_logloss: 0.401297\n",
      "[426]\tvalid_0's binary_logloss: 0.401294\n",
      "[427]\tvalid_0's binary_logloss: 0.401293\n",
      "[428]\tvalid_0's binary_logloss: 0.401283\n",
      "[429]\tvalid_0's binary_logloss: 0.401274\n",
      "[430]\tvalid_0's binary_logloss: 0.401273\n",
      "[431]\tvalid_0's binary_logloss: 0.401247\n",
      "[432]\tvalid_0's binary_logloss: 0.401229\n",
      "[433]\tvalid_0's binary_logloss: 0.401232\n",
      "[434]\tvalid_0's binary_logloss: 0.401235\n",
      "[435]\tvalid_0's binary_logloss: 0.401227\n",
      "[436]\tvalid_0's binary_logloss: 0.401221\n",
      "[437]\tvalid_0's binary_logloss: 0.401218\n",
      "[438]\tvalid_0's binary_logloss: 0.401215\n",
      "[439]\tvalid_0's binary_logloss: 0.401218\n",
      "[440]\tvalid_0's binary_logloss: 0.401206\n",
      "[441]\tvalid_0's binary_logloss: 0.401189\n",
      "[442]\tvalid_0's binary_logloss: 0.401176\n",
      "[443]\tvalid_0's binary_logloss: 0.401155\n",
      "[444]\tvalid_0's binary_logloss: 0.401148\n",
      "[445]\tvalid_0's binary_logloss: 0.401143\n",
      "[446]\tvalid_0's binary_logloss: 0.401133\n",
      "[447]\tvalid_0's binary_logloss: 0.401122\n",
      "[448]\tvalid_0's binary_logloss: 0.401121\n",
      "[449]\tvalid_0's binary_logloss: 0.401126\n",
      "[450]\tvalid_0's binary_logloss: 0.401129\n",
      "[451]\tvalid_0's binary_logloss: 0.401129\n",
      "[452]\tvalid_0's binary_logloss: 0.401114\n",
      "[453]\tvalid_0's binary_logloss: 0.401117\n",
      "[454]\tvalid_0's binary_logloss: 0.401126\n",
      "[455]\tvalid_0's binary_logloss: 0.401121\n",
      "[456]\tvalid_0's binary_logloss: 0.401117\n",
      "[457]\tvalid_0's binary_logloss: 0.401104\n",
      "[458]\tvalid_0's binary_logloss: 0.401104\n",
      "[459]\tvalid_0's binary_logloss: 0.401102\n",
      "[460]\tvalid_0's binary_logloss: 0.401098\n",
      "[461]\tvalid_0's binary_logloss: 0.401095\n",
      "[462]\tvalid_0's binary_logloss: 0.401092\n",
      "[463]\tvalid_0's binary_logloss: 0.401089\n",
      "[464]\tvalid_0's binary_logloss: 0.401086\n",
      "[465]\tvalid_0's binary_logloss: 0.401082\n",
      "[466]\tvalid_0's binary_logloss: 0.401075\n",
      "[467]\tvalid_0's binary_logloss: 0.401072\n",
      "[468]\tvalid_0's binary_logloss: 0.401062\n",
      "[469]\tvalid_0's binary_logloss: 0.401058\n",
      "[470]\tvalid_0's binary_logloss: 0.401054\n",
      "[471]\tvalid_0's binary_logloss: 0.401056\n",
      "[472]\tvalid_0's binary_logloss: 0.401059\n",
      "[473]\tvalid_0's binary_logloss: 0.401067\n",
      "[474]\tvalid_0's binary_logloss: 0.401072\n",
      "[475]\tvalid_0's binary_logloss: 0.401073\n",
      "[476]\tvalid_0's binary_logloss: 0.401069\n",
      "[477]\tvalid_0's binary_logloss: 0.401069\n",
      "[478]\tvalid_0's binary_logloss: 0.401065\n",
      "[479]\tvalid_0's binary_logloss: 0.401055\n",
      "[480]\tvalid_0's binary_logloss: 0.401028\n",
      "[481]\tvalid_0's binary_logloss: 0.401031\n",
      "[482]\tvalid_0's binary_logloss: 0.40102\n",
      "[483]\tvalid_0's binary_logloss: 0.401004\n",
      "[484]\tvalid_0's binary_logloss: 0.400989\n",
      "[485]\tvalid_0's binary_logloss: 0.400993\n",
      "[486]\tvalid_0's binary_logloss: 0.400986\n",
      "[487]\tvalid_0's binary_logloss: 0.400987\n",
      "[488]\tvalid_0's binary_logloss: 0.40098\n",
      "[489]\tvalid_0's binary_logloss: 0.400974\n",
      "[490]\tvalid_0's binary_logloss: 0.400963\n",
      "[491]\tvalid_0's binary_logloss: 0.40096\n",
      "[492]\tvalid_0's binary_logloss: 0.400955\n",
      "[493]\tvalid_0's binary_logloss: 0.400951\n",
      "[494]\tvalid_0's binary_logloss: 0.400949\n",
      "[495]\tvalid_0's binary_logloss: 0.40095\n",
      "[496]\tvalid_0's binary_logloss: 0.400968\n",
      "[497]\tvalid_0's binary_logloss: 0.400973\n",
      "[498]\tvalid_0's binary_logloss: 0.400983\n",
      "[499]\tvalid_0's binary_logloss: 0.400968\n",
      "[500]\tvalid_0's binary_logloss: 0.400976\n",
      "[501]\tvalid_0's binary_logloss: 0.40097\n",
      "[502]\tvalid_0's binary_logloss: 0.40097\n",
      "[503]\tvalid_0's binary_logloss: 0.400963\n",
      "[504]\tvalid_0's binary_logloss: 0.400961\n",
      "[505]\tvalid_0's binary_logloss: 0.400959\n",
      "[506]\tvalid_0's binary_logloss: 0.400966\n",
      "[507]\tvalid_0's binary_logloss: 0.40096\n",
      "[508]\tvalid_0's binary_logloss: 0.400963\n",
      "[509]\tvalid_0's binary_logloss: 0.400967\n",
      "[510]\tvalid_0's binary_logloss: 0.400973\n",
      "[511]\tvalid_0's binary_logloss: 0.400971\n",
      "[512]\tvalid_0's binary_logloss: 0.40097\n",
      "[513]\tvalid_0's binary_logloss: 0.400965\n",
      "[514]\tvalid_0's binary_logloss: 0.400968\n",
      "[515]\tvalid_0's binary_logloss: 0.400941\n",
      "[516]\tvalid_0's binary_logloss: 0.400931\n",
      "[517]\tvalid_0's binary_logloss: 0.400929\n",
      "[518]\tvalid_0's binary_logloss: 0.400918\n",
      "[519]\tvalid_0's binary_logloss: 0.4009\n",
      "[520]\tvalid_0's binary_logloss: 0.400894\n",
      "[521]\tvalid_0's binary_logloss: 0.40089\n",
      "[522]\tvalid_0's binary_logloss: 0.400892\n",
      "[523]\tvalid_0's binary_logloss: 0.400876\n",
      "[524]\tvalid_0's binary_logloss: 0.400885\n",
      "[525]\tvalid_0's binary_logloss: 0.400892\n",
      "[526]\tvalid_0's binary_logloss: 0.400884\n",
      "[527]\tvalid_0's binary_logloss: 0.400894\n",
      "[528]\tvalid_0's binary_logloss: 0.400896\n",
      "[529]\tvalid_0's binary_logloss: 0.400889\n",
      "[530]\tvalid_0's binary_logloss: 0.400885\n",
      "[531]\tvalid_0's binary_logloss: 0.400888\n",
      "[532]\tvalid_0's binary_logloss: 0.400884\n",
      "[533]\tvalid_0's binary_logloss: 0.400877\n",
      "[534]\tvalid_0's binary_logloss: 0.40088\n",
      "[535]\tvalid_0's binary_logloss: 0.40088\n",
      "[536]\tvalid_0's binary_logloss: 0.400888\n",
      "[537]\tvalid_0's binary_logloss: 0.400884\n",
      "[538]\tvalid_0's binary_logloss: 0.40088\n",
      "[539]\tvalid_0's binary_logloss: 0.400883\n",
      "[540]\tvalid_0's binary_logloss: 0.400862\n",
      "[541]\tvalid_0's binary_logloss: 0.400861\n",
      "[542]\tvalid_0's binary_logloss: 0.400856\n",
      "[543]\tvalid_0's binary_logloss: 0.400865\n",
      "[544]\tvalid_0's binary_logloss: 0.400872\n",
      "[545]\tvalid_0's binary_logloss: 0.400868\n",
      "[546]\tvalid_0's binary_logloss: 0.400855\n",
      "[547]\tvalid_0's binary_logloss: 0.400846\n",
      "[548]\tvalid_0's binary_logloss: 0.400848\n",
      "[549]\tvalid_0's binary_logloss: 0.400849\n",
      "[550]\tvalid_0's binary_logloss: 0.400853\n",
      "[551]\tvalid_0's binary_logloss: 0.400842\n",
      "[552]\tvalid_0's binary_logloss: 0.400842\n",
      "[553]\tvalid_0's binary_logloss: 0.400839\n",
      "[554]\tvalid_0's binary_logloss: 0.400836\n",
      "[555]\tvalid_0's binary_logloss: 0.400818\n",
      "[556]\tvalid_0's binary_logloss: 0.400818\n",
      "[557]\tvalid_0's binary_logloss: 0.400814\n",
      "[558]\tvalid_0's binary_logloss: 0.400807\n",
      "[559]\tvalid_0's binary_logloss: 0.400809\n",
      "[560]\tvalid_0's binary_logloss: 0.400807\n",
      "[561]\tvalid_0's binary_logloss: 0.400802\n",
      "[562]\tvalid_0's binary_logloss: 0.400796\n",
      "[563]\tvalid_0's binary_logloss: 0.400794\n",
      "[564]\tvalid_0's binary_logloss: 0.400786\n",
      "[565]\tvalid_0's binary_logloss: 0.400782\n",
      "[566]\tvalid_0's binary_logloss: 0.400776\n",
      "[567]\tvalid_0's binary_logloss: 0.400773\n",
      "[568]\tvalid_0's binary_logloss: 0.400774\n",
      "[569]\tvalid_0's binary_logloss: 0.400762\n",
      "[570]\tvalid_0's binary_logloss: 0.400768\n",
      "[571]\tvalid_0's binary_logloss: 0.400758\n",
      "[572]\tvalid_0's binary_logloss: 0.400757\n",
      "[573]\tvalid_0's binary_logloss: 0.400767\n",
      "[574]\tvalid_0's binary_logloss: 0.400753\n",
      "[575]\tvalid_0's binary_logloss: 0.400753\n",
      "[576]\tvalid_0's binary_logloss: 0.400744\n",
      "[577]\tvalid_0's binary_logloss: 0.400741\n",
      "[578]\tvalid_0's binary_logloss: 0.400725\n",
      "[579]\tvalid_0's binary_logloss: 0.400723\n",
      "[580]\tvalid_0's binary_logloss: 0.400724\n",
      "[581]\tvalid_0's binary_logloss: 0.400722\n",
      "[582]\tvalid_0's binary_logloss: 0.400725\n",
      "[583]\tvalid_0's binary_logloss: 0.400719\n",
      "[584]\tvalid_0's binary_logloss: 0.400717\n",
      "[585]\tvalid_0's binary_logloss: 0.400714\n",
      "[586]\tvalid_0's binary_logloss: 0.4007\n",
      "[587]\tvalid_0's binary_logloss: 0.400704\n",
      "[588]\tvalid_0's binary_logloss: 0.400706\n",
      "[589]\tvalid_0's binary_logloss: 0.400697\n",
      "[590]\tvalid_0's binary_logloss: 0.400689\n",
      "[591]\tvalid_0's binary_logloss: 0.400673\n",
      "[592]\tvalid_0's binary_logloss: 0.40066\n",
      "[593]\tvalid_0's binary_logloss: 0.400647\n",
      "[594]\tvalid_0's binary_logloss: 0.400647\n",
      "[595]\tvalid_0's binary_logloss: 0.400642\n",
      "[596]\tvalid_0's binary_logloss: 0.400647\n",
      "[597]\tvalid_0's binary_logloss: 0.400639\n",
      "[598]\tvalid_0's binary_logloss: 0.400632\n",
      "[599]\tvalid_0's binary_logloss: 0.400643\n",
      "[600]\tvalid_0's binary_logloss: 0.400625\n",
      "[601]\tvalid_0's binary_logloss: 0.400614\n",
      "[602]\tvalid_0's binary_logloss: 0.400606\n",
      "[603]\tvalid_0's binary_logloss: 0.400611\n",
      "[604]\tvalid_0's binary_logloss: 0.400622\n",
      "[605]\tvalid_0's binary_logloss: 0.400628\n",
      "[606]\tvalid_0's binary_logloss: 0.400621\n",
      "[607]\tvalid_0's binary_logloss: 0.400616\n",
      "[608]\tvalid_0's binary_logloss: 0.400612\n",
      "[609]\tvalid_0's binary_logloss: 0.400612\n",
      "[610]\tvalid_0's binary_logloss: 0.400614\n",
      "[611]\tvalid_0's binary_logloss: 0.40061\n"
     ]
    },
    {
     "name": "stdout",
     "output_type": "stream",
     "text": [
      "[612]\tvalid_0's binary_logloss: 0.40061\n",
      "[613]\tvalid_0's binary_logloss: 0.400614\n",
      "[614]\tvalid_0's binary_logloss: 0.400603\n",
      "[615]\tvalid_0's binary_logloss: 0.4006\n",
      "[616]\tvalid_0's binary_logloss: 0.400601\n",
      "[617]\tvalid_0's binary_logloss: 0.400603\n",
      "[618]\tvalid_0's binary_logloss: 0.400607\n",
      "[619]\tvalid_0's binary_logloss: 0.40061\n",
      "[620]\tvalid_0's binary_logloss: 0.400615\n",
      "[621]\tvalid_0's binary_logloss: 0.4006\n",
      "[622]\tvalid_0's binary_logloss: 0.400597\n",
      "[623]\tvalid_0's binary_logloss: 0.400601\n",
      "[624]\tvalid_0's binary_logloss: 0.400591\n",
      "[625]\tvalid_0's binary_logloss: 0.400595\n",
      "[626]\tvalid_0's binary_logloss: 0.400594\n",
      "[627]\tvalid_0's binary_logloss: 0.40059\n",
      "[628]\tvalid_0's binary_logloss: 0.400588\n",
      "[629]\tvalid_0's binary_logloss: 0.400581\n",
      "[630]\tvalid_0's binary_logloss: 0.400583\n",
      "[631]\tvalid_0's binary_logloss: 0.400592\n",
      "[632]\tvalid_0's binary_logloss: 0.400599\n",
      "[633]\tvalid_0's binary_logloss: 0.400591\n",
      "[634]\tvalid_0's binary_logloss: 0.40059\n",
      "[635]\tvalid_0's binary_logloss: 0.400579\n",
      "[636]\tvalid_0's binary_logloss: 0.400586\n",
      "[637]\tvalid_0's binary_logloss: 0.400589\n",
      "[638]\tvalid_0's binary_logloss: 0.400602\n",
      "[639]\tvalid_0's binary_logloss: 0.400594\n",
      "[640]\tvalid_0's binary_logloss: 0.400609\n",
      "[641]\tvalid_0's binary_logloss: 0.400607\n",
      "[642]\tvalid_0's binary_logloss: 0.400606\n",
      "[643]\tvalid_0's binary_logloss: 0.400602\n",
      "[644]\tvalid_0's binary_logloss: 0.400604\n",
      "[645]\tvalid_0's binary_logloss: 0.40061\n",
      "[646]\tvalid_0's binary_logloss: 0.400603\n",
      "[647]\tvalid_0's binary_logloss: 0.40059\n",
      "[648]\tvalid_0's binary_logloss: 0.400596\n",
      "[649]\tvalid_0's binary_logloss: 0.400597\n",
      "[650]\tvalid_0's binary_logloss: 0.400603\n",
      "[651]\tvalid_0's binary_logloss: 0.400593\n",
      "[652]\tvalid_0's binary_logloss: 0.400587\n",
      "[653]\tvalid_0's binary_logloss: 0.400582\n",
      "[654]\tvalid_0's binary_logloss: 0.400579\n",
      "[655]\tvalid_0's binary_logloss: 0.40058\n",
      "[656]\tvalid_0's binary_logloss: 0.400569\n",
      "[657]\tvalid_0's binary_logloss: 0.400563\n",
      "[658]\tvalid_0's binary_logloss: 0.400562\n",
      "[659]\tvalid_0's binary_logloss: 0.400571\n",
      "[660]\tvalid_0's binary_logloss: 0.400574\n",
      "[661]\tvalid_0's binary_logloss: 0.400567\n",
      "[662]\tvalid_0's binary_logloss: 0.400563\n",
      "[663]\tvalid_0's binary_logloss: 0.400569\n",
      "[664]\tvalid_0's binary_logloss: 0.400581\n",
      "[665]\tvalid_0's binary_logloss: 0.400581\n",
      "[666]\tvalid_0's binary_logloss: 0.400577\n",
      "[667]\tvalid_0's binary_logloss: 0.400584\n",
      "[668]\tvalid_0's binary_logloss: 0.400579\n",
      "[669]\tvalid_0's binary_logloss: 0.400577\n",
      "[670]\tvalid_0's binary_logloss: 0.40057\n",
      "[671]\tvalid_0's binary_logloss: 0.400561\n",
      "[672]\tvalid_0's binary_logloss: 0.40055\n",
      "[673]\tvalid_0's binary_logloss: 0.400536\n",
      "[674]\tvalid_0's binary_logloss: 0.400539\n",
      "[675]\tvalid_0's binary_logloss: 0.400539\n",
      "[676]\tvalid_0's binary_logloss: 0.400538\n",
      "[677]\tvalid_0's binary_logloss: 0.400539\n",
      "[678]\tvalid_0's binary_logloss: 0.400536\n",
      "[679]\tvalid_0's binary_logloss: 0.400523\n",
      "[680]\tvalid_0's binary_logloss: 0.400529\n",
      "[681]\tvalid_0's binary_logloss: 0.400532\n",
      "[682]\tvalid_0's binary_logloss: 0.400515\n",
      "[683]\tvalid_0's binary_logloss: 0.400492\n",
      "[684]\tvalid_0's binary_logloss: 0.400497\n",
      "[685]\tvalid_0's binary_logloss: 0.400482\n",
      "[686]\tvalid_0's binary_logloss: 0.400473\n",
      "[687]\tvalid_0's binary_logloss: 0.400467\n",
      "[688]\tvalid_0's binary_logloss: 0.40047\n",
      "[689]\tvalid_0's binary_logloss: 0.400476\n",
      "[690]\tvalid_0's binary_logloss: 0.400467\n",
      "[691]\tvalid_0's binary_logloss: 0.400463\n",
      "[692]\tvalid_0's binary_logloss: 0.400459\n",
      "[693]\tvalid_0's binary_logloss: 0.400457\n",
      "[694]\tvalid_0's binary_logloss: 0.400455\n",
      "[695]\tvalid_0's binary_logloss: 0.400457\n",
      "[696]\tvalid_0's binary_logloss: 0.400448\n",
      "[697]\tvalid_0's binary_logloss: 0.400455\n",
      "[698]\tvalid_0's binary_logloss: 0.400449\n",
      "[699]\tvalid_0's binary_logloss: 0.400458\n",
      "[700]\tvalid_0's binary_logloss: 0.400459\n",
      "[701]\tvalid_0's binary_logloss: 0.400443\n",
      "[702]\tvalid_0's binary_logloss: 0.400439\n",
      "[703]\tvalid_0's binary_logloss: 0.400444\n",
      "[704]\tvalid_0's binary_logloss: 0.400451\n",
      "[705]\tvalid_0's binary_logloss: 0.400441\n",
      "[706]\tvalid_0's binary_logloss: 0.400438\n",
      "[707]\tvalid_0's binary_logloss: 0.400441\n",
      "[708]\tvalid_0's binary_logloss: 0.400452\n",
      "[709]\tvalid_0's binary_logloss: 0.400449\n",
      "[710]\tvalid_0's binary_logloss: 0.400454\n",
      "[711]\tvalid_0's binary_logloss: 0.400453\n",
      "[712]\tvalid_0's binary_logloss: 0.400462\n",
      "[713]\tvalid_0's binary_logloss: 0.400458\n",
      "[714]\tvalid_0's binary_logloss: 0.400456\n",
      "[715]\tvalid_0's binary_logloss: 0.400468\n",
      "[716]\tvalid_0's binary_logloss: 0.400462\n",
      "[717]\tvalid_0's binary_logloss: 0.400455\n",
      "[718]\tvalid_0's binary_logloss: 0.40045\n",
      "[719]\tvalid_0's binary_logloss: 0.400451\n",
      "[720]\tvalid_0's binary_logloss: 0.400441\n",
      "[721]\tvalid_0's binary_logloss: 0.400443\n",
      "[722]\tvalid_0's binary_logloss: 0.400447\n",
      "[723]\tvalid_0's binary_logloss: 0.400437\n",
      "[724]\tvalid_0's binary_logloss: 0.40044\n",
      "[725]\tvalid_0's binary_logloss: 0.400447\n",
      "[726]\tvalid_0's binary_logloss: 0.400444\n",
      "[727]\tvalid_0's binary_logloss: 0.400445\n",
      "[728]\tvalid_0's binary_logloss: 0.400433\n",
      "[729]\tvalid_0's binary_logloss: 0.400432\n",
      "[730]\tvalid_0's binary_logloss: 0.40042\n",
      "[731]\tvalid_0's binary_logloss: 0.400413\n",
      "[732]\tvalid_0's binary_logloss: 0.400411\n",
      "[733]\tvalid_0's binary_logloss: 0.400411\n",
      "[734]\tvalid_0's binary_logloss: 0.400409\n",
      "[735]\tvalid_0's binary_logloss: 0.400409\n",
      "[736]\tvalid_0's binary_logloss: 0.400406\n",
      "[737]\tvalid_0's binary_logloss: 0.400392\n",
      "[738]\tvalid_0's binary_logloss: 0.40039\n",
      "[739]\tvalid_0's binary_logloss: 0.400393\n",
      "[740]\tvalid_0's binary_logloss: 0.4004\n",
      "[741]\tvalid_0's binary_logloss: 0.4004\n",
      "[742]\tvalid_0's binary_logloss: 0.400403\n",
      "[743]\tvalid_0's binary_logloss: 0.400405\n",
      "[744]\tvalid_0's binary_logloss: 0.400403\n",
      "[745]\tvalid_0's binary_logloss: 0.400411\n",
      "[746]\tvalid_0's binary_logloss: 0.400405\n",
      "[747]\tvalid_0's binary_logloss: 0.400401\n",
      "[748]\tvalid_0's binary_logloss: 0.400398\n",
      "[749]\tvalid_0's binary_logloss: 0.400392\n",
      "[750]\tvalid_0's binary_logloss: 0.400397\n",
      "[751]\tvalid_0's binary_logloss: 0.400394\n",
      "[752]\tvalid_0's binary_logloss: 0.400391\n",
      "[753]\tvalid_0's binary_logloss: 0.400399\n",
      "[754]\tvalid_0's binary_logloss: 0.400393\n",
      "[755]\tvalid_0's binary_logloss: 0.400385\n",
      "[756]\tvalid_0's binary_logloss: 0.400384\n",
      "[757]\tvalid_0's binary_logloss: 0.400374\n",
      "[758]\tvalid_0's binary_logloss: 0.400374\n",
      "[759]\tvalid_0's binary_logloss: 0.400372\n",
      "[760]\tvalid_0's binary_logloss: 0.400371\n",
      "[761]\tvalid_0's binary_logloss: 0.40037\n",
      "[762]\tvalid_0's binary_logloss: 0.400373\n",
      "[763]\tvalid_0's binary_logloss: 0.400374\n",
      "[764]\tvalid_0's binary_logloss: 0.400376\n",
      "[765]\tvalid_0's binary_logloss: 0.400383\n",
      "[766]\tvalid_0's binary_logloss: 0.400381\n",
      "[767]\tvalid_0's binary_logloss: 0.400385\n",
      "[768]\tvalid_0's binary_logloss: 0.400381\n",
      "[769]\tvalid_0's binary_logloss: 0.400379\n",
      "[770]\tvalid_0's binary_logloss: 0.400381\n",
      "[771]\tvalid_0's binary_logloss: 0.400384\n",
      "[772]\tvalid_0's binary_logloss: 0.400376\n",
      "[773]\tvalid_0's binary_logloss: 0.40037\n",
      "[774]\tvalid_0's binary_logloss: 0.400366\n",
      "[775]\tvalid_0's binary_logloss: 0.40037\n",
      "[776]\tvalid_0's binary_logloss: 0.400364\n",
      "[777]\tvalid_0's binary_logloss: 0.400365\n",
      "[778]\tvalid_0's binary_logloss: 0.400363\n",
      "[779]\tvalid_0's binary_logloss: 0.400361\n",
      "[780]\tvalid_0's binary_logloss: 0.400367\n",
      "[781]\tvalid_0's binary_logloss: 0.400354\n",
      "[782]\tvalid_0's binary_logloss: 0.400355\n",
      "[783]\tvalid_0's binary_logloss: 0.400359\n",
      "[784]\tvalid_0's binary_logloss: 0.400348\n",
      "[785]\tvalid_0's binary_logloss: 0.400353\n",
      "[786]\tvalid_0's binary_logloss: 0.400355\n",
      "[787]\tvalid_0's binary_logloss: 0.400355\n",
      "[788]\tvalid_0's binary_logloss: 0.40035\n",
      "[789]\tvalid_0's binary_logloss: 0.400341\n",
      "[790]\tvalid_0's binary_logloss: 0.400343\n",
      "[791]\tvalid_0's binary_logloss: 0.400348\n",
      "[792]\tvalid_0's binary_logloss: 0.400352\n",
      "[793]\tvalid_0's binary_logloss: 0.400348\n",
      "[794]\tvalid_0's binary_logloss: 0.400349\n",
      "[795]\tvalid_0's binary_logloss: 0.400346\n",
      "[796]\tvalid_0's binary_logloss: 0.400341\n",
      "[797]\tvalid_0's binary_logloss: 0.400341\n",
      "[798]\tvalid_0's binary_logloss: 0.40034\n",
      "[799]\tvalid_0's binary_logloss: 0.400331\n",
      "[800]\tvalid_0's binary_logloss: 0.400334\n",
      "[801]\tvalid_0's binary_logloss: 0.400332\n",
      "[802]\tvalid_0's binary_logloss: 0.400327\n",
      "[803]\tvalid_0's binary_logloss: 0.400319\n",
      "[804]\tvalid_0's binary_logloss: 0.400318\n",
      "[805]\tvalid_0's binary_logloss: 0.400326\n",
      "[806]\tvalid_0's binary_logloss: 0.40032\n",
      "[807]\tvalid_0's binary_logloss: 0.400309\n",
      "[808]\tvalid_0's binary_logloss: 0.400304\n",
      "[809]\tvalid_0's binary_logloss: 0.4003\n",
      "[810]\tvalid_0's binary_logloss: 0.400303\n",
      "[811]\tvalid_0's binary_logloss: 0.400292\n",
      "[812]\tvalid_0's binary_logloss: 0.400287\n",
      "[813]\tvalid_0's binary_logloss: 0.400277\n",
      "[814]\tvalid_0's binary_logloss: 0.400274\n"
     ]
    },
    {
     "name": "stdout",
     "output_type": "stream",
     "text": [
      "[815]\tvalid_0's binary_logloss: 0.400267\n",
      "[816]\tvalid_0's binary_logloss: 0.400269\n",
      "[817]\tvalid_0's binary_logloss: 0.400278\n",
      "[818]\tvalid_0's binary_logloss: 0.400282\n",
      "[819]\tvalid_0's binary_logloss: 0.400282\n",
      "[820]\tvalid_0's binary_logloss: 0.400277\n",
      "[821]\tvalid_0's binary_logloss: 0.400269\n",
      "[822]\tvalid_0's binary_logloss: 0.400278\n",
      "[823]\tvalid_0's binary_logloss: 0.400271\n",
      "[824]\tvalid_0's binary_logloss: 0.40027\n",
      "[825]\tvalid_0's binary_logloss: 0.400282\n",
      "[826]\tvalid_0's binary_logloss: 0.400276\n",
      "[827]\tvalid_0's binary_logloss: 0.400276\n",
      "[828]\tvalid_0's binary_logloss: 0.400267\n",
      "[829]\tvalid_0's binary_logloss: 0.400268\n",
      "[830]\tvalid_0's binary_logloss: 0.400261\n",
      "[831]\tvalid_0's binary_logloss: 0.400257\n",
      "[832]\tvalid_0's binary_logloss: 0.400261\n",
      "[833]\tvalid_0's binary_logloss: 0.400247\n",
      "[834]\tvalid_0's binary_logloss: 0.400253\n",
      "[835]\tvalid_0's binary_logloss: 0.400249\n",
      "[836]\tvalid_0's binary_logloss: 0.400235\n",
      "[837]\tvalid_0's binary_logloss: 0.400239\n",
      "[838]\tvalid_0's binary_logloss: 0.400233\n",
      "[839]\tvalid_0's binary_logloss: 0.400234\n",
      "[840]\tvalid_0's binary_logloss: 0.400234\n",
      "[841]\tvalid_0's binary_logloss: 0.400241\n",
      "[842]\tvalid_0's binary_logloss: 0.400236\n",
      "[843]\tvalid_0's binary_logloss: 0.400235\n",
      "[844]\tvalid_0's binary_logloss: 0.400244\n",
      "[845]\tvalid_0's binary_logloss: 0.400246\n",
      "[846]\tvalid_0's binary_logloss: 0.400247\n",
      "[847]\tvalid_0's binary_logloss: 0.400245\n",
      "[848]\tvalid_0's binary_logloss: 0.400227\n",
      "[849]\tvalid_0's binary_logloss: 0.400223\n",
      "[850]\tvalid_0's binary_logloss: 0.400221\n",
      "[851]\tvalid_0's binary_logloss: 0.400226\n",
      "[852]\tvalid_0's binary_logloss: 0.400231\n",
      "[853]\tvalid_0's binary_logloss: 0.400233\n",
      "[854]\tvalid_0's binary_logloss: 0.400241\n",
      "[855]\tvalid_0's binary_logloss: 0.400254\n",
      "[856]\tvalid_0's binary_logloss: 0.400246\n",
      "[857]\tvalid_0's binary_logloss: 0.400246\n",
      "[858]\tvalid_0's binary_logloss: 0.400257\n",
      "[859]\tvalid_0's binary_logloss: 0.400258\n",
      "[860]\tvalid_0's binary_logloss: 0.400257\n",
      "[861]\tvalid_0's binary_logloss: 0.400253\n",
      "[862]\tvalid_0's binary_logloss: 0.400258\n",
      "[863]\tvalid_0's binary_logloss: 0.400261\n",
      "[864]\tvalid_0's binary_logloss: 0.400263\n",
      "[865]\tvalid_0's binary_logloss: 0.400267\n",
      "[866]\tvalid_0's binary_logloss: 0.400259\n",
      "[867]\tvalid_0's binary_logloss: 0.400261\n",
      "[868]\tvalid_0's binary_logloss: 0.400263\n",
      "[869]\tvalid_0's binary_logloss: 0.400264\n",
      "[870]\tvalid_0's binary_logloss: 0.400279\n",
      "[871]\tvalid_0's binary_logloss: 0.400268\n",
      "[872]\tvalid_0's binary_logloss: 0.400276\n",
      "[873]\tvalid_0's binary_logloss: 0.400273\n",
      "[874]\tvalid_0's binary_logloss: 0.400273\n",
      "[875]\tvalid_0's binary_logloss: 0.400277\n",
      "[876]\tvalid_0's binary_logloss: 0.400279\n",
      "[877]\tvalid_0's binary_logloss: 0.400279\n",
      "[878]\tvalid_0's binary_logloss: 0.400282\n",
      "[879]\tvalid_0's binary_logloss: 0.400286\n",
      "[880]\tvalid_0's binary_logloss: 0.400287\n",
      "[881]\tvalid_0's binary_logloss: 0.400286\n",
      "[882]\tvalid_0's binary_logloss: 0.400294\n",
      "[883]\tvalid_0's binary_logloss: 0.400298\n",
      "[884]\tvalid_0's binary_logloss: 0.4003\n",
      "[885]\tvalid_0's binary_logloss: 0.400307\n",
      "[886]\tvalid_0's binary_logloss: 0.400304\n",
      "[887]\tvalid_0's binary_logloss: 0.4003\n",
      "[888]\tvalid_0's binary_logloss: 0.400303\n",
      "[889]\tvalid_0's binary_logloss: 0.400302\n",
      "[890]\tvalid_0's binary_logloss: 0.4003\n",
      "[891]\tvalid_0's binary_logloss: 0.400298\n",
      "[892]\tvalid_0's binary_logloss: 0.400297\n",
      "[893]\tvalid_0's binary_logloss: 0.400299\n",
      "[894]\tvalid_0's binary_logloss: 0.400293\n",
      "[895]\tvalid_0's binary_logloss: 0.400289\n",
      "[896]\tvalid_0's binary_logloss: 0.400287\n",
      "[897]\tvalid_0's binary_logloss: 0.400285\n",
      "[898]\tvalid_0's binary_logloss: 0.400284\n",
      "[899]\tvalid_0's binary_logloss: 0.400273\n",
      "[900]\tvalid_0's binary_logloss: 0.400271\n",
      "[901]\tvalid_0's binary_logloss: 0.400264\n",
      "[902]\tvalid_0's binary_logloss: 0.400261\n",
      "[903]\tvalid_0's binary_logloss: 0.400263\n",
      "[904]\tvalid_0's binary_logloss: 0.400265\n",
      "[905]\tvalid_0's binary_logloss: 0.400262\n",
      "[906]\tvalid_0's binary_logloss: 0.400258\n",
      "[907]\tvalid_0's binary_logloss: 0.400261\n",
      "[908]\tvalid_0's binary_logloss: 0.400258\n",
      "[909]\tvalid_0's binary_logloss: 0.400252\n",
      "[910]\tvalid_0's binary_logloss: 0.400248\n",
      "[911]\tvalid_0's binary_logloss: 0.400248\n",
      "[912]\tvalid_0's binary_logloss: 0.40025\n",
      "[913]\tvalid_0's binary_logloss: 0.40026\n",
      "[914]\tvalid_0's binary_logloss: 0.400266\n",
      "[915]\tvalid_0's binary_logloss: 0.400268\n",
      "[916]\tvalid_0's binary_logloss: 0.400265\n",
      "[917]\tvalid_0's binary_logloss: 0.400261\n",
      "[918]\tvalid_0's binary_logloss: 0.40026\n",
      "[919]\tvalid_0's binary_logloss: 0.400275\n",
      "[920]\tvalid_0's binary_logloss: 0.400278\n",
      "[921]\tvalid_0's binary_logloss: 0.400271\n",
      "[922]\tvalid_0's binary_logloss: 0.400263\n",
      "[923]\tvalid_0's binary_logloss: 0.400267\n",
      "[924]\tvalid_0's binary_logloss: 0.40027\n",
      "[925]\tvalid_0's binary_logloss: 0.400274\n",
      "[926]\tvalid_0's binary_logloss: 0.400272\n",
      "[927]\tvalid_0's binary_logloss: 0.400277\n",
      "[928]\tvalid_0's binary_logloss: 0.40028\n",
      "[929]\tvalid_0's binary_logloss: 0.400282\n",
      "[930]\tvalid_0's binary_logloss: 0.400274\n",
      "[931]\tvalid_0's binary_logloss: 0.400253\n",
      "[932]\tvalid_0's binary_logloss: 0.400256\n",
      "[933]\tvalid_0's binary_logloss: 0.400249\n",
      "[934]\tvalid_0's binary_logloss: 0.400235\n",
      "[935]\tvalid_0's binary_logloss: 0.40023\n",
      "[936]\tvalid_0's binary_logloss: 0.400227\n",
      "[937]\tvalid_0's binary_logloss: 0.400223\n",
      "[938]\tvalid_0's binary_logloss: 0.400226\n",
      "[939]\tvalid_0's binary_logloss: 0.400226\n",
      "[940]\tvalid_0's binary_logloss: 0.400223\n",
      "[941]\tvalid_0's binary_logloss: 0.400214\n",
      "[942]\tvalid_0's binary_logloss: 0.400215\n",
      "[943]\tvalid_0's binary_logloss: 0.400226\n",
      "[944]\tvalid_0's binary_logloss: 0.400227\n",
      "[945]\tvalid_0's binary_logloss: 0.400227\n",
      "[946]\tvalid_0's binary_logloss: 0.400225\n",
      "[947]\tvalid_0's binary_logloss: 0.40022\n",
      "[948]\tvalid_0's binary_logloss: 0.400221\n",
      "[949]\tvalid_0's binary_logloss: 0.40021\n",
      "[950]\tvalid_0's binary_logloss: 0.400213\n",
      "[951]\tvalid_0's binary_logloss: 0.400204\n",
      "[952]\tvalid_0's binary_logloss: 0.400201\n",
      "[953]\tvalid_0's binary_logloss: 0.400202\n",
      "[954]\tvalid_0's binary_logloss: 0.400201\n",
      "[955]\tvalid_0's binary_logloss: 0.400198\n",
      "[956]\tvalid_0's binary_logloss: 0.400198\n",
      "[957]\tvalid_0's binary_logloss: 0.400196\n",
      "[958]\tvalid_0's binary_logloss: 0.400196\n",
      "[959]\tvalid_0's binary_logloss: 0.400199\n",
      "[960]\tvalid_0's binary_logloss: 0.400204\n",
      "[961]\tvalid_0's binary_logloss: 0.400199\n",
      "[962]\tvalid_0's binary_logloss: 0.400199\n",
      "[963]\tvalid_0's binary_logloss: 0.400201\n",
      "[964]\tvalid_0's binary_logloss: 0.400211\n",
      "[965]\tvalid_0's binary_logloss: 0.400213\n",
      "[966]\tvalid_0's binary_logloss: 0.400223\n",
      "[967]\tvalid_0's binary_logloss: 0.400232\n",
      "[968]\tvalid_0's binary_logloss: 0.400233\n",
      "[969]\tvalid_0's binary_logloss: 0.400231\n",
      "[970]\tvalid_0's binary_logloss: 0.400241\n",
      "[971]\tvalid_0's binary_logloss: 0.400237\n",
      "[972]\tvalid_0's binary_logloss: 0.400237\n",
      "[973]\tvalid_0's binary_logloss: 0.400242\n",
      "[974]\tvalid_0's binary_logloss: 0.400246\n",
      "[975]\tvalid_0's binary_logloss: 0.400252\n",
      "[976]\tvalid_0's binary_logloss: 0.400248\n",
      "[977]\tvalid_0's binary_logloss: 0.400251\n",
      "[978]\tvalid_0's binary_logloss: 0.400257\n",
      "[979]\tvalid_0's binary_logloss: 0.40025\n",
      "[980]\tvalid_0's binary_logloss: 0.40024\n",
      "[981]\tvalid_0's binary_logloss: 0.400245\n",
      "[982]\tvalid_0's binary_logloss: 0.400247\n",
      "[983]\tvalid_0's binary_logloss: 0.400254\n",
      "[984]\tvalid_0's binary_logloss: 0.400248\n",
      "[985]\tvalid_0's binary_logloss: 0.400251\n",
      "[986]\tvalid_0's binary_logloss: 0.400251\n",
      "[987]\tvalid_0's binary_logloss: 0.400254\n",
      "[988]\tvalid_0's binary_logloss: 0.400249\n",
      "[989]\tvalid_0's binary_logloss: 0.400257\n",
      "[990]\tvalid_0's binary_logloss: 0.400255\n",
      "[991]\tvalid_0's binary_logloss: 0.400251\n",
      "[992]\tvalid_0's binary_logloss: 0.400246\n",
      "[993]\tvalid_0's binary_logloss: 0.400234\n",
      "[994]\tvalid_0's binary_logloss: 0.400222\n",
      "[995]\tvalid_0's binary_logloss: 0.400213\n",
      "[996]\tvalid_0's binary_logloss: 0.400217\n",
      "[997]\tvalid_0's binary_logloss: 0.40021\n",
      "[998]\tvalid_0's binary_logloss: 0.40021\n",
      "[999]\tvalid_0's binary_logloss: 0.40021\n",
      "[1000]\tvalid_0's binary_logloss: 0.400221\n",
      "[1001]\tvalid_0's binary_logloss: 0.400215\n",
      "[1002]\tvalid_0's binary_logloss: 0.40022\n",
      "[1003]\tvalid_0's binary_logloss: 0.40023\n",
      "[1004]\tvalid_0's binary_logloss: 0.400232\n",
      "[1005]\tvalid_0's binary_logloss: 0.400241\n",
      "[1006]\tvalid_0's binary_logloss: 0.400239\n",
      "[1007]\tvalid_0's binary_logloss: 0.400231\n",
      "[1008]\tvalid_0's binary_logloss: 0.400228\n",
      "[1009]\tvalid_0's binary_logloss: 0.400232\n",
      "[1010]\tvalid_0's binary_logloss: 0.400231\n",
      "[1011]\tvalid_0's binary_logloss: 0.400233\n",
      "[1012]\tvalid_0's binary_logloss: 0.400225\n",
      "[1013]\tvalid_0's binary_logloss: 0.400214\n",
      "[1014]\tvalid_0's binary_logloss: 0.400213\n",
      "[1015]\tvalid_0's binary_logloss: 0.40021\n"
     ]
    },
    {
     "name": "stdout",
     "output_type": "stream",
     "text": [
      "[1016]\tvalid_0's binary_logloss: 0.400219\n",
      "[1017]\tvalid_0's binary_logloss: 0.400227\n",
      "[1018]\tvalid_0's binary_logloss: 0.400239\n",
      "[1019]\tvalid_0's binary_logloss: 0.400248\n",
      "[1020]\tvalid_0's binary_logloss: 0.400258\n",
      "[1021]\tvalid_0's binary_logloss: 0.400274\n",
      "[1022]\tvalid_0's binary_logloss: 0.400282\n",
      "[1023]\tvalid_0's binary_logloss: 0.400281\n",
      "[1024]\tvalid_0's binary_logloss: 0.400282\n",
      "[1025]\tvalid_0's binary_logloss: 0.400286\n",
      "[1026]\tvalid_0's binary_logloss: 0.400281\n",
      "[1027]\tvalid_0's binary_logloss: 0.400289\n",
      "[1028]\tvalid_0's binary_logloss: 0.400287\n",
      "[1029]\tvalid_0's binary_logloss: 0.400283\n",
      "[1030]\tvalid_0's binary_logloss: 0.400282\n",
      "[1031]\tvalid_0's binary_logloss: 0.400274\n",
      "[1032]\tvalid_0's binary_logloss: 0.400274\n",
      "[1033]\tvalid_0's binary_logloss: 0.400272\n",
      "[1034]\tvalid_0's binary_logloss: 0.400279\n",
      "[1035]\tvalid_0's binary_logloss: 0.400273\n",
      "[1036]\tvalid_0's binary_logloss: 0.400275\n",
      "[1037]\tvalid_0's binary_logloss: 0.400284\n",
      "[1038]\tvalid_0's binary_logloss: 0.40029\n",
      "[1039]\tvalid_0's binary_logloss: 0.400295\n",
      "[1040]\tvalid_0's binary_logloss: 0.400299\n",
      "[1041]\tvalid_0's binary_logloss: 0.40031\n",
      "[1042]\tvalid_0's binary_logloss: 0.400314\n",
      "[1043]\tvalid_0's binary_logloss: 0.400298\n",
      "[1044]\tvalid_0's binary_logloss: 0.40029\n",
      "[1045]\tvalid_0's binary_logloss: 0.400296\n",
      "[1046]\tvalid_0's binary_logloss: 0.400295\n",
      "[1047]\tvalid_0's binary_logloss: 0.400288\n",
      "[1048]\tvalid_0's binary_logloss: 0.400288\n",
      "[1049]\tvalid_0's binary_logloss: 0.400285\n",
      "[1050]\tvalid_0's binary_logloss: 0.400287\n",
      "[1051]\tvalid_0's binary_logloss: 0.400285\n",
      "[1052]\tvalid_0's binary_logloss: 0.400285\n",
      "[1053]\tvalid_0's binary_logloss: 0.400287\n",
      "[1054]\tvalid_0's binary_logloss: 0.400295\n",
      "[1055]\tvalid_0's binary_logloss: 0.400304\n",
      "[1056]\tvalid_0's binary_logloss: 0.40031\n",
      "[1057]\tvalid_0's binary_logloss: 0.400304\n",
      "[1058]\tvalid_0's binary_logloss: 0.400308\n",
      "[1059]\tvalid_0's binary_logloss: 0.400309\n",
      "[1060]\tvalid_0's binary_logloss: 0.400297\n",
      "[1061]\tvalid_0's binary_logloss: 0.400296\n",
      "[1062]\tvalid_0's binary_logloss: 0.400298\n",
      "[1063]\tvalid_0's binary_logloss: 0.400309\n",
      "[1064]\tvalid_0's binary_logloss: 0.400307\n",
      "[1065]\tvalid_0's binary_logloss: 0.400307\n",
      "[1066]\tvalid_0's binary_logloss: 0.400312\n",
      "[1067]\tvalid_0's binary_logloss: 0.400319\n",
      "[1068]\tvalid_0's binary_logloss: 0.400324\n",
      "[1069]\tvalid_0's binary_logloss: 0.400326\n",
      "[1070]\tvalid_0's binary_logloss: 0.400329\n",
      "[1071]\tvalid_0's binary_logloss: 0.400328\n",
      "[1072]\tvalid_0's binary_logloss: 0.400324\n",
      "[1073]\tvalid_0's binary_logloss: 0.400323\n",
      "[1074]\tvalid_0's binary_logloss: 0.400323\n",
      "[1075]\tvalid_0's binary_logloss: 0.400322\n",
      "[1076]\tvalid_0's binary_logloss: 0.400326\n",
      "[1077]\tvalid_0's binary_logloss: 0.400324\n",
      "[1078]\tvalid_0's binary_logloss: 0.40032\n",
      "[1079]\tvalid_0's binary_logloss: 0.400323\n",
      "[1080]\tvalid_0's binary_logloss: 0.40032\n",
      "[1081]\tvalid_0's binary_logloss: 0.400312\n",
      "[1082]\tvalid_0's binary_logloss: 0.400304\n",
      "[1083]\tvalid_0's binary_logloss: 0.400298\n",
      "[1084]\tvalid_0's binary_logloss: 0.400296\n",
      "[1085]\tvalid_0's binary_logloss: 0.400303\n",
      "[1086]\tvalid_0's binary_logloss: 0.400293\n",
      "[1087]\tvalid_0's binary_logloss: 0.400289\n",
      "[1088]\tvalid_0's binary_logloss: 0.400285\n",
      "[1089]\tvalid_0's binary_logloss: 0.400292\n",
      "[1090]\tvalid_0's binary_logloss: 0.400288\n",
      "[1091]\tvalid_0's binary_logloss: 0.400286\n",
      "[1092]\tvalid_0's binary_logloss: 0.400278\n",
      "[1093]\tvalid_0's binary_logloss: 0.400275\n",
      "[1094]\tvalid_0's binary_logloss: 0.400271\n",
      "[1095]\tvalid_0's binary_logloss: 0.400269\n",
      "[1096]\tvalid_0's binary_logloss: 0.400272\n",
      "[1097]\tvalid_0's binary_logloss: 0.400271\n",
      "[1098]\tvalid_0's binary_logloss: 0.400273\n",
      "[1099]\tvalid_0's binary_logloss: 0.400273\n",
      "[1100]\tvalid_0's binary_logloss: 0.400278\n",
      "[1101]\tvalid_0's binary_logloss: 0.400264\n",
      "[1102]\tvalid_0's binary_logloss: 0.40026\n",
      "[1103]\tvalid_0's binary_logloss: 0.400249\n",
      "[1104]\tvalid_0's binary_logloss: 0.400255\n",
      "[1105]\tvalid_0's binary_logloss: 0.40025\n",
      "[1106]\tvalid_0's binary_logloss: 0.400254\n",
      "[1107]\tvalid_0's binary_logloss: 0.400246\n",
      "[1108]\tvalid_0's binary_logloss: 0.400243\n",
      "[1109]\tvalid_0's binary_logloss: 0.400239\n",
      "[1110]\tvalid_0's binary_logloss: 0.40024\n",
      "[1111]\tvalid_0's binary_logloss: 0.400241\n",
      "[1112]\tvalid_0's binary_logloss: 0.400246\n",
      "[1113]\tvalid_0's binary_logloss: 0.40025\n",
      "[1114]\tvalid_0's binary_logloss: 0.400255\n",
      "[1115]\tvalid_0's binary_logloss: 0.400255\n",
      "[1116]\tvalid_0's binary_logloss: 0.400251\n",
      "[1117]\tvalid_0's binary_logloss: 0.400255\n",
      "[1118]\tvalid_0's binary_logloss: 0.400261\n",
      "[1119]\tvalid_0's binary_logloss: 0.400262\n",
      "[1120]\tvalid_0's binary_logloss: 0.40026\n",
      "[1121]\tvalid_0's binary_logloss: 0.400251\n",
      "[1122]\tvalid_0's binary_logloss: 0.400239\n",
      "[1123]\tvalid_0's binary_logloss: 0.400236\n",
      "[1124]\tvalid_0's binary_logloss: 0.40023\n",
      "[1125]\tvalid_0's binary_logloss: 0.400221\n",
      "[1126]\tvalid_0's binary_logloss: 0.400224\n",
      "[1127]\tvalid_0's binary_logloss: 0.400228\n",
      "[1128]\tvalid_0's binary_logloss: 0.400226\n",
      "[1129]\tvalid_0's binary_logloss: 0.400221\n",
      "[1130]\tvalid_0's binary_logloss: 0.400225\n",
      "[1131]\tvalid_0's binary_logloss: 0.400219\n",
      "[1132]\tvalid_0's binary_logloss: 0.400218\n",
      "[1133]\tvalid_0's binary_logloss: 0.40022\n",
      "[1134]\tvalid_0's binary_logloss: 0.400225\n",
      "[1135]\tvalid_0's binary_logloss: 0.40024\n",
      "[1136]\tvalid_0's binary_logloss: 0.400258\n",
      "[1137]\tvalid_0's binary_logloss: 0.400236\n",
      "[1138]\tvalid_0's binary_logloss: 0.400237\n",
      "[1139]\tvalid_0's binary_logloss: 0.40022\n",
      "[1140]\tvalid_0's binary_logloss: 0.400222\n",
      "[1141]\tvalid_0's binary_logloss: 0.400224\n",
      "[1142]\tvalid_0's binary_logloss: 0.40023\n",
      "[1143]\tvalid_0's binary_logloss: 0.400229\n",
      "[1144]\tvalid_0's binary_logloss: 0.400222\n",
      "[1145]\tvalid_0's binary_logloss: 0.400231\n",
      "[1146]\tvalid_0's binary_logloss: 0.400231\n",
      "[1147]\tvalid_0's binary_logloss: 0.40023\n",
      "[1148]\tvalid_0's binary_logloss: 0.400227\n",
      "[1149]\tvalid_0's binary_logloss: 0.400224\n",
      "[1150]\tvalid_0's binary_logloss: 0.400228\n",
      "[1151]\tvalid_0's binary_logloss: 0.400214\n",
      "[1152]\tvalid_0's binary_logloss: 0.400205\n",
      "[1153]\tvalid_0's binary_logloss: 0.400215\n",
      "[1154]\tvalid_0's binary_logloss: 0.400217\n",
      "[1155]\tvalid_0's binary_logloss: 0.400227\n",
      "[1156]\tvalid_0's binary_logloss: 0.400231\n",
      "[1157]\tvalid_0's binary_logloss: 0.400237\n",
      "[1158]\tvalid_0's binary_logloss: 0.400244\n",
      "[1159]\tvalid_0's binary_logloss: 0.400239\n",
      "[1160]\tvalid_0's binary_logloss: 0.400242\n",
      "[1161]\tvalid_0's binary_logloss: 0.400246\n",
      "[1162]\tvalid_0's binary_logloss: 0.400244\n",
      "[1163]\tvalid_0's binary_logloss: 0.400252\n",
      "[1164]\tvalid_0's binary_logloss: 0.400256\n",
      "[1165]\tvalid_0's binary_logloss: 0.400263\n",
      "[1166]\tvalid_0's binary_logloss: 0.400275\n",
      "[1167]\tvalid_0's binary_logloss: 0.400277\n",
      "[1168]\tvalid_0's binary_logloss: 0.400265\n",
      "[1169]\tvalid_0's binary_logloss: 0.400265\n",
      "[1170]\tvalid_0's binary_logloss: 0.400272\n",
      "[1171]\tvalid_0's binary_logloss: 0.400272\n",
      "[1172]\tvalid_0's binary_logloss: 0.400272\n",
      "[1173]\tvalid_0's binary_logloss: 0.400285\n",
      "[1174]\tvalid_0's binary_logloss: 0.400285\n",
      "[1175]\tvalid_0's binary_logloss: 0.40028\n",
      "[1176]\tvalid_0's binary_logloss: 0.400285\n",
      "[1177]\tvalid_0's binary_logloss: 0.400283\n",
      "[1178]\tvalid_0's binary_logloss: 0.400293\n",
      "[1179]\tvalid_0's binary_logloss: 0.400285\n",
      "[1180]\tvalid_0's binary_logloss: 0.40028\n",
      "[1181]\tvalid_0's binary_logloss: 0.400278\n",
      "[1182]\tvalid_0's binary_logloss: 0.400285\n",
      "[1183]\tvalid_0's binary_logloss: 0.400299\n",
      "[1184]\tvalid_0's binary_logloss: 0.400305\n",
      "[1185]\tvalid_0's binary_logloss: 0.4003\n",
      "[1186]\tvalid_0's binary_logloss: 0.400314\n",
      "[1187]\tvalid_0's binary_logloss: 0.400322\n",
      "[1188]\tvalid_0's binary_logloss: 0.400332\n",
      "[1189]\tvalid_0's binary_logloss: 0.400336\n",
      "[1190]\tvalid_0's binary_logloss: 0.400335\n",
      "[1191]\tvalid_0's binary_logloss: 0.400338\n",
      "[1192]\tvalid_0's binary_logloss: 0.400342\n",
      "[1193]\tvalid_0's binary_logloss: 0.400339\n",
      "[1194]\tvalid_0's binary_logloss: 0.40034\n",
      "[1195]\tvalid_0's binary_logloss: 0.400336\n",
      "[1196]\tvalid_0's binary_logloss: 0.400324\n",
      "[1197]\tvalid_0's binary_logloss: 0.40033\n",
      "[1198]\tvalid_0's binary_logloss: 0.40033\n",
      "[1199]\tvalid_0's binary_logloss: 0.400334\n",
      "[1200]\tvalid_0's binary_logloss: 0.400343\n",
      "[1201]\tvalid_0's binary_logloss: 0.400343\n",
      "[1202]\tvalid_0's binary_logloss: 0.400352\n",
      "[1203]\tvalid_0's binary_logloss: 0.400353\n",
      "[1204]\tvalid_0's binary_logloss: 0.400357\n",
      "[1205]\tvalid_0's binary_logloss: 0.400364\n",
      "[1206]\tvalid_0's binary_logloss: 0.400361\n",
      "[1207]\tvalid_0's binary_logloss: 0.400361\n",
      "[1208]\tvalid_0's binary_logloss: 0.400363\n",
      "[1209]\tvalid_0's binary_logloss: 0.400371\n",
      "[1210]\tvalid_0's binary_logloss: 0.400374\n",
      "[1211]\tvalid_0's binary_logloss: 0.400372\n",
      "[1212]\tvalid_0's binary_logloss: 0.400366\n",
      "[1213]\tvalid_0's binary_logloss: 0.400377\n"
     ]
    },
    {
     "name": "stdout",
     "output_type": "stream",
     "text": [
      "[1214]\tvalid_0's binary_logloss: 0.400382\n",
      "[1215]\tvalid_0's binary_logloss: 0.400392\n",
      "[1216]\tvalid_0's binary_logloss: 0.400387\n",
      "[1217]\tvalid_0's binary_logloss: 0.400392\n",
      "[1218]\tvalid_0's binary_logloss: 0.400387\n",
      "[1219]\tvalid_0's binary_logloss: 0.400383\n",
      "[1220]\tvalid_0's binary_logloss: 0.400379\n",
      "[1221]\tvalid_0's binary_logloss: 0.400373\n",
      "[1222]\tvalid_0's binary_logloss: 0.40037\n",
      "[1223]\tvalid_0's binary_logloss: 0.400372\n",
      "[1224]\tvalid_0's binary_logloss: 0.400356\n",
      "[1225]\tvalid_0's binary_logloss: 0.400364\n",
      "[1226]\tvalid_0's binary_logloss: 0.400359\n",
      "[1227]\tvalid_0's binary_logloss: 0.400352\n",
      "[1228]\tvalid_0's binary_logloss: 0.400365\n",
      "[1229]\tvalid_0's binary_logloss: 0.400369\n",
      "[1230]\tvalid_0's binary_logloss: 0.400364\n",
      "[1231]\tvalid_0's binary_logloss: 0.400359\n",
      "[1232]\tvalid_0's binary_logloss: 0.400358\n",
      "[1233]\tvalid_0's binary_logloss: 0.400359\n",
      "[1234]\tvalid_0's binary_logloss: 0.400364\n",
      "[1235]\tvalid_0's binary_logloss: 0.400361\n",
      "[1236]\tvalid_0's binary_logloss: 0.400356\n",
      "[1237]\tvalid_0's binary_logloss: 0.400349\n",
      "[1238]\tvalid_0's binary_logloss: 0.400345\n",
      "[1239]\tvalid_0's binary_logloss: 0.400339\n",
      "[1240]\tvalid_0's binary_logloss: 0.400342\n",
      "[1241]\tvalid_0's binary_logloss: 0.400344\n",
      "[1242]\tvalid_0's binary_logloss: 0.400344\n",
      "[1243]\tvalid_0's binary_logloss: 0.400349\n",
      "[1244]\tvalid_0's binary_logloss: 0.400347\n",
      "[1245]\tvalid_0's binary_logloss: 0.400345\n",
      "[1246]\tvalid_0's binary_logloss: 0.400343\n",
      "[1247]\tvalid_0's binary_logloss: 0.40035\n",
      "[1248]\tvalid_0's binary_logloss: 0.400358\n",
      "[1249]\tvalid_0's binary_logloss: 0.400349\n",
      "[1250]\tvalid_0's binary_logloss: 0.400346\n",
      "[1251]\tvalid_0's binary_logloss: 0.400337\n",
      "[1252]\tvalid_0's binary_logloss: 0.400332\n",
      "[1253]\tvalid_0's binary_logloss: 0.40032\n",
      "[1254]\tvalid_0's binary_logloss: 0.400322\n",
      "[1255]\tvalid_0's binary_logloss: 0.400324\n",
      "[1256]\tvalid_0's binary_logloss: 0.400308\n",
      "[1257]\tvalid_0's binary_logloss: 0.400298\n",
      "[1258]\tvalid_0's binary_logloss: 0.400302\n",
      "[1259]\tvalid_0's binary_logloss: 0.400301\n",
      "[1260]\tvalid_0's binary_logloss: 0.400305\n",
      "[1261]\tvalid_0's binary_logloss: 0.400299\n",
      "[1262]\tvalid_0's binary_logloss: 0.400294\n",
      "[1263]\tvalid_0's binary_logloss: 0.400297\n",
      "[1264]\tvalid_0's binary_logloss: 0.40029\n",
      "[1265]\tvalid_0's binary_logloss: 0.400297\n",
      "[1266]\tvalid_0's binary_logloss: 0.400306\n",
      "[1267]\tvalid_0's binary_logloss: 0.40031\n",
      "[1268]\tvalid_0's binary_logloss: 0.400301\n",
      "[1269]\tvalid_0's binary_logloss: 0.400298\n",
      "[1270]\tvalid_0's binary_logloss: 0.400307\n",
      "[1271]\tvalid_0's binary_logloss: 0.400313\n",
      "[1272]\tvalid_0's binary_logloss: 0.400322\n",
      "[1273]\tvalid_0's binary_logloss: 0.400325\n",
      "[1274]\tvalid_0's binary_logloss: 0.400319\n",
      "[1275]\tvalid_0's binary_logloss: 0.400329\n",
      "[1276]\tvalid_0's binary_logloss: 0.400313\n",
      "[1277]\tvalid_0's binary_logloss: 0.400313\n",
      "[1278]\tvalid_0's binary_logloss: 0.400312\n",
      "[1279]\tvalid_0's binary_logloss: 0.400306\n",
      "[1280]\tvalid_0's binary_logloss: 0.400313\n",
      "[1281]\tvalid_0's binary_logloss: 0.400321\n",
      "[1282]\tvalid_0's binary_logloss: 0.400329\n",
      "[1283]\tvalid_0's binary_logloss: 0.400342\n",
      "[1284]\tvalid_0's binary_logloss: 0.400351\n",
      "[1285]\tvalid_0's binary_logloss: 0.400361\n",
      "[1286]\tvalid_0's binary_logloss: 0.400356\n",
      "[1287]\tvalid_0's binary_logloss: 0.400351\n",
      "[1288]\tvalid_0's binary_logloss: 0.400361\n",
      "[1289]\tvalid_0's binary_logloss: 0.400352\n",
      "[1290]\tvalid_0's binary_logloss: 0.40035\n",
      "[1291]\tvalid_0's binary_logloss: 0.400339\n",
      "[1292]\tvalid_0's binary_logloss: 0.400344\n",
      "[1293]\tvalid_0's binary_logloss: 0.400338\n",
      "[1294]\tvalid_0's binary_logloss: 0.400335\n",
      "[1295]\tvalid_0's binary_logloss: 0.40034\n",
      "[1296]\tvalid_0's binary_logloss: 0.400342\n",
      "[1297]\tvalid_0's binary_logloss: 0.40034\n",
      "[1298]\tvalid_0's binary_logloss: 0.400346\n",
      "[1299]\tvalid_0's binary_logloss: 0.400347\n",
      "[1300]\tvalid_0's binary_logloss: 0.400351\n",
      "[1301]\tvalid_0's binary_logloss: 0.400358\n",
      "[1302]\tvalid_0's binary_logloss: 0.400363\n",
      "[1303]\tvalid_0's binary_logloss: 0.400369\n",
      "[1304]\tvalid_0's binary_logloss: 0.400374\n",
      "[1305]\tvalid_0's binary_logloss: 0.400383\n",
      "[1306]\tvalid_0's binary_logloss: 0.400382\n",
      "[1307]\tvalid_0's binary_logloss: 0.40038\n",
      "[1308]\tvalid_0's binary_logloss: 0.400381\n",
      "[1309]\tvalid_0's binary_logloss: 0.40038\n",
      "[1310]\tvalid_0's binary_logloss: 0.400379\n",
      "[1311]\tvalid_0's binary_logloss: 0.400386\n",
      "[1312]\tvalid_0's binary_logloss: 0.400385\n",
      "[1313]\tvalid_0's binary_logloss: 0.400386\n",
      "[1314]\tvalid_0's binary_logloss: 0.400377\n",
      "[1315]\tvalid_0's binary_logloss: 0.40038\n",
      "[1316]\tvalid_0's binary_logloss: 0.400389\n",
      "[1317]\tvalid_0's binary_logloss: 0.400388\n",
      "[1318]\tvalid_0's binary_logloss: 0.400383\n",
      "[1319]\tvalid_0's binary_logloss: 0.400382\n",
      "[1320]\tvalid_0's binary_logloss: 0.400383\n",
      "[1321]\tvalid_0's binary_logloss: 0.400387\n",
      "[1322]\tvalid_0's binary_logloss: 0.400394\n",
      "[1323]\tvalid_0's binary_logloss: 0.4004\n",
      "[1324]\tvalid_0's binary_logloss: 0.400402\n",
      "[1325]\tvalid_0's binary_logloss: 0.400412\n",
      "[1326]\tvalid_0's binary_logloss: 0.400413\n",
      "[1327]\tvalid_0's binary_logloss: 0.400412\n",
      "[1328]\tvalid_0's binary_logloss: 0.400414\n",
      "[1329]\tvalid_0's binary_logloss: 0.400409\n",
      "[1330]\tvalid_0's binary_logloss: 0.400407\n",
      "[1331]\tvalid_0's binary_logloss: 0.400407\n",
      "[1332]\tvalid_0's binary_logloss: 0.400414\n",
      "[1333]\tvalid_0's binary_logloss: 0.400422\n",
      "[1334]\tvalid_0's binary_logloss: 0.400416\n",
      "[1335]\tvalid_0's binary_logloss: 0.400412\n",
      "[1336]\tvalid_0's binary_logloss: 0.400411\n",
      "[1337]\tvalid_0's binary_logloss: 0.40041\n",
      "[1338]\tvalid_0's binary_logloss: 0.400416\n",
      "[1339]\tvalid_0's binary_logloss: 0.400423\n",
      "[1340]\tvalid_0's binary_logloss: 0.400421\n",
      "[1341]\tvalid_0's binary_logloss: 0.400415\n",
      "[1342]\tvalid_0's binary_logloss: 0.400413\n",
      "[1343]\tvalid_0's binary_logloss: 0.400407\n",
      "[1344]\tvalid_0's binary_logloss: 0.400404\n",
      "[1345]\tvalid_0's binary_logloss: 0.400409\n",
      "[1346]\tvalid_0's binary_logloss: 0.400413\n",
      "[1347]\tvalid_0's binary_logloss: 0.40041\n",
      "[1348]\tvalid_0's binary_logloss: 0.400408\n",
      "[1349]\tvalid_0's binary_logloss: 0.400403\n",
      "[1350]\tvalid_0's binary_logloss: 0.400414\n",
      "[1351]\tvalid_0's binary_logloss: 0.400414\n",
      "[1352]\tvalid_0's binary_logloss: 0.400419\n",
      "[1353]\tvalid_0's binary_logloss: 0.400421\n",
      "[1354]\tvalid_0's binary_logloss: 0.400424\n",
      "[1355]\tvalid_0's binary_logloss: 0.400428\n",
      "[1356]\tvalid_0's binary_logloss: 0.400424\n",
      "[1357]\tvalid_0's binary_logloss: 0.400424\n",
      "[1358]\tvalid_0's binary_logloss: 0.400418\n",
      "[1359]\tvalid_0's binary_logloss: 0.400412\n",
      "[1360]\tvalid_0's binary_logloss: 0.400413\n",
      "[1361]\tvalid_0's binary_logloss: 0.400402\n",
      "[1362]\tvalid_0's binary_logloss: 0.400405\n",
      "[1363]\tvalid_0's binary_logloss: 0.400407\n",
      "[1364]\tvalid_0's binary_logloss: 0.400407\n",
      "[1365]\tvalid_0's binary_logloss: 0.40041\n",
      "[1366]\tvalid_0's binary_logloss: 0.400408\n",
      "[1367]\tvalid_0's binary_logloss: 0.400406\n",
      "[1368]\tvalid_0's binary_logloss: 0.400403\n",
      "[1369]\tvalid_0's binary_logloss: 0.400411\n",
      "[1370]\tvalid_0's binary_logloss: 0.400415\n",
      "[1371]\tvalid_0's binary_logloss: 0.400414\n",
      "[1372]\tvalid_0's binary_logloss: 0.400412\n",
      "[1373]\tvalid_0's binary_logloss: 0.400412\n",
      "[1374]\tvalid_0's binary_logloss: 0.400409\n",
      "[1375]\tvalid_0's binary_logloss: 0.40041\n",
      "[1376]\tvalid_0's binary_logloss: 0.400409\n",
      "[1377]\tvalid_0's binary_logloss: 0.400408\n",
      "[1378]\tvalid_0's binary_logloss: 0.400407\n",
      "[1379]\tvalid_0's binary_logloss: 0.400417\n",
      "[1380]\tvalid_0's binary_logloss: 0.400418\n",
      "[1381]\tvalid_0's binary_logloss: 0.400407\n",
      "[1382]\tvalid_0's binary_logloss: 0.400404\n",
      "[1383]\tvalid_0's binary_logloss: 0.40039\n",
      "[1384]\tvalid_0's binary_logloss: 0.400399\n",
      "[1385]\tvalid_0's binary_logloss: 0.400398\n",
      "[1386]\tvalid_0's binary_logloss: 0.400387\n",
      "[1387]\tvalid_0's binary_logloss: 0.400389\n",
      "[1388]\tvalid_0's binary_logloss: 0.400377\n",
      "[1389]\tvalid_0's binary_logloss: 0.400378\n",
      "[1390]\tvalid_0's binary_logloss: 0.400382\n",
      "[1391]\tvalid_0's binary_logloss: 0.40038\n",
      "[1392]\tvalid_0's binary_logloss: 0.400375\n",
      "[1393]\tvalid_0's binary_logloss: 0.400376\n",
      "[1394]\tvalid_0's binary_logloss: 0.400374\n",
      "[1395]\tvalid_0's binary_logloss: 0.400373\n",
      "[1396]\tvalid_0's binary_logloss: 0.400376\n",
      "[1397]\tvalid_0's binary_logloss: 0.400374\n",
      "[1398]\tvalid_0's binary_logloss: 0.400365\n",
      "[1399]\tvalid_0's binary_logloss: 0.400368\n",
      "[1400]\tvalid_0's binary_logloss: 0.400366\n",
      "[1401]\tvalid_0's binary_logloss: 0.400367\n",
      "[1402]\tvalid_0's binary_logloss: 0.400363\n",
      "[1403]\tvalid_0's binary_logloss: 0.400362\n",
      "[1404]\tvalid_0's binary_logloss: 0.400363\n",
      "[1405]\tvalid_0's binary_logloss: 0.400361\n",
      "[1406]\tvalid_0's binary_logloss: 0.400363\n",
      "[1407]\tvalid_0's binary_logloss: 0.400358\n",
      "[1408]\tvalid_0's binary_logloss: 0.400351\n",
      "[1409]\tvalid_0's binary_logloss: 0.400353\n",
      "[1410]\tvalid_0's binary_logloss: 0.400354\n",
      "[1411]\tvalid_0's binary_logloss: 0.400356\n",
      "[1412]\tvalid_0's binary_logloss: 0.400355\n"
     ]
    },
    {
     "name": "stdout",
     "output_type": "stream",
     "text": [
      "[1413]\tvalid_0's binary_logloss: 0.400355\n",
      "[1414]\tvalid_0's binary_logloss: 0.400348\n",
      "[1415]\tvalid_0's binary_logloss: 0.400343\n",
      "[1416]\tvalid_0's binary_logloss: 0.400344\n",
      "[1417]\tvalid_0's binary_logloss: 0.400351\n",
      "[1418]\tvalid_0's binary_logloss: 0.400351\n",
      "[1419]\tvalid_0's binary_logloss: 0.40035\n",
      "[1420]\tvalid_0's binary_logloss: 0.400356\n",
      "[1421]\tvalid_0's binary_logloss: 0.400355\n",
      "[1422]\tvalid_0's binary_logloss: 0.400355\n",
      "[1423]\tvalid_0's binary_logloss: 0.400363\n",
      "[1424]\tvalid_0's binary_logloss: 0.400366\n",
      "[1425]\tvalid_0's binary_logloss: 0.400372\n",
      "[1426]\tvalid_0's binary_logloss: 0.400375\n",
      "[1427]\tvalid_0's binary_logloss: 0.400378\n",
      "[1428]\tvalid_0's binary_logloss: 0.400389\n",
      "[1429]\tvalid_0's binary_logloss: 0.400395\n",
      "[1430]\tvalid_0's binary_logloss: 0.400411\n",
      "[1431]\tvalid_0's binary_logloss: 0.400407\n",
      "[1432]\tvalid_0's binary_logloss: 0.400406\n",
      "[1433]\tvalid_0's binary_logloss: 0.400402\n",
      "[1434]\tvalid_0's binary_logloss: 0.400397\n",
      "[1435]\tvalid_0's binary_logloss: 0.400394\n",
      "[1436]\tvalid_0's binary_logloss: 0.400396\n",
      "[1437]\tvalid_0's binary_logloss: 0.400392\n",
      "[1438]\tvalid_0's binary_logloss: 0.400399\n",
      "[1439]\tvalid_0's binary_logloss: 0.400405\n",
      "[1440]\tvalid_0's binary_logloss: 0.400411\n",
      "[1441]\tvalid_0's binary_logloss: 0.40041\n",
      "[1442]\tvalid_0's binary_logloss: 0.40041\n",
      "[1443]\tvalid_0's binary_logloss: 0.400408\n",
      "[1444]\tvalid_0's binary_logloss: 0.400415\n",
      "[1445]\tvalid_0's binary_logloss: 0.40042\n",
      "[1446]\tvalid_0's binary_logloss: 0.400417\n",
      "[1447]\tvalid_0's binary_logloss: 0.400416\n",
      "[1448]\tvalid_0's binary_logloss: 0.400407\n",
      "[1449]\tvalid_0's binary_logloss: 0.400402\n",
      "[1450]\tvalid_0's binary_logloss: 0.400399\n",
      "[1451]\tvalid_0's binary_logloss: 0.400398\n",
      "[1452]\tvalid_0's binary_logloss: 0.400392\n",
      "[1453]\tvalid_0's binary_logloss: 0.400389\n",
      "[1454]\tvalid_0's binary_logloss: 0.400395\n",
      "[1455]\tvalid_0's binary_logloss: 0.400395\n",
      "[1456]\tvalid_0's binary_logloss: 0.40039\n",
      "[1457]\tvalid_0's binary_logloss: 0.400388\n",
      "[1458]\tvalid_0's binary_logloss: 0.400395\n",
      "Early stopping, best iteration is:\n",
      "[958]\tvalid_0's binary_logloss: 0.400196\n"
     ]
    }
   ],
   "source": [
    "# specify your configurations as a dict\n",
    "params = {\n",
    "    'task': 'train',\n",
    "    'boosting_type': 'gbdt',\n",
    "    'objective': 'binary',\n",
    "    'metric': { 'binary_logloss'},\n",
    "    'num_leaves': 31, # defauly leaves(31) amount for each tree\n",
    "    'learning_rate': 0.08,\n",
    "    'feature_fraction': 0.7, # will select 70% features before training each tree\n",
    "    'bagging_fraction': 0.3, #feature_fraction, but this will random select part of data\n",
    "    'bagging_freq': 5, #  perform bagging at every 5 iteration\n",
    "    'verbose': 0\n",
    "}\n",
    "\n",
    "print('Start training...')\n",
    "# train\n",
    "gbm = lgb.train(params,\n",
    "                lgb_train,\n",
    "                num_boost_round=4000,\n",
    "                valid_sets=lgb_eval,\n",
    "                early_stopping_rounds=500)"
   ]
  },
  {
   "cell_type": "code",
   "execution_count": 119,
   "metadata": {},
   "outputs": [
    {
     "name": "stdout",
     "output_type": "stream",
     "text": [
      "defaultdict(<class 'dict'>, {'valid_0': {'binary_logloss': 0.40019555134958557}})\n",
      "958\n"
     ]
    }
   ],
   "source": [
    "print(gbm.best_score)\n",
    "print(gbm.best_iteration)"
   ]
  },
  {
   "cell_type": "code",
   "execution_count": 148,
   "metadata": {},
   "outputs": [],
   "source": [
    "from operator import itemgetter\n",
    "from sklearn.model_selection import train_test_split\n",
    "import xgboost as xgb\n",
    "from sklearn.metrics import roc_auc_score\n",
    "\n",
    "def run_default_test(train, test, features, target, random_state=0):\n",
    "    eta = 0.1\n",
    "    max_depth = 5\n",
    "    subsample = 0.8\n",
    "    colsample_bytree = 0.8\n",
    "    print('XGBoost params. ETA: {}, MAX_DEPTH: {}, SUBSAMPLE: {}, COLSAMPLE_BY_TREE: {}'.format(eta, max_depth, subsample, colsample_bytree))\n",
    "    params = {\n",
    "        \"objective\": \"binary:logistic\",\n",
    "        \"booster\" : \"gbtree\",\n",
    "        \"eval_metric\": \"logloss\",\n",
    "        \"eta\": eta,\n",
    "        \"max_depth\": max_depth,\n",
    "        \"subsample\": subsample,\n",
    "        \"colsample_bytree\": colsample_bytree,\n",
    "        \"silent\": 1,\n",
    "        \"seed\": random_state\n",
    "    }\n",
    "    num_boost_round = 260\n",
    "    early_stopping_rounds = 20\n",
    "    test_size = 0.2\n",
    "\n",
    "    X_train, X_valid = train_test_split(train, test_size=test_size, random_state=random_state)\n",
    "    y_train = X_train[target]\n",
    "    y_valid = X_valid[target]\n",
    "    dtrain = xgb.DMatrix(X_train[features], y_train)\n",
    "    dvalid = xgb.DMatrix(X_valid[features], y_valid)\n",
    "    watchlist = [(dtrain, 'train'), (dvalid, 'eval')]\n",
    "    gbm = xgb.train(params, dtrain, num_boost_round, evals=watchlist, early_stopping_rounds=early_stopping_rounds, verbose_eval=True)"
   ]
  },
  {
   "cell_type": "code",
   "execution_count": 149,
   "metadata": {
    "scrolled": false
   },
   "outputs": [
    {
     "name": "stdout",
     "output_type": "stream",
     "text": [
      "XGBoost params. ETA: 0.1, MAX_DEPTH: 5, SUBSAMPLE: 0.8, COLSAMPLE_BY_TREE: 0.8\n",
      "[0]\ttrain-logloss:0.648232\teval-logloss:0.648223\n",
      "Multiple eval metrics have been passed: 'eval-logloss' will be used for early stopping.\n",
      "\n",
      "Will train until eval-logloss hasn't improved in 20 rounds.\n",
      "[1]\ttrain-logloss:0.61155\teval-logloss:0.611518\n",
      "[2]\ttrain-logloss:0.58168\teval-logloss:0.581626\n",
      "[3]\ttrain-logloss:0.556558\teval-logloss:0.55647\n",
      "[4]\ttrain-logloss:0.535377\teval-logloss:0.535272\n",
      "[5]\ttrain-logloss:0.517634\teval-logloss:0.517516\n",
      "[6]\ttrain-logloss:0.502628\teval-logloss:0.502504\n",
      "[7]\ttrain-logloss:0.490077\teval-logloss:0.489942\n",
      "[8]\ttrain-logloss:0.479384\teval-logloss:0.47925\n",
      "[9]\ttrain-logloss:0.470294\teval-logloss:0.470162\n",
      "[10]\ttrain-logloss:0.462493\teval-logloss:0.462368\n",
      "[11]\ttrain-logloss:0.455896\teval-logloss:0.455775\n",
      "[12]\ttrain-logloss:0.450228\teval-logloss:0.450099\n",
      "[13]\ttrain-logloss:0.445374\teval-logloss:0.445241\n",
      "[14]\ttrain-logloss:0.441245\teval-logloss:0.44111\n",
      "[15]\ttrain-logloss:0.437608\teval-logloss:0.437485\n",
      "[16]\ttrain-logloss:0.434544\teval-logloss:0.434416\n",
      "[17]\ttrain-logloss:0.432117\teval-logloss:0.431993\n",
      "[18]\ttrain-logloss:0.429779\teval-logloss:0.429651\n",
      "[19]\ttrain-logloss:0.42779\teval-logloss:0.427678\n",
      "[20]\ttrain-logloss:0.426088\teval-logloss:0.425999\n",
      "[21]\ttrain-logloss:0.424666\teval-logloss:0.424595\n",
      "[22]\ttrain-logloss:0.423311\teval-logloss:0.42325\n",
      "[23]\ttrain-logloss:0.422208\teval-logloss:0.422154\n",
      "[24]\ttrain-logloss:0.421275\teval-logloss:0.421255\n",
      "[25]\ttrain-logloss:0.420473\teval-logloss:0.420482\n",
      "[26]\ttrain-logloss:0.419799\teval-logloss:0.419823\n",
      "[27]\ttrain-logloss:0.419168\teval-logloss:0.419197\n",
      "[28]\ttrain-logloss:0.41857\teval-logloss:0.418609\n",
      "[29]\ttrain-logloss:0.417968\teval-logloss:0.418018\n",
      "[30]\ttrain-logloss:0.417485\teval-logloss:0.41757\n",
      "[31]\ttrain-logloss:0.416933\teval-logloss:0.416999\n",
      "[32]\ttrain-logloss:0.416559\teval-logloss:0.41663\n",
      "[33]\ttrain-logloss:0.41615\teval-logloss:0.416242\n",
      "[34]\ttrain-logloss:0.415732\teval-logloss:0.415851\n",
      "[35]\ttrain-logloss:0.415339\teval-logloss:0.415452\n",
      "[36]\ttrain-logloss:0.415014\teval-logloss:0.415166\n",
      "[37]\ttrain-logloss:0.414749\teval-logloss:0.414904\n",
      "[38]\ttrain-logloss:0.414566\teval-logloss:0.414739\n",
      "[39]\ttrain-logloss:0.41436\teval-logloss:0.41455\n",
      "[40]\ttrain-logloss:0.41412\teval-logloss:0.414327\n",
      "[41]\ttrain-logloss:0.413915\teval-logloss:0.414117\n",
      "[42]\ttrain-logloss:0.413575\teval-logloss:0.413784\n",
      "[43]\ttrain-logloss:0.413333\teval-logloss:0.413568\n",
      "[44]\ttrain-logloss:0.413138\teval-logloss:0.413388\n",
      "[45]\ttrain-logloss:0.412901\teval-logloss:0.413173\n",
      "[46]\ttrain-logloss:0.412725\teval-logloss:0.413009\n",
      "[47]\ttrain-logloss:0.412559\teval-logloss:0.412866\n",
      "[48]\ttrain-logloss:0.412457\teval-logloss:0.412772\n",
      "[49]\ttrain-logloss:0.412147\teval-logloss:0.412479\n",
      "[50]\ttrain-logloss:0.411933\teval-logloss:0.412286\n",
      "[51]\ttrain-logloss:0.411796\teval-logloss:0.412159\n",
      "[52]\ttrain-logloss:0.411628\teval-logloss:0.412014\n",
      "[53]\ttrain-logloss:0.411553\teval-logloss:0.411954\n",
      "[54]\ttrain-logloss:0.411419\teval-logloss:0.41182\n",
      "[55]\ttrain-logloss:0.411314\teval-logloss:0.411735\n",
      "[56]\ttrain-logloss:0.411096\teval-logloss:0.411532\n",
      "[57]\ttrain-logloss:0.410938\teval-logloss:0.411395\n",
      "[58]\ttrain-logloss:0.410879\teval-logloss:0.411336\n",
      "[59]\ttrain-logloss:0.410813\teval-logloss:0.411285\n",
      "[60]\ttrain-logloss:0.410695\teval-logloss:0.411174\n",
      "[61]\ttrain-logloss:0.410601\teval-logloss:0.411095\n",
      "[62]\ttrain-logloss:0.410435\teval-logloss:0.410948\n",
      "[63]\ttrain-logloss:0.410352\teval-logloss:0.410878\n",
      "[64]\ttrain-logloss:0.410267\teval-logloss:0.410803\n",
      "[65]\ttrain-logloss:0.410013\teval-logloss:0.410576\n",
      "[66]\ttrain-logloss:0.409881\teval-logloss:0.41046\n",
      "[67]\ttrain-logloss:0.409842\teval-logloss:0.410423\n",
      "[68]\ttrain-logloss:0.409736\teval-logloss:0.410312\n",
      "[69]\ttrain-logloss:0.409666\teval-logloss:0.410257\n",
      "[70]\ttrain-logloss:0.409498\teval-logloss:0.410095\n",
      "[71]\ttrain-logloss:0.409376\teval-logloss:0.409983\n",
      "[72]\ttrain-logloss:0.409304\teval-logloss:0.409914\n",
      "[73]\ttrain-logloss:0.40918\teval-logloss:0.409816\n",
      "[74]\ttrain-logloss:0.409049\teval-logloss:0.409701\n",
      "[75]\ttrain-logloss:0.40896\teval-logloss:0.409616\n",
      "[76]\ttrain-logloss:0.408809\teval-logloss:0.40948\n",
      "[77]\ttrain-logloss:0.408718\teval-logloss:0.40942\n",
      "[78]\ttrain-logloss:0.408643\teval-logloss:0.409358\n",
      "[79]\ttrain-logloss:0.408513\teval-logloss:0.409234\n",
      "[80]\ttrain-logloss:0.408397\teval-logloss:0.409121\n",
      "[81]\ttrain-logloss:0.408273\teval-logloss:0.409013\n",
      "[82]\ttrain-logloss:0.408168\teval-logloss:0.408923\n",
      "[83]\ttrain-logloss:0.408105\teval-logloss:0.40887\n",
      "[84]\ttrain-logloss:0.408003\teval-logloss:0.408773\n",
      "[85]\ttrain-logloss:0.407891\teval-logloss:0.408693\n",
      "[86]\ttrain-logloss:0.407807\teval-logloss:0.408621\n",
      "[87]\ttrain-logloss:0.407764\teval-logloss:0.408584\n",
      "[88]\ttrain-logloss:0.407723\teval-logloss:0.408557\n",
      "[89]\ttrain-logloss:0.407643\teval-logloss:0.408477\n",
      "[90]\ttrain-logloss:0.407581\teval-logloss:0.408427\n",
      "[91]\ttrain-logloss:0.407473\teval-logloss:0.408321\n",
      "[92]\ttrain-logloss:0.407419\teval-logloss:0.408286\n",
      "[93]\ttrain-logloss:0.407373\teval-logloss:0.408253\n",
      "[94]\ttrain-logloss:0.407222\teval-logloss:0.40811\n",
      "[95]\ttrain-logloss:0.407169\teval-logloss:0.408056\n",
      "[96]\ttrain-logloss:0.407038\teval-logloss:0.407926\n",
      "[97]\ttrain-logloss:0.406991\teval-logloss:0.407886\n",
      "[98]\ttrain-logloss:0.40693\teval-logloss:0.407833\n",
      "[99]\ttrain-logloss:0.40689\teval-logloss:0.407796\n",
      "[100]\ttrain-logloss:0.406831\teval-logloss:0.407764\n",
      "[101]\ttrain-logloss:0.406798\teval-logloss:0.407751\n",
      "[102]\ttrain-logloss:0.406725\teval-logloss:0.407687\n",
      "[103]\ttrain-logloss:0.406649\teval-logloss:0.407638\n",
      "[104]\ttrain-logloss:0.406609\teval-logloss:0.407606\n",
      "[105]\ttrain-logloss:0.406553\teval-logloss:0.40756\n",
      "[106]\ttrain-logloss:0.406487\teval-logloss:0.407494\n",
      "[107]\ttrain-logloss:0.406455\teval-logloss:0.407479\n",
      "[108]\ttrain-logloss:0.406314\teval-logloss:0.407359\n",
      "[109]\ttrain-logloss:0.406262\teval-logloss:0.40732\n",
      "[110]\ttrain-logloss:0.406158\teval-logloss:0.407231\n",
      "[111]\ttrain-logloss:0.406113\teval-logloss:0.407188\n",
      "[112]\ttrain-logloss:0.406082\teval-logloss:0.407167\n",
      "[113]\ttrain-logloss:0.406014\teval-logloss:0.407112\n",
      "[114]\ttrain-logloss:0.405992\teval-logloss:0.407102\n",
      "[115]\ttrain-logloss:0.405888\teval-logloss:0.407009\n",
      "[116]\ttrain-logloss:0.405814\teval-logloss:0.406954\n",
      "[117]\ttrain-logloss:0.405766\teval-logloss:0.406929\n",
      "[118]\ttrain-logloss:0.405718\teval-logloss:0.406891\n",
      "[119]\ttrain-logloss:0.405676\teval-logloss:0.406861\n",
      "[120]\ttrain-logloss:0.405594\teval-logloss:0.406802\n",
      "[121]\ttrain-logloss:0.405529\teval-logloss:0.406753\n",
      "[122]\ttrain-logloss:0.405468\teval-logloss:0.406705\n",
      "[123]\ttrain-logloss:0.405457\teval-logloss:0.4067\n",
      "[124]\ttrain-logloss:0.405371\teval-logloss:0.406627\n",
      "[125]\ttrain-logloss:0.405235\teval-logloss:0.406496\n",
      "[126]\ttrain-logloss:0.405219\teval-logloss:0.406484\n",
      "[127]\ttrain-logloss:0.405145\teval-logloss:0.406428\n",
      "[128]\ttrain-logloss:0.405104\teval-logloss:0.406399\n",
      "[129]\ttrain-logloss:0.405056\teval-logloss:0.406361\n",
      "[130]\ttrain-logloss:0.40503\teval-logloss:0.406348\n",
      "[131]\ttrain-logloss:0.404909\teval-logloss:0.406244\n",
      "[132]\ttrain-logloss:0.40484\teval-logloss:0.406193\n",
      "[133]\ttrain-logloss:0.404815\teval-logloss:0.406181\n",
      "[134]\ttrain-logloss:0.404703\teval-logloss:0.406078\n",
      "[135]\ttrain-logloss:0.404601\teval-logloss:0.405981\n",
      "[136]\ttrain-logloss:0.404517\teval-logloss:0.40592\n",
      "[137]\ttrain-logloss:0.404493\teval-logloss:0.405905\n",
      "[138]\ttrain-logloss:0.40444\teval-logloss:0.405866\n",
      "[139]\ttrain-logloss:0.404362\teval-logloss:0.405802\n",
      "[140]\ttrain-logloss:0.404321\teval-logloss:0.405778\n",
      "[141]\ttrain-logloss:0.404264\teval-logloss:0.405716\n",
      "[142]\ttrain-logloss:0.404216\teval-logloss:0.405683\n",
      "[143]\ttrain-logloss:0.404178\teval-logloss:0.405664\n",
      "[144]\ttrain-logloss:0.404126\teval-logloss:0.405633\n",
      "[145]\ttrain-logloss:0.404104\teval-logloss:0.405615\n",
      "[146]\ttrain-logloss:0.404005\teval-logloss:0.405533\n",
      "[147]\ttrain-logloss:0.403965\teval-logloss:0.405498\n",
      "[148]\ttrain-logloss:0.403949\teval-logloss:0.405492\n",
      "[149]\ttrain-logloss:0.403918\teval-logloss:0.405471\n",
      "[150]\ttrain-logloss:0.403855\teval-logloss:0.405425\n",
      "[151]\ttrain-logloss:0.403826\teval-logloss:0.405403\n",
      "[152]\ttrain-logloss:0.403745\teval-logloss:0.405341\n",
      "[153]\ttrain-logloss:0.40373\teval-logloss:0.405328\n",
      "[154]\ttrain-logloss:0.403615\teval-logloss:0.405225\n",
      "[155]\ttrain-logloss:0.403589\teval-logloss:0.405212\n",
      "[156]\ttrain-logloss:0.403564\teval-logloss:0.405201\n",
      "[157]\ttrain-logloss:0.403554\teval-logloss:0.405194\n",
      "[158]\ttrain-logloss:0.403485\teval-logloss:0.405141\n"
     ]
    },
    {
     "name": "stdout",
     "output_type": "stream",
     "text": [
      "[159]\ttrain-logloss:0.403416\teval-logloss:0.4051\n",
      "[160]\ttrain-logloss:0.403284\teval-logloss:0.404985\n",
      "[161]\ttrain-logloss:0.403271\teval-logloss:0.404979\n",
      "[162]\ttrain-logloss:0.403216\teval-logloss:0.404933\n",
      "[163]\ttrain-logloss:0.403177\teval-logloss:0.4049\n",
      "[164]\ttrain-logloss:0.403079\teval-logloss:0.404811\n",
      "[165]\ttrain-logloss:0.403067\teval-logloss:0.404802\n",
      "[166]\ttrain-logloss:0.403031\teval-logloss:0.404785\n",
      "[167]\ttrain-logloss:0.403008\teval-logloss:0.404778\n",
      "[168]\ttrain-logloss:0.402993\teval-logloss:0.404776\n",
      "[169]\ttrain-logloss:0.40298\teval-logloss:0.40477\n",
      "[170]\ttrain-logloss:0.402937\teval-logloss:0.404732\n",
      "[171]\ttrain-logloss:0.402912\teval-logloss:0.404713\n",
      "[172]\ttrain-logloss:0.40288\teval-logloss:0.404697\n",
      "[173]\ttrain-logloss:0.402828\teval-logloss:0.404654\n",
      "[174]\ttrain-logloss:0.402806\teval-logloss:0.404637\n",
      "[175]\ttrain-logloss:0.402771\teval-logloss:0.404621\n",
      "[176]\ttrain-logloss:0.402726\teval-logloss:0.404585\n",
      "[177]\ttrain-logloss:0.402682\teval-logloss:0.404558\n",
      "[178]\ttrain-logloss:0.402669\teval-logloss:0.404554\n",
      "[179]\ttrain-logloss:0.402618\teval-logloss:0.404517\n",
      "[180]\ttrain-logloss:0.402572\teval-logloss:0.404486\n",
      "[181]\ttrain-logloss:0.402506\teval-logloss:0.404439\n",
      "[182]\ttrain-logloss:0.402438\teval-logloss:0.40438\n",
      "[183]\ttrain-logloss:0.402415\teval-logloss:0.404375\n",
      "[184]\ttrain-logloss:0.402378\teval-logloss:0.404351\n",
      "[185]\ttrain-logloss:0.402324\teval-logloss:0.404301\n",
      "[186]\ttrain-logloss:0.402315\teval-logloss:0.404298\n",
      "[187]\ttrain-logloss:0.402286\teval-logloss:0.404279\n",
      "[188]\ttrain-logloss:0.402252\teval-logloss:0.404248\n",
      "[189]\ttrain-logloss:0.402231\teval-logloss:0.404241\n",
      "[190]\ttrain-logloss:0.402202\teval-logloss:0.404228\n",
      "[191]\ttrain-logloss:0.402177\teval-logloss:0.404219\n",
      "[192]\ttrain-logloss:0.402133\teval-logloss:0.404185\n",
      "[193]\ttrain-logloss:0.402098\teval-logloss:0.404152\n",
      "[194]\ttrain-logloss:0.402045\teval-logloss:0.404103\n",
      "[195]\ttrain-logloss:0.402019\teval-logloss:0.404087\n",
      "[196]\ttrain-logloss:0.401991\teval-logloss:0.404077\n",
      "[197]\ttrain-logloss:0.401936\teval-logloss:0.404022\n",
      "[198]\ttrain-logloss:0.401901\teval-logloss:0.40399\n",
      "[199]\ttrain-logloss:0.401862\teval-logloss:0.403964\n",
      "[200]\ttrain-logloss:0.401819\teval-logloss:0.403943\n",
      "[201]\ttrain-logloss:0.401763\teval-logloss:0.403896\n",
      "[202]\ttrain-logloss:0.401733\teval-logloss:0.40388\n",
      "[203]\ttrain-logloss:0.401703\teval-logloss:0.403864\n",
      "[204]\ttrain-logloss:0.401691\teval-logloss:0.403854\n",
      "[205]\ttrain-logloss:0.40166\teval-logloss:0.403835\n",
      "[206]\ttrain-logloss:0.401619\teval-logloss:0.403812\n",
      "[207]\ttrain-logloss:0.401573\teval-logloss:0.403775\n",
      "[208]\ttrain-logloss:0.401562\teval-logloss:0.403772\n",
      "[209]\ttrain-logloss:0.401469\teval-logloss:0.403682\n",
      "[210]\ttrain-logloss:0.401443\teval-logloss:0.403679\n",
      "[211]\ttrain-logloss:0.401411\teval-logloss:0.403662\n",
      "[212]\ttrain-logloss:0.401377\teval-logloss:0.403643\n",
      "[213]\ttrain-logloss:0.401352\teval-logloss:0.403626\n",
      "[214]\ttrain-logloss:0.401315\teval-logloss:0.403606\n",
      "[215]\ttrain-logloss:0.401261\teval-logloss:0.403561\n",
      "[216]\ttrain-logloss:0.401195\teval-logloss:0.403508\n",
      "[217]\ttrain-logloss:0.401132\teval-logloss:0.403477\n",
      "[218]\ttrain-logloss:0.401088\teval-logloss:0.403438\n",
      "[219]\ttrain-logloss:0.401073\teval-logloss:0.403439\n",
      "[220]\ttrain-logloss:0.40103\teval-logloss:0.403407\n",
      "[221]\ttrain-logloss:0.400994\teval-logloss:0.403381\n",
      "[222]\ttrain-logloss:0.400971\teval-logloss:0.403363\n",
      "[223]\ttrain-logloss:0.400959\teval-logloss:0.403361\n",
      "[224]\ttrain-logloss:0.400939\teval-logloss:0.403349\n",
      "[225]\ttrain-logloss:0.400902\teval-logloss:0.403323\n",
      "[226]\ttrain-logloss:0.400813\teval-logloss:0.403241\n",
      "[227]\ttrain-logloss:0.400773\teval-logloss:0.403211\n",
      "[228]\ttrain-logloss:0.400717\teval-logloss:0.403174\n",
      "[229]\ttrain-logloss:0.400703\teval-logloss:0.403175\n",
      "[230]\ttrain-logloss:0.400661\teval-logloss:0.403153\n",
      "[231]\ttrain-logloss:0.400649\teval-logloss:0.403152\n",
      "[232]\ttrain-logloss:0.400631\teval-logloss:0.403144\n",
      "[233]\ttrain-logloss:0.400599\teval-logloss:0.403114\n",
      "[234]\ttrain-logloss:0.400573\teval-logloss:0.403102\n",
      "[235]\ttrain-logloss:0.400542\teval-logloss:0.403087\n",
      "[236]\ttrain-logloss:0.400481\teval-logloss:0.403048\n",
      "[237]\ttrain-logloss:0.400441\teval-logloss:0.403022\n",
      "[238]\ttrain-logloss:0.400433\teval-logloss:0.40302\n",
      "[239]\ttrain-logloss:0.400396\teval-logloss:0.402991\n",
      "[240]\ttrain-logloss:0.400376\teval-logloss:0.402992\n",
      "[241]\ttrain-logloss:0.400342\teval-logloss:0.402963\n",
      "[242]\ttrain-logloss:0.400309\teval-logloss:0.402941\n",
      "[243]\ttrain-logloss:0.400299\teval-logloss:0.402936\n",
      "[244]\ttrain-logloss:0.400257\teval-logloss:0.402905\n",
      "[245]\ttrain-logloss:0.400221\teval-logloss:0.402891\n",
      "[246]\ttrain-logloss:0.400216\teval-logloss:0.402889\n",
      "[247]\ttrain-logloss:0.400198\teval-logloss:0.402874\n",
      "[248]\ttrain-logloss:0.400153\teval-logloss:0.402833\n",
      "[249]\ttrain-logloss:0.400141\teval-logloss:0.402832\n",
      "[250]\ttrain-logloss:0.400094\teval-logloss:0.402793\n",
      "[251]\ttrain-logloss:0.40007\teval-logloss:0.402789\n",
      "[252]\ttrain-logloss:0.400022\teval-logloss:0.402765\n",
      "[253]\ttrain-logloss:0.399969\teval-logloss:0.402723\n",
      "[254]\ttrain-logloss:0.399894\teval-logloss:0.402661\n",
      "[255]\ttrain-logloss:0.399864\teval-logloss:0.402643\n",
      "[256]\ttrain-logloss:0.399842\teval-logloss:0.402631\n",
      "[257]\ttrain-logloss:0.399814\teval-logloss:0.402612\n",
      "[258]\ttrain-logloss:0.399795\teval-logloss:0.402608\n",
      "[259]\ttrain-logloss:0.399756\teval-logloss:0.402592\n"
     ]
    }
   ],
   "source": [
    "features = ['C1', 'banner_pos', 'device_type', 'device_conn_type', 'C14',\n",
    "       'C15', 'C16', 'C17', 'C18', 'C19', 'C20', 'C21', 'hour_of_day',\n",
    "       'site_id_int', 'site_domain_int', 'site_category_int', 'app_id_int',\n",
    "       'app_domain_int', 'app_category_int', 'device_id_int', 'device_ip_int',\n",
    "       'device_model_int', 'day_of_week_int']\n",
    "run_default_test(train, y_target, features, 'click')"
   ]
  },
  {
   "cell_type": "code",
   "execution_count": null,
   "metadata": {},
   "outputs": [],
   "source": []
  }
 ],
 "metadata": {
  "kernelspec": {
   "display_name": "Python 3",
   "language": "python",
   "name": "python3"
  },
  "language_info": {
   "codemirror_mode": {
    "name": "ipython",
    "version": 3
   },
   "file_extension": ".py",
   "mimetype": "text/x-python",
   "name": "python",
   "nbconvert_exporter": "python",
   "pygments_lexer": "ipython3",
   "version": "3.6.4"
  }
 },
 "nbformat": 4,
 "nbformat_minor": 2
}
