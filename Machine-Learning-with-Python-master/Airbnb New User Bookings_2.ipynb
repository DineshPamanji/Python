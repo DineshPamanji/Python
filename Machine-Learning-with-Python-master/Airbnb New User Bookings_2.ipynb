{
 "cells": [
  {
   "cell_type": "code",
   "execution_count": 1,
   "metadata": {},
   "outputs": [],
   "source": [
    "import pandas as pd\n",
    "import numpy as np\n",
    "import matplotlib.pyplot as plt\n",
    "from sklearn.model_selection import train_test_split\n",
    "import math\n",
    "from pandas.tseries.holiday import USFederalHolidayCalendar\n",
    "from pandas.tseries.offsets import CustomBusinessDay\n",
    "from sklearn.preprocessing import LabelEncoder\n",
    "from sklearn import preprocessing\n",
    "%matplotlib inline"
   ]
  },
  {
   "cell_type": "code",
   "execution_count": 2,
   "metadata": {},
   "outputs": [],
   "source": [
    "test = pd.read_csv(\"test_users.csv\")\n",
    "train = pd.read_csv(\"train_users_2.csv\")\n",
    "sessions = pd.read_csv(\"sessions.csv\")"
   ]
  },
  {
   "cell_type": "code",
   "execution_count": 3,
   "metadata": {},
   "outputs": [
    {
     "name": "stdout",
     "output_type": "stream",
     "text": [
      "There were 213451 users in the training set and 62096 in the test set.\n",
      "In total there were 275547 users.\n",
      "There were 10567737 recorded sessions to which there were 135483 unique users in the sessions data.\n"
     ]
    }
   ],
   "source": [
    "print('There were', train.shape[0], 'users in the training set and', test.shape[0], 'in the test set.')\n",
    "print('In total there were', train.shape[0] + test.shape[0], 'users.')\n",
    "print('There were', sessions.shape[0], 'recorded sessions to which there were', sessions.user_id.nunique(), 'unique users in the sessions data.')"
   ]
  },
  {
   "cell_type": "markdown",
   "metadata": {},
   "source": [
    "We have way more users in users data than sessions data."
   ]
  },
  {
   "cell_type": "markdown",
   "metadata": {},
   "source": [
    "## Sessions Data Exploring, Preprocessing & Feature Engineering\n",
    "\n",
    "After playing around with the data sets for several times, I realized the best way is to start with sessions data."
   ]
  },
  {
   "cell_type": "code",
   "execution_count": 4,
   "metadata": {},
   "outputs": [
    {
     "data": {
      "text/plain": [
       "user_id            34496\n",
       "action             79626\n",
       "action_type      1126204\n",
       "action_detail    1126204\n",
       "device_type            0\n",
       "secs_elapsed      136031\n",
       "dtype: int64"
      ]
     },
     "execution_count": 4,
     "metadata": {},
     "output_type": "execute_result"
    }
   ],
   "source": [
    "sessions.isnull().sum()"
   ]
  },
  {
   "cell_type": "markdown",
   "metadata": {},
   "source": [
    "### Missing values\n",
    "\n",
    "There are so many missing values in sessions data, we have no choice but find a way to fill them.\n",
    "\n",
    "First, we drop rows where user_id is null."
   ]
  },
  {
   "cell_type": "code",
   "execution_count": 5,
   "metadata": {},
   "outputs": [],
   "source": [
    "sessions = sessions[sessions.user_id.notnull()]"
   ]
  },
  {
   "cell_type": "code",
   "execution_count": 6,
   "metadata": {},
   "outputs": [
    {
     "data": {
      "text/plain": [
       "user_id                0\n",
       "action             79480\n",
       "action_type      1122957\n",
       "action_detail    1122957\n",
       "device_type            0\n",
       "secs_elapsed      135483\n",
       "dtype: int64"
      ]
     },
     "execution_count": 6,
     "metadata": {},
     "output_type": "execute_result"
    }
   ],
   "source": [
    "sessions.isnull().sum()"
   ]
  },
  {
   "cell_type": "markdown",
   "metadata": {},
   "source": [
    "#### Missing values in action"
   ]
  },
  {
   "cell_type": "code",
   "execution_count": 7,
   "metadata": {},
   "outputs": [
    {
     "data": {
      "text/html": [
       "<div>\n",
       "<style scoped>\n",
       "    .dataframe tbody tr th:only-of-type {\n",
       "        vertical-align: middle;\n",
       "    }\n",
       "\n",
       "    .dataframe tbody tr th {\n",
       "        vertical-align: top;\n",
       "    }\n",
       "\n",
       "    .dataframe thead th {\n",
       "        text-align: right;\n",
       "    }\n",
       "</style>\n",
       "<table border=\"1\" class=\"dataframe\">\n",
       "  <thead>\n",
       "    <tr style=\"text-align: right;\">\n",
       "      <th></th>\n",
       "      <th>user_id</th>\n",
       "      <th>action</th>\n",
       "      <th>action_type</th>\n",
       "      <th>action_detail</th>\n",
       "      <th>device_type</th>\n",
       "      <th>secs_elapsed</th>\n",
       "    </tr>\n",
       "  </thead>\n",
       "  <tbody>\n",
       "    <tr>\n",
       "      <th>45</th>\n",
       "      <td>d1mm9tcy42</td>\n",
       "      <td>NaN</td>\n",
       "      <td>message_post</td>\n",
       "      <td>message_post</td>\n",
       "      <td>Windows Desktop</td>\n",
       "      <td>NaN</td>\n",
       "    </tr>\n",
       "    <tr>\n",
       "      <th>138</th>\n",
       "      <td>4grx6yxeby</td>\n",
       "      <td>NaN</td>\n",
       "      <td>message_post</td>\n",
       "      <td>message_post</td>\n",
       "      <td>Windows Desktop</td>\n",
       "      <td>59801.0</td>\n",
       "    </tr>\n",
       "    <tr>\n",
       "      <th>317</th>\n",
       "      <td>xwxei6hdk4</td>\n",
       "      <td>NaN</td>\n",
       "      <td>message_post</td>\n",
       "      <td>message_post</td>\n",
       "      <td>iPad Tablet</td>\n",
       "      <td>NaN</td>\n",
       "    </tr>\n",
       "    <tr>\n",
       "      <th>320</th>\n",
       "      <td>xwxei6hdk4</td>\n",
       "      <td>NaN</td>\n",
       "      <td>message_post</td>\n",
       "      <td>message_post</td>\n",
       "      <td>iPad Tablet</td>\n",
       "      <td>0.0</td>\n",
       "    </tr>\n",
       "    <tr>\n",
       "      <th>382</th>\n",
       "      <td>ro2stddszp</td>\n",
       "      <td>NaN</td>\n",
       "      <td>message_post</td>\n",
       "      <td>message_post</td>\n",
       "      <td>Mac Desktop</td>\n",
       "      <td>7192.0</td>\n",
       "    </tr>\n",
       "  </tbody>\n",
       "</table>\n",
       "</div>"
      ],
      "text/plain": [
       "        user_id action   action_type action_detail      device_type  \\\n",
       "45   d1mm9tcy42    NaN  message_post  message_post  Windows Desktop   \n",
       "138  4grx6yxeby    NaN  message_post  message_post  Windows Desktop   \n",
       "317  xwxei6hdk4    NaN  message_post  message_post      iPad Tablet   \n",
       "320  xwxei6hdk4    NaN  message_post  message_post      iPad Tablet   \n",
       "382  ro2stddszp    NaN  message_post  message_post      Mac Desktop   \n",
       "\n",
       "     secs_elapsed  \n",
       "45            NaN  \n",
       "138       59801.0  \n",
       "317           NaN  \n",
       "320           0.0  \n",
       "382        7192.0  "
      ]
     },
     "execution_count": 7,
     "metadata": {},
     "output_type": "execute_result"
    }
   ],
   "source": [
    "sessions[sessions.action.isnull()].head()"
   ]
  },
  {
   "cell_type": "code",
   "execution_count": 8,
   "metadata": {},
   "outputs": [
    {
     "data": {
      "text/plain": [
       "message_post    79480\n",
       "Name: action_type, dtype: int64"
      ]
     },
     "execution_count": 8,
     "metadata": {},
     "output_type": "execute_result"
    }
   ],
   "source": [
    "sessions[sessions.action.isnull()].action_type.value_counts()"
   ]
  },
  {
   "cell_type": "markdown",
   "metadata": {},
   "source": [
    "We find in all the nulls in action feature, have a \"message_post\" in action_type and action_detail features. So we will fill all the nulls in action feature with \"message\"."
   ]
  },
  {
   "cell_type": "code",
   "execution_count": 9,
   "metadata": {},
   "outputs": [],
   "source": [
    "sessions.loc[sessions.action.isnull(), 'action'] = 'message'"
   ]
  },
  {
   "cell_type": "code",
   "execution_count": 10,
   "metadata": {},
   "outputs": [
    {
     "data": {
      "text/plain": [
       "user_id                0\n",
       "action                 0\n",
       "action_type      1122957\n",
       "action_detail    1122957\n",
       "device_type            0\n",
       "secs_elapsed      135483\n",
       "dtype: int64"
      ]
     },
     "execution_count": 10,
     "metadata": {},
     "output_type": "execute_result"
    }
   ],
   "source": [
    "sessions.isnull().sum()"
   ]
  },
  {
   "cell_type": "markdown",
   "metadata": {},
   "source": [
    "#### Missing values in action_type and action_detail\n",
    "\n",
    "The following are the missing values in action_type and action_detail features that we have to fill, and they all have the same rows that are missing."
   ]
  },
  {
   "cell_type": "code",
   "execution_count": 11,
   "metadata": {},
   "outputs": [
    {
     "name": "stdout",
     "output_type": "stream",
     "text": [
      "show                      580485\n",
      "similar_listings_v2       168457\n",
      "lookup                    161422\n",
      "campaigns                 104331\n",
      "track_page_view            80949\n",
      "index                      16682\n",
      "localization_settings       5380\n",
      "uptodate                    3329\n",
      "signed_out_modal            1054\n",
      "currencies                   292\n",
      "update                       225\n",
      "braintree_client_token       120\n",
      "check                        119\n",
      "widget                        75\n",
      "phone_verification            16\n",
      "satisfy                        9\n",
      "track_activity                 6\n",
      "disaster_action                6\n",
      "Name: action, dtype: int64\n",
      "---\n",
      "show                      580485\n",
      "similar_listings_v2       168457\n",
      "lookup                    161422\n",
      "campaigns                 104331\n",
      "track_page_view            80949\n",
      "index                      16682\n",
      "localization_settings       5380\n",
      "uptodate                    3329\n",
      "signed_out_modal            1054\n",
      "currencies                   292\n",
      "update                       225\n",
      "braintree_client_token       120\n",
      "check                        119\n",
      "widget                        75\n",
      "phone_verification            16\n",
      "satisfy                        9\n",
      "track_activity                 6\n",
      "disaster_action                6\n",
      "Name: action, dtype: int64\n"
     ]
    }
   ],
   "source": [
    "print(sessions[sessions.action_type.isnull()].action.value_counts())\n",
    "print('---')\n",
    "print(sessions[sessions.action_detail.isnull()].action.value_counts())"
   ]
  },
  {
   "cell_type": "markdown",
   "metadata": {},
   "source": [
    "The following function finds the most common value of a feature, specific to each action, then fill in action_type and action_detail."
   ]
  },
  {
   "cell_type": "code",
   "execution_count": 13,
   "metadata": {},
   "outputs": [],
   "source": [
    "def most_common_value_by_all_users(merge_df, feature):\n",
    "    new_df = pd.DataFrame(merge_df.groupby('action')[feature].value_counts())\n",
    "    new_df['index_tuple'] = new_df.index\n",
    "    new_df['count'] = new_df[feature]\n",
    "    new_columns = ['action', feature]\n",
    "    for n, col in enumerate(new_columns):\n",
    "        new_df[col] = new_df.index_tuple.apply(lambda index_tuple: index_tuple[n])\n",
    "        \n",
    "    new_df = new_df.reset_index(drop=True)\n",
    "    new_df = new_df.drop(['index_tuple'], axis=1)\n",
    "    \n",
    "    new_df_max = pd.DataFrame(new_df.groupby('action', as_index=False)['count'].max())\n",
    "    new_df_max = new_df_max.merge(new_df, on = ['action', 'count'])\n",
    "    new_df_max = new_df_max.drop('count', axis=1)\n",
    "    merge_df = merge_df.merge(new_df_max, left_on = 'action', right_on = 'action', how='left')\n",
    "    \n",
    "    return merge_df\n",
    "sessions = most_common_value_by_all_users(sessions, 'action_type')\n",
    "sessions = most_common_value_by_all_users(sessions, 'action_detail')\n",
    "sessions.loc[sessions.action_type_x.isnull(), 'action_type_x'] = sessions.action_type_y\n",
    "sessions.loc[sessions.action_detail_x.isnull(), 'action_detail_x'] = sessions.action_detail_y\n",
    "sessions['action_type'] = sessions.action_type_x\n",
    "sessions['action_detail'] = sessions.action_detail_x\n",
    "sessions.drop(['action_type_x', 'action_detail_x', 'action_type_y', 'action_detail_y'], axis=1, inplace=True)"
   ]
  },
  {
   "cell_type": "code",
   "execution_count": 14,
   "metadata": {},
   "outputs": [
    {
     "data": {
      "text/plain": [
       "user_id               0\n",
       "action                0\n",
       "device_type           0\n",
       "secs_elapsed     135483\n",
       "action_type      415562\n",
       "action_detail    415562\n",
       "dtype: int64"
      ]
     },
     "execution_count": 14,
     "metadata": {},
     "output_type": "execute_result"
    }
   ],
   "source": [
    "sessions.isnull().sum()"
   ]
  },
  {
   "cell_type": "markdown",
   "metadata": {},
   "source": [
    "After that, we still have a lot of many missing values, such as missing values in action_type and action_detail where action as \"similar_listings_v2\", \"lookup\" and \"track_page_view\" and so on."
   ]
  },
  {
   "cell_type": "code",
   "execution_count": 15,
   "metadata": {},
   "outputs": [
    {
     "data": {
      "text/plain": [
       "similar_listings_v2       168457\n",
       "lookup                    161422\n",
       "track_page_view            80949\n",
       "uptodate                    3329\n",
       "signed_out_modal            1054\n",
       "braintree_client_token       120\n",
       "check                        119\n",
       "widget                        75\n",
       "phone_verification            16\n",
       "satisfy                        9\n",
       "disaster_action                6\n",
       "track_activity                 6\n",
       "Name: action, dtype: int64"
      ]
     },
     "execution_count": 15,
     "metadata": {},
     "output_type": "execute_result"
    }
   ],
   "source": [
    "sessions[sessions.action_type.isnull()].action.value_counts()"
   ]
  },
  {
   "cell_type": "code",
   "execution_count": 16,
   "metadata": {},
   "outputs": [
    {
     "name": "stdout",
     "output_type": "stream",
     "text": [
      "data    363423\n",
      "Name: action_type, dtype: int64\n",
      "---\n",
      "similar_listings    363423\n",
      "Name: action_detail, dtype: int64\n"
     ]
    }
   ],
   "source": [
    "print(sessions[sessions.action == 'similar_listings'].action_type.value_counts())\n",
    "print('---')\n",
    "print(sessions[sessions.action == 'similar_listings'].action_detail.value_counts())"
   ]
  },
  {
   "cell_type": "markdown",
   "metadata": {},
   "source": [
    "We noticed that action \"similar_listing\" has action_type as \"data\" and action_detail as \"similar_listings\". Therefore, we use those to fill action \"similar_listings_v2\"."
   ]
  },
  {
   "cell_type": "code",
   "execution_count": 17,
   "metadata": {},
   "outputs": [],
   "source": [
    "sessions.loc[sessions.action == 'similar_listings_v2', 'action_type'] = 'data'\n",
    "sessions.loc[sessions.action == 'similar_listings_v2', 'action_detail'] = 'similar_listings'"
   ]
  },
  {
   "cell_type": "markdown",
   "metadata": {},
   "source": [
    "The rest are easy, and lastly, we fill \"missing\" to the ones we can't find them a home."
   ]
  },
  {
   "cell_type": "code",
   "execution_count": 18,
   "metadata": {},
   "outputs": [],
   "source": [
    "sessions.loc[sessions.action == 'lookup', 'action_type'] = 'lookup'\n",
    "sessions.loc[sessions.action == 'lookup', 'action_detail'] = 'lookup'\n",
    "sessions.loc[sessions.action == 'track_page_view', 'action_type'] = 'track_page_view'\n",
    "sessions.loc[sessions.action == 'track_page_view', 'action_detail'] = 'track_page_view'\n",
    "sessions.action_type = sessions.action_type.fillna('missing')\n",
    "sessions.action_detail = sessions.action_detail.fillna('missing')"
   ]
  },
  {
   "cell_type": "code",
   "execution_count": 19,
   "metadata": {},
   "outputs": [
    {
     "data": {
      "text/plain": [
       "user_id               0\n",
       "action                0\n",
       "device_type           0\n",
       "secs_elapsed     135483\n",
       "action_type           0\n",
       "action_detail         0\n",
       "dtype: int64"
      ]
     },
     "execution_count": 19,
     "metadata": {},
     "output_type": "execute_result"
    }
   ],
   "source": [
    "sessions.isnull().sum()"
   ]
  },
  {
   "cell_type": "markdown",
   "metadata": {},
   "source": [
    "#### Missing values in secs_elapsed\n",
    "\n",
    "Fill the missing secs_elapsed with the median secs_elapsed for each action."
   ]
  },
  {
   "cell_type": "code",
   "execution_count": 20,
   "metadata": {},
   "outputs": [],
   "source": [
    "sessions[\"secs_elapsed\"] = sessions.groupby(\"action\").transform(lambda x: x.fillna(x.median()))"
   ]
  },
  {
   "cell_type": "code",
   "execution_count": 21,
   "metadata": {},
   "outputs": [
    {
     "data": {
      "text/plain": [
       "user_id          0\n",
       "action           0\n",
       "device_type      0\n",
       "secs_elapsed     0\n",
       "action_type      0\n",
       "action_detail    0\n",
       "dtype: int64"
      ]
     },
     "execution_count": 21,
     "metadata": {},
     "output_type": "execute_result"
    }
   ],
   "source": [
    "sessions.isnull().sum()"
   ]
  },
  {
   "cell_type": "markdown",
   "metadata": {},
   "source": [
    "All done!"
   ]
  },
  {
   "cell_type": "code",
   "execution_count": 22,
   "metadata": {},
   "outputs": [
    {
     "data": {
      "text/html": [
       "<div>\n",
       "<style scoped>\n",
       "    .dataframe tbody tr th:only-of-type {\n",
       "        vertical-align: middle;\n",
       "    }\n",
       "\n",
       "    .dataframe tbody tr th {\n",
       "        vertical-align: top;\n",
       "    }\n",
       "\n",
       "    .dataframe thead th {\n",
       "        text-align: right;\n",
       "    }\n",
       "</style>\n",
       "<table border=\"1\" class=\"dataframe\">\n",
       "  <thead>\n",
       "    <tr style=\"text-align: right;\">\n",
       "      <th></th>\n",
       "      <th>user_id</th>\n",
       "      <th>action</th>\n",
       "      <th>device_type</th>\n",
       "      <th>secs_elapsed</th>\n",
       "      <th>action_type</th>\n",
       "      <th>action_detail</th>\n",
       "    </tr>\n",
       "  </thead>\n",
       "  <tbody>\n",
       "    <tr>\n",
       "      <th>0</th>\n",
       "      <td>d1mm9tcy42</td>\n",
       "      <td>lookup</td>\n",
       "      <td>Windows Desktop</td>\n",
       "      <td>319.0</td>\n",
       "      <td>lookup</td>\n",
       "      <td>lookup</td>\n",
       "    </tr>\n",
       "    <tr>\n",
       "      <th>1</th>\n",
       "      <td>d1mm9tcy42</td>\n",
       "      <td>search_results</td>\n",
       "      <td>Windows Desktop</td>\n",
       "      <td>67753.0</td>\n",
       "      <td>click</td>\n",
       "      <td>view_search_results</td>\n",
       "    </tr>\n",
       "    <tr>\n",
       "      <th>2</th>\n",
       "      <td>d1mm9tcy42</td>\n",
       "      <td>lookup</td>\n",
       "      <td>Windows Desktop</td>\n",
       "      <td>301.0</td>\n",
       "      <td>lookup</td>\n",
       "      <td>lookup</td>\n",
       "    </tr>\n",
       "    <tr>\n",
       "      <th>3</th>\n",
       "      <td>d1mm9tcy42</td>\n",
       "      <td>search_results</td>\n",
       "      <td>Windows Desktop</td>\n",
       "      <td>22141.0</td>\n",
       "      <td>click</td>\n",
       "      <td>view_search_results</td>\n",
       "    </tr>\n",
       "    <tr>\n",
       "      <th>4</th>\n",
       "      <td>d1mm9tcy42</td>\n",
       "      <td>lookup</td>\n",
       "      <td>Windows Desktop</td>\n",
       "      <td>435.0</td>\n",
       "      <td>lookup</td>\n",
       "      <td>lookup</td>\n",
       "    </tr>\n",
       "  </tbody>\n",
       "</table>\n",
       "</div>"
      ],
      "text/plain": [
       "      user_id          action      device_type  secs_elapsed action_type  \\\n",
       "0  d1mm9tcy42          lookup  Windows Desktop         319.0      lookup   \n",
       "1  d1mm9tcy42  search_results  Windows Desktop       67753.0       click   \n",
       "2  d1mm9tcy42          lookup  Windows Desktop         301.0      lookup   \n",
       "3  d1mm9tcy42  search_results  Windows Desktop       22141.0       click   \n",
       "4  d1mm9tcy42          lookup  Windows Desktop         435.0      lookup   \n",
       "\n",
       "         action_detail  \n",
       "0               lookup  \n",
       "1  view_search_results  \n",
       "2               lookup  \n",
       "3  view_search_results  \n",
       "4               lookup  "
      ]
     },
     "execution_count": 22,
     "metadata": {},
     "output_type": "execute_result"
    }
   ],
   "source": [
    "sessions.head()"
   ]
  },
  {
   "cell_type": "markdown",
   "metadata": {},
   "source": [
    "### Feature Engineering\n",
    "\n",
    "Based on current sessions dataframe, we create a new dataframe that finds each user's count of actions, sum of secs_elapsed, the most common value for a specific feature, the number of unique values of a feature, the maximum and minimum secs_elapsed, for each user, and so on."
   ]
  },
  {
   "cell_type": "markdown",
   "metadata": {},
   "source": [
    "#### action_count"
   ]
  },
  {
   "cell_type": "code",
   "execution_count": 23,
   "metadata": {},
   "outputs": [],
   "source": [
    "sessions_new = pd.DataFrame(sessions.user_id.value_counts(sort=False))\n",
    "sessions_new['action_count'] = sessions_new.user_id\n",
    "sessions_new['user_id'] = sessions_new.index\n",
    "sessions_new = sessions_new.reset_index(drop=True)"
   ]
  },
  {
   "cell_type": "code",
   "execution_count": 32,
   "metadata": {},
   "outputs": [
    {
     "data": {
      "text/html": [
       "<div>\n",
       "<style scoped>\n",
       "    .dataframe tbody tr th:only-of-type {\n",
       "        vertical-align: middle;\n",
       "    }\n",
       "\n",
       "    .dataframe tbody tr th {\n",
       "        vertical-align: top;\n",
       "    }\n",
       "\n",
       "    .dataframe thead th {\n",
       "        text-align: right;\n",
       "    }\n",
       "</style>\n",
       "<table border=\"1\" class=\"dataframe\">\n",
       "  <thead>\n",
       "    <tr style=\"text-align: right;\">\n",
       "      <th></th>\n",
       "      <th>user_id</th>\n",
       "      <th>action_count</th>\n",
       "    </tr>\n",
       "  </thead>\n",
       "  <tbody>\n",
       "    <tr>\n",
       "      <th>0</th>\n",
       "      <td>hivc6c5h99</td>\n",
       "      <td>13</td>\n",
       "    </tr>\n",
       "    <tr>\n",
       "      <th>1</th>\n",
       "      <td>b46vpqz2pp</td>\n",
       "      <td>39</td>\n",
       "    </tr>\n",
       "    <tr>\n",
       "      <th>2</th>\n",
       "      <td>2zs5vmvcbq</td>\n",
       "      <td>19</td>\n",
       "    </tr>\n",
       "    <tr>\n",
       "      <th>3</th>\n",
       "      <td>17q3fns1ft</td>\n",
       "      <td>116</td>\n",
       "    </tr>\n",
       "    <tr>\n",
       "      <th>4</th>\n",
       "      <td>ivwsqo67rb</td>\n",
       "      <td>94</td>\n",
       "    </tr>\n",
       "  </tbody>\n",
       "</table>\n",
       "</div>"
      ],
      "text/plain": [
       "      user_id  action_count\n",
       "0  hivc6c5h99            13\n",
       "1  b46vpqz2pp            39\n",
       "2  2zs5vmvcbq            19\n",
       "3  17q3fns1ft           116\n",
       "4  ivwsqo67rb            94"
      ]
     },
     "execution_count": 32,
     "metadata": {},
     "output_type": "execute_result"
    }
   ],
   "source": [
    "sessions_new.head()"
   ]
  },
  {
   "cell_type": "markdown",
   "metadata": {},
   "source": [
    "#### Most frequent value in each feature (action, action_type, action_detail, device_type)\n",
    "\n",
    "The following function returns the most frequent value in each feature, for a given user."
   ]
  },
  {
   "cell_type": "code",
   "execution_count": 24,
   "metadata": {},
   "outputs": [],
   "source": [
    "def most_frequent_value(merge_df, feature):\n",
    "    # Group by the users and find the value counts of the feature\n",
    "    new_df = pd.DataFrame(sessions.groupby('user_id')[feature].value_counts())\n",
    "    # The index is a tuple, and we need to seperate it, so let's create a new feature from it.\n",
    "    new_df['index_tuple'] = new_df.index\n",
    "    # The new columns are the features created from the tuple.\n",
    "    new_columns = ['user_id',feature]\n",
    "    for n,col in enumerate(new_columns):\n",
    "        new_df[col] = new_df.index_tuple.apply(lambda index_tuple: index_tuple[n])\n",
    "    \n",
    "    # Drop the old index (the tuple index)\n",
    "    new_df = new_df.reset_index(drop = True)\n",
    "    # Drop the unneeded feature\n",
    "    new_df = new_df.drop('index_tuple', axis = 1)\n",
    "    # Select the first value for each user, its most common\n",
    "    new_df = new_df.groupby('user_id').first()\n",
    "    \n",
    "    # Set user_id equal to the index, then reset the index\n",
    "    new_df['user_id'] = new_df.index\n",
    "    new_df = new_df.reset_index(drop = True)\n",
    "    \n",
    "    merge_df = merge_df.merge(new_df)\n",
    "    \n",
    "    return merge_df\n",
    "\n",
    "sessions_feature = ['action', 'action_type', 'action_detail', 'device_type']\n",
    "\n",
    "for feature in sessions_feature:\n",
    "    sessions_new = most_frequent_value(sessions_new, feature)"
   ]
  },
  {
   "cell_type": "code",
   "execution_count": 25,
   "metadata": {},
   "outputs": [
    {
     "data": {
      "text/html": [
       "<div>\n",
       "<style scoped>\n",
       "    .dataframe tbody tr th:only-of-type {\n",
       "        vertical-align: middle;\n",
       "    }\n",
       "\n",
       "    .dataframe tbody tr th {\n",
       "        vertical-align: top;\n",
       "    }\n",
       "\n",
       "    .dataframe thead th {\n",
       "        text-align: right;\n",
       "    }\n",
       "</style>\n",
       "<table border=\"1\" class=\"dataframe\">\n",
       "  <thead>\n",
       "    <tr style=\"text-align: right;\">\n",
       "      <th></th>\n",
       "      <th>user_id</th>\n",
       "      <th>action_count</th>\n",
       "      <th>action</th>\n",
       "      <th>action_type</th>\n",
       "      <th>action_detail</th>\n",
       "      <th>device_type</th>\n",
       "    </tr>\n",
       "  </thead>\n",
       "  <tbody>\n",
       "    <tr>\n",
       "      <th>0</th>\n",
       "      <td>e8zzuy8rk1</td>\n",
       "      <td>152</td>\n",
       "      <td>show</td>\n",
       "      <td>click</td>\n",
       "      <td>p3</td>\n",
       "      <td>Windows Desktop</td>\n",
       "    </tr>\n",
       "    <tr>\n",
       "      <th>1</th>\n",
       "      <td>upvhlkz4cu</td>\n",
       "      <td>16</td>\n",
       "      <td>show</td>\n",
       "      <td>view</td>\n",
       "      <td>p3</td>\n",
       "      <td>Windows Desktop</td>\n",
       "    </tr>\n",
       "    <tr>\n",
       "      <th>2</th>\n",
       "      <td>22n9cobcpk</td>\n",
       "      <td>72</td>\n",
       "      <td>show</td>\n",
       "      <td>view</td>\n",
       "      <td>-unknown-</td>\n",
       "      <td>Mac Desktop</td>\n",
       "    </tr>\n",
       "    <tr>\n",
       "      <th>3</th>\n",
       "      <td>u0fkrhizzl</td>\n",
       "      <td>12</td>\n",
       "      <td>show</td>\n",
       "      <td>view</td>\n",
       "      <td>-unknown-</td>\n",
       "      <td>Android Phone</td>\n",
       "    </tr>\n",
       "    <tr>\n",
       "      <th>4</th>\n",
       "      <td>gir1sb7mtg</td>\n",
       "      <td>29</td>\n",
       "      <td>show</td>\n",
       "      <td>view</td>\n",
       "      <td>user_profile</td>\n",
       "      <td>iPhone</td>\n",
       "    </tr>\n",
       "  </tbody>\n",
       "</table>\n",
       "</div>"
      ],
      "text/plain": [
       "      user_id  action_count action action_type action_detail      device_type\n",
       "0  e8zzuy8rk1           152   show       click            p3  Windows Desktop\n",
       "1  upvhlkz4cu            16   show        view            p3  Windows Desktop\n",
       "2  22n9cobcpk            72   show        view     -unknown-      Mac Desktop\n",
       "3  u0fkrhizzl            12   show        view     -unknown-    Android Phone\n",
       "4  gir1sb7mtg            29   show        view  user_profile           iPhone"
      ]
     },
     "execution_count": 25,
     "metadata": {},
     "output_type": "execute_result"
    }
   ],
   "source": [
    "sessions_new.head()"
   ]
  },
  {
   "cell_type": "markdown",
   "metadata": {},
   "source": [
    "#### The number of unique values of a feature for each user.\n",
    "\n",
    "The following function returns the number of unique values of a feature for each user."
   ]
  },
  {
   "cell_type": "code",
   "execution_count": 26,
   "metadata": {},
   "outputs": [],
   "source": [
    "def unique_features(feature, feature_name, merge_df):\n",
    "    # Create a dataframe by grouping the users and the feature\n",
    "    unique_feature = pd.DataFrame(sessions.groupby('user_id')[feature].unique())\n",
    "    unique_feature['user_id'] = unique_feature.index\n",
    "    unique_feature = unique_feature.reset_index(drop = True)\n",
    "    # Create a new feature equal to the number of unique features for each user\n",
    "    unique_feature[feature_name] = unique_feature[feature].map(lambda x: len(x))\n",
    "    # Drop the needed feature\n",
    "    unique_feature = unique_feature.drop(feature, axis = 1)\n",
    "    merge_df = merge_df.merge(unique_feature, on = 'user_id')\n",
    "    return merge_df\n",
    "sessions_new = unique_features('action', 'unique_actions', sessions_new)\n",
    "sessions_new = unique_features('action_type', 'unique_action_types', sessions_new)\n",
    "sessions_new = unique_features('action_detail', 'unique_action_details', sessions_new)\n",
    "sessions_new = unique_features('device_type', 'unique_device_types', sessions_new)"
   ]
  },
  {
   "cell_type": "code",
   "execution_count": 27,
   "metadata": {},
   "outputs": [
    {
     "data": {
      "text/html": [
       "<div>\n",
       "<style scoped>\n",
       "    .dataframe tbody tr th:only-of-type {\n",
       "        vertical-align: middle;\n",
       "    }\n",
       "\n",
       "    .dataframe tbody tr th {\n",
       "        vertical-align: top;\n",
       "    }\n",
       "\n",
       "    .dataframe thead th {\n",
       "        text-align: right;\n",
       "    }\n",
       "</style>\n",
       "<table border=\"1\" class=\"dataframe\">\n",
       "  <thead>\n",
       "    <tr style=\"text-align: right;\">\n",
       "      <th></th>\n",
       "      <th>user_id</th>\n",
       "      <th>action_count</th>\n",
       "      <th>action</th>\n",
       "      <th>action_type</th>\n",
       "      <th>action_detail</th>\n",
       "      <th>device_type</th>\n",
       "      <th>unique_actions</th>\n",
       "      <th>unique_action_types</th>\n",
       "      <th>unique_action_details</th>\n",
       "      <th>unique_device_types</th>\n",
       "    </tr>\n",
       "  </thead>\n",
       "  <tbody>\n",
       "    <tr>\n",
       "      <th>0</th>\n",
       "      <td>e8zzuy8rk1</td>\n",
       "      <td>152</td>\n",
       "      <td>show</td>\n",
       "      <td>click</td>\n",
       "      <td>p3</td>\n",
       "      <td>Windows Desktop</td>\n",
       "      <td>22</td>\n",
       "      <td>7</td>\n",
       "      <td>17</td>\n",
       "      <td>1</td>\n",
       "    </tr>\n",
       "    <tr>\n",
       "      <th>1</th>\n",
       "      <td>upvhlkz4cu</td>\n",
       "      <td>16</td>\n",
       "      <td>show</td>\n",
       "      <td>view</td>\n",
       "      <td>p3</td>\n",
       "      <td>Windows Desktop</td>\n",
       "      <td>8</td>\n",
       "      <td>4</td>\n",
       "      <td>7</td>\n",
       "      <td>1</td>\n",
       "    </tr>\n",
       "    <tr>\n",
       "      <th>2</th>\n",
       "      <td>22n9cobcpk</td>\n",
       "      <td>72</td>\n",
       "      <td>show</td>\n",
       "      <td>view</td>\n",
       "      <td>-unknown-</td>\n",
       "      <td>Mac Desktop</td>\n",
       "      <td>28</td>\n",
       "      <td>7</td>\n",
       "      <td>23</td>\n",
       "      <td>1</td>\n",
       "    </tr>\n",
       "    <tr>\n",
       "      <th>3</th>\n",
       "      <td>u0fkrhizzl</td>\n",
       "      <td>12</td>\n",
       "      <td>show</td>\n",
       "      <td>view</td>\n",
       "      <td>-unknown-</td>\n",
       "      <td>Android Phone</td>\n",
       "      <td>7</td>\n",
       "      <td>4</td>\n",
       "      <td>6</td>\n",
       "      <td>1</td>\n",
       "    </tr>\n",
       "    <tr>\n",
       "      <th>4</th>\n",
       "      <td>gir1sb7mtg</td>\n",
       "      <td>29</td>\n",
       "      <td>show</td>\n",
       "      <td>view</td>\n",
       "      <td>user_profile</td>\n",
       "      <td>iPhone</td>\n",
       "      <td>6</td>\n",
       "      <td>5</td>\n",
       "      <td>8</td>\n",
       "      <td>1</td>\n",
       "    </tr>\n",
       "  </tbody>\n",
       "</table>\n",
       "</div>"
      ],
      "text/plain": [
       "      user_id  action_count action action_type action_detail      device_type  \\\n",
       "0  e8zzuy8rk1           152   show       click            p3  Windows Desktop   \n",
       "1  upvhlkz4cu            16   show        view            p3  Windows Desktop   \n",
       "2  22n9cobcpk            72   show        view     -unknown-      Mac Desktop   \n",
       "3  u0fkrhizzl            12   show        view     -unknown-    Android Phone   \n",
       "4  gir1sb7mtg            29   show        view  user_profile           iPhone   \n",
       "\n",
       "   unique_actions  unique_action_types  unique_action_details  \\\n",
       "0              22                    7                     17   \n",
       "1               8                    4                      7   \n",
       "2              28                    7                     23   \n",
       "3               7                    4                      6   \n",
       "4               6                    5                      8   \n",
       "\n",
       "   unique_device_types  \n",
       "0                    1  \n",
       "1                    1  \n",
       "2                    1  \n",
       "3                    1  \n",
       "4                    1  "
      ]
     },
     "execution_count": 27,
     "metadata": {},
     "output_type": "execute_result"
    }
   ],
   "source": [
    "sessions_new.head()"
   ]
  },
  {
   "cell_type": "code",
   "execution_count": 346,
   "metadata": {},
   "outputs": [],
   "source": [
    "# Find the maximum and minimum secs_elapsed/duration for each user in sessions.\n",
    "# max_durations = pd.DataFrame(sessions.groupby(['user_id'], as_index=False)['secs_elapsed'].max())\n",
    "# sessions_summary = sessions_summary.merge(max_durations, on = 'user_id')\n",
    "# sessions_summary['max_duration'] = sessions_summary.secs_elapsed\n",
    "# sessions_summary.drop('secs_elapsed', axis=1, inplace=True)\n",
    "\n",
    "# min_durations = pd.DataFrame(sessions.groupby(['user_id'], as_index=False)['secs_elapsed'].min())\n",
    "# sessions_summary = sessions_summary.merge(min_durations, on = 'user_id')\n",
    "# sessions_summary['min_duration'] = sessions_summary.secs_elapsed\n",
    "# sessions_summary.drop('secs_elapsed', axis=1, inplace=True)\n",
    "\n",
    "# Find the average duration for each user\n",
    "# sessions_summary['avg_duration'] = sessions_summary.duration / sessions_summary.action_count"
   ]
  },
  {
   "cell_type": "markdown",
   "metadata": {},
   "source": [
    "#### secs_elapsed\n",
    "\n",
    "We will extract information from secs_elapsed feature for each user, such as sum, mean, min, max, median, if the sum of secs_elapsed is greater than 86,400 second, we consider day_pause, if the sum of secs_elapsed is greater than 300,000 seconds, we consider it is a long pause, and if the sum of secs_elapsed is shorter than 3,600 seconds, we consider it is a short pause."
   ]
  },
  {
   "cell_type": "code",
   "execution_count": 28,
   "metadata": {},
   "outputs": [
    {
     "name": "stderr",
     "output_type": "stream",
     "text": [
      "C:\\Users\\SusanLi\\AppData\\Local\\Continuum\\anaconda3\\lib\\site-packages\\ipykernel_launcher.py:13: FutureWarning: using a dict on a Series for aggregation\n",
      "is deprecated and will be removed in a future version\n",
      "  del sys.path[0]\n"
     ]
    }
   ],
   "source": [
    "secs_elapsed = sessions.groupby('user_id')['secs_elapsed']\n",
    "\n",
    "secs_elapsed = secs_elapsed.agg(\n",
    "    {\n",
    "        'secs_elapsed_sum': np.sum,\n",
    "        'secs_elapsed_mean': np.mean,\n",
    "        'secs_elapsed_min': np.min,\n",
    "        'secs_elapsed_max': np.max,\n",
    "        'secs_elapsed_median': np.median,\n",
    "        'day_pauses': lambda x: (x > 86400).sum(),\n",
    "        'long_pauses': lambda x: (x > 300000).sum(),\n",
    "        'short_pauses': lambda x: (x < 3600).sum(),\n",
    "        'session_length' : np.count_nonzero\n",
    "    }\n",
    ")\n",
    "secs_elapsed.reset_index(inplace=True)\n",
    "sessions_new = pd.merge(sessions_new, secs_elapsed, on='user_id', how='left')"
   ]
  },
  {
   "cell_type": "code",
   "execution_count": 29,
   "metadata": {},
   "outputs": [
    {
     "data": {
      "text/html": [
       "<div>\n",
       "<style scoped>\n",
       "    .dataframe tbody tr th:only-of-type {\n",
       "        vertical-align: middle;\n",
       "    }\n",
       "\n",
       "    .dataframe tbody tr th {\n",
       "        vertical-align: top;\n",
       "    }\n",
       "\n",
       "    .dataframe thead th {\n",
       "        text-align: right;\n",
       "    }\n",
       "</style>\n",
       "<table border=\"1\" class=\"dataframe\">\n",
       "  <thead>\n",
       "    <tr style=\"text-align: right;\">\n",
       "      <th></th>\n",
       "      <th>user_id</th>\n",
       "      <th>action_count</th>\n",
       "      <th>action</th>\n",
       "      <th>action_type</th>\n",
       "      <th>action_detail</th>\n",
       "      <th>device_type</th>\n",
       "      <th>unique_actions</th>\n",
       "      <th>unique_action_types</th>\n",
       "      <th>unique_action_details</th>\n",
       "      <th>unique_device_types</th>\n",
       "      <th>secs_elapsed_sum</th>\n",
       "      <th>secs_elapsed_mean</th>\n",
       "      <th>secs_elapsed_min</th>\n",
       "      <th>secs_elapsed_max</th>\n",
       "      <th>secs_elapsed_median</th>\n",
       "      <th>day_pauses</th>\n",
       "      <th>long_pauses</th>\n",
       "      <th>short_pauses</th>\n",
       "      <th>session_length</th>\n",
       "    </tr>\n",
       "  </thead>\n",
       "  <tbody>\n",
       "    <tr>\n",
       "      <th>0</th>\n",
       "      <td>e8zzuy8rk1</td>\n",
       "      <td>152</td>\n",
       "      <td>show</td>\n",
       "      <td>click</td>\n",
       "      <td>p3</td>\n",
       "      <td>Windows Desktop</td>\n",
       "      <td>22</td>\n",
       "      <td>7</td>\n",
       "      <td>17</td>\n",
       "      <td>1</td>\n",
       "      <td>6503214.5</td>\n",
       "      <td>42784.305921</td>\n",
       "      <td>0.0</td>\n",
       "      <td>1220337.0</td>\n",
       "      <td>743.0</td>\n",
       "      <td>18.0</td>\n",
       "      <td>5.0</td>\n",
       "      <td>99.0</td>\n",
       "      <td>142.0</td>\n",
       "    </tr>\n",
       "    <tr>\n",
       "      <th>1</th>\n",
       "      <td>upvhlkz4cu</td>\n",
       "      <td>16</td>\n",
       "      <td>show</td>\n",
       "      <td>view</td>\n",
       "      <td>p3</td>\n",
       "      <td>Windows Desktop</td>\n",
       "      <td>8</td>\n",
       "      <td>4</td>\n",
       "      <td>7</td>\n",
       "      <td>1</td>\n",
       "      <td>237087.5</td>\n",
       "      <td>14817.968750</td>\n",
       "      <td>124.0</td>\n",
       "      <td>116057.0</td>\n",
       "      <td>3245.5</td>\n",
       "      <td>1.0</td>\n",
       "      <td>0.0</td>\n",
       "      <td>10.0</td>\n",
       "      <td>16.0</td>\n",
       "    </tr>\n",
       "    <tr>\n",
       "      <th>2</th>\n",
       "      <td>22n9cobcpk</td>\n",
       "      <td>72</td>\n",
       "      <td>show</td>\n",
       "      <td>view</td>\n",
       "      <td>-unknown-</td>\n",
       "      <td>Mac Desktop</td>\n",
       "      <td>28</td>\n",
       "      <td>7</td>\n",
       "      <td>23</td>\n",
       "      <td>1</td>\n",
       "      <td>2441601.5</td>\n",
       "      <td>33911.131944</td>\n",
       "      <td>0.0</td>\n",
       "      <td>1209080.0</td>\n",
       "      <td>2021.5</td>\n",
       "      <td>4.0</td>\n",
       "      <td>2.0</td>\n",
       "      <td>39.0</td>\n",
       "      <td>71.0</td>\n",
       "    </tr>\n",
       "    <tr>\n",
       "      <th>3</th>\n",
       "      <td>u0fkrhizzl</td>\n",
       "      <td>12</td>\n",
       "      <td>show</td>\n",
       "      <td>view</td>\n",
       "      <td>-unknown-</td>\n",
       "      <td>Android Phone</td>\n",
       "      <td>7</td>\n",
       "      <td>4</td>\n",
       "      <td>6</td>\n",
       "      <td>1</td>\n",
       "      <td>25734.0</td>\n",
       "      <td>2144.500000</td>\n",
       "      <td>11.0</td>\n",
       "      <td>10474.0</td>\n",
       "      <td>751.0</td>\n",
       "      <td>0.0</td>\n",
       "      <td>0.0</td>\n",
       "      <td>9.0</td>\n",
       "      <td>12.0</td>\n",
       "    </tr>\n",
       "    <tr>\n",
       "      <th>4</th>\n",
       "      <td>gir1sb7mtg</td>\n",
       "      <td>29</td>\n",
       "      <td>show</td>\n",
       "      <td>view</td>\n",
       "      <td>user_profile</td>\n",
       "      <td>iPhone</td>\n",
       "      <td>6</td>\n",
       "      <td>5</td>\n",
       "      <td>8</td>\n",
       "      <td>1</td>\n",
       "      <td>266474.5</td>\n",
       "      <td>9188.775862</td>\n",
       "      <td>21.0</td>\n",
       "      <td>67506.0</td>\n",
       "      <td>566.0</td>\n",
       "      <td>0.0</td>\n",
       "      <td>0.0</td>\n",
       "      <td>16.0</td>\n",
       "      <td>29.0</td>\n",
       "    </tr>\n",
       "  </tbody>\n",
       "</table>\n",
       "</div>"
      ],
      "text/plain": [
       "      user_id  action_count action action_type action_detail      device_type  \\\n",
       "0  e8zzuy8rk1           152   show       click            p3  Windows Desktop   \n",
       "1  upvhlkz4cu            16   show        view            p3  Windows Desktop   \n",
       "2  22n9cobcpk            72   show        view     -unknown-      Mac Desktop   \n",
       "3  u0fkrhizzl            12   show        view     -unknown-    Android Phone   \n",
       "4  gir1sb7mtg            29   show        view  user_profile           iPhone   \n",
       "\n",
       "   unique_actions  unique_action_types  unique_action_details  \\\n",
       "0              22                    7                     17   \n",
       "1               8                    4                      7   \n",
       "2              28                    7                     23   \n",
       "3               7                    4                      6   \n",
       "4               6                    5                      8   \n",
       "\n",
       "   unique_device_types  secs_elapsed_sum  secs_elapsed_mean  secs_elapsed_min  \\\n",
       "0                    1         6503214.5       42784.305921               0.0   \n",
       "1                    1          237087.5       14817.968750             124.0   \n",
       "2                    1         2441601.5       33911.131944               0.0   \n",
       "3                    1           25734.0        2144.500000              11.0   \n",
       "4                    1          266474.5        9188.775862              21.0   \n",
       "\n",
       "   secs_elapsed_max  secs_elapsed_median  day_pauses  long_pauses  \\\n",
       "0         1220337.0                743.0        18.0          5.0   \n",
       "1          116057.0               3245.5         1.0          0.0   \n",
       "2         1209080.0               2021.5         4.0          2.0   \n",
       "3           10474.0                751.0         0.0          0.0   \n",
       "4           67506.0                566.0         0.0          0.0   \n",
       "\n",
       "   short_pauses  session_length  \n",
       "0          99.0           142.0  \n",
       "1          10.0            16.0  \n",
       "2          39.0            71.0  \n",
       "3           9.0            12.0  \n",
       "4          16.0            29.0  "
      ]
     },
     "execution_count": 29,
     "metadata": {},
     "output_type": "execute_result"
    }
   ],
   "source": [
    "sessions_new.head()"
   ]
  },
  {
   "cell_type": "code",
   "execution_count": 30,
   "metadata": {},
   "outputs": [
    {
     "data": {
      "text/plain": [
       "user_id                  0\n",
       "action_count             0\n",
       "action                   0\n",
       "action_type              0\n",
       "action_detail            0\n",
       "device_type              0\n",
       "unique_actions           0\n",
       "unique_action_types      0\n",
       "unique_action_details    0\n",
       "unique_device_types      0\n",
       "secs_elapsed_sum         0\n",
       "secs_elapsed_mean        0\n",
       "secs_elapsed_min         0\n",
       "secs_elapsed_max         0\n",
       "secs_elapsed_median      0\n",
       "day_pauses               0\n",
       "long_pauses              0\n",
       "short_pauses             0\n",
       "session_length           0\n",
       "dtype: int64"
      ]
     },
     "execution_count": 30,
     "metadata": {},
     "output_type": "execute_result"
    }
   ],
   "source": [
    "sessions_new.isnull().sum()"
   ]
  },
  {
   "cell_type": "markdown",
   "metadata": {},
   "source": [
    "#### New features\n",
    "\n",
    "Add new features to categorize the type of device that the user used most frequently."
   ]
  },
  {
   "cell_type": "code",
   "execution_count": 31,
   "metadata": {},
   "outputs": [],
   "source": [
    "apple_device = ['Mac Desktop','iPhone','iPdad Tablet','iPodtouch']\n",
    "desktop_device = ['Mac Desktop','Windows Desktop','Chromebook','Linux Desktop']\n",
    "tablet_device = ['Android App Unknown Phone/Tablet','iPad Tablet','Tablet']\n",
    "mobile_device = ['Android Phone','iPhone','Windows Phone','Blackberry','Opera Phone']\n",
    "\n",
    "device_types = {'apple_device': apple_device, \n",
    "                'desktop_device': desktop_device,\n",
    "                'tablet_device': tablet_device,\n",
    "                'mobile_device': mobile_device}\n",
    "for device in device_types:\n",
    "    sessions_new[device] = 0\n",
    "    sessions_new.loc[sessions_new.device_type.isin(device_types[device]), device] = 1"
   ]
  },
  {
   "cell_type": "code",
   "execution_count": 32,
   "metadata": {},
   "outputs": [
    {
     "data": {
      "text/html": [
       "<div>\n",
       "<style scoped>\n",
       "    .dataframe tbody tr th:only-of-type {\n",
       "        vertical-align: middle;\n",
       "    }\n",
       "\n",
       "    .dataframe tbody tr th {\n",
       "        vertical-align: top;\n",
       "    }\n",
       "\n",
       "    .dataframe thead th {\n",
       "        text-align: right;\n",
       "    }\n",
       "</style>\n",
       "<table border=\"1\" class=\"dataframe\">\n",
       "  <thead>\n",
       "    <tr style=\"text-align: right;\">\n",
       "      <th></th>\n",
       "      <th>user_id</th>\n",
       "      <th>action_count</th>\n",
       "      <th>action</th>\n",
       "      <th>action_type</th>\n",
       "      <th>action_detail</th>\n",
       "      <th>device_type</th>\n",
       "      <th>unique_actions</th>\n",
       "      <th>unique_action_types</th>\n",
       "      <th>unique_action_details</th>\n",
       "      <th>unique_device_types</th>\n",
       "      <th>...</th>\n",
       "      <th>secs_elapsed_max</th>\n",
       "      <th>secs_elapsed_median</th>\n",
       "      <th>day_pauses</th>\n",
       "      <th>long_pauses</th>\n",
       "      <th>short_pauses</th>\n",
       "      <th>session_length</th>\n",
       "      <th>apple_device</th>\n",
       "      <th>desktop_device</th>\n",
       "      <th>tablet_device</th>\n",
       "      <th>mobile_device</th>\n",
       "    </tr>\n",
       "  </thead>\n",
       "  <tbody>\n",
       "    <tr>\n",
       "      <th>0</th>\n",
       "      <td>e8zzuy8rk1</td>\n",
       "      <td>152</td>\n",
       "      <td>show</td>\n",
       "      <td>click</td>\n",
       "      <td>p3</td>\n",
       "      <td>Windows Desktop</td>\n",
       "      <td>22</td>\n",
       "      <td>7</td>\n",
       "      <td>17</td>\n",
       "      <td>1</td>\n",
       "      <td>...</td>\n",
       "      <td>1220337.0</td>\n",
       "      <td>743.0</td>\n",
       "      <td>18.0</td>\n",
       "      <td>5.0</td>\n",
       "      <td>99.0</td>\n",
       "      <td>142.0</td>\n",
       "      <td>0</td>\n",
       "      <td>1</td>\n",
       "      <td>0</td>\n",
       "      <td>0</td>\n",
       "    </tr>\n",
       "    <tr>\n",
       "      <th>1</th>\n",
       "      <td>upvhlkz4cu</td>\n",
       "      <td>16</td>\n",
       "      <td>show</td>\n",
       "      <td>view</td>\n",
       "      <td>p3</td>\n",
       "      <td>Windows Desktop</td>\n",
       "      <td>8</td>\n",
       "      <td>4</td>\n",
       "      <td>7</td>\n",
       "      <td>1</td>\n",
       "      <td>...</td>\n",
       "      <td>116057.0</td>\n",
       "      <td>3245.5</td>\n",
       "      <td>1.0</td>\n",
       "      <td>0.0</td>\n",
       "      <td>10.0</td>\n",
       "      <td>16.0</td>\n",
       "      <td>0</td>\n",
       "      <td>1</td>\n",
       "      <td>0</td>\n",
       "      <td>0</td>\n",
       "    </tr>\n",
       "    <tr>\n",
       "      <th>2</th>\n",
       "      <td>22n9cobcpk</td>\n",
       "      <td>72</td>\n",
       "      <td>show</td>\n",
       "      <td>view</td>\n",
       "      <td>-unknown-</td>\n",
       "      <td>Mac Desktop</td>\n",
       "      <td>28</td>\n",
       "      <td>7</td>\n",
       "      <td>23</td>\n",
       "      <td>1</td>\n",
       "      <td>...</td>\n",
       "      <td>1209080.0</td>\n",
       "      <td>2021.5</td>\n",
       "      <td>4.0</td>\n",
       "      <td>2.0</td>\n",
       "      <td>39.0</td>\n",
       "      <td>71.0</td>\n",
       "      <td>1</td>\n",
       "      <td>1</td>\n",
       "      <td>0</td>\n",
       "      <td>0</td>\n",
       "    </tr>\n",
       "    <tr>\n",
       "      <th>3</th>\n",
       "      <td>u0fkrhizzl</td>\n",
       "      <td>12</td>\n",
       "      <td>show</td>\n",
       "      <td>view</td>\n",
       "      <td>-unknown-</td>\n",
       "      <td>Android Phone</td>\n",
       "      <td>7</td>\n",
       "      <td>4</td>\n",
       "      <td>6</td>\n",
       "      <td>1</td>\n",
       "      <td>...</td>\n",
       "      <td>10474.0</td>\n",
       "      <td>751.0</td>\n",
       "      <td>0.0</td>\n",
       "      <td>0.0</td>\n",
       "      <td>9.0</td>\n",
       "      <td>12.0</td>\n",
       "      <td>0</td>\n",
       "      <td>0</td>\n",
       "      <td>0</td>\n",
       "      <td>1</td>\n",
       "    </tr>\n",
       "    <tr>\n",
       "      <th>4</th>\n",
       "      <td>gir1sb7mtg</td>\n",
       "      <td>29</td>\n",
       "      <td>show</td>\n",
       "      <td>view</td>\n",
       "      <td>user_profile</td>\n",
       "      <td>iPhone</td>\n",
       "      <td>6</td>\n",
       "      <td>5</td>\n",
       "      <td>8</td>\n",
       "      <td>1</td>\n",
       "      <td>...</td>\n",
       "      <td>67506.0</td>\n",
       "      <td>566.0</td>\n",
       "      <td>0.0</td>\n",
       "      <td>0.0</td>\n",
       "      <td>16.0</td>\n",
       "      <td>29.0</td>\n",
       "      <td>1</td>\n",
       "      <td>0</td>\n",
       "      <td>0</td>\n",
       "      <td>1</td>\n",
       "    </tr>\n",
       "  </tbody>\n",
       "</table>\n",
       "<p>5 rows × 23 columns</p>\n",
       "</div>"
      ],
      "text/plain": [
       "      user_id  action_count action action_type action_detail      device_type  \\\n",
       "0  e8zzuy8rk1           152   show       click            p3  Windows Desktop   \n",
       "1  upvhlkz4cu            16   show        view            p3  Windows Desktop   \n",
       "2  22n9cobcpk            72   show        view     -unknown-      Mac Desktop   \n",
       "3  u0fkrhizzl            12   show        view     -unknown-    Android Phone   \n",
       "4  gir1sb7mtg            29   show        view  user_profile           iPhone   \n",
       "\n",
       "   unique_actions  unique_action_types  unique_action_details  \\\n",
       "0              22                    7                     17   \n",
       "1               8                    4                      7   \n",
       "2              28                    7                     23   \n",
       "3               7                    4                      6   \n",
       "4               6                    5                      8   \n",
       "\n",
       "   unique_device_types      ...        secs_elapsed_max  secs_elapsed_median  \\\n",
       "0                    1      ...               1220337.0                743.0   \n",
       "1                    1      ...                116057.0               3245.5   \n",
       "2                    1      ...               1209080.0               2021.5   \n",
       "3                    1      ...                 10474.0                751.0   \n",
       "4                    1      ...                 67506.0                566.0   \n",
       "\n",
       "   day_pauses  long_pauses  short_pauses  session_length  apple_device  \\\n",
       "0        18.0          5.0          99.0           142.0             0   \n",
       "1         1.0          0.0          10.0            16.0             0   \n",
       "2         4.0          2.0          39.0            71.0             1   \n",
       "3         0.0          0.0           9.0            12.0             0   \n",
       "4         0.0          0.0          16.0            29.0             1   \n",
       "\n",
       "   desktop_device  tablet_device  mobile_device  \n",
       "0               1              0              0  \n",
       "1               1              0              0  \n",
       "2               1              0              0  \n",
       "3               0              0              1  \n",
       "4               0              0              1  \n",
       "\n",
       "[5 rows x 23 columns]"
      ]
     },
     "execution_count": 32,
     "metadata": {},
     "output_type": "execute_result"
    }
   ],
   "source": [
    "sessions_new.head()"
   ]
  },
  {
   "cell_type": "code",
   "execution_count": 33,
   "metadata": {},
   "outputs": [
    {
     "name": "stdout",
     "output_type": "stream",
     "text": [
      "(135483, 23)\n",
      "(213451, 16)\n",
      "(62096, 15)\n"
     ]
    }
   ],
   "source": [
    "print(sessions_new.shape)\n",
    "print(train.shape)\n",
    "print(test.shape)"
   ]
  },
  {
   "cell_type": "markdown",
   "metadata": {},
   "source": [
    "## Users Data Exploring, Preprocessing & Feature Engineering"
   ]
  },
  {
   "cell_type": "markdown",
   "metadata": {},
   "source": [
    "Merge train and test with newly created sessions data."
   ]
  },
  {
   "cell_type": "code",
   "execution_count": 47,
   "metadata": {},
   "outputs": [],
   "source": [
    "# train = train.merge(sessions_new, left_on = train['id'], right_on = sessions_new['user_id'], how='inner')\n",
    "# test = test.merge(sessions_new, left_on = test['id'], right_on = sessions_new['user_id'], how = 'inner')\n",
    "# df = pd.concat([train,test])"
   ]
  },
  {
   "cell_type": "code",
   "execution_count": 34,
   "metadata": {},
   "outputs": [],
   "source": [
    "train1 = train.merge(sessions_new, left_on = train['id'], right_on = sessions_new['user_id'], how='inner')\n",
    "train2 = train[~train.id.isin(train1.id)]\n",
    "train = pd.concat([train1, train2])\n",
    "test1 = test.merge(sessions_new, left_on = test['id'], right_on = sessions_new['user_id'], how = 'inner')\n",
    "test2 = test[~test.id.isin(test1.id)]\n",
    "test = pd.concat([test1, test2])\n",
    "df = pd.concat([train,test])"
   ]
  },
  {
   "cell_type": "code",
   "execution_count": 35,
   "metadata": {},
   "outputs": [
    {
     "data": {
      "text/html": [
       "<div>\n",
       "<style scoped>\n",
       "    .dataframe tbody tr th:only-of-type {\n",
       "        vertical-align: middle;\n",
       "    }\n",
       "\n",
       "    .dataframe tbody tr th {\n",
       "        vertical-align: top;\n",
       "    }\n",
       "\n",
       "    .dataframe thead th {\n",
       "        text-align: right;\n",
       "    }\n",
       "</style>\n",
       "<table border=\"1\" class=\"dataframe\">\n",
       "  <thead>\n",
       "    <tr style=\"text-align: right;\">\n",
       "      <th></th>\n",
       "      <th>action</th>\n",
       "      <th>action_count</th>\n",
       "      <th>action_detail</th>\n",
       "      <th>action_type</th>\n",
       "      <th>affiliate_channel</th>\n",
       "      <th>affiliate_provider</th>\n",
       "      <th>age</th>\n",
       "      <th>apple_device</th>\n",
       "      <th>country_destination</th>\n",
       "      <th>date_account_created</th>\n",
       "      <th>...</th>\n",
       "      <th>signup_app</th>\n",
       "      <th>signup_flow</th>\n",
       "      <th>signup_method</th>\n",
       "      <th>tablet_device</th>\n",
       "      <th>timestamp_first_active</th>\n",
       "      <th>unique_action_details</th>\n",
       "      <th>unique_action_types</th>\n",
       "      <th>unique_actions</th>\n",
       "      <th>unique_device_types</th>\n",
       "      <th>user_id</th>\n",
       "    </tr>\n",
       "  </thead>\n",
       "  <tbody>\n",
       "    <tr>\n",
       "      <th>0</th>\n",
       "      <td>show</td>\n",
       "      <td>127.0</td>\n",
       "      <td>p3</td>\n",
       "      <td>view</td>\n",
       "      <td>sem-non-brand</td>\n",
       "      <td>google</td>\n",
       "      <td>62.0</td>\n",
       "      <td>0.0</td>\n",
       "      <td>other</td>\n",
       "      <td>2014-01-01</td>\n",
       "      <td>...</td>\n",
       "      <td>Web</td>\n",
       "      <td>0</td>\n",
       "      <td>basic</td>\n",
       "      <td>0.0</td>\n",
       "      <td>20140101000936</td>\n",
       "      <td>10.0</td>\n",
       "      <td>7.0</td>\n",
       "      <td>17.0</td>\n",
       "      <td>2.0</td>\n",
       "      <td>d1mm9tcy42</td>\n",
       "    </tr>\n",
       "    <tr>\n",
       "      <th>1</th>\n",
       "      <td>show</td>\n",
       "      <td>9.0</td>\n",
       "      <td>p3</td>\n",
       "      <td>view</td>\n",
       "      <td>direct</td>\n",
       "      <td>direct</td>\n",
       "      <td>NaN</td>\n",
       "      <td>1.0</td>\n",
       "      <td>NDF</td>\n",
       "      <td>2014-01-01</td>\n",
       "      <td>...</td>\n",
       "      <td>Web</td>\n",
       "      <td>0</td>\n",
       "      <td>basic</td>\n",
       "      <td>0.0</td>\n",
       "      <td>20140101001558</td>\n",
       "      <td>8.0</td>\n",
       "      <td>4.0</td>\n",
       "      <td>7.0</td>\n",
       "      <td>1.0</td>\n",
       "      <td>yo8nz8bqcq</td>\n",
       "    </tr>\n",
       "    <tr>\n",
       "      <th>2</th>\n",
       "      <td>create</td>\n",
       "      <td>16.0</td>\n",
       "      <td>-unknown-</td>\n",
       "      <td>-unknown-</td>\n",
       "      <td>sem-brand</td>\n",
       "      <td>google</td>\n",
       "      <td>NaN</td>\n",
       "      <td>0.0</td>\n",
       "      <td>NDF</td>\n",
       "      <td>2014-01-01</td>\n",
       "      <td>...</td>\n",
       "      <td>Web</td>\n",
       "      <td>0</td>\n",
       "      <td>basic</td>\n",
       "      <td>0.0</td>\n",
       "      <td>20140101001639</td>\n",
       "      <td>8.0</td>\n",
       "      <td>6.0</td>\n",
       "      <td>13.0</td>\n",
       "      <td>2.0</td>\n",
       "      <td>4grx6yxeby</td>\n",
       "    </tr>\n",
       "    <tr>\n",
       "      <th>3</th>\n",
       "      <td>ajax_refresh_subtotal</td>\n",
       "      <td>152.0</td>\n",
       "      <td>change_trip_characteristics</td>\n",
       "      <td>click</td>\n",
       "      <td>direct</td>\n",
       "      <td>direct</td>\n",
       "      <td>NaN</td>\n",
       "      <td>0.0</td>\n",
       "      <td>NDF</td>\n",
       "      <td>2014-01-01</td>\n",
       "      <td>...</td>\n",
       "      <td>Web</td>\n",
       "      <td>0</td>\n",
       "      <td>basic</td>\n",
       "      <td>0.0</td>\n",
       "      <td>20140101002146</td>\n",
       "      <td>13.0</td>\n",
       "      <td>7.0</td>\n",
       "      <td>19.0</td>\n",
       "      <td>3.0</td>\n",
       "      <td>ncf87guaf0</td>\n",
       "    </tr>\n",
       "    <tr>\n",
       "      <th>4</th>\n",
       "      <td>index</td>\n",
       "      <td>8.0</td>\n",
       "      <td>-unknown-</td>\n",
       "      <td>-unknown-</td>\n",
       "      <td>direct</td>\n",
       "      <td>direct</td>\n",
       "      <td>NaN</td>\n",
       "      <td>1.0</td>\n",
       "      <td>GB</td>\n",
       "      <td>2014-01-01</td>\n",
       "      <td>...</td>\n",
       "      <td>iOS</td>\n",
       "      <td>25</td>\n",
       "      <td>basic</td>\n",
       "      <td>0.0</td>\n",
       "      <td>20140101002619</td>\n",
       "      <td>1.0</td>\n",
       "      <td>1.0</td>\n",
       "      <td>7.0</td>\n",
       "      <td>1.0</td>\n",
       "      <td>4rvqpxoh3h</td>\n",
       "    </tr>\n",
       "  </tbody>\n",
       "</table>\n",
       "<p>5 rows × 39 columns</p>\n",
       "</div>"
      ],
      "text/plain": [
       "                  action  action_count                action_detail  \\\n",
       "0                   show         127.0                           p3   \n",
       "1                   show           9.0                           p3   \n",
       "2                 create          16.0                    -unknown-   \n",
       "3  ajax_refresh_subtotal         152.0  change_trip_characteristics   \n",
       "4                  index           8.0                    -unknown-   \n",
       "\n",
       "  action_type affiliate_channel affiliate_provider   age  apple_device  \\\n",
       "0        view     sem-non-brand             google  62.0           0.0   \n",
       "1        view            direct             direct   NaN           1.0   \n",
       "2   -unknown-         sem-brand             google   NaN           0.0   \n",
       "3       click            direct             direct   NaN           0.0   \n",
       "4   -unknown-            direct             direct   NaN           1.0   \n",
       "\n",
       "  country_destination date_account_created     ...     signup_app  \\\n",
       "0               other           2014-01-01     ...            Web   \n",
       "1                 NDF           2014-01-01     ...            Web   \n",
       "2                 NDF           2014-01-01     ...            Web   \n",
       "3                 NDF           2014-01-01     ...            Web   \n",
       "4                  GB           2014-01-01     ...            iOS   \n",
       "\n",
       "   signup_flow  signup_method tablet_device timestamp_first_active  \\\n",
       "0            0          basic           0.0         20140101000936   \n",
       "1            0          basic           0.0         20140101001558   \n",
       "2            0          basic           0.0         20140101001639   \n",
       "3            0          basic           0.0         20140101002146   \n",
       "4           25          basic           0.0         20140101002619   \n",
       "\n",
       "  unique_action_details unique_action_types unique_actions  \\\n",
       "0                  10.0                 7.0           17.0   \n",
       "1                   8.0                 4.0            7.0   \n",
       "2                   8.0                 6.0           13.0   \n",
       "3                  13.0                 7.0           19.0   \n",
       "4                   1.0                 1.0            7.0   \n",
       "\n",
       "  unique_device_types     user_id  \n",
       "0                 2.0  d1mm9tcy42  \n",
       "1                 1.0  yo8nz8bqcq  \n",
       "2                 2.0  4grx6yxeby  \n",
       "3                 3.0  ncf87guaf0  \n",
       "4                 1.0  4rvqpxoh3h  \n",
       "\n",
       "[5 rows x 39 columns]"
      ]
     },
     "execution_count": 35,
     "metadata": {},
     "output_type": "execute_result"
    }
   ],
   "source": [
    "df.head()"
   ]
  },
  {
   "cell_type": "code",
   "execution_count": 36,
   "metadata": {},
   "outputs": [
    {
     "data": {
      "text/plain": [
       "action                     140064\n",
       "action_count               140064\n",
       "action_detail              140064\n",
       "action_type                140064\n",
       "affiliate_channel               0\n",
       "affiliate_provider              0\n",
       "age                        116866\n",
       "apple_device               140064\n",
       "country_destination         62096\n",
       "date_account_created            0\n",
       "date_first_booking         186639\n",
       "day_pauses                 140064\n",
       "desktop_device             140064\n",
       "device_type                140064\n",
       "first_affiliate_tracked      6085\n",
       "first_browser                   0\n",
       "first_device_type               0\n",
       "gender                          0\n",
       "id                              0\n",
       "language                        0\n",
       "long_pauses                140064\n",
       "mobile_device              140064\n",
       "secs_elapsed_max           140064\n",
       "secs_elapsed_mean          140064\n",
       "secs_elapsed_median        140064\n",
       "secs_elapsed_min           140064\n",
       "secs_elapsed_sum           140064\n",
       "session_length             140064\n",
       "short_pauses               140064\n",
       "signup_app                      0\n",
       "signup_flow                     0\n",
       "signup_method                   0\n",
       "tablet_device              140064\n",
       "timestamp_first_active          0\n",
       "unique_action_details      140064\n",
       "unique_action_types        140064\n",
       "unique_actions             140064\n",
       "unique_device_types        140064\n",
       "user_id                    140064\n",
       "dtype: int64"
      ]
     },
     "execution_count": 36,
     "metadata": {},
     "output_type": "execute_result"
    }
   ],
   "source": [
    "df.isnull().sum()"
   ]
  },
  {
   "cell_type": "code",
   "execution_count": 37,
   "metadata": {},
   "outputs": [],
   "source": [
    "df.drop(['user_id', 'date_first_booking'], axis=1, inplace=True)"
   ]
  },
  {
   "cell_type": "markdown",
   "metadata": {},
   "source": [
    "### Missing values\n",
    "\n",
    "Because there are many users in users data that do not appear in the sessions dataframe, therefore, all of their session values are null. Let's sort out those nulls values first. We will fill categorical nulls with \"missing\" and fill continuous nulls with 0."
   ]
  },
  {
   "cell_type": "code",
   "execution_count": 41,
   "metadata": {},
   "outputs": [],
   "source": [
    "def missing_session_data_cat(feature):\n",
    "    return df[feature].fillna(\"missing\")\n",
    "\n",
    "def missing_session_data_cont(feature):\n",
    "    return df[feature].fillna(0)\n",
    "\n",
    "session_features_cat = ['action','action_detail','action_type','device_type']\n",
    "session_features_cont = ['action_count','apple_device','desktop_device','mobile_device','tablet_device',\n",
    "                         'secs_elapsed_max','secs_elapsed_mean','secs_elapsed_median','secs_elapsed_min', 'secs_elapsed_sum', \n",
    "                         'session_length', 'short_pauses', 'long_pauses', 'day_pauses', 'unique_action_details', 'unique_action_types', \n",
    "                         'unique_actions','unique_device_types']\n",
    "\n",
    "for feature in session_features_cat:\n",
    "    df[feature] = missing_session_data_cat(feature)\n",
    "    \n",
    "for feature in session_features_cont:\n",
    "    df[feature] = missing_session_data_cont(feature)"
   ]
  },
  {
   "cell_type": "markdown",
   "metadata": {},
   "source": [
    "By doing so, we are able to eliminate most of the nulls."
   ]
  },
  {
   "cell_type": "code",
   "execution_count": 42,
   "metadata": {},
   "outputs": [
    {
     "data": {
      "text/plain": [
       "action                          0\n",
       "action_count                    0\n",
       "action_detail                   0\n",
       "action_type                     0\n",
       "affiliate_channel               0\n",
       "affiliate_provider              0\n",
       "age                        116866\n",
       "apple_device                    0\n",
       "country_destination         62096\n",
       "date_account_created            0\n",
       "day_pauses                      0\n",
       "desktop_device                  0\n",
       "device_type                     0\n",
       "first_affiliate_tracked      6085\n",
       "first_browser                   0\n",
       "first_device_type               0\n",
       "gender                          0\n",
       "id                              0\n",
       "language                        0\n",
       "long_pauses                     0\n",
       "mobile_device                   0\n",
       "secs_elapsed_max                0\n",
       "secs_elapsed_mean               0\n",
       "secs_elapsed_median             0\n",
       "secs_elapsed_min                0\n",
       "secs_elapsed_sum                0\n",
       "session_length                  0\n",
       "short_pauses                    0\n",
       "signup_app                      0\n",
       "signup_flow                     0\n",
       "signup_method                   0\n",
       "tablet_device                   0\n",
       "timestamp_first_active          0\n",
       "unique_action_details           0\n",
       "unique_action_types             0\n",
       "unique_actions                  0\n",
       "unique_device_types             0\n",
       "dtype: int64"
      ]
     },
     "execution_count": 42,
     "metadata": {},
     "output_type": "execute_result"
    }
   ],
   "source": [
    "df.isnull().sum()"
   ]
  },
  {
   "cell_type": "markdown",
   "metadata": {},
   "source": [
    "By doing so, we are able to eliminate most of the nulls."
   ]
  },
  {
   "cell_type": "code",
   "execution_count": 364,
   "metadata": {},
   "outputs": [],
   "source": [
    "# Group action_count into quartiles.\n",
    "# df['action_count_quartile'] = df.action_count.map(lambda x: 0 if x == 0 else (\n",
    "#                                                            1 if x <= 17 else (\n",
    "#                                                            2 if x <= 43 else (\n",
    "#                                                            3 if x <= 97 else 4))))"
   ]
  },
  {
   "cell_type": "markdown",
   "metadata": {},
   "source": [
    "### Users age feature"
   ]
  },
  {
   "cell_type": "code",
   "execution_count": 43,
   "metadata": {},
   "outputs": [
    {
     "data": {
      "text/plain": [
       "count    158681.000000\n",
       "mean         47.145310\n",
       "std         142.629468\n",
       "min           1.000000\n",
       "25%          28.000000\n",
       "50%          33.000000\n",
       "75%          42.000000\n",
       "max        2014.000000\n",
       "Name: age, dtype: float64"
      ]
     },
     "execution_count": 43,
     "metadata": {},
     "output_type": "execute_result"
    }
   ],
   "source": [
    "df[df.age.notnull()].age.describe()"
   ]
  },
  {
   "cell_type": "markdown",
   "metadata": {},
   "source": [
    "The maximum age is 2014, this is not possible. It seems that some users have filled a year instead of their age. Also the minimun age at 1 sounds rediculous. According to Airbnb's contract, users at the platform must be at least 18 years old. However, this is not enforced."
   ]
  },
  {
   "cell_type": "code",
   "execution_count": 44,
   "metadata": {},
   "outputs": [
    {
     "data": {
      "text/plain": [
       "count     828.000000\n",
       "mean     2007.117150\n",
       "std        22.219408\n",
       "min      1920.000000\n",
       "25%      2014.000000\n",
       "50%      2014.000000\n",
       "75%      2014.000000\n",
       "max      2014.000000\n",
       "Name: age, dtype: float64"
      ]
     },
     "execution_count": 44,
     "metadata": {},
     "output_type": "execute_result"
    }
   ],
   "source": [
    "df.loc[df['age'] > 1000]['age'].describe()"
   ]
  },
  {
   "cell_type": "code",
   "execution_count": 45,
   "metadata": {},
   "outputs": [
    {
     "data": {
      "text/plain": [
       "count    188.000000\n",
       "mean      12.718085\n",
       "std        5.764569\n",
       "min        1.000000\n",
       "25%        5.000000\n",
       "50%       16.000000\n",
       "75%       17.000000\n",
       "max       17.000000\n",
       "Name: age, dtype: float64"
      ]
     },
     "execution_count": 45,
     "metadata": {},
     "output_type": "execute_result"
    }
   ],
   "source": [
    "df.loc[df['age'] < 18]['age'].describe()"
   ]
  },
  {
   "cell_type": "markdown",
   "metadata": {},
   "source": [
    "So we first correct mistakenly filled the age."
   ]
  },
  {
   "cell_type": "code",
   "execution_count": 46,
   "metadata": {},
   "outputs": [],
   "source": [
    "df_with_year = df['age'] > 1000\n",
    "df.loc[df_with_year, 'age'] = 2015 - df.loc[df_with_year, 'age']"
   ]
  },
  {
   "cell_type": "code",
   "execution_count": 47,
   "metadata": {},
   "outputs": [
    {
     "data": {
      "text/plain": [
       "count    158681.000000\n",
       "mean         36.713274\n",
       "std          14.046364\n",
       "min           1.000000\n",
       "25%          28.000000\n",
       "50%          33.000000\n",
       "75%          42.000000\n",
       "max         150.000000\n",
       "Name: age, dtype: float64"
      ]
     },
     "execution_count": 47,
     "metadata": {},
     "output_type": "execute_result"
    }
   ],
   "source": [
    "df.age.describe()"
   ]
  },
  {
   "cell_type": "markdown",
   "metadata": {},
   "source": [
    "After that, the Maximum age at 150 were not realistic, we will set max limit at 90, and bring down to 90 for anyone who is over 90 years old."
   ]
  },
  {
   "cell_type": "code",
   "execution_count": 48,
   "metadata": {},
   "outputs": [],
   "source": [
    "df.loc[df.age > 90, 'age'] = 90"
   ]
  },
  {
   "cell_type": "code",
   "execution_count": 49,
   "metadata": {},
   "outputs": [
    {
     "name": "stderr",
     "output_type": "stream",
     "text": [
      "C:\\Users\\SusanLi\\AppData\\Local\\Continuum\\anaconda3\\lib\\site-packages\\scipy\\stats\\stats.py:1713: FutureWarning: Using a non-tuple sequence for multidimensional indexing is deprecated; use `arr[tuple(seq)]` instead of `arr[seq]`. In the future this will be interpreted as an array index, `arr[np.array(seq)]`, which will result either in an error or a different result.\n",
      "  return np.add.reduce(sorted[indexer] * weights, axis=axis) / sumval\n"
     ]
    },
    {
     "data": {
      "image/png": "[encoded data removed]",
      "text/plain": [
       "<matplotlib.figure.Figure at 0x27314570630>"
      ]
     },
     "metadata": {},
     "output_type": "display_data"
    }
   ],
   "source": [
    "import seaborn as sns\n",
    "\n",
    "plt.figure(figsize=(12,6))\n",
    "sns.distplot(df.age.dropna(), rug=True)\n",
    "sns.despine()"
   ]
  },
  {
   "cell_type": "markdown",
   "metadata": {},
   "source": [
    "As expected, the most common age of Airbnb users is between 25 and 40. There are still too many nulls in age column. We are going to set the missing values equal to the median at 33. Before doing that, we create a new column for age_group."
   ]
  },
  {
   "cell_type": "code",
   "execution_count": 50,
   "metadata": {},
   "outputs": [],
   "source": [
    "df['age_group'] = df.age.map(lambda x: 0 if math.isnan(x) else (\n",
    "                                       1 if x < 18 else (\n",
    "                                       2 if x <= 32 else (\n",
    "                                       3 if x <= 42 else 4))))"
   ]
  },
  {
   "cell_type": "code",
   "execution_count": 51,
   "metadata": {},
   "outputs": [],
   "source": [
    "df.age = df.age.fillna(33)"
   ]
  },
  {
   "cell_type": "markdown",
   "metadata": {},
   "source": [
    "### Users gender"
   ]
  },
  {
   "cell_type": "code",
   "execution_count": 52,
   "metadata": {},
   "outputs": [
    {
     "data": {
      "text/plain": [
       "-unknown-    129480\n",
       "FEMALE        77524\n",
       "MALE          68209\n",
       "OTHER           334\n",
       "Name: gender, dtype: int64"
      ]
     },
     "execution_count": 52,
     "metadata": {},
     "output_type": "execute_result"
    }
   ],
   "source": [
    "df.gender.value_counts()"
   ]
  },
  {
   "cell_type": "code",
   "execution_count": 54,
   "metadata": {},
   "outputs": [
    {
     "data": {
      "image/png": "[encoded data removed]",
      "text/plain": [
       "<matplotlib.figure.Figure at 0x2731550f470>"
      ]
     },
     "metadata": {},
     "output_type": "display_data"
    }
   ],
   "source": [
    "plt.figure(figsize=(12,6))\n",
    "sns.countplot(data=df, x='gender')\n",
    "plt.ylabel('Number of users')\n",
    "plt.title('Users gender distribution')\n",
    "sns.despine()"
   ]
  },
  {
   "cell_type": "markdown",
   "metadata": {},
   "source": [
    "Approx. 45% of users' gender were not presented. And there is no significant difference between female and male users on Airbnb's platform."
   ]
  },
  {
   "cell_type": "markdown",
   "metadata": {},
   "source": [
    "### Travel Destination Country\n",
    "\n",
    "This is what we will predict in the test data."
   ]
  },
  {
   "cell_type": "code",
   "execution_count": 58,
   "metadata": {},
   "outputs": [
    {
     "data": {
      "image/png": "[encoded data removed]",
      "text/plain": [
       "<matplotlib.figure.Figure at 0x27315503d30>"
      ]
     },
     "metadata": {},
     "output_type": "display_data"
    }
   ],
   "source": [
    "plt.figure(figsize=(12,6))\n",
    "sns.countplot(x='country_destination', data=df)\n",
    "plt.xlabel('Destination Country')\n",
    "plt.ylabel('Number of users')\n",
    "sns.despine()"
   ]
  },
  {
   "cell_type": "markdown",
   "metadata": {},
   "source": [
    "Nearly 60% of users did not book any destination (NDF). The most booked country is the US (nearly 30% of all users booked US), given all users in the data set are from the US. We can say that US travelers in the dataset are more likely to travel within the US."
   ]
  },
  {
   "cell_type": "markdown",
   "metadata": {},
   "source": [
    "### signup_method"
   ]
  },
  {
   "cell_type": "code",
   "execution_count": 61,
   "metadata": {},
   "outputs": [
    {
     "data": {
      "image/png": "[encoded data removed]",
      "text/plain": [
       "<matplotlib.figure.Figure at 0x27318b4e240>"
      ]
     },
     "metadata": {},
     "output_type": "display_data"
    }
   ],
   "source": [
    "plt.figure(figsize=(12,6))\n",
    "# df_without_NDF = df[df['country_destination']!='NDF']\n",
    "sns.countplot(x='signup_method', data = df)\n",
    "plt.xlabel('Method')\n",
    "plt.ylabel('Number of users')\n",
    "plt.title('Users sign up method distribution')\n",
    "sns.despine()"
   ]
  },
  {
   "cell_type": "markdown",
   "metadata": {},
   "source": [
    "Over 70% of all users in the data used basic email method to sign up with Airbnb, and less than 30% of bookers used their facebook account to sign up, approx. only 0.26% of the bookers in the data used their Google accounts to sign up."
   ]
  },
  {
   "cell_type": "code",
   "execution_count": 62,
   "metadata": {},
   "outputs": [
    {
     "data": {
      "image/png": "[encoded data removed]",
      "text/plain": [
       "<matplotlib.figure.Figure at 0x27318b4e5f8>"
      ]
     },
     "metadata": {},
     "output_type": "display_data"
    }
   ],
   "source": [
    "plt.figure(figsize=(12,6))\n",
    "df_without_NDF = df[df['country_destination']!='NDF']\n",
    "sns.countplot(x='country_destination', data = df_without_NDF, hue = 'signup_method')\n",
    "plt.xlabel('Destination Country')\n",
    "plt.ylabel('Number of users')\n",
    "plt.title('Users sign up method vs. destinations')\n",
    "sns.despine()"
   ]
  },
  {
   "cell_type": "markdown",
   "metadata": {},
   "source": [
    "For users who made booking at least once, most of them signed up with Airbnb through basic email method, no matter which country they were travelling to."
   ]
  },
  {
   "cell_type": "markdown",
   "metadata": {},
   "source": [
    "### signup_app"
   ]
  },
  {
   "cell_type": "code",
   "execution_count": 63,
   "metadata": {},
   "outputs": [
    {
     "data": {
      "image/png": "[encoded data removed]",
      "text/plain": [
       "<matplotlib.figure.Figure at 0x27323f31630>"
      ]
     },
     "metadata": {},
     "output_type": "display_data"
    }
   ],
   "source": [
    "plt.figure(figsize=(12,6))\n",
    "sns.countplot(x='signup_app', data=df)\n",
    "plt.xlabel('Signup app')\n",
    "plt.ylabel('Number of users')\n",
    "plt.title('Signup app distribution')\n",
    "sns.despine()"
   ]
  },
  {
   "cell_type": "markdown",
   "metadata": {},
   "source": [
    "Over 85% of all bookers in the data set signed up on Airbnb's website, over 10% of all bookers signed up with iOs."
   ]
  },
  {
   "cell_type": "code",
   "execution_count": 64,
   "metadata": {},
   "outputs": [
    {
     "data": {
      "image/png": "[encoded data removed]",
      "text/plain": [
       "<matplotlib.figure.Figure at 0x27323fc8780>"
      ]
     },
     "metadata": {},
     "output_type": "display_data"
    }
   ],
   "source": [
    "df_without_NDF_US = df_without_NDF[df_without_NDF['country_destination']!='US']\n",
    "plt.figure(figsize=(12,6))\n",
    "sns.countplot(x='country_destination', data=df_without_NDF_US, hue='signup_app')\n",
    "plt.xlabel('Destination Country')\n",
    "plt.ylabel('Number of users')\n",
    "plt.title('Destinatiuon country based on signup app without the US')\n",
    "sns.despine()"
   ]
  },
  {
   "cell_type": "markdown",
   "metadata": {},
   "source": [
    "Signing up through Airbnb website is the most common sign up on users no matter which destination country they travel to in the data."
   ]
  },
  {
   "cell_type": "markdown",
   "metadata": {},
   "source": [
    "### first_device_type"
   ]
  },
  {
   "cell_type": "code",
   "execution_count": 66,
   "metadata": {},
   "outputs": [
    {
     "data": {
      "image/png": "[encoded data removed]",
      "text/plain": [
       "<matplotlib.figure.Figure at 0x2731552d080>"
      ]
     },
     "metadata": {},
     "output_type": "display_data"
    }
   ],
   "source": [
    "plt.figure(figsize=(18,6))\n",
    "sns.countplot(x='first_device_type', data=df_without_NDF)\n",
    "plt.xlabel('First device type')\n",
    "plt.ylabel('Number of users')\n",
    "plt.title('First device type distribution')\n",
    "sns.despine()"
   ]
  },
  {
   "cell_type": "code",
   "execution_count": 67,
   "metadata": {},
   "outputs": [
    {
     "data": {
      "image/png": "[encoded data removed]",
      "text/plain": [
       "<matplotlib.figure.Figure at 0x273159ee390>"
      ]
     },
     "metadata": {},
     "output_type": "display_data"
    }
   ],
   "source": [
    "plt.figure(figsize=(18,6))\n",
    "sns.countplot(x='country_destination', data=df_without_NDF, hue='first_device_type')\n",
    "plt.ylabel('Number of users')\n",
    "plt.title('First device type vs. country destination')\n",
    "sns.despine()"
   ]
  },
  {
   "cell_type": "markdown",
   "metadata": {},
   "source": [
    "Around 60% of bookers use Apple devices. Particularly in the US."
   ]
  },
  {
   "cell_type": "code",
   "execution_count": 68,
   "metadata": {},
   "outputs": [
    {
     "data": {
      "image/png": "[encoded data removed]",
      "text/plain": [
       "<matplotlib.figure.Figure at 0x27315883128>"
      ]
     },
     "metadata": {},
     "output_type": "display_data"
    }
   ],
   "source": [
    "plt.figure(figsize=(18,6))\n",
    "sns.countplot(x='country_destination', data=df_without_NDF_US, hue='first_device_type')\n",
    "plt.ylabel('Number of users')\n",
    "plt.title('First device type vs. country destination without the US')\n",
    "sns.despine()"
   ]
  },
  {
   "cell_type": "markdown",
   "metadata": {},
   "source": [
    "However, outside of the US, Windows descktop is far more common, in particular, there was little usage difference between Mac desktop and Windows desktop in Canada and Australia."
   ]
  },
  {
   "cell_type": "markdown",
   "metadata": {},
   "source": [
    "### Users preferred language"
   ]
  },
  {
   "cell_type": "code",
   "execution_count": 69,
   "metadata": {},
   "outputs": [
    {
     "data": {
      "image/png": "[encoded data removed]",
      "text/plain": [
       "<matplotlib.figure.Figure at 0x27318b6b2b0>"
      ]
     },
     "metadata": {},
     "output_type": "display_data"
    }
   ],
   "source": [
    "plt.figure(figsize=(12,6))\n",
    "sns.countplot(x='language', data=df_without_NDF)\n",
    "plt.xlabel('language')\n",
    "plt.ylabel('Number of users')\n",
    "plt.title('Users language distribution')\n",
    "sns.despine()"
   ]
  },
  {
   "cell_type": "code",
   "execution_count": 70,
   "metadata": {},
   "outputs": [
    {
     "data": {
      "image/png": "[encoded data removed]",
      "text/plain": [
       "<matplotlib.figure.Figure at 0x2732407e588>"
      ]
     },
     "metadata": {},
     "output_type": "display_data"
    }
   ],
   "source": [
    "plt.figure(figsize=(12,6))\n",
    "sns.countplot(x='language', data=df_without_NDF_US)\n",
    "plt.xlabel('language')\n",
    "plt.ylabel('Number of users')\n",
    "plt.title('Users language distribution without the US')\n",
    "sns.despine()"
   ]
  },
  {
   "cell_type": "markdown",
   "metadata": {},
   "source": [
    "Even without the US, English is still the most preferred langauge, interestingly, Chinese is the 2nd most preferred languages for bookers."
   ]
  },
  {
   "cell_type": "markdown",
   "metadata": {},
   "source": [
    "### Date time features\n",
    "\n",
    "Cast date columns to the correct data type and check to see they make sense."
   ]
  },
  {
   "cell_type": "code",
   "execution_count": 71,
   "metadata": {},
   "outputs": [
    {
     "name": "stdout",
     "output_type": "stream",
     "text": [
      "2009-03-19 00:00:00\n",
      "2014-09-30 00:00:00\n",
      "---\n",
      "2010-01-01 00:00:00\n",
      "2014-09-30 00:00:00\n"
     ]
    }
   ],
   "source": [
    "df['date_account_created'] = pd.to_datetime(df['date_account_created'])\n",
    "df['timestamp_first_active'] = pd.to_datetime((df.timestamp_first_active // 1000000), format='%Y%m%d')\n",
    "\n",
    "print(df.timestamp_first_active.min())\n",
    "print(df.timestamp_first_active.max())\n",
    "print('---')\n",
    "print(df.date_account_created.min())\n",
    "print(df.date_account_created.max())"
   ]
  },
  {
   "cell_type": "code",
   "execution_count": 72,
   "metadata": {},
   "outputs": [
    {
     "data": {
      "image/png": "[encoded data removed]",
      "text/plain": [
       "<matplotlib.figure.Figure at 0x273159844e0>"
      ]
     },
     "metadata": {},
     "output_type": "display_data"
    }
   ],
   "source": [
    "plt.figure(figsize=(12,6))\n",
    "df.timestamp_first_active.value_counts().plot(kind='line', linewidth=1.2)\n",
    "plt.xlabel('Date')\n",
    "plt.title('First active date over time')\n",
    "sns.despine()"
   ]
  },
  {
   "cell_type": "code",
   "execution_count": 73,
   "metadata": {},
   "outputs": [
    {
     "data": {
      "image/png": "[encoded data removed]",
      "text/plain": [
       "<matplotlib.figure.Figure at 0x27318b9bb70>"
      ]
     },
     "metadata": {},
     "output_type": "display_data"
    }
   ],
   "source": [
    "plt.figure(figsize=(12,6))\n",
    "df.date_account_created.value_counts().plot(kind='line', linewidth=1.2)\n",
    "plt.xlabel('Date')\n",
    "plt.title('New account created over time')\n",
    "sns.despine()"
   ]
  },
  {
   "cell_type": "markdown",
   "metadata": {},
   "source": [
    "The pattern looks very similar between date account created and date first active, as it shoule be. From these two plots, we can see how fast Airbnb has grown since 2014."
   ]
  },
  {
   "cell_type": "markdown",
   "metadata": {},
   "source": [
    "### US Holidays"
   ]
  },
  {
   "cell_type": "code",
   "execution_count": 74,
   "metadata": {},
   "outputs": [],
   "source": [
    "calendar = USFederalHolidayCalendar()\n",
    "# Set holidays equal to the holidays in our date range.\n",
    "holidays = calendar.holidays(start = df.timestamp_first_active.min(), \n",
    "                             end = df.timestamp_first_active.max())\n",
    "\n",
    "# us_bd contains more years of information than we need.\n",
    "us_bd = CustomBusinessDay(calendar = USFederalHolidayCalendar())\n",
    "# Set business_days equal to the work days in our date range.\n",
    "business_days = pd.DatetimeIndex(start = df.timestamp_first_active.min(), \n",
    "                                 end = df.timestamp_first_active.max(), \n",
    "                                 freq = us_bd)"
   ]
  },
  {
   "cell_type": "markdown",
   "metadata": {},
   "source": [
    "Create new date time features such as year, month, day of week, is business day, and is holiday."
   ]
  },
  {
   "cell_type": "code",
   "execution_count": 75,
   "metadata": {},
   "outputs": [],
   "source": [
    "df['year_account_created'] = df.date_account_created.dt.year\n",
    "df['month_account_created'] = df.date_account_created.dt.month\n",
    "df['weekday_account_created'] = df.date_account_created.dt.weekday\n",
    "df['business_day_account_created'] = df.date_account_created.isin(business_days)\n",
    "df['business_day_account_created'] = df.business_day_account_created.map(lambda x: 1 if x == True else 0)\n",
    "df['holiday_account_created'] = df.date_account_created.isin(holidays)\n",
    "df['holiday_account_created'] = df.holiday_account_created.map(lambda x: 1 if x == True else 0)\n",
    "\n",
    "df['year_first_active'] = df.timestamp_first_active.dt.year\n",
    "df['month_first_active'] = df.timestamp_first_active.dt.month\n",
    "df['weekday_first_active'] = df.timestamp_first_active.dt.weekday\n",
    "df['business_day_first_active'] = df.timestamp_first_active.isin(business_days)\n",
    "df['business_day_first_active'] = df.business_day_first_active.map(lambda x: 1 if x == True else 0)\n",
    "df['holiday_first_active'] = df.timestamp_first_active.isin(holidays)\n",
    "df['holiday_first_active'] = df.holiday_first_active.map(lambda x: 1 if x == True else 0)\n",
    "\n",
    "# Drop unneeded features\n",
    "df = df.drop([\"timestamp_first_active\",\"date_account_created\"], axis = 1)"
   ]
  },
  {
   "cell_type": "code",
   "execution_count": 76,
   "metadata": {},
   "outputs": [
    {
     "data": {
      "text/html": [
       "<div>\n",
       "<style scoped>\n",
       "    .dataframe tbody tr th:only-of-type {\n",
       "        vertical-align: middle;\n",
       "    }\n",
       "\n",
       "    .dataframe tbody tr th {\n",
       "        vertical-align: top;\n",
       "    }\n",
       "\n",
       "    .dataframe thead th {\n",
       "        text-align: right;\n",
       "    }\n",
       "</style>\n",
       "<table border=\"1\" class=\"dataframe\">\n",
       "  <thead>\n",
       "    <tr style=\"text-align: right;\">\n",
       "      <th></th>\n",
       "      <th>action</th>\n",
       "      <th>action_count</th>\n",
       "      <th>action_detail</th>\n",
       "      <th>action_type</th>\n",
       "      <th>affiliate_channel</th>\n",
       "      <th>affiliate_provider</th>\n",
       "      <th>age</th>\n",
       "      <th>apple_device</th>\n",
       "      <th>country_destination</th>\n",
       "      <th>day_pauses</th>\n",
       "      <th>...</th>\n",
       "      <th>year_account_created</th>\n",
       "      <th>month_account_created</th>\n",
       "      <th>weekday_account_created</th>\n",
       "      <th>business_day_account_created</th>\n",
       "      <th>holiday_account_created</th>\n",
       "      <th>year_first_active</th>\n",
       "      <th>month_first_active</th>\n",
       "      <th>weekday_first_active</th>\n",
       "      <th>business_day_first_active</th>\n",
       "      <th>holiday_first_active</th>\n",
       "    </tr>\n",
       "  </thead>\n",
       "  <tbody>\n",
       "    <tr>\n",
       "      <th>0</th>\n",
       "      <td>show</td>\n",
       "      <td>127.0</td>\n",
       "      <td>p3</td>\n",
       "      <td>view</td>\n",
       "      <td>sem-non-brand</td>\n",
       "      <td>google</td>\n",
       "      <td>62.0</td>\n",
       "      <td>0.0</td>\n",
       "      <td>other</td>\n",
       "      <td>11.0</td>\n",
       "      <td>...</td>\n",
       "      <td>2014</td>\n",
       "      <td>1</td>\n",
       "      <td>2</td>\n",
       "      <td>0</td>\n",
       "      <td>1</td>\n",
       "      <td>2014</td>\n",
       "      <td>1</td>\n",
       "      <td>2</td>\n",
       "      <td>0</td>\n",
       "      <td>1</td>\n",
       "    </tr>\n",
       "    <tr>\n",
       "      <th>1</th>\n",
       "      <td>show</td>\n",
       "      <td>9.0</td>\n",
       "      <td>p3</td>\n",
       "      <td>view</td>\n",
       "      <td>direct</td>\n",
       "      <td>direct</td>\n",
       "      <td>33.0</td>\n",
       "      <td>1.0</td>\n",
       "      <td>NDF</td>\n",
       "      <td>1.0</td>\n",
       "      <td>...</td>\n",
       "      <td>2014</td>\n",
       "      <td>1</td>\n",
       "      <td>2</td>\n",
       "      <td>0</td>\n",
       "      <td>1</td>\n",
       "      <td>2014</td>\n",
       "      <td>1</td>\n",
       "      <td>2</td>\n",
       "      <td>0</td>\n",
       "      <td>1</td>\n",
       "    </tr>\n",
       "    <tr>\n",
       "      <th>2</th>\n",
       "      <td>create</td>\n",
       "      <td>16.0</td>\n",
       "      <td>-unknown-</td>\n",
       "      <td>-unknown-</td>\n",
       "      <td>sem-brand</td>\n",
       "      <td>google</td>\n",
       "      <td>33.0</td>\n",
       "      <td>0.0</td>\n",
       "      <td>NDF</td>\n",
       "      <td>4.0</td>\n",
       "      <td>...</td>\n",
       "      <td>2014</td>\n",
       "      <td>1</td>\n",
       "      <td>2</td>\n",
       "      <td>0</td>\n",
       "      <td>1</td>\n",
       "      <td>2014</td>\n",
       "      <td>1</td>\n",
       "      <td>2</td>\n",
       "      <td>0</td>\n",
       "      <td>1</td>\n",
       "    </tr>\n",
       "    <tr>\n",
       "      <th>3</th>\n",
       "      <td>ajax_refresh_subtotal</td>\n",
       "      <td>152.0</td>\n",
       "      <td>change_trip_characteristics</td>\n",
       "      <td>click</td>\n",
       "      <td>direct</td>\n",
       "      <td>direct</td>\n",
       "      <td>33.0</td>\n",
       "      <td>0.0</td>\n",
       "      <td>NDF</td>\n",
       "      <td>11.0</td>\n",
       "      <td>...</td>\n",
       "      <td>2014</td>\n",
       "      <td>1</td>\n",
       "      <td>2</td>\n",
       "      <td>0</td>\n",
       "      <td>1</td>\n",
       "      <td>2014</td>\n",
       "      <td>1</td>\n",
       "      <td>2</td>\n",
       "      <td>0</td>\n",
       "      <td>1</td>\n",
       "    </tr>\n",
       "    <tr>\n",
       "      <th>4</th>\n",
       "      <td>index</td>\n",
       "      <td>8.0</td>\n",
       "      <td>-unknown-</td>\n",
       "      <td>-unknown-</td>\n",
       "      <td>direct</td>\n",
       "      <td>direct</td>\n",
       "      <td>33.0</td>\n",
       "      <td>1.0</td>\n",
       "      <td>GB</td>\n",
       "      <td>0.0</td>\n",
       "      <td>...</td>\n",
       "      <td>2014</td>\n",
       "      <td>1</td>\n",
       "      <td>2</td>\n",
       "      <td>0</td>\n",
       "      <td>1</td>\n",
       "      <td>2014</td>\n",
       "      <td>1</td>\n",
       "      <td>2</td>\n",
       "      <td>0</td>\n",
       "      <td>1</td>\n",
       "    </tr>\n",
       "  </tbody>\n",
       "</table>\n",
       "<p>5 rows × 46 columns</p>\n",
       "</div>"
      ],
      "text/plain": [
       "                  action  action_count                action_detail  \\\n",
       "0                   show         127.0                           p3   \n",
       "1                   show           9.0                           p3   \n",
       "2                 create          16.0                    -unknown-   \n",
       "3  ajax_refresh_subtotal         152.0  change_trip_characteristics   \n",
       "4                  index           8.0                    -unknown-   \n",
       "\n",
       "  action_type affiliate_channel affiliate_provider   age  apple_device  \\\n",
       "0        view     sem-non-brand             google  62.0           0.0   \n",
       "1        view            direct             direct  33.0           1.0   \n",
       "2   -unknown-         sem-brand             google  33.0           0.0   \n",
       "3       click            direct             direct  33.0           0.0   \n",
       "4   -unknown-            direct             direct  33.0           1.0   \n",
       "\n",
       "  country_destination  day_pauses          ...           year_account_created  \\\n",
       "0               other        11.0          ...                           2014   \n",
       "1                 NDF         1.0          ...                           2014   \n",
       "2                 NDF         4.0          ...                           2014   \n",
       "3                 NDF        11.0          ...                           2014   \n",
       "4                  GB         0.0          ...                           2014   \n",
       "\n",
       "  month_account_created weekday_account_created business_day_account_created  \\\n",
       "0                     1                       2                            0   \n",
       "1                     1                       2                            0   \n",
       "2                     1                       2                            0   \n",
       "3                     1                       2                            0   \n",
       "4                     1                       2                            0   \n",
       "\n",
       "  holiday_account_created year_first_active month_first_active  \\\n",
       "0                       1              2014                  1   \n",
       "1                       1              2014                  1   \n",
       "2                       1              2014                  1   \n",
       "3                       1              2014                  1   \n",
       "4                       1              2014                  1   \n",
       "\n",
       "  weekday_first_active  business_day_first_active  holiday_first_active  \n",
       "0                    2                          0                     1  \n",
       "1                    2                          0                     1  \n",
       "2                    2                          0                     1  \n",
       "3                    2                          0                     1  \n",
       "4                    2                          0                     1  \n",
       "\n",
       "[5 rows x 46 columns]"
      ]
     },
     "execution_count": 76,
     "metadata": {},
     "output_type": "execute_result"
    }
   ],
   "source": [
    "df.head()"
   ]
  },
  {
   "cell_type": "code",
   "execution_count": 388,
   "metadata": {},
   "outputs": [],
   "source": [
    "# Set nulls values equal to one less than the minimum.\n",
    "# I could set the nulls to 0, but the scale would be ugly when we normalize the features.\n",
    "# df.year_first_booking = df.year_first_booking.fillna(min(df.year_first_booking) - 1)\n",
    "# df.month_first_booking = df.month_first_booking.fillna(min(df.month_first_booking) - 1)\n",
    "# df.weekday_first_booking += 1\n",
    "# df.weekday_first_booking = df.weekday_first_booking.fillna(0)"
   ]
  },
  {
   "cell_type": "code",
   "execution_count": 77,
   "metadata": {},
   "outputs": [
    {
     "data": {
      "text/plain": [
       "action                              0\n",
       "action_count                        0\n",
       "action_detail                       0\n",
       "action_type                         0\n",
       "affiliate_channel                   0\n",
       "affiliate_provider                  0\n",
       "age                                 0\n",
       "apple_device                        0\n",
       "country_destination             62096\n",
       "day_pauses                          0\n",
       "desktop_device                      0\n",
       "device_type                         0\n",
       "first_affiliate_tracked          6085\n",
       "first_browser                       0\n",
       "first_device_type                   0\n",
       "gender                              0\n",
       "id                                  0\n",
       "language                            0\n",
       "long_pauses                         0\n",
       "mobile_device                       0\n",
       "secs_elapsed_max                    0\n",
       "secs_elapsed_mean                   0\n",
       "secs_elapsed_median                 0\n",
       "secs_elapsed_min                    0\n",
       "secs_elapsed_sum                    0\n",
       "session_length                      0\n",
       "short_pauses                        0\n",
       "signup_app                          0\n",
       "signup_flow                         0\n",
       "signup_method                       0\n",
       "tablet_device                       0\n",
       "unique_action_details               0\n",
       "unique_action_types                 0\n",
       "unique_actions                      0\n",
       "unique_device_types                 0\n",
       "age_group                           0\n",
       "year_account_created                0\n",
       "month_account_created               0\n",
       "weekday_account_created             0\n",
       "business_day_account_created        0\n",
       "holiday_account_created             0\n",
       "year_first_active                   0\n",
       "month_first_active                  0\n",
       "weekday_first_active                0\n",
       "business_day_first_active           0\n",
       "holiday_first_active                0\n",
       "dtype: int64"
      ]
     },
     "execution_count": 77,
     "metadata": {},
     "output_type": "execute_result"
    }
   ],
   "source": [
    "df.isnull().sum()"
   ]
  },
  {
   "cell_type": "markdown",
   "metadata": {},
   "source": [
    "### first_affiliate_tracked"
   ]
  },
  {
   "cell_type": "code",
   "execution_count": 78,
   "metadata": {},
   "outputs": [
    {
     "data": {
      "text/plain": [
       "untracked        143181\n",
       "linked            62064\n",
       "omg               54859\n",
       "tracked-other      6655\n",
       "product            2353\n",
       "marketing           281\n",
       "local ops            69\n",
       "Name: first_affiliate_tracked, dtype: int64"
      ]
     },
     "execution_count": 78,
     "metadata": {},
     "output_type": "execute_result"
    }
   ],
   "source": [
    "df['first_affiliate_tracked'].value_counts()"
   ]
  },
  {
   "cell_type": "markdown",
   "metadata": {},
   "source": [
    "Set the missing values for \"first_affiliate_tracked\" to \"untracked\"."
   ]
  },
  {
   "cell_type": "code",
   "execution_count": 79,
   "metadata": {},
   "outputs": [],
   "source": [
    "df.first_affiliate_tracked = df.first_affiliate_tracked.fillna(\"untracked\")"
   ]
  },
  {
   "cell_type": "code",
   "execution_count": 80,
   "metadata": {},
   "outputs": [
    {
     "data": {
      "text/plain": [
       "action                              0\n",
       "action_count                        0\n",
       "action_detail                       0\n",
       "action_type                         0\n",
       "affiliate_channel                   0\n",
       "affiliate_provider                  0\n",
       "age                                 0\n",
       "apple_device                        0\n",
       "country_destination             62096\n",
       "day_pauses                          0\n",
       "desktop_device                      0\n",
       "device_type                         0\n",
       "first_affiliate_tracked             0\n",
       "first_browser                       0\n",
       "first_device_type                   0\n",
       "gender                              0\n",
       "id                                  0\n",
       "language                            0\n",
       "long_pauses                         0\n",
       "mobile_device                       0\n",
       "secs_elapsed_max                    0\n",
       "secs_elapsed_mean                   0\n",
       "secs_elapsed_median                 0\n",
       "secs_elapsed_min                    0\n",
       "secs_elapsed_sum                    0\n",
       "session_length                      0\n",
       "short_pauses                        0\n",
       "signup_app                          0\n",
       "signup_flow                         0\n",
       "signup_method                       0\n",
       "tablet_device                       0\n",
       "unique_action_details               0\n",
       "unique_action_types                 0\n",
       "unique_actions                      0\n",
       "unique_device_types                 0\n",
       "age_group                           0\n",
       "year_account_created                0\n",
       "month_account_created               0\n",
       "weekday_account_created             0\n",
       "business_day_account_created        0\n",
       "holiday_account_created             0\n",
       "year_first_active                   0\n",
       "month_first_active                  0\n",
       "weekday_first_active                0\n",
       "business_day_first_active           0\n",
       "holiday_first_active                0\n",
       "dtype: int64"
      ]
     },
     "execution_count": 80,
     "metadata": {},
     "output_type": "execute_result"
    }
   ],
   "source": [
    "df.isnull().sum()"
   ]
  },
  {
   "cell_type": "markdown",
   "metadata": {},
   "source": [
    "The null values in 'country_destination' belong to the testing data. Now let's explore the categorical features that might have too many values and reduce that number before we do one-hot encoding."
   ]
  },
  {
   "cell_type": "markdown",
   "metadata": {},
   "source": [
    "#### first_browser_value_count"
   ]
  },
  {
   "cell_type": "code",
   "execution_count": 81,
   "metadata": {},
   "outputs": [
    {
     "data": {
      "text/plain": [
       "Chrome                  78671\n",
       "Safari                  53302\n",
       "-unknown-               44394\n",
       "Firefox                 38665\n",
       "Mobile Safari           29636\n",
       "IE                      24744\n",
       "Chrome Mobile            3186\n",
       "Android Browser          1577\n",
       "AOL Explorer              254\n",
       "Opera                     228\n",
       "Silk                      172\n",
       "IE Mobile                 118\n",
       "BlackBerry Browser         89\n",
       "Chromium                   83\n",
       "Mobile Firefox             64\n",
       "Maxthon                    60\n",
       "Apple Mail                 45\n",
       "Sogou Explorer             43\n",
       "SiteKiosk                  27\n",
       "RockMelt                   24\n",
       "Iron                       24\n",
       "IceWeasel                  14\n",
       "Yandex.Browser             14\n",
       "Pale Moon                  13\n",
       "CometBird                  12\n",
       "SeaMonkey                  12\n",
       "Camino                      9\n",
       "TenFourFox                  8\n",
       "Opera Mini                  8\n",
       "wOSBrowser                  7\n",
       "CoolNovo                    6\n",
       "Opera Mobile                4\n",
       "Avant Browser               4\n",
       "Mozilla                     3\n",
       "Crazy Browser               2\n",
       "Comodo Dragon               2\n",
       "OmniWeb                     2\n",
       "SlimBrowser                 2\n",
       "Flock                       2\n",
       "TheWorld Browser            2\n",
       "IceDragon                   1\n",
       "Google Earth                1\n",
       "Epic                        1\n",
       "Nintendo Browser            1\n",
       "Googlebot                   1\n",
       "Conkeror                    1\n",
       "Palm Pre web browser        1\n",
       "Kindle Browser              1\n",
       "Arora                       1\n",
       "NetNewsWire                 1\n",
       "PS Vita browser             1\n",
       "UC Browser                  1\n",
       "IBrowse                     1\n",
       "Outlook 2007                1\n",
       "Stainless                   1\n",
       "Name: first_browser, dtype: int64"
      ]
     },
     "execution_count": 81,
     "metadata": {},
     "output_type": "execute_result"
    }
   ],
   "source": [
    "df.first_browser.value_counts()"
   ]
  },
  {
   "cell_type": "code",
   "execution_count": 82,
   "metadata": {},
   "outputs": [
    {
     "data": {
      "text/plain": [
       "Chrome       78671\n",
       "Safari       53302\n",
       "-unknown-    44394\n",
       "Firefox      38665\n",
       "Mobile       34581\n",
       "IE           24744\n",
       "Other         1190\n",
       "Name: first_browser, dtype: int64"
      ]
     },
     "execution_count": 82,
     "metadata": {},
     "output_type": "execute_result"
    }
   ],
   "source": [
    "# Create a new feature for those using mobile browsers\n",
    "mobile_browsers = ['Mobile Safari','Chrome Mobile','IE Mobile','Mobile Firefox','Android Browser']\n",
    "df.loc[df.first_browser.isin(mobile_browsers), \"first_browser\"] = \"Mobile\"\n",
    "# The cut_off is set at 2000. If a value is less than 2000, it will be grouped \"other\"\n",
    "cut_off = 2000\n",
    "\n",
    "other_browsers = []\n",
    "for browser, count in df.first_browser.value_counts().iteritems():\n",
    "    if count < cut_off:\n",
    "        other_browsers.append(browser)\n",
    "df.loc[df.first_browser.isin(other_browsers), \"first_browser\"] = \"Other\"\n",
    "df.first_browser.value_counts()"
   ]
  },
  {
   "cell_type": "markdown",
   "metadata": {},
   "source": [
    "#### language"
   ]
  },
  {
   "cell_type": "code",
   "execution_count": 83,
   "metadata": {},
   "outputs": [
    {
     "data": {
      "text/plain": [
       "en           265538\n",
       "zh             2634\n",
       "fr             1508\n",
       "es             1174\n",
       "ko             1116\n",
       "de              977\n",
       "it              633\n",
       "ru              508\n",
       "ja              345\n",
       "pt              322\n",
       "sv              176\n",
       "nl              134\n",
       "tr               92\n",
       "da               75\n",
       "pl               75\n",
       "no               51\n",
       "cs               49\n",
       "el               30\n",
       "th               28\n",
       "hu               25\n",
       "id               23\n",
       "fi               20\n",
       "ca                6\n",
       "is                5\n",
       "hr                2\n",
       "-unknown-         1\n",
       "Name: language, dtype: int64"
      ]
     },
     "execution_count": 83,
     "metadata": {},
     "output_type": "execute_result"
    }
   ],
   "source": [
    "df.language.value_counts()"
   ]
  },
  {
   "cell_type": "code",
   "execution_count": 84,
   "metadata": {},
   "outputs": [
    {
     "data": {
      "text/plain": [
       "en       265538\n",
       "zh         2634\n",
       "fr         1508\n",
       "es         1174\n",
       "ko         1116\n",
       "de          977\n",
       "Other       792\n",
       "it          633\n",
       "ru          508\n",
       "ja          345\n",
       "pt          322\n",
       "Name: language, dtype: int64"
      ]
     },
     "execution_count": 84,
     "metadata": {},
     "output_type": "execute_result"
    }
   ],
   "source": [
    "# I think that language might be a more important feature than some others, so I will decrease the cut off to 275, or 0.1% of the data.\n",
    "other_languages = []\n",
    "for language, count in df.language.value_counts().iteritems():\n",
    "    if count < 200:\n",
    "        other_languages.append(language)\n",
    "df.loc[df.language.isin(other_languages), \"language\"] = \"Other\"   \n",
    "df.language.value_counts()"
   ]
  },
  {
   "cell_type": "code",
   "execution_count": 85,
   "metadata": {},
   "outputs": [],
   "source": [
    "# New feature for languages that are not English.\n",
    "df['not_English'] = df.language.map(lambda x: 0 if x == 'en' else 1)"
   ]
  },
  {
   "cell_type": "markdown",
   "metadata": {},
   "source": [
    "#### action"
   ]
  },
  {
   "cell_type": "code",
   "execution_count": 86,
   "metadata": {},
   "outputs": [
    {
     "data": {
      "text/plain": [
       "missing                                         140064\n",
       "show                                             61611\n",
       "search_results                                   10368\n",
       "index                                             6493\n",
       "dashboard                                         5969\n",
       "search                                            5895\n",
       "active                                            5836\n",
       "update                                            5264\n",
       "create                                            4259\n",
       "requested                                         3574\n",
       "edit                                              2714\n",
       "authenticate                                      2277\n",
       "personalize                                       2256\n",
       "header_userpic                                    1981\n",
       "ajax_refresh_subtotal                             1851\n",
       "ask_question                                      1756\n",
       "identity                                          1269\n",
       "lookup                                            1236\n",
       "cancellation_policies                              745\n",
       "message                                            719\n",
       "track_page_view                                    614\n",
       "click                                              594\n",
       "confirm_email                                      552\n",
       "ajax_photo_widget_form_iframe                      542\n",
       "qt2                                                514\n",
       "ajax_check_dates                                   390\n",
       "notifications                                      325\n",
       "calendar_tab_inner2                                308\n",
       "message_to_host_focus                              307\n",
       "callback                                           289\n",
       "                                                 ...  \n",
       "ajax_price_and_availability                          2\n",
       "apply                                                2\n",
       "15                                                   2\n",
       "mobile_landing_page                                  2\n",
       "review_page                                          1\n",
       "top_destinations                                     1\n",
       "acculynk_pin_pad_inactive                            1\n",
       "show_personalize                                     1\n",
       "rate                                                 1\n",
       "ajax_worth                                           1\n",
       "my_listings                                          1\n",
       "badge                                                1\n",
       "remove_dashboard_alert                               1\n",
       "confirmation                                         1\n",
       "languages_multiselect                                1\n",
       "phone_verification_number_submitted_for_call         1\n",
       "new_session                                          1\n",
       "book                                                 1\n",
       "travel_plans_previous                                1\n",
       "other_hosting_reviews_first                          1\n",
       "home_safety_landing                                  1\n",
       "salute                                               1\n",
       "photography                                          1\n",
       "my                                                   1\n",
       "spoken_languages                                     1\n",
       "requirements                                         1\n",
       "concierge                                            1\n",
       "clickthrough                                         1\n",
       "ajax_referral_banner_type                            1\n",
       "view                                                 1\n",
       "Name: action, Length: 170, dtype: int64"
      ]
     },
     "execution_count": 86,
     "metadata": {},
     "output_type": "execute_result"
    }
   ],
   "source": [
    "df.action.value_counts()"
   ]
  },
  {
   "cell_type": "code",
   "execution_count": 87,
   "metadata": {},
   "outputs": [
    {
     "data": {
      "text/plain": [
       "missing           140064\n",
       "show               61611\n",
       "Other              18967\n",
       "search_results     10368\n",
       "index               6493\n",
       "dashboard           5969\n",
       "search              5895\n",
       "active              5836\n",
       "update              5264\n",
       "create              4259\n",
       "requested           3574\n",
       "edit                2714\n",
       "authenticate        2277\n",
       "personalize         2256\n",
       "Name: action, dtype: int64"
      ]
     },
     "execution_count": 87,
     "metadata": {},
     "output_type": "execute_result"
    }
   ],
   "source": [
    "other_actions = []\n",
    "for action, count in df.action.value_counts().iteritems():\n",
    "    if count < cut_off:\n",
    "        other_actions.append(action)\n",
    "df.loc[df.action.isin(other_actions), \"action\"] = \"Other\"\n",
    "df.action.value_counts()"
   ]
  },
  {
   "cell_type": "markdown",
   "metadata": {},
   "source": [
    "#### action_detail"
   ]
  },
  {
   "cell_type": "code",
   "execution_count": 88,
   "metadata": {},
   "outputs": [
    {
     "data": {
      "text/plain": [
       "missing                        140069\n",
       "-unknown-                       35037\n",
       "p3                              29387\n",
       "view_search_results             28491\n",
       "user_profile                    10037\n",
       "dashboard                        4893\n",
       "update_listing                   4463\n",
       "header_userpic                   2556\n",
       "p5                               2489\n",
       "create_user                      1991\n",
       "message_thread                   1633\n",
       "change_trip_characteristics      1598\n",
       "contact_host                     1399\n",
       "edit_profile                     1231\n",
       "wishlist_content_update          1031\n",
       "confirm_email_link                973\n",
       "message_post                      774\n",
       "cancellation_policies             742\n",
       "track_page_view                   627\n",
       "login                             559\n",
       "signup                            496\n",
       "lookup                            445\n",
       "similar_listings                  401\n",
       "listing_reviews                   326\n",
       "unavailable_dates                 299\n",
       "change_contact_host_dates         262\n",
       "book_it                           244\n",
       "user_wishlists                    234\n",
       "list_your_space                   233\n",
       "manage_listing                    231\n",
       "                                ...  \n",
       "view_listing                        7\n",
       "read_policy_click                   7\n",
       "previous_trips                      7\n",
       "set_password_page                   7\n",
       "listing_recommendations             6\n",
       "signup_modal                        5\n",
       "apply_coupon_click                  5\n",
       "view_reservations                   5\n",
       "forgot_password                     5\n",
       "account_payment_methods             5\n",
       "user_listings                       4\n",
       "account_privacy_settings            4\n",
       "cancellation_policy_click           3\n",
       "modify_reservations                 3\n",
       "user_profile_content_update         3\n",
       "your_reservations                   3\n",
       "login_modal                         3\n",
       "profile_reviews                     2\n",
       "change_or_alter                     2\n",
       "admin_templates                     2\n",
       "alteration_field                    2\n",
       "listing_descriptions                1\n",
       "guest_receipt                       1\n",
       "complete_booking                    1\n",
       "airbnb_picks_wishlists              1\n",
       "host_home                           1\n",
       "friends_wishlists                   1\n",
       "oauth_login                         1\n",
       "modify_users                        1\n",
       "payment_instruments                 1\n",
       "Name: action_detail, Length: 96, dtype: int64"
      ]
     },
     "execution_count": 88,
     "metadata": {},
     "output_type": "execute_result"
    }
   ],
   "source": [
    "df.action_detail.value_counts()"
   ]
  },
  {
   "cell_type": "code",
   "execution_count": 89,
   "metadata": {},
   "outputs": [
    {
     "data": {
      "text/plain": [
       "missing                140069\n",
       "-unknown-               35037\n",
       "p3                      29387\n",
       "view_search_results     28491\n",
       "Other                   18125\n",
       "user_profile            10037\n",
       "dashboard                4893\n",
       "update_listing           4463\n",
       "header_userpic           2556\n",
       "p5                       2489\n",
       "Name: action_detail, dtype: int64"
      ]
     },
     "execution_count": 89,
     "metadata": {},
     "output_type": "execute_result"
    }
   ],
   "source": [
    "other_action_details = []\n",
    "for action_detail, count in df.action_detail.value_counts().iteritems():\n",
    "    if count < cut_off:\n",
    "        other_action_details.append(action_detail)\n",
    "df.loc[df.action_detail.isin(other_action_details), \"action_detail\"] = \"Other\"\n",
    "df.action_detail.value_counts()"
   ]
  },
  {
   "cell_type": "markdown",
   "metadata": {},
   "source": [
    "#### action_type"
   ]
  },
  {
   "cell_type": "code",
   "execution_count": 90,
   "metadata": {},
   "outputs": [
    {
     "data": {
      "text/plain": [
       "missing             140070\n",
       "view                 76491\n",
       "click                18345\n",
       "-unknown-            17724\n",
       "data                 14750\n",
       "submit                6485\n",
       "message_post           998\n",
       "track_page_view        316\n",
       "partner_callback       134\n",
       "booking_request        123\n",
       "lookup                 109\n",
       "modify                   2\n",
       "Name: action_type, dtype: int64"
      ]
     },
     "execution_count": 90,
     "metadata": {},
     "output_type": "execute_result"
    }
   ],
   "source": [
    "df.action_type.value_counts()"
   ]
  },
  {
   "cell_type": "code",
   "execution_count": 91,
   "metadata": {},
   "outputs": [
    {
     "data": {
      "text/plain": [
       "missing      140070\n",
       "view          76491\n",
       "click         18345\n",
       "-unknown-     17724\n",
       "data          14750\n",
       "submit         6485\n",
       "Other          1682\n",
       "Name: action_type, dtype: int64"
      ]
     },
     "execution_count": 91,
     "metadata": {},
     "output_type": "execute_result"
    }
   ],
   "source": [
    "other_action_types = []\n",
    "for action_type, count in df.action_type.value_counts().iteritems():\n",
    "    if count < cut_off:\n",
    "        other_action_types.append(action_type)\n",
    "df.loc[df.action_type.isin(other_action_types), \"action_type\"] = \"Other\"\n",
    "df.action_type.value_counts()"
   ]
  },
  {
   "cell_type": "markdown",
   "metadata": {},
   "source": [
    "#### affiliate_provider"
   ]
  },
  {
   "cell_type": "code",
   "execution_count": 92,
   "metadata": {},
   "outputs": [
    {
     "data": {
      "text/plain": [
       "direct                 181270\n",
       "google                  65956\n",
       "other                   13036\n",
       "facebook                 3996\n",
       "bing                     3719\n",
       "craigslist               3475\n",
       "padmapper                 836\n",
       "vast                      830\n",
       "yahoo                     653\n",
       "facebook-open-graph       566\n",
       "gsp                       455\n",
       "meetup                    358\n",
       "email-marketing           270\n",
       "naver                      66\n",
       "baidu                      32\n",
       "yandex                     18\n",
       "wayn                        8\n",
       "daum                        3\n",
       "Name: affiliate_provider, dtype: int64"
      ]
     },
     "execution_count": 92,
     "metadata": {},
     "output_type": "execute_result"
    }
   ],
   "source": [
    "df.affiliate_provider.value_counts()"
   ]
  },
  {
   "cell_type": "code",
   "execution_count": 93,
   "metadata": {},
   "outputs": [
    {
     "data": {
      "text/plain": [
       "direct        181270\n",
       "google         65956\n",
       "other          17131\n",
       "facebook        3996\n",
       "bing            3719\n",
       "craigslist      3475\n",
       "Name: affiliate_provider, dtype: int64"
      ]
     },
     "execution_count": 93,
     "metadata": {},
     "output_type": "execute_result"
    }
   ],
   "source": [
    "other_affiliate_providers = []\n",
    "for affiliate_provider, count in df.affiliate_provider.value_counts().iteritems():\n",
    "    if count < cut_off:\n",
    "        other_affiliate_providers.append(affiliate_provider)\n",
    "df.loc[df.affiliate_provider.isin(other_affiliate_providers), \"affiliate_provider\"] = \"other\"\n",
    "df.affiliate_provider.value_counts()"
   ]
  },
  {
   "cell_type": "markdown",
   "metadata": {},
   "source": [
    "#### device_type"
   ]
  },
  {
   "cell_type": "code",
   "execution_count": 94,
   "metadata": {},
   "outputs": [
    {
     "data": {
      "text/plain": [
       "missing                             140064\n",
       "Mac Desktop                          44279\n",
       "Windows Desktop                      37224\n",
       "iPhone                               26567\n",
       "iPad Tablet                           8880\n",
       "Android Phone                         7670\n",
       "-unknown-                             5792\n",
       "Android App Unknown Phone/Tablet      2629\n",
       "Tablet                                1469\n",
       "Linux Desktop                          428\n",
       "Chromebook                             374\n",
       "iPodtouch                               86\n",
       "Windows Phone                           56\n",
       "Blackberry                              27\n",
       "Opera Phone                              2\n",
       "Name: device_type, dtype: int64"
      ]
     },
     "execution_count": 94,
     "metadata": {},
     "output_type": "execute_result"
    }
   ],
   "source": [
    "df.device_type.value_counts()"
   ]
  },
  {
   "cell_type": "code",
   "execution_count": 95,
   "metadata": {},
   "outputs": [
    {
     "data": {
      "text/plain": [
       "missing                             140064\n",
       "Mac Desktop                          44279\n",
       "Windows Desktop                      37224\n",
       "iPhone                               26567\n",
       "iPad Tablet                           8880\n",
       "Android Phone                         7670\n",
       "-unknown-                             5792\n",
       "Android App Unknown Phone/Tablet      2629\n",
       "Other                                 2442\n",
       "Name: device_type, dtype: int64"
      ]
     },
     "execution_count": 95,
     "metadata": {},
     "output_type": "execute_result"
    }
   ],
   "source": [
    "other_device_types = []\n",
    "for device_type, count in df.device_type.value_counts().iteritems():\n",
    "    if count < cut_off:\n",
    "        other_device_types.append(device_type)\n",
    "df.loc[df.device_type.isin(other_device_types), \"device_type\"] = \"Other\"\n",
    "df.device_type.value_counts()"
   ]
  },
  {
   "cell_type": "code",
   "execution_count": 96,
   "metadata": {},
   "outputs": [
    {
     "data": {
      "text/plain": [
       "basic       198222\n",
       "facebook     74864\n",
       "google        2438\n",
       "weibo           23\n",
       "Name: signup_method, dtype: int64"
      ]
     },
     "execution_count": 96,
     "metadata": {},
     "output_type": "execute_result"
    }
   ],
   "source": [
    "df.signup_method.value_counts()"
   ]
  },
  {
   "cell_type": "code",
   "execution_count": 97,
   "metadata": {},
   "outputs": [],
   "source": [
    "labels = pd.DataFrame(df.country_destination)\n",
    "df = df.drop(\"country_destination\", axis = 1)"
   ]
  },
  {
   "cell_type": "code",
   "execution_count": 98,
   "metadata": {},
   "outputs": [
    {
     "data": {
      "text/html": [
       "<div>\n",
       "<style scoped>\n",
       "    .dataframe tbody tr th:only-of-type {\n",
       "        vertical-align: middle;\n",
       "    }\n",
       "\n",
       "    .dataframe tbody tr th {\n",
       "        vertical-align: top;\n",
       "    }\n",
       "\n",
       "    .dataframe thead th {\n",
       "        text-align: right;\n",
       "    }\n",
       "</style>\n",
       "<table border=\"1\" class=\"dataframe\">\n",
       "  <thead>\n",
       "    <tr style=\"text-align: right;\">\n",
       "      <th></th>\n",
       "      <th>country_destination</th>\n",
       "    </tr>\n",
       "  </thead>\n",
       "  <tbody>\n",
       "    <tr>\n",
       "      <th>0</th>\n",
       "      <td>other</td>\n",
       "    </tr>\n",
       "    <tr>\n",
       "      <th>1</th>\n",
       "      <td>NDF</td>\n",
       "    </tr>\n",
       "    <tr>\n",
       "      <th>2</th>\n",
       "      <td>NDF</td>\n",
       "    </tr>\n",
       "    <tr>\n",
       "      <th>3</th>\n",
       "      <td>NDF</td>\n",
       "    </tr>\n",
       "    <tr>\n",
       "      <th>4</th>\n",
       "      <td>GB</td>\n",
       "    </tr>\n",
       "  </tbody>\n",
       "</table>\n",
       "</div>"
      ],
      "text/plain": [
       "  country_destination\n",
       "0               other\n",
       "1                 NDF\n",
       "2                 NDF\n",
       "3                 NDF\n",
       "4                  GB"
      ]
     },
     "execution_count": 98,
     "metadata": {},
     "output_type": "execute_result"
    }
   ],
   "source": [
    "labels.head()"
   ]
  },
  {
   "cell_type": "code",
   "execution_count": 99,
   "metadata": {},
   "outputs": [],
   "source": [
    "df.drop('id', axis=1, inplace=True)"
   ]
  },
  {
   "cell_type": "code",
   "execution_count": 100,
   "metadata": {},
   "outputs": [
    {
     "name": "stdout",
     "output_type": "stream",
     "text": [
      "['action', 'action_detail', 'action_type', 'affiliate_channel', 'affiliate_provider', 'device_type', 'first_affiliate_tracked', 'first_browser', 'first_device_type', 'gender', 'language', 'signup_app', 'signup_method']\n",
      "---\n",
      "['action_count', 'age', 'apple_device', 'day_pauses', 'desktop_device', 'long_pauses', 'mobile_device', 'secs_elapsed_max', 'secs_elapsed_mean', 'secs_elapsed_median', 'secs_elapsed_min', 'secs_elapsed_sum', 'session_length', 'short_pauses', 'tablet_device', 'unique_action_details', 'unique_action_types', 'unique_actions', 'unique_device_types']\n",
      "---\n",
      "32\n",
      "45\n"
     ]
    }
   ],
   "source": [
    "# Group all features as either continuous (cont) or categorical (cat)\n",
    "cont_features = []\n",
    "cat_features = []\n",
    "\n",
    "for feature in df.columns:\n",
    "    if df[feature].dtype == float or df[feature].dtype == int:\n",
    "        cont_features.append(feature)\n",
    "    elif df[feature].dtype == object:\n",
    "        cat_features.append(feature)\n",
    "\n",
    "# Check to ensure that we have all of the features\n",
    "print(cat_features)\n",
    "print('---')\n",
    "print(cont_features)\n",
    "print('---')\n",
    "print(len(cat_features) + len(cont_features))\n",
    "print(df.shape[1])"
   ]
  },
  {
   "cell_type": "markdown",
   "metadata": {},
   "source": [
    "Create dummy variables for each categorical feature"
   ]
  },
  {
   "cell_type": "code",
   "execution_count": 101,
   "metadata": {},
   "outputs": [
    {
     "name": "stdout",
     "output_type": "stream",
     "text": [
      "action is complete\n",
      "action_detail is complete\n",
      "action_type is complete\n",
      "affiliate_channel is complete\n",
      "affiliate_provider is complete\n",
      "device_type is complete\n",
      "first_affiliate_tracked is complete\n",
      "first_browser is complete\n",
      "first_device_type is complete\n",
      "gender is complete\n",
      "language is complete\n",
      "signup_app is complete\n",
      "signup_method is complete\n"
     ]
    }
   ],
   "source": [
    "for feature in cat_features:\n",
    "    # Create dummies of each value of a categorical feature\n",
    "    dummies = pd.get_dummies(df[feature], prefix = feature, drop_first = False)\n",
    "    # Drop the unneeded feature\n",
    "    df = df.drop(feature, axis = 1)\n",
    "    df = pd.concat([df, dummies], axis=1)\n",
    "    print(\"{} is complete\".format(feature))"
   ]
  },
  {
   "cell_type": "markdown",
   "metadata": {},
   "source": [
    "Preprocessing continuous variables"
   ]
  },
  {
   "cell_type": "code",
   "execution_count": 102,
   "metadata": {},
   "outputs": [],
   "source": [
    "min_max_scaler = preprocessing.MinMaxScaler()\n",
    "# Normalize the continuous features\n",
    "for feature in cont_features:\n",
    "    df.loc[:,feature] = min_max_scaler.fit_transform(df[[feature]])"
   ]
  },
  {
   "cell_type": "code",
   "execution_count": 103,
   "metadata": {},
   "outputs": [],
   "source": [
    "# Split df into training and testing data\n",
    "df_train = df[:len(train)]\n",
    "df_test = df[len(train):]\n",
    "\n",
    "# Shorten labels to length of the training data\n",
    "y = labels[:len(train)]"
   ]
  },
  {
   "cell_type": "code",
   "execution_count": 104,
   "metadata": {},
   "outputs": [
    {
     "data": {
      "text/plain": [
       "(213451, 132)"
      ]
     },
     "execution_count": 104,
     "metadata": {},
     "output_type": "execute_result"
    }
   ],
   "source": [
    "df_train.shape"
   ]
  },
  {
   "cell_type": "code",
   "execution_count": 105,
   "metadata": {},
   "outputs": [
    {
     "data": {
      "text/plain": [
       "(213451, 1)"
      ]
     },
     "execution_count": 105,
     "metadata": {},
     "output_type": "execute_result"
    }
   ],
   "source": [
    "y.shape"
   ]
  },
  {
   "cell_type": "code",
   "execution_count": 106,
   "metadata": {},
   "outputs": [],
   "source": [
    "x_train, x_test, y_train, y_test = train_test_split(df_train, y, test_size = 0.33, random_state = 2)"
   ]
  },
  {
   "cell_type": "code",
   "execution_count": 107,
   "metadata": {},
   "outputs": [
    {
     "name": "stderr",
     "output_type": "stream",
     "text": [
      "C:\\Users\\SusanLi\\AppData\\Local\\Continuum\\anaconda3\\lib\\site-packages\\sklearn\\preprocessing\\label.py:235: DataConversionWarning: A column-vector y was passed when a 1d array was expected. Please change the shape of y to (n_samples, ), for example using ravel().\n",
      "  y = column_or_1d(y, warn=True)\n"
     ]
    }
   ],
   "source": [
    "from sklearn.preprocessing import LabelEncoder\n",
    "\n",
    "x_train = x_train.values\n",
    "\n",
    "label_encoder = LabelEncoder()\n",
    "encoded_y_train = label_encoder.fit_transform(y_train)"
   ]
  },
  {
   "cell_type": "code",
   "execution_count": 108,
   "metadata": {},
   "outputs": [],
   "source": [
    "import xgboost as xgb\n",
    "\n",
    "xgtrain = xgb.DMatrix(x_train, label=encoded_y_train)"
   ]
  },
  {
   "cell_type": "code",
   "execution_count": 109,
   "metadata": {},
   "outputs": [],
   "source": [
    "def ndcg_score(preds, dtrain):\n",
    "    labels = dtrain.get_label()\n",
    "    top = []\n",
    "\n",
    "    for i in range(preds.shape[0]):\n",
    "        top.append(np.argsort(preds[i])[::-1][:5])\n",
    "\n",
    "    mat = np.reshape(np.repeat(labels,np.shape(top)[1]) == np.array(top).ravel(),np.array(top).shape).astype(int)\n",
    "    score = np.mean(np.sum(mat/np.log2(np.arange(2, mat.shape[1] + 2)),axis = 1))\n",
    "    return 'ndcg', score"
   ]
  },
  {
   "cell_type": "code",
   "execution_count": 110,
   "metadata": {},
   "outputs": [
    {
     "data": {
      "text/html": [
       "<div>\n",
       "<style scoped>\n",
       "    .dataframe tbody tr th:only-of-type {\n",
       "        vertical-align: middle;\n",
       "    }\n",
       "\n",
       "    .dataframe tbody tr th {\n",
       "        vertical-align: top;\n",
       "    }\n",
       "\n",
       "    .dataframe thead th {\n",
       "        text-align: right;\n",
       "    }\n",
       "</style>\n",
       "<table border=\"1\" class=\"dataframe\">\n",
       "  <thead>\n",
       "    <tr style=\"text-align: right;\">\n",
       "      <th></th>\n",
       "      <th>test-mlogloss-mean</th>\n",
       "      <th>test-mlogloss-std</th>\n",
       "      <th>test-ndcg-mean</th>\n",
       "      <th>test-ndcg-std</th>\n",
       "      <th>train-mlogloss-mean</th>\n",
       "      <th>train-mlogloss-std</th>\n",
       "      <th>train-ndcg-mean</th>\n",
       "      <th>train-ndcg-std</th>\n",
       "    </tr>\n",
       "  </thead>\n",
       "  <tbody>\n",
       "    <tr>\n",
       "      <th>0</th>\n",
       "      <td>1.235407</td>\n",
       "      <td>0.005221</td>\n",
       "      <td>0.824812</td>\n",
       "      <td>0.000479</td>\n",
       "      <td>1.172766</td>\n",
       "      <td>0.000862</td>\n",
       "      <td>0.836865</td>\n",
       "      <td>0.000481</td>\n",
       "    </tr>\n",
       "    <tr>\n",
       "      <th>1</th>\n",
       "      <td>1.463462</td>\n",
       "      <td>0.017184</td>\n",
       "      <td>0.744011</td>\n",
       "      <td>0.003051</td>\n",
       "      <td>1.339142</td>\n",
       "      <td>0.013875</td>\n",
       "      <td>0.769207</td>\n",
       "      <td>0.003008</td>\n",
       "    </tr>\n",
       "    <tr>\n",
       "      <th>2</th>\n",
       "      <td>1.198935</td>\n",
       "      <td>0.029353</td>\n",
       "      <td>0.817275</td>\n",
       "      <td>0.000982</td>\n",
       "      <td>1.033229</td>\n",
       "      <td>0.021036</td>\n",
       "      <td>0.848912</td>\n",
       "      <td>0.000113</td>\n",
       "    </tr>\n",
       "    <tr>\n",
       "      <th>3</th>\n",
       "      <td>2.227170</td>\n",
       "      <td>0.474228</td>\n",
       "      <td>0.770578</td>\n",
       "      <td>0.018734</td>\n",
       "      <td>2.006178</td>\n",
       "      <td>0.447395</td>\n",
       "      <td>0.808892</td>\n",
       "      <td>0.017484</td>\n",
       "    </tr>\n",
       "    <tr>\n",
       "      <th>4</th>\n",
       "      <td>1.485392</td>\n",
       "      <td>0.184846</td>\n",
       "      <td>0.813060</td>\n",
       "      <td>0.000971</td>\n",
       "      <td>1.246601</td>\n",
       "      <td>0.195693</td>\n",
       "      <td>0.855027</td>\n",
       "      <td>0.000980</td>\n",
       "    </tr>\n",
       "  </tbody>\n",
       "</table>\n",
       "</div>"
      ],
      "text/plain": [
       "   test-mlogloss-mean  test-mlogloss-std  test-ndcg-mean  test-ndcg-std  \\\n",
       "0            1.235407           0.005221        0.824812       0.000479   \n",
       "1            1.463462           0.017184        0.744011       0.003051   \n",
       "2            1.198935           0.029353        0.817275       0.000982   \n",
       "3            2.227170           0.474228        0.770578       0.018734   \n",
       "4            1.485392           0.184846        0.813060       0.000971   \n",
       "\n",
       "   train-mlogloss-mean  train-mlogloss-std  train-ndcg-mean  train-ndcg-std  \n",
       "0             1.172766            0.000862         0.836865        0.000481  \n",
       "1             1.339142            0.013875         0.769207        0.003008  \n",
       "2             1.033229            0.021036         0.848912        0.000113  \n",
       "3             2.006178            0.447395         0.808892        0.017484  \n",
       "4             1.246601            0.195693         0.855027        0.000980  "
      ]
     },
     "execution_count": 110,
     "metadata": {},
     "output_type": "execute_result"
    }
   ],
   "source": [
    "param = {\n",
    "    'max_depth': 10,\n",
    "    'learning_rate': 1,\n",
    "    'n_estimators': 5,\n",
    "    'objective': 'multi:softprob',\n",
    "    'num_class': 12,\n",
    "    'gamma': 0,\n",
    "    'min_child_weight': 1,\n",
    "    'max_delta_step': 0,\n",
    "    'subsample': 1,\n",
    "    'colsample_bytree': 1,\n",
    "    'colsample_bylevel': 1,\n",
    "    'reg_alpha': 0,\n",
    "    'reg_lambda': 1,\n",
    "    'scale_pos_weight': 1,\n",
    "    'base_score': 0.5,\n",
    "    'missing': None,\n",
    "    'silent': True,\n",
    "    'nthread': 4,\n",
    "    'seed': 42\n",
    "}\n",
    "# Do cross validation\n",
    "num_round = 5\n",
    "xgb.cv(param, xgtrain, num_boost_round=num_round, metrics=['mlogloss'], feval=ndcg_score)"
   ]
  }
 ],
 "metadata": {
  "kernelspec": {
   "display_name": "Python 3",
   "language": "python",
   "name": "python3"
  },
  "language_info": {
   "codemirror_mode": {
    "name": "ipython",
    "version": 3
   },
   "file_extension": ".py",
   "mimetype": "text/x-python",
   "name": "python",
   "nbconvert_exporter": "python",
   "pygments_lexer": "ipython3",
   "version": "3.6.4"
  }
 },
 "nbformat": 4,
 "nbformat_minor": 2
}
