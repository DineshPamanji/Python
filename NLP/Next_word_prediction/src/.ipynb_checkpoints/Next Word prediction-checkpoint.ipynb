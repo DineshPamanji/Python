{
 "cells": [
  {
   "cell_type": "code",
   "execution_count": 39,
   "metadata": {},
   "outputs": [],
   "source": [
    "# Set path\n",
    "path = 'C:/Projects/OrgBuilder/Codes/Repo/TitleStandardization/Next_word_prediction/'\n",
    "model_name = 'Model/NWP_model_Shakespeare_tri.h5'\n",
    "tokenizer_name = 'Model/NWP_tokenizer_Shakespeare_tri.pkl'\n",
    "seq_length = 3"
   ]
  },
  {
   "cell_type": "code",
   "execution_count": 40,
   "metadata": {},
   "outputs": [],
   "source": [
    "# Import packages\n",
    "import os\n",
    "import pandas as pd\n",
    "import numpy as np\n",
    "import qgrid\n",
    "#import itables.interactive\n",
    "import ipywidgets as widgets\n",
    "from ipywidgets import interact\n",
    "import matplotlib.pyplot as plt\n",
    "import seaborn as sns\n",
    "from IPython.display import clear_output\n",
    "\n",
    "\n",
    "# Predict\n",
    "from random import randint\n",
    "from pickle import load\n",
    "from keras.models import load_model\n",
    "from keras.preprocessing.sequence import pad_sequences\n",
    "\n",
    "# generate a sequence from a language model\n",
    "def generate_sequence(model, tokenizer, seq_length, seed_text, n_words):\n",
    "    result = list()\n",
    "    in_text = seed_text\n",
    "    # generate a fixed number of words\n",
    "    for _ in range(n_words):\n",
    "        # encode the text as integer\n",
    "        encoded = tokenizer.texts_to_sequences([in_text])[0]\n",
    "        # truncate sequences to a fixed length\n",
    "        encoded = pad_sequences([encoded], maxlen=seq_length, truncating='pre')\n",
    "        # predict probabilities for each word\n",
    "        yhat = model.predict_classes(encoded, verbose=0)\n",
    "        # map predicted word index to word\n",
    "        out_word = ''\n",
    "        for word, index in tokenizer.word_index.items():\n",
    "            if index == yhat:\n",
    "                out_word = word\n",
    "                break\n",
    "        # append to input\n",
    "        in_text += ' ' + out_word\n",
    "        result.append(out_word)\n",
    "    return ' '.join(result)\n",
    "\n",
    "\n",
    "# load the model\n",
    "model = load_model(path+model_name)\n",
    "\n",
    "# load the tokenizer\n",
    "tokenizer = load(open(path+tokenizer_name, 'rb'))\n",
    "\n",
    "\n",
    "def predict_next_word(in_text, model, sequence_length,n_suggestion=3, n=1):\n",
    "    for _ in range(n):\n",
    "        # encode the text as integer\n",
    "        encoded = tokenizer.texts_to_sequences([in_text])[0]\n",
    "        # truncate sequences to a fixed length\n",
    "        encoded = pad_sequences([encoded], maxlen=sequence_length, truncating='pre')\n",
    "\n",
    "        for i in (model.predict(encoded)[0]).argsort()[-n_suggestion:][::-1]:\n",
    "            pred_word = tokenizer.index_word[i]\n",
    "            print(\"Next word suggestion:\",pred_word)\n",
    "\n"
   ]
  },
  {
   "cell_type": "markdown",
   "metadata": {},
   "source": [
    "## Predict next word"
   ]
  },
  {
   "cell_type": "code",
   "execution_count": 41,
   "metadata": {
    "scrolled": false
   },
   "outputs": [
    {
     "data": {
      "application/vnd.jupyter.widget-view+json": {
       "model_id": "278efaf8550348ac9f9468ac7ccbc658",
       "version_major": 2,
       "version_minor": 0
      },
      "text/plain": [
       "Text(value='', description='Word:', placeholder='Enter word')"
      ]
     },
     "metadata": {},
     "output_type": "display_data"
    },
    {
     "data": {
      "application/vnd.jupyter.widget-view+json": {
       "model_id": "cb93f468f89d4a81b5c52284874e7ede",
       "version_major": 2,
       "version_minor": 0
      },
      "text/plain": [
       "Output()"
      ]
     },
     "metadata": {},
     "output_type": "display_data"
    }
   ],
   "source": [
    "# Widget to display list of files to be selected from\n",
    "word = widgets.Text(\n",
    "    placeholder='Enter word',\n",
    "    description='Word:',\n",
    "    disabled=False,\n",
    ")\n",
    "display(word)\n",
    "\n",
    "out = widgets.Output()\n",
    "display(out)\n",
    "\n",
    "def next_word(b):\n",
    "    out.clear_output()\n",
    "    with out:\n",
    "        predict_next_word(word.value, model, seq_length-1,n_suggestion=3, n=1)\n",
    "\n",
    "word.observe(next_word, \"value\")\n",
    "\n"
   ]
  },
  {
   "cell_type": "markdown",
   "metadata": {},
   "source": [
    "## Predict next sequence of words "
   ]
  },
  {
   "cell_type": "code",
   "execution_count": 42,
   "metadata": {},
   "outputs": [
    {
     "data": {
      "application/vnd.jupyter.widget-view+json": {
       "model_id": "205f851dc7eb4263946b5f1738b8843c",
       "version_major": 2,
       "version_minor": 0
      },
      "text/plain": [
       "Text(value='', description='Word:', placeholder='Enter word')"
      ]
     },
     "metadata": {},
     "output_type": "display_data"
    },
    {
     "data": {
      "application/vnd.jupyter.widget-view+json": {
       "model_id": "e70f35bf240f4fbaa134dea5f7993565",
       "version_major": 2,
       "version_minor": 0
      },
      "text/plain": [
       "Output()"
      ]
     },
     "metadata": {},
     "output_type": "display_data"
    }
   ],
   "source": [
    "# Widget to display list of files to be selected from\n",
    "word_seq = widgets.Text(\n",
    "    placeholder='Enter word',\n",
    "    description='Word:',\n",
    "    ensure_option=True,\n",
    "    disabled=False\n",
    ")\n",
    "display(word_seq)\n",
    "\n",
    "out1 = widgets.Output()\n",
    "display(out1)\n",
    "\n",
    "def next_sequence(b):\n",
    "    out1.clear_output()\n",
    "    with out1:\n",
    "        generated = generate_sequence(model, tokenizer, seq_length-1, word_seq.value, 2)\n",
    "        print(generated)\n",
    "\n",
    "word_seq.observe(next_sequence, \"value\")\n",
    "\n"
   ]
  },
  {
   "cell_type": "code",
   "execution_count": null,
   "metadata": {},
   "outputs": [],
   "source": []
  }
 ],
 "metadata": {
  "kernelspec": {
   "display_name": "Python 3",
   "language": "python",
   "name": "python3"
  },
  "language_info": {
   "codemirror_mode": {
    "name": "ipython",
    "version": 3
   },
   "file_extension": ".py",
   "mimetype": "text/x-python",
   "name": "python",
   "nbconvert_exporter": "python",
   "pygments_lexer": "ipython3",
   "version": "3.7.8"
  }
 },
 "nbformat": 4,
 "nbformat_minor": 4
}
